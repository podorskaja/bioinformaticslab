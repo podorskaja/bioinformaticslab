{
 "cells": [
  {
   "cell_type": "markdown",
   "metadata": {
    "toc": "true"
   },
   "source": [
    " # Table of Contents\n",
    "<div class=\"toc\" style=\"margin-top: 1em;\"><ul class=\"toc-item\" id=\"toc-level0\"></ul></div>"
   ]
  },
  {
   "cell_type": "code",
   "execution_count": 1,
   "metadata": {},
   "outputs": [
    {
     "name": "stderr",
     "output_type": "stream",
     "text": [
      "IOPub data rate exceeded.\n",
      "The notebook server will temporarily stop sending output\n",
      "to the client in order to avoid crashing it.\n",
      "To change this limit, set the config variable\n",
      "`--NotebookApp.iopub_data_rate_limit`.\n"
     ]
    },
    {
     "name": "stdout",
     "output_type": "stream",
     "text": [
      "Created `%t` as an alias for `%time`.\n",
      "Created `%%t` as an alias for `%%time`.\n"
     ]
    }
   ],
   "source": [
    "# Scientific libraries\n",
    "import numpy as np\n",
    "import scipy\n",
    "\n",
    "# import Pandas\n",
    "\n",
    "import pandas as pd\n",
    "\n",
    "# Graphic libraries\n",
    "\n",
    "import matplotlib as plt\n",
    "%matplotlib inline\n",
    "import seaborn as sns\n",
    "from plotly.offline import init_notebook_mode, iplot, download_plotlyjs\n",
    "init_notebook_mode()\n",
    "import plotly.graph_objs as go\n",
    "\n",
    "# Extra options \n",
    "\n",
    "pd.options.display.max_rows = 10\n",
    "pd.set_option('max_columns', 50)\n",
    "sns.set(style='ticks', context='talk')\n",
    "\n",
    "# Creating alias for magic commands\n",
    "%alias_magic t time"
   ]
  },
  {
   "cell_type": "code",
   "execution_count": null,
   "metadata": {
    "collapsed": true
   },
   "outputs": [],
   "source": [
    "sadfsadf"
   ]
  },
  {
   "cell_type": "code",
   "execution_count": 2,
   "metadata": {
    "ExecuteTime": {
     "end_time": "2017-09-06T13:30:52.371545Z",
     "start_time": "2017-09-06T13:30:52.352079Z"
    },
    "collapsed": true
   },
   "outputs": [],
   "source": [
    "path_to_file = '/Users/dariapodorskaja/Desktop/Lab/Daria/cell-barcodes.txt'\n",
    "d = {}\n",
    "with open(path_to_file) as f:\n",
    "    for line in f:\n",
    "        line = f.readline()\n",
    "        line = line.replace('\\n', '')\n",
    "        d[line] = 0"
   ]
  },
  {
   "cell_type": "code",
   "execution_count": 7,
   "metadata": {
    "ExecuteTime": {
     "end_time": "2017-09-06T13:30:52.677526Z",
     "start_time": "2017-09-06T13:30:52.667065Z"
    }
   },
   "outputs": [
    {
     "data": {
      "text/plain": [
       "96"
      ]
     },
     "execution_count": 7,
     "metadata": {},
     "output_type": "execute_result"
    }
   ],
   "source": [
    "len(d.keys())"
   ]
  },
  {
   "cell_type": "code",
   "execution_count": 8,
   "metadata": {
    "collapsed": true
   },
   "outputs": [],
   "source": [
    "# count dna_reads in a file\n",
    "# open file\n",
    "path_to_file = '/Users/dariapodorskaja/Desktop/Lab/Lane_7_NoIndex_L007_R2_001.fastq'\n",
    "dna_reads = []\n",
    "lines_count = 160000  # number of lines in a file\n",
    "#Result = []\n",
    "\n",
    "# make lists of dna reads\n",
    "with open(path_to_file, 'r') as f:   # f = open(path_to_file, 'r') # f is a variable with a file\n",
    "    for current_line in range(lines_count):\n",
    "        if current_line % 4 == 1:  # pick lines with DNA sequences\n",
    "            s = f.readline()\n",
    "            s = s.replace('\\n', '')\n",
    "            dna_reads.append(s)\n",
    "        else:\n",
    "            next(f)"
   ]
  },
  {
   "cell_type": "code",
   "execution_count": 10,
   "metadata": {},
   "outputs": [
    {
     "data": {
      "text/plain": [
       "['GACNNNNNNNTT',\n",
       " 'GTAACTGNNNGC',\n",
       " 'CGCCCCTNNNGT',\n",
       " 'GATATCGCGGGG',\n",
       " 'ACGGTCGATTGC',\n",
       " 'CAACTCCCGCGC',\n",
       " 'AGGATCGTTTTT',\n",
       " 'TGCTGAAAAAAA',\n",
       " 'CTTGGTGGGTAT',\n",
       " 'GGGGGTTTCGGG']"
      ]
     },
     "execution_count": 10,
     "metadata": {},
     "output_type": "execute_result"
    }
   ],
   "source": [
    "dna_reads[:10]"
   ]
  },
  {
   "cell_type": "code",
   "execution_count": 15,
   "metadata": {
    "collapsed": true
   },
   "outputs": [],
   "source": [
    "pools = list(d.keys())"
   ]
  },
  {
   "cell_type": "code",
   "execution_count": 18,
   "metadata": {},
   "outputs": [],
   "source": [
    "def hamming_distance(dna1, dna2):\n",
    "    assert isinstance(dna1, str)\n",
    "    assert isinstance(dna2, str)\n",
    "\n",
    "    distance = 0\n",
    "    for b1, b2 in zip(dna1, dna2):\n",
    "        if b1 != b2:\n",
    "            distance += 1\n",
    "    return distance"
   ]
  },
  {
   "cell_type": "code",
   "execution_count": 19,
   "metadata": {
    "collapsed": true
   },
   "outputs": [],
   "source": [
    "def base_calling_error_probabilities(ascii_code):\n",
    "    assert isinstance(ascii_code, str)\n",
    "    assert len(ascii_code) == 1\n",
    "    q = ord(ascii_code) - 33\n",
    "    p = round(10 ** (-q / 10), 5)\n",
    "    return p"
   ]
  },
  {
   "cell_type": "code",
   "execution_count": 20,
   "metadata": {
    "collapsed": true
   },
   "outputs": [],
   "source": [
    "def first_difference(s1, s2):\n",
    "    \"\"\"find the first different base and return the index\"\"\"\n",
    "    assert isinstance(s1, str)\n",
    "    assert isinstance(s2, str)\n",
    "    \n",
    "    for i, z in enumerate(zip(s1, s2)):\n",
    "        a, b = z\n",
    "        if a != b:\n",
    "            return i"
   ]
  },
  {
   "cell_type": "code",
   "execution_count": 21,
   "metadata": {
    "collapsed": true
   },
   "outputs": [],
   "source": [
    "def position_of_first_difference(pool, pools):\n",
    "    \"\"\"find the position of a different base\"\"\"\n",
    "    for p in pools:\n",
    "        if hamming_distance(p, pool) == 1:\n",
    "            return first_difference(p, pool)\n",
    "    return ''"
   ]
  },
  {
   "cell_type": "code",
   "execution_count": 26,
   "metadata": {
    "collapsed": true
   },
   "outputs": [],
   "source": [
    "from collections import namedtuple\n",
    "phred_data = namedtuple('PhredData', 'ReadNumber PositionOfBase ErrorProb')\n",
    "n=160000\n",
    "result = []\n",
    "path_to_file = '/Users/dariapodorskaja/Desktop/Lab/Lane_7_NoIndex_L007_R2_001.fastq'\n",
    "with open(path_to_file, 'r') as f:   # f = open(path_to_file, 'r') # f is a variable with a file\n",
    "    for line_number in range(n):\n",
    "        if line_number %4 ==1:\n",
    "            s = f.readline().replace('\\n', '')\n",
    "            position = position_of_first_difference(s[0:6], pools)\n",
    "            read_number = line_number\n",
    "        elif line_number %4 ==3 and position != '':\n",
    "            s = f.readline().replace('\\n', '')\n",
    "            p = base_calling_error_probabilities(s[position])\n",
    "            result.append(phred_data(read_number, position, p))\n",
    "        else:\n",
    "            next(f)"
   ]
  },
  {
   "cell_type": "code",
   "execution_count": 27,
   "metadata": {},
   "outputs": [
    {
     "name": "stdout",
     "output_type": "stream",
     "text": [
      "67\n",
      "PhredData(ReadNumber=133, PositionOfBase=4, ErrorProb=0.63096)\n",
      "PhredData(ReadNumber=405, PositionOfBase=4, ErrorProb=0.63096)\n",
      "PhredData(ReadNumber=409, PositionOfBase=4, ErrorProb=0.63096)\n",
      "PhredData(ReadNumber=425, PositionOfBase=5, ErrorProb=0.63096)\n",
      "PhredData(ReadNumber=657, PositionOfBase=4, ErrorProb=0.63096)\n",
      "PhredData(ReadNumber=661, PositionOfBase=4, ErrorProb=0.63096)\n",
      "PhredData(ReadNumber=893, PositionOfBase=4, ErrorProb=0.63096)\n",
      "PhredData(ReadNumber=1425, PositionOfBase=4, ErrorProb=0.63096)\n",
      "PhredData(ReadNumber=1713, PositionOfBase=4, ErrorProb=0.63096)\n",
      "PhredData(ReadNumber=1925, PositionOfBase=4, ErrorProb=0.63096)\n",
      "PhredData(ReadNumber=2313, PositionOfBase=4, ErrorProb=0.63096)\n",
      "PhredData(ReadNumber=2401, PositionOfBase=4, ErrorProb=0.63096)\n",
      "PhredData(ReadNumber=2597, PositionOfBase=4, ErrorProb=0.63096)\n",
      "PhredData(ReadNumber=2809, PositionOfBase=4, ErrorProb=0.63096)\n",
      "PhredData(ReadNumber=3185, PositionOfBase=4, ErrorProb=0.63096)\n",
      "PhredData(ReadNumber=3441, PositionOfBase=4, ErrorProb=0.63096)\n",
      "PhredData(ReadNumber=3445, PositionOfBase=5, ErrorProb=0.63096)\n",
      "PhredData(ReadNumber=3641, PositionOfBase=4, ErrorProb=0.63096)\n",
      "PhredData(ReadNumber=3717, PositionOfBase=4, ErrorProb=0.63096)\n",
      "PhredData(ReadNumber=4009, PositionOfBase=4, ErrorProb=0.63096)\n",
      "PhredData(ReadNumber=4205, PositionOfBase=4, ErrorProb=0.63096)\n",
      "PhredData(ReadNumber=4673, PositionOfBase=4, ErrorProb=0.63096)\n",
      "PhredData(ReadNumber=4677, PositionOfBase=4, ErrorProb=0.63096)\n",
      "PhredData(ReadNumber=4785, PositionOfBase=4, ErrorProb=0.63096)\n",
      "PhredData(ReadNumber=5121, PositionOfBase=4, ErrorProb=0.63096)\n",
      "PhredData(ReadNumber=5421, PositionOfBase=4, ErrorProb=0.63096)\n",
      "PhredData(ReadNumber=6065, PositionOfBase=4, ErrorProb=0.63096)\n",
      "PhredData(ReadNumber=6329, PositionOfBase=4, ErrorProb=0.63096)\n",
      "PhredData(ReadNumber=6809, PositionOfBase=4, ErrorProb=0.63096)\n",
      "PhredData(ReadNumber=6813, PositionOfBase=4, ErrorProb=0.63096)\n",
      "PhredData(ReadNumber=10297, PositionOfBase=5, ErrorProb=0.63096)\n",
      "PhredData(ReadNumber=10805, PositionOfBase=5, ErrorProb=0.63096)\n",
      "PhredData(ReadNumber=14797, PositionOfBase=4, ErrorProb=0.63096)\n",
      "PhredData(ReadNumber=16081, PositionOfBase=2, ErrorProb=0.63096)\n",
      "PhredData(ReadNumber=21829, PositionOfBase=2, ErrorProb=0.63096)\n",
      "PhredData(ReadNumber=21833, PositionOfBase=2, ErrorProb=0.63096)\n",
      "PhredData(ReadNumber=26165, PositionOfBase=2, ErrorProb=0.63096)\n",
      "PhredData(ReadNumber=27509, PositionOfBase=2, ErrorProb=0.63096)\n",
      "PhredData(ReadNumber=36613, PositionOfBase=2, ErrorProb=0.63096)\n",
      "PhredData(ReadNumber=39617, PositionOfBase=1, ErrorProb=0.63096)\n",
      "PhredData(ReadNumber=42525, PositionOfBase=1, ErrorProb=0.63096)\n",
      "PhredData(ReadNumber=46025, PositionOfBase=3, ErrorProb=0.63096)\n",
      "PhredData(ReadNumber=46629, PositionOfBase=5, ErrorProb=0.63096)\n",
      "PhredData(ReadNumber=50841, PositionOfBase=5, ErrorProb=0.63096)\n",
      "PhredData(ReadNumber=57033, PositionOfBase=0, ErrorProb=0.63096)\n",
      "PhredData(ReadNumber=57125, PositionOfBase=4, ErrorProb=0.63096)\n",
      "PhredData(ReadNumber=71097, PositionOfBase=4, ErrorProb=0.63096)\n",
      "PhredData(ReadNumber=81773, PositionOfBase=2, ErrorProb=0.63096)\n",
      "PhredData(ReadNumber=91453, PositionOfBase=2, ErrorProb=0.63096)\n",
      "PhredData(ReadNumber=92465, PositionOfBase=1, ErrorProb=0.63096)\n",
      "PhredData(ReadNumber=96253, PositionOfBase=0, ErrorProb=0.63096)\n",
      "PhredData(ReadNumber=96685, PositionOfBase=2, ErrorProb=0.63096)\n",
      "PhredData(ReadNumber=98921, PositionOfBase=3, ErrorProb=0.63096)\n",
      "PhredData(ReadNumber=100969, PositionOfBase=0, ErrorProb=0.63096)\n",
      "PhredData(ReadNumber=107773, PositionOfBase=5, ErrorProb=0.63096)\n",
      "PhredData(ReadNumber=110221, PositionOfBase=1, ErrorProb=0.63096)\n",
      "PhredData(ReadNumber=111349, PositionOfBase=2, ErrorProb=0.63096)\n",
      "PhredData(ReadNumber=117317, PositionOfBase=5, ErrorProb=0.63096)\n",
      "PhredData(ReadNumber=124769, PositionOfBase=0, ErrorProb=0.63096)\n",
      "PhredData(ReadNumber=126285, PositionOfBase=2, ErrorProb=0.63096)\n",
      "PhredData(ReadNumber=138173, PositionOfBase=1, ErrorProb=0.63096)\n",
      "PhredData(ReadNumber=139305, PositionOfBase=5, ErrorProb=0.63096)\n",
      "PhredData(ReadNumber=143241, PositionOfBase=1, ErrorProb=0.63096)\n",
      "PhredData(ReadNumber=149549, PositionOfBase=5, ErrorProb=0.63096)\n",
      "PhredData(ReadNumber=150233, PositionOfBase=4, ErrorProb=0.63096)\n",
      "PhredData(ReadNumber=151389, PositionOfBase=1, ErrorProb=0.63096)\n",
      "PhredData(ReadNumber=155569, PositionOfBase=4, ErrorProb=0.63096)\n"
     ]
    }
   ],
   "source": [
    "threshold = 0.5 #min error probability\n",
    "print(sum([1 for rn, pos, prob in result if prob > threshold]))\n",
    "\n",
    "for r in result:\n",
    "    rn, pos, prob = r\n",
    "    if prob > threshold:\n",
    "        print(r)"
   ]
  },
  {
   "cell_type": "code",
   "execution_count": null,
   "metadata": {
    "collapsed": true
   },
   "outputs": [],
   "source": []
  }
 ],
 "metadata": {
  "kernelspec": {
   "display_name": "Python 3",
   "language": "python",
   "name": "python3"
  },
  "language_info": {
   "codemirror_mode": {
    "name": "ipython",
    "version": 3
   },
   "file_extension": ".py",
   "mimetype": "text/x-python",
   "name": "python",
   "nbconvert_exporter": "python",
   "pygments_lexer": "ipython3",
   "version": "3.6.0"
  },
  "toc": {
   "collapse_to_match_collapsible_headings": false,
   "colors": {
    "hover_highlight": "#DAA520",
    "navigate_num": "#000000",
    "navigate_text": "#333333",
    "running_highlight": "#FF0000",
    "selected_highlight": "#FFD700",
    "sidebar_border": "#EEEEEE",
    "wrapper_background": "#FFFFFF"
   },
   "moveMenuLeft": true,
   "nav_menu": {
    "height": "12px",
    "width": "252px"
   },
   "navigate_menu": true,
   "number_sections": true,
   "sideBar": true,
   "skip_h1_title": false,
   "threshold": 4,
   "toc_cell": true,
   "toc_section_display": "block",
   "toc_window_display": false,
   "widenNotebook": false
  },
  "varInspector": {
   "cols": {
    "lenName": 16,
    "lenType": 16,
    "lenVar": 40
   },
   "kernels_config": {
    "python": {
     "delete_cmd_postfix": "",
     "delete_cmd_prefix": "del ",
     "library": "var_list.py",
     "varRefreshCmd": "print(var_dic_list())"
    },
    "r": {
     "delete_cmd_postfix": ") ",
     "delete_cmd_prefix": "rm(",
     "library": "var_list.r",
     "varRefreshCmd": "cat(var_dic_list()) "
    }
   },
   "types_to_exclude": [
    "module",
    "function",
    "builtin_function_or_method",
    "instance",
    "_Feature"
   ],
   "window_display": false
  }
 },
 "nbformat": 4,
 "nbformat_minor": 2
}
