{
 "cells": [
  {
   "cell_type": "markdown",
   "metadata": {
    "toc": "true"
   },
   "source": [
    " # Table of Contents\n",
    "<div class=\"toc\" style=\"margin-top: 1em;\"><ul class=\"toc-item\" id=\"toc-level0\"><li><span><a href=\"http://localhost:8888/notebooks/bioinformaticslab/Quality_Control.ipynb#Find-the-longest-streak-of-'A'-Nucleotide\" data-toc-modified-id=\"Find-the-longest-streak-of-'A'-Nucleotide-1\"><span class=\"toc-item-num\">1&nbsp;&nbsp;</span>Find the longest streak of 'A' Nucleotide</a></span><ul class=\"toc-item\"><li><span><a href=\"http://localhost:8888/notebooks/bioinformaticslab/Quality_Control.ipynb#Conclusion\" data-toc-modified-id=\"Conclusion-1.1\"><span class=\"toc-item-num\">1.1&nbsp;&nbsp;</span>Conclusion</a></span></li></ul></li><li><span><a href=\"http://localhost:8888/notebooks/bioinformaticslab/Quality_Control.ipynb#Total-'A'-count-per-read\" data-toc-modified-id=\"Total-'A'-count-per-read-2\"><span class=\"toc-item-num\">2&nbsp;&nbsp;</span>Total 'A' count per read</a></span><ul class=\"toc-item\"><li><span><a href=\"http://localhost:8888/notebooks/bioinformaticslab/Quality_Control.ipynb#Conclusion\" data-toc-modified-id=\"Conclusion-2.1\"><span class=\"toc-item-num\">2.1&nbsp;&nbsp;</span>Conclusion</a></span></li></ul></li><li><span><a href=\"http://localhost:8888/notebooks/bioinformaticslab/Quality_Control.ipynb#Count-DNA-reads-by-pool\" data-toc-modified-id=\"Count-DNA-reads-by-pool-3\"><span class=\"toc-item-num\">3&nbsp;&nbsp;</span>Count DNA reads by pool</a></span><ul class=\"toc-item\"><li><span><a href=\"http://localhost:8888/notebooks/bioinformaticslab/Quality_Control.ipynb#Conclusion\" data-toc-modified-id=\"Conclusion-3.1\"><span class=\"toc-item-num\">3.1&nbsp;&nbsp;</span>Conclusion</a></span></li></ul></li><li><span><a href=\"http://localhost:8888/notebooks/bioinformaticslab/Quality_Control.ipynb#Demultiplexing\" data-toc-modified-id=\"Demultiplexing-4\"><span class=\"toc-item-num\">4&nbsp;&nbsp;</span>Demultiplexing</a></span></li><li><span><a href=\"http://localhost:8888/notebooks/bioinformaticslab/Quality_Control.ipynb#Count-longest-streak-of-'A'-by-the-pool\" data-toc-modified-id=\"Count-longest-streak-of-'A'-by-the-pool-5\"><span class=\"toc-item-num\">5&nbsp;&nbsp;</span>Count longest streak of 'A' by the pool</a></span></li><li><span><a href=\"http://localhost:8888/notebooks/bioinformaticslab/Quality_Control.ipynb#Poly-A-tail-analysis\" data-toc-modified-id=\"Poly-A-tail-analysis-6\"><span class=\"toc-item-num\">6&nbsp;&nbsp;</span>Poly-A tail analysis</a></span></li><li><span><a href=\"http://localhost:8888/notebooks/bioinformaticslab/Quality_Control.ipynb#Consensus-matrix-on-strings-after-poly-A-tail\" data-toc-modified-id=\"Consensus-matrix-on-strings-after-poly-A-tail-7\"><span class=\"toc-item-num\">7&nbsp;&nbsp;</span>Consensus matrix on strings after poly A tail</a></span></li><li><span><a href=\"http://localhost:8888/notebooks/bioinformaticslab/Quality_Control.ipynb#Find-consensus-sequence-(=-artefact)-after-Poly-A-tail\" data-toc-modified-id=\"Find-consensus-sequence-(=-artefact)-after-Poly-A-tail-8\"><span class=\"toc-item-num\">8&nbsp;&nbsp;</span>Find consensus sequence (= artefact) after Poly A tail</a></span></li><li><span><a href=\"http://localhost:8888/notebooks/bioinformaticslab/Quality_Control.ipynb#Error-probability-of-the-base-in-disrupted-polyA-based-on-phred-score\" data-toc-modified-id=\"Error-probability-of-the-base-in-disrupted-polyA-based-on-phred-score-9\"><span class=\"toc-item-num\">9&nbsp;&nbsp;</span>Error probability of the base in disrupted polyA based on phred score</a></span></li><li><span><a href=\"http://localhost:8888/notebooks/bioinformaticslab/Quality_Control.ipynb#Markov-chain-after-PolyA-analysis\" data-toc-modified-id=\"Markov-chain-after-PolyA-analysis-10\"><span class=\"toc-item-num\">10&nbsp;&nbsp;</span>Markov chain after PolyA analysis</a></span></li><li><span><a href=\"http://localhost:8888/notebooks/bioinformaticslab/Quality_Control.ipynb#Error-probability-based-on-phred-score\" data-toc-modified-id=\"Error-probability-based-on-phred-score-11\"><span class=\"toc-item-num\">11&nbsp;&nbsp;</span>Error probability based on phred score</a></span><ul class=\"toc-item\"><li><span><a href=\"http://localhost:8888/notebooks/bioinformaticslab/Quality_Control.ipynb#Number-of-bases-in-well-barcodes-with-an-error-threshold-&gt;-10^-3\" data-toc-modified-id=\"Number-of-bases-in-well-barcodes-with-an-error-threshold->-10^-3-11.1\"><span class=\"toc-item-num\">11.1&nbsp;&nbsp;</span>Number of bases in well barcodes with an error threshold &gt; 10^-3</a></span><ul class=\"toc-item\"><li><span><a href=\"http://localhost:8888/notebooks/bioinformaticslab/Quality_Control.ipynb#Conclusion\" data-toc-modified-id=\"Conclusion-11.1.1\"><span class=\"toc-item-num\">11.1.1&nbsp;&nbsp;</span>Conclusion</a></span></li></ul></li><li><span><a href=\"http://localhost:8888/notebooks/bioinformaticslab/Quality_Control.ipynb#Number-of-bases-in-UMI-with-an-error-threshold-&gt;-10^-3\" data-toc-modified-id=\"Number-of-bases-in-UMI-with-an-error-threshold->-10^-3-11.2\"><span class=\"toc-item-num\">11.2&nbsp;&nbsp;</span>Number of bases in UMI with an error threshold &gt; 10^-3</a></span><ul class=\"toc-item\"><li><span><a href=\"http://localhost:8888/notebooks/bioinformaticslab/Quality_Control.ipynb#Conclusion\" data-toc-modified-id=\"Conclusion-11.2.1\"><span class=\"toc-item-num\">11.2.1&nbsp;&nbsp;</span>Conclusion</a></span></li></ul></li><li><span><a href=\"http://localhost:8888/notebooks/bioinformaticslab/Quality_Control.ipynb#Number-of-bases-in-pool-barcodes-with-an-error-threshold-&gt;-10^-3\" data-toc-modified-id=\"Number-of-bases-in-pool-barcodes-with-an-error-threshold->-10^-3-11.3\"><span class=\"toc-item-num\">11.3&nbsp;&nbsp;</span>Number of bases in pool barcodes with an error threshold &gt; 10^-3</a></span><ul class=\"toc-item\"><li><span><a href=\"http://localhost:8888/notebooks/bioinformaticslab/Quality_Control.ipynb#Conclusion\" data-toc-modified-id=\"Conclusion-11.3.1\"><span class=\"toc-item-num\">11.3.1&nbsp;&nbsp;</span>Conclusion</a></span></li></ul></li></ul></li><li><span><a href=\"http://localhost:8888/notebooks/bioinformaticslab/Quality_Control.ipynb#Cell-barcodes\" data-toc-modified-id=\"Cell-barcodes-12\"><span class=\"toc-item-num\">12&nbsp;&nbsp;</span>Cell barcodes</a></span></li></ul></div>"
   ]
  },
  {
   "cell_type": "markdown",
   "metadata": {},
   "source": [
    "# Find the longest streak of 'A' Nucleotide"
   ]
  },
  {
   "cell_type": "code",
   "execution_count": 1,
   "metadata": {
    "ExecuteTime": {
     "end_time": "2017-09-13T09:54:48.878487Z",
     "start_time": "2017-09-13T09:54:48.807281Z"
    },
    "collapsed": true
   },
   "outputs": [],
   "source": [
    "%reset -f"
   ]
  },
  {
   "cell_type": "code",
   "execution_count": 2,
   "metadata": {
    "ExecuteTime": {
     "end_time": "2017-09-13T09:54:51.566171Z",
     "start_time": "2017-09-13T09:54:48.881366Z"
    },
    "collapsed": true
   },
   "outputs": [],
   "source": [
    "import seaborn as sns\n",
    "import matplotlib.pyplot as plt"
   ]
  },
  {
   "cell_type": "code",
   "execution_count": 3,
   "metadata": {
    "ExecuteTime": {
     "end_time": "2017-09-13T09:54:51.598205Z",
     "start_time": "2017-09-13T09:54:51.569203Z"
    },
    "collapsed": true
   },
   "outputs": [],
   "source": [
    "R1_list = !ls /Users/dariapodorskaja/Desktop/Lab/Lane_7_NoIndex_L007_R1*\n",
    "R1_list = list(R1_list)"
   ]
  },
  {
   "cell_type": "code",
   "execution_count": 4,
   "metadata": {
    "ExecuteTime": {
     "end_time": "2017-09-13T09:54:53.330241Z",
     "start_time": "2017-09-13T09:54:51.602054Z"
    },
    "collapsed": true
   },
   "outputs": [],
   "source": [
    "# count dna_reads in a file\n",
    "# open file\n",
    "\n",
    "dna_reads = []\n",
    "lines_count = 160000  # number of lines in a file\n",
    "\n",
    "# make lists of dna reads\n",
    "for file in R1_list:\n",
    "    with open(file, 'r') as f:   # f = open(path_to_file, 'r') # f is a variable with a file\n",
    "        for current_line in range(lines_count):\n",
    "            if current_line % 4 == 1:  # pick lines with DNA sequences\n",
    "                s = f.readline()\n",
    "                s = s.replace('\\n', '')\n",
    "                dna_reads.append(s)\n",
    "            else:\n",
    "                next(f)"
   ]
  },
  {
   "cell_type": "code",
   "execution_count": 5,
   "metadata": {
    "ExecuteTime": {
     "end_time": "2017-09-13T09:54:53.345699Z",
     "start_time": "2017-09-13T09:54:53.333717Z"
    }
   },
   "outputs": [
    {
     "data": {
      "text/plain": [
       "400000"
      ]
     },
     "execution_count": 5,
     "metadata": {},
     "output_type": "execute_result"
    }
   ],
   "source": [
    "len(dna_reads)"
   ]
  },
  {
   "cell_type": "code",
   "execution_count": 6,
   "metadata": {
    "ExecuteTime": {
     "end_time": "2017-09-13T09:54:53.367712Z",
     "start_time": "2017-09-13T09:54:53.359242Z"
    },
    "collapsed": true
   },
   "outputs": [],
   "source": [
    "def size_of_list(my_list):\n",
    "    \"\"\"size of my_list in MB\"\"\"\n",
    "    import sys\n",
    "    return sum([sys.getsizeof(i) for i in my_list]) / 1024 / 1024"
   ]
  },
  {
   "cell_type": "code",
   "execution_count": 7,
   "metadata": {
    "ExecuteTime": {
     "end_time": "2017-09-13T09:54:53.413832Z",
     "start_time": "2017-09-13T09:54:53.372869Z"
    },
    "collapsed": true
   },
   "outputs": [],
   "source": [
    "def histo(values, plot_title='empty title'):\n",
    "    \"\"\"show a histogram based on list\"\"\"\n",
    "    import matplotlib.pyplot as plt\n",
    "\n",
    "    plt.bar(range(len(values)),values)\n",
    "    plt.title(plot_title)\n",
    "    plt.show()\n"
   ]
  },
  {
   "cell_type": "code",
   "execution_count": 8,
   "metadata": {
    "ExecuteTime": {
     "end_time": "2017-09-13T09:54:53.424354Z",
     "start_time": "2017-09-13T09:54:53.416648Z"
    },
    "collapsed": true
   },
   "outputs": [],
   "source": [
    "def longest_a_streak(dna):\n",
    "    \"\"\"find longest streak of A in a string\"\"\"\n",
    "    counter = 0 \n",
    "    longest_streak = 0 #variable must be defined\n",
    "    for base in dna: \n",
    "        if base == 'A':\n",
    "            counter = counter + 1\n",
    "            if counter > longest_streak:\n",
    "                longest_streak = counter\n",
    "        else:\n",
    "            counter = 0\n",
    "    return longest_streak"
   ]
  },
  {
   "cell_type": "code",
   "execution_count": 9,
   "metadata": {
    "ExecuteTime": {
     "end_time": "2017-09-13T09:54:56.118620Z",
     "start_time": "2017-09-13T09:54:53.427270Z"
    },
    "collapsed": true
   },
   "outputs": [],
   "source": [
    "result = list()\n",
    "for s in dna_reads:\n",
    "    result.append(longest_a_streak(s))"
   ]
  },
  {
   "cell_type": "code",
   "execution_count": 10,
   "metadata": {
    "ExecuteTime": {
     "end_time": "2017-09-13T09:54:56.215750Z",
     "start_time": "2017-09-13T09:54:56.120942Z"
    }
   },
   "outputs": [
    {
     "name": "stdout",
     "output_type": "stream",
     "text": [
      "[50, 6106, 62289, 26702, 14599, 9449, 8647, 8638, 7625, 8399, 10165, 13048, 15929, 17763, 18980, 18955, 19225, 20180, 20061, 19701, 18003, 15701, 12000, 9001, 6363, 4329, 2791, 1834, 1189, 787, 493, 321, 220, 142, 91, 67, 48, 27, 25, 12, 10, 6, 7, 5, 5, 2, 2, 2, 0, 0, 0, 0, 1, 2, 1, 0, 0, 0, 0, 0, 2]\n"
     ]
    }
   ],
   "source": [
    "# create a list with 61 zeroes\n",
    "longest_a_histo = [0 for i in range(61)]\n",
    "\n",
    "# add +1 to the correponding position when we see an element\n",
    "# i.e. if we see element 13 in \"result\", add +1 to position 13 in \"longest_a_histo\"\n",
    "for r in result:\n",
    "    longest_a_histo[r] += 1\n",
    "\n",
    "print(longest_a_histo)"
   ]
  },
  {
   "cell_type": "code",
   "execution_count": 11,
   "metadata": {
    "ExecuteTime": {
     "end_time": "2017-09-13T09:54:56.765812Z",
     "start_time": "2017-09-13T09:54:56.218243Z"
    }
   },
   "outputs": [
    {
     "data": {
      "image/png": "[encoded data removed]",
      "text/plain": [
       "<matplotlib.figure.Figure at 0x10f3527f0>"
      ]
     },
     "metadata": {},
     "output_type": "display_data"
    }
   ],
   "source": [
    "histo(longest_a_histo, 'Longest \"A\" streak')"
   ]
  },
  {
   "cell_type": "markdown",
   "metadata": {},
   "source": [
    "## Conclusion\n",
    "- The most \"popular\" A streak is of length 2 (it can be found in >6000 reads out of 40k)\n",
    "- The most common A streak is of length 10-25 \n"
   ]
  },
  {
   "cell_type": "markdown",
   "metadata": {},
   "source": [
    "# Total 'A' count per read"
   ]
  },
  {
   "cell_type": "code",
   "execution_count": 12,
   "metadata": {
    "ExecuteTime": {
     "end_time": "2017-09-13T09:55:00.792031Z",
     "start_time": "2017-09-13T09:54:56.768311Z"
    },
    "collapsed": true
   },
   "outputs": [],
   "source": [
    "result = []\n",
    "counter_A = 0\n",
    "for s in dna_reads:\n",
    "    for base in s:\n",
    "        if base == 'A':\n",
    "            counter_A += 1\n",
    "    result.append(counter_A)\n",
    "    counter_A = 0"
   ]
  },
  {
   "cell_type": "code",
   "execution_count": 13,
   "metadata": {
    "ExecuteTime": {
     "end_time": "2017-09-13T09:55:00.890844Z",
     "start_time": "2017-09-13T09:55:00.795292Z"
    },
    "collapsed": true
   },
   "outputs": [],
   "source": [
    "total_a = [0 for i in range(61)]\n",
    "for r in result:\n",
    "    total_a[r] += 1"
   ]
  },
  {
   "cell_type": "code",
   "execution_count": 14,
   "metadata": {
    "ExecuteTime": {
     "end_time": "2017-09-13T09:55:01.412333Z",
     "start_time": "2017-09-13T09:55:00.892814Z"
    }
   },
   "outputs": [
    {
     "data": {
      "image/png": "[encoded data removed]",
      "text/plain": [
       "<matplotlib.figure.Figure at 0x113190390>"
      ]
     },
     "metadata": {},
     "output_type": "display_data"
    }
   ],
   "source": [
    "histo(total_a, plot_title='Total count of \"A\"')"
   ]
  },
  {
   "cell_type": "markdown",
   "metadata": {
    "variables": {
     "suspicious_reads": "<p><strong>NameError</strong>: name &#39;suspicious_reads&#39; is not defined</p>\n"
    }
   },
   "source": [
    "## Conclusion\n",
    "- We expect to have 25% of A. \n",
    "\n",
    "- More than 20 bases per read are encountered in {{suspicious_reads}}% of all reads\n"
   ]
  },
  {
   "cell_type": "markdown",
   "metadata": {},
   "source": [
    "# Count DNA reads by pool "
   ]
  },
  {
   "cell_type": "code",
   "execution_count": 15,
   "metadata": {
    "ExecuteTime": {
     "end_time": "2017-09-13T09:55:01.636906Z",
     "start_time": "2017-09-13T09:55:01.629891Z"
    },
    "collapsed": true
   },
   "outputs": [],
   "source": [
    "d = {\n",
    "'ACAG': 0,\n",
    "'AGTC': 0,\n",
    "'ATCA': 0,\n",
    "'CATG': 0,\n",
    "'CTAC': 0,\n",
    "'TCTA': 0,\n",
    "'TGAT': 0,\n",
    "'TTGG': 0,\n",
    "'unknown': 0\n",
    "}\n",
    "\n",
    "# # or we can create this dict ourselves\n",
    "# pools = ['ACAG', 'AGTC', 'ATCA', 'CATG', 'CTAC', 'TCTA', 'TGAT', 'TTGG', 'unknown']\n",
    "# {pool: 0 for pool in pools}"
   ]
  },
  {
   "cell_type": "code",
   "execution_count": 16,
   "metadata": {
    "ExecuteTime": {
     "end_time": "2017-09-13T09:55:01.957532Z",
     "start_time": "2017-09-13T09:55:01.639585Z"
    },
    "collapsed": true
   },
   "outputs": [],
   "source": [
    "for read in dna_reads:\n",
    "    pool = read[3:7]\n",
    "    if pool in d.keys():\n",
    "        d[pool] += 1\n",
    "    else:\n",
    "        d['unknown'] += 1"
   ]
  },
  {
   "cell_type": "code",
   "execution_count": 17,
   "metadata": {
    "ExecuteTime": {
     "end_time": "2017-09-13T09:55:01.966754Z",
     "start_time": "2017-09-13T09:55:01.959799Z"
    }
   },
   "outputs": [
    {
     "name": "stdout",
     "output_type": "stream",
     "text": [
      "{'ACAG': 63064, 'AGTC': 70542, 'ATCA': 58141, 'CATG': 66798, 'CTAC': 72654, 'TCTA': 27, 'TGAT': 12, 'TTGG': 56581, 'unknown': 12181}\n"
     ]
    }
   ],
   "source": [
    "print(d)"
   ]
  },
  {
   "cell_type": "code",
   "execution_count": 18,
   "metadata": {
    "ExecuteTime": {
     "end_time": "2017-09-13T09:55:02.275910Z",
     "start_time": "2017-09-13T09:55:01.969722Z"
    }
   },
   "outputs": [
    {
     "data": {
      "image/png": "[encoded data removed]",
      "text/plain": [
       "<matplotlib.figure.Figure at 0x113405e48>"
      ]
     },
     "metadata": {},
     "output_type": "display_data"
    }
   ],
   "source": [
    "# order in a dict is not guaranteed, so we may get weird results\n",
    "plt.bar(range(len(d.keys())),d.values())\n",
    "plt.xticks(range(len(d)), list(sorted(d.keys())))\n",
    "plt.title('Count DNA reads by pool')\n",
    "plt.show()"
   ]
  },
  {
   "cell_type": "markdown",
   "metadata": {},
   "source": [
    "## Conclusion\n",
    "- 2 given pools from the wet lab were not found "
   ]
  },
  {
   "cell_type": "markdown",
   "metadata": {},
   "source": [
    "# Demultiplexing\n"
   ]
  },
  {
   "cell_type": "code",
   "execution_count": 19,
   "metadata": {
    "ExecuteTime": {
     "end_time": "2017-09-13T09:55:02.289217Z",
     "start_time": "2017-09-13T09:55:02.278335Z"
    },
    "collapsed": true
   },
   "outputs": [],
   "source": [
    "def hamming_distance(dna1, dna2):\n",
    "    assert isinstance(dna1, str)\n",
    "    assert isinstance(dna2, str)\n",
    "\n",
    "    distance = 0\n",
    "    for b1, b2 in zip(dna1, dna2):\n",
    "        if b1 != b2:\n",
    "            distance += 1\n",
    "    return distance\n",
    "\n",
    "assert hamming_distance('AAAA', 'unknown') == 4"
   ]
  },
  {
   "cell_type": "code",
   "execution_count": 20,
   "metadata": {
    "ExecuteTime": {
     "end_time": "2017-09-13T09:55:02.314595Z",
     "start_time": "2017-09-13T09:55:02.291729Z"
    },
    "collapsed": true
   },
   "outputs": [],
   "source": [
    "def pool_correction(read_pool, list_of_pools, max_ham_dist = 1):\n",
    "    \"\"\"compare given pool against list of pools and correct it\"\"\"\n",
    "    assert isinstance(read_pool, str)\n",
    "    assert isinstance(list_of_pools, list)\n",
    "    for p in list_of_pools:\n",
    "        dist = hamming_distance(p, read_pool)\n",
    "        if dist == 0:\n",
    "            return p\n",
    "        elif dist <= max_ham_dist:\n",
    "            return p\n",
    "    return 'unknown'\n",
    "\n",
    "pools = ['ACAG', 'AGTC', 'ATCA', 'CATG', 'CTAC', 'TCTA', 'TGAT', 'TTGG', 'unknown']\n",
    "assert pool_correction('ACAT', pools) == 'ACAG'\n",
    "assert pool_correction('TTGG', pools) == 'TTGG'\n",
    "assert pool_correction('MMMM', pools) == 'unknown'\n",
    "assert pool_correction('ACTA', pools, max_ham_dist=2) == 'ACAG'"
   ]
  },
  {
   "cell_type": "code",
   "execution_count": 21,
   "metadata": {
    "ExecuteTime": {
     "end_time": "2017-09-13T09:55:13.560330Z",
     "start_time": "2017-09-13T09:55:02.320278Z"
    }
   },
   "outputs": [
    {
     "data": {
      "text/html": [
       "<iframe id=\"igraph\" scrolling=\"no\" style=\"border:none;\" seamless=\"seamless\" src=\"https://plot.ly/~apochka/2.embed\" height=\"525px\" width=\"100%\"></iframe>"
      ],
      "text/plain": [
       "<plotly.tools.PlotlyDisplay object>"
      ]
     },
     "execution_count": 21,
     "metadata": {},
     "output_type": "execute_result"
    }
   ],
   "source": [
    "# 1 initialize dict\n",
    "# 2 add corrected pools\n",
    "# 3 plot\n",
    "\n",
    "import plotly.plotly as py\n",
    "import plotly.graph_objs as go\n",
    "\n",
    "data = list()\n",
    "for hamming_dist in range(3):\n",
    "    d = {\n",
    "    'ACAG': 0,\n",
    "    'AGTC': 0,\n",
    "    'ATCA': 0,\n",
    "    'CATG': 0,\n",
    "    'CTAC': 0,\n",
    "    'TCTA': 0,\n",
    "    'TGAT': 0,\n",
    "    'TTGG': 0,\n",
    "    'unknown': 0\n",
    "    }\n",
    "\n",
    "\n",
    "    for read in dna_reads:\n",
    "        pool = read[3:7]\n",
    "        pool = pool_correction(pool, pools, hamming_dist)\n",
    "        d[pool] += 1\n",
    "    keys, values = zip(*d.items())\n",
    "\n",
    "    trace = go.Bar(\n",
    "        x=keys,\n",
    "        y=values,\n",
    "        name='Hamming distance of ' + str(hamming_dist)\n",
    "    )\n",
    "    data.append(trace)\n",
    "\n",
    "#     plot_from_dict(d, plot_title= \"Hamming distance of \" + str(hamming_dist))\n",
    "py.iplot(data, filename = 'basic-line')"
   ]
  },
  {
   "cell_type": "markdown",
   "metadata": {},
   "source": [
    "# Count longest streak of 'A' by the pool"
   ]
  },
  {
   "cell_type": "code",
   "execution_count": 22,
   "metadata": {
    "ExecuteTime": {
     "end_time": "2017-09-13T09:55:13.569528Z",
     "start_time": "2017-09-13T09:55:13.562975Z"
    },
    "collapsed": true
   },
   "outputs": [],
   "source": [
    "pools = ['ACAG', 'AGTC', 'ATCA', 'CATG', 'CTAC', 'TCTA', 'TGAT', 'TTGG', 'unknown']\n",
    "\n",
    "# create a dictionary with keys as strings from pools and for values empty list with 61 zeroes\n",
    "d = {k: list(0 for i in range(61)) for k in pools}"
   ]
  },
  {
   "cell_type": "code",
   "execution_count": 23,
   "metadata": {
    "ExecuteTime": {
     "end_time": "2017-09-13T09:55:16.605445Z",
     "start_time": "2017-09-13T09:55:13.572453Z"
    },
    "collapsed": true
   },
   "outputs": [],
   "source": [
    "for read in dna_reads:\n",
    "    pool = read[3:7]\n",
    "    longest_a_streak_in_pool = longest_a_streak(read)\n",
    "    lst_61_zeroes = d[pool] if pool in d.keys() else d['unknown']\n",
    "    lst_61_zeroes[longest_a_streak_in_pool] += 1"
   ]
  },
  {
   "cell_type": "code",
   "execution_count": 24,
   "metadata": {
    "ExecuteTime": {
     "end_time": "2017-09-13T09:55:19.675386Z",
     "start_time": "2017-09-13T09:55:16.607732Z"
    }
   },
   "outputs": [
    {
     "data": {
      "image/png": "[encoded data removed]",
      "text/plain": [
       "<matplotlib.figure.Figure at 0x114293898>"
      ]
     },
     "metadata": {},
     "output_type": "display_data"
    }
   ],
   "source": [
    "from itertools import product\n",
    "graph_position = list(product(range(3), range(3)))\n",
    "\n",
    "dim = {'x': 3, 'y': 3}\n",
    "f, axarr = plt.subplots(dim['x'], dim['y'], figsize=(18, 10))\n",
    "\n",
    "max_y_value = max(max(i) for i in d.values())\n",
    "\n",
    "\n",
    "for coordinates, d_pool in zip(graph_position, d.items()):\n",
    "    i, j = coordinates\n",
    "    k, v = d_pool\n",
    "    axarr[i, j].bar(range(len(v)),v)\n",
    "    axarr[i, j].set_title(k)\n",
    "    axarr[i, j].set_ylim([0, max_y_value])\n",
    "\n",
    "plt.show()"
   ]
  },
  {
   "cell_type": "markdown",
   "metadata": {},
   "source": [
    "# Poly-A tail analysis"
   ]
  },
  {
   "cell_type": "code",
   "execution_count": 25,
   "metadata": {
    "ExecuteTime": {
     "end_time": "2017-09-13T09:55:19.687302Z",
     "start_time": "2017-09-13T09:55:19.677334Z"
    },
    "collapsed": true
   },
   "outputs": [],
   "source": [
    "def after_polyatail(read, next_n_bases=5, min_len_poly_a=8):\n",
    "    \"\"\"\n",
    "    if a poly A tail length is grater than min_len_poly_a\n",
    "    go to the end of the tail\n",
    "    and return next n bases\n",
    "    \"\"\"\n",
    "    counter_a = 0\n",
    "    bases_after_poly_a = str()\n",
    "    for index, base in enumerate(read):\n",
    "        if base == 'A':\n",
    "            counter_a += 1\n",
    "        else:\n",
    "            if counter_a > min_len_poly_a:\n",
    "                bases_after_poly_a = read[index:index + next_n_bases]\n",
    "            counter_a = 0\n",
    "    return bases_after_poly_a"
   ]
  },
  {
   "cell_type": "code",
   "execution_count": 26,
   "metadata": {
    "ExecuteTime": {
     "end_time": "2017-09-13T09:55:19.698710Z",
     "start_time": "2017-09-13T09:55:19.689683Z"
    },
    "collapsed": true
   },
   "outputs": [],
   "source": [
    "assert after_polyatail(\"AAAAAAAAAAAAAAAAAAAAAATCCCCCCCCCCCC\") == 'TCCCC'\n",
    "assert after_polyatail(\"ACACAT\") == ''"
   ]
  },
  {
   "cell_type": "code",
   "execution_count": 27,
   "metadata": {
    "ExecuteTime": {
     "end_time": "2017-09-13T09:55:56.184347Z",
     "start_time": "2017-09-13T09:55:19.701444Z"
    }
   },
   "outputs": [
    {
     "name": "stdout",
     "output_type": "stream",
     "text": [
      "[('C', 120470), ('G', 66058), ('T', 58409), ('N', 78)]\n",
      "[('CC', 48237), ('CA', 33626), ('TC', 20765), ('CG', 19927), ('GC', 19702), ('GG', 18671)]\n",
      "[('CCC', 23352), ('CAA', 13052), ('CCA', 10946), ('CAC', 10251), ('GAA', 9573), ('GGG', 8346)]\n",
      "[('CCCC', 11955), ('CAAA', 6502), ('GAAA', 5855), ('CCCA', 4592), ('CCAA', 4115), ('GGGG', 4050)]\n",
      "[('CCCCC', 6257), ('GAAAA', 3760), ('CAAAA', 3507), ('GGGGG', 2147), ('CCCCA', 2042), ('CCCCG', 2035)]\n",
      "[('CCCCCC', 3071), ('GAAAAA', 2372), ('CAAAAA', 2076), ('GGGGGG', 1199), ('CCCCCG', 1142), ('CCCCCA', 1035)]\n",
      "[('GAAAAAA', 1427), ('CCCCCCC', 1371), ('CAAAAAA', 1239), ('GGGGGGG', 673), ('CCCCCCG', 609), ('C', 553)]\n",
      "[('GAAAAAAA', 827), ('CAAAAAAA', 623), ('CCCCCCCC', 580), ('C', 553), ('CAAAAAAC', 368), ('T', 366)]\n",
      "[('C', 553), ('GAAAAAAAA', 367), ('T', 366), ('G', 298), ('GAAAAGAAA', 263), ('CAAAAAAAA', 259)]\n",
      "[('C', 553), ('T', 366), ('G', 298), ('CC', 229), ('GAAAAGAAAA', 213), ('CA', 197)]\n"
     ]
    }
   ],
   "source": [
    "from collections import Counter\n",
    "\n",
    "for i in range(1,11):\n",
    "    after_a = list()\n",
    "    for read in dna_reads:\n",
    "        s = after_polyatail(read, i)\n",
    "        if s != '': # read didn't have min polyA tail -> returns ''\n",
    "            after_a.append(s)\n",
    "    print(Counter(after_a).most_common(6))\n"
   ]
  },
  {
   "cell_type": "markdown",
   "metadata": {},
   "source": [
    "# Consensus matrix on strings after poly A tail"
   ]
  },
  {
   "cell_type": "code",
   "execution_count": 28,
   "metadata": {
    "ExecuteTime": {
     "end_time": "2017-09-13T09:55:56.201426Z",
     "start_time": "2017-09-13T09:55:56.188828Z"
    }
   },
   "outputs": [
    {
     "data": {
      "text/plain": [
       "[[0, 0, 0, 0, 0, 0, 0, 0, 0, 0],\n",
       " [0, 0, 0, 0, 0, 0, 0, 0, 0, 0],\n",
       " [0, 0, 0, 0, 0, 0, 0, 0, 0, 0],\n",
       " [0, 0, 0, 0, 0, 0, 0, 0, 0, 0],\n",
       " [0, 0, 0, 0, 0, 0, 0, 0, 0, 0]]"
      ]
     },
     "execution_count": 28,
     "metadata": {},
     "output_type": "execute_result"
    }
   ],
   "source": [
    "# create a matrix with 5 rows and 10 columns, where every element is 0\n",
    "matrix = [[0 for i in range(10)] for i in range(5)]\n",
    "matrix"
   ]
  },
  {
   "cell_type": "code",
   "execution_count": 29,
   "metadata": {
    "ExecuteTime": {
     "end_time": "2017-09-13T09:55:59.573194Z",
     "start_time": "2017-09-13T09:55:56.203739Z"
    },
    "collapsed": true
   },
   "outputs": [],
   "source": [
    "after_a = list()\n",
    "for read in dna_reads:\n",
    "    s = after_polyatail(read, 10)\n",
    "    if s != '': # read didn't have min polyA tail -> returns ''\n",
    "        after_a.append(s)"
   ]
  },
  {
   "cell_type": "code",
   "execution_count": 30,
   "metadata": {
    "ExecuteTime": {
     "end_time": "2017-09-13T09:56:00.773918Z",
     "start_time": "2017-09-13T09:55:59.576283Z"
    },
    "collapsed": true
   },
   "outputs": [],
   "source": [
    "for s in after_a:\n",
    "    for index, base in enumerate(s):\n",
    "        if base == 'A':\n",
    "            matrix[0][index] += 1\n",
    "        elif base == 'C':\n",
    "            matrix[1][index] += 1\n",
    "        elif base == 'T':\n",
    "            matrix[2][index] += 1\n",
    "        elif base == 'G':\n",
    "            matrix[3][index] += 1\n",
    "        elif base == 'N':\n",
    "            matrix[4][index] += 1\n",
    "        else:\n",
    "            print(\"Unexpected letter\")"
   ]
  },
  {
   "cell_type": "code",
   "execution_count": 31,
   "metadata": {
    "ExecuteTime": {
     "end_time": "2017-09-13T09:56:00.820254Z",
     "start_time": "2017-09-13T09:56:00.776921Z"
    }
   },
   "outputs": [
    {
     "data": {
      "text/html": [
       "<div>\n",
       "<table border=\"1\" class=\"dataframe\">\n",
       "  <thead>\n",
       "    <tr style=\"text-align: right;\">\n",
       "      <th></th>\n",
       "      <th>0</th>\n",
       "      <th>1</th>\n",
       "      <th>2</th>\n",
       "      <th>3</th>\n",
       "      <th>4</th>\n",
       "      <th>5</th>\n",
       "      <th>6</th>\n",
       "      <th>7</th>\n",
       "      <th>8</th>\n",
       "      <th>9</th>\n",
       "    </tr>\n",
       "  </thead>\n",
       "  <tbody>\n",
       "    <tr>\n",
       "      <th>A</th>\n",
       "      <td>0</td>\n",
       "      <td>61354</td>\n",
       "      <td>67567</td>\n",
       "      <td>68487</td>\n",
       "      <td>63294</td>\n",
       "      <td>60598</td>\n",
       "      <td>58231</td>\n",
       "      <td>61707</td>\n",
       "      <td>63178</td>\n",
       "      <td>68591</td>\n",
       "    </tr>\n",
       "    <tr>\n",
       "      <th>C</th>\n",
       "      <td>120470</td>\n",
       "      <td>88708</td>\n",
       "      <td>82638</td>\n",
       "      <td>78448</td>\n",
       "      <td>77615</td>\n",
       "      <td>69974</td>\n",
       "      <td>57444</td>\n",
       "      <td>57971</td>\n",
       "      <td>50768</td>\n",
       "      <td>47102</td>\n",
       "    </tr>\n",
       "    <tr>\n",
       "      <th>T</th>\n",
       "      <td>58409</td>\n",
       "      <td>42135</td>\n",
       "      <td>39354</td>\n",
       "      <td>40527</td>\n",
       "      <td>41075</td>\n",
       "      <td>46060</td>\n",
       "      <td>53118</td>\n",
       "      <td>47852</td>\n",
       "      <td>51151</td>\n",
       "      <td>48655</td>\n",
       "    </tr>\n",
       "    <tr>\n",
       "      <th>G</th>\n",
       "      <td>66058</td>\n",
       "      <td>51550</td>\n",
       "      <td>52896</td>\n",
       "      <td>53719</td>\n",
       "      <td>58009</td>\n",
       "      <td>62088</td>\n",
       "      <td>68607</td>\n",
       "      <td>68608</td>\n",
       "      <td>69650</td>\n",
       "      <td>68967</td>\n",
       "    </tr>\n",
       "    <tr>\n",
       "      <th>N</th>\n",
       "      <td>78</td>\n",
       "      <td>48</td>\n",
       "      <td>58</td>\n",
       "      <td>64</td>\n",
       "      <td>63</td>\n",
       "      <td>45</td>\n",
       "      <td>37</td>\n",
       "      <td>25</td>\n",
       "      <td>30</td>\n",
       "      <td>24</td>\n",
       "    </tr>\n",
       "  </tbody>\n",
       "</table>\n",
       "</div>"
      ],
      "text/plain": [
       "        0      1      2      3      4      5      6      7      8      9\n",
       "A       0  61354  67567  68487  63294  60598  58231  61707  63178  68591\n",
       "C  120470  88708  82638  78448  77615  69974  57444  57971  50768  47102\n",
       "T   58409  42135  39354  40527  41075  46060  53118  47852  51151  48655\n",
       "G   66058  51550  52896  53719  58009  62088  68607  68608  69650  68967\n",
       "N      78     48     58     64     63     45     37     25     30     24"
      ]
     },
     "execution_count": 31,
     "metadata": {},
     "output_type": "execute_result"
    }
   ],
   "source": [
    "import pandas\n",
    "df = pandas.DataFrame(matrix)\n",
    "df.rename({0: 'A', 1: 'C', 2: 'T', 3: 'G', 4: 'N'})\n",
    "\n",
    "# # as an alternative we can generate dict for .rename() ourselves\n",
    "# alphabet = 'ACTGN'\n",
    "# {k: v for k, v in zip(range(len(alphabet)), alphabet)}"
   ]
  },
  {
   "cell_type": "markdown",
   "metadata": {},
   "source": [
    "# Find consensus sequence (= artefact) after Poly A tail"
   ]
  },
  {
   "cell_type": "code",
   "execution_count": 32,
   "metadata": {
    "ExecuteTime": {
     "end_time": "2017-09-13T09:56:01.300094Z",
     "start_time": "2017-09-13T09:56:00.823331Z"
    },
    "collapsed": true
   },
   "outputs": [],
   "source": [
    "rotated_after_a = [''.join(s) for s in zip(*after_a)] \n",
    "# e.g reads = ['AATC','ACTGA','ATG'] -> reads = ['AAA', ACT', 'TTG', 'CG', 'A' ]"
   ]
  },
  {
   "cell_type": "code",
   "execution_count": 33,
   "metadata": {
    "ExecuteTime": {
     "end_time": "2017-09-13T09:56:01.973603Z",
     "start_time": "2017-09-13T09:56:01.309014Z"
    },
    "collapsed": true
   },
   "outputs": [],
   "source": [
    "# zip functions can be applied only to the lists of strings of the same lengh.\n",
    "# If the string is shorter than the string with max length -> add space to the string\n",
    "max_length = (len(max(after_a, key=len)))\n",
    "\n",
    "\n",
    "for index, s in enumerate(after_a):\n",
    "    if len(s) != max_length:  # if len of current string is not the same as maximum length\n",
    "             after_a[index] = s + ' ' * ( max_length - len(s) ) \n",
    "\n",
    "after_a_rotated = ([''.join(s) for s in zip(*after_a)])"
   ]
  },
  {
   "cell_type": "code",
   "execution_count": 34,
   "metadata": {
    "ExecuteTime": {
     "end_time": "2017-09-13T09:56:02.037062Z",
     "start_time": "2017-09-13T09:56:01.975728Z"
    },
    "collapsed": true
   },
   "outputs": [],
   "source": [
    "# count the number of each nucleotide in each column\n",
    "a_list = []\n",
    "t_list = []\n",
    "g_list = []\n",
    "c_list = []\n",
    "n_list = []\n",
    "\n",
    "\n",
    "for read in after_a_rotated:\n",
    "    a_list.append( read.count( 'A' ))\n",
    "    t_list.append( read.count( 'T' ))\n",
    "    g_list.append( read.count( 'G' ))\n",
    "    c_list.append( read.count( 'C' ))\n",
    "    n_list.append( read.count( 'N' ))"
   ]
  },
  {
   "cell_type": "code",
   "execution_count": 35,
   "metadata": {
    "ExecuteTime": {
     "end_time": "2017-09-13T09:56:02.051733Z",
     "start_time": "2017-09-13T09:56:02.040761Z"
    }
   },
   "outputs": [
    {
     "name": "stdout",
     "output_type": "stream",
     "text": [
      "CCCCCCGGGG\n"
     ]
    }
   ],
   "source": [
    "# define an artefact based on consensus\n",
    "\n",
    "data = list((zip(a_list, t_list, g_list, c_list, n_list)))\n",
    "#1st tuple 1st column from the reads\n",
    "\n",
    "d = {0:'A', 1:'T', 2:'G', 3:'C', 4:'N'}\n",
    "artefact = str()\n",
    "for line in data:\n",
    "    max_value = max( line ) # find max value in current line\n",
    "    index_of_max_value = line.index( max_value )  # find index of max value in current line\n",
    "    artefact += d[index_of_max_value]\n",
    "print( artefact )\n",
    "    \n",
    "    "
   ]
  },
  {
   "cell_type": "markdown",
   "metadata": {
    "ExecuteTime": {
     "end_time": "2017-08-19T21:56:38.413420Z",
     "start_time": "2017-08-19T21:56:38.406837Z"
    }
   },
   "source": [
    "# Error probability of the base in disrupted polyA based on phred score "
   ]
  },
  {
   "cell_type": "code",
   "execution_count": 85,
   "metadata": {
    "ExecuteTime": {
     "end_time": "2017-09-13T09:58:13.562200Z",
     "start_time": "2017-09-13T09:58:13.556662Z"
    },
    "collapsed": true
   },
   "outputs": [],
   "source": [
    "def base_calling_error_probabilities(ascii_code):\n",
    "    assert isinstance(ascii_code, str)\n",
    "    assert len(ascii_code) == 1\n",
    "    q = ord(ascii_code) - 33\n",
    "    p = round(10 ** (-q / 10), 5)\n",
    "    return p"
   ]
  },
  {
   "cell_type": "code",
   "execution_count": 86,
   "metadata": {
    "ExecuteTime": {
     "end_time": "2017-09-13T09:58:13.800566Z",
     "start_time": "2017-09-13T09:58:13.792712Z"
    },
    "collapsed": true
   },
   "outputs": [],
   "source": [
    "def disrupted_poly_A(read,min_len_poly_a=8, min_len_poly_a2 = 5):\n",
    "    \"\"\"\n",
    "    find poly A tail in a read that is disrupted only by one base other than 'A'\n",
    "    \n",
    "    \"\"\"\n",
    "    import re\n",
    "    \n",
    "    min_len_poly_a = str(min_len_poly_a)\n",
    "    min_len_poly_a2 = str(min_len_poly_a2)\n",
    "    pattern = \"[A]{\" + min_len_poly_a + \",}([^A])[A]{\" + min_len_poly_a2 + \",}\"\n",
    "    m = re.search(pattern, read)  \n",
    "    if m:\n",
    "        return m.span(1)[0]\n",
    "    return ''"
   ]
  },
  {
   "cell_type": "code",
   "execution_count": 87,
   "metadata": {
    "ExecuteTime": {
     "end_time": "2017-09-13T09:58:14.426063Z",
     "start_time": "2017-09-13T09:58:14.060541Z"
    },
    "collapsed": true
   },
   "outputs": [],
   "source": [
    "from collections import namedtuple\n",
    "phred_data = namedtuple('PhredData', 'ReadNumber PositionOfBase ErrorProb')\n",
    "n=160000\n",
    "result = []\n",
    "path_to_file = '/Users/dariapodorskaja/Desktop/Lab/Lane_7_NoIndex_L007_R1_001.fastq'\n",
    "with open(path_to_file, 'r') as f:   # f = open(path_to_file, 'r') # f is a variable with a file\n",
    "    for line_number in range(n):\n",
    "        if line_number %4 ==1:\n",
    "            s = f.readline().replace('\\n', '')\n",
    "            position = disrupted_poly_A(s)\n",
    "            read_number = line_number\n",
    "        elif line_number %4 ==3 and position != '':\n",
    "            s = f.readline().replace('\\n', '')\n",
    "            p = base_calling_error_probabilities(s[position])\n",
    "            result.append(phred_data(read_number, position, p))\n",
    "        else:\n",
    "            next(f)"
   ]
  },
  {
   "cell_type": "code",
   "execution_count": 93,
   "metadata": {
    "ExecuteTime": {
     "end_time": "2017-09-13T09:58:59.034488Z",
     "start_time": "2017-09-13T09:58:59.008607Z"
    }
   },
   "outputs": [
    {
     "name": "stdout",
     "output_type": "stream",
     "text": [
      "111\n",
      "PhredData(ReadNumber=285, PositionOfBase=20, ErrorProb=0.63096)\n",
      "PhredData(ReadNumber=1805, PositionOfBase=33, ErrorProb=0.63096)\n",
      "PhredData(ReadNumber=1909, PositionOfBase=20, ErrorProb=0.63096)\n",
      "PhredData(ReadNumber=2229, PositionOfBase=20, ErrorProb=0.63096)\n",
      "PhredData(ReadNumber=4109, PositionOfBase=27, ErrorProb=0.63096)\n",
      "PhredData(ReadNumber=4373, PositionOfBase=49, ErrorProb=0.63096)\n",
      "PhredData(ReadNumber=4669, PositionOfBase=20, ErrorProb=0.63096)\n",
      "PhredData(ReadNumber=4973, PositionOfBase=20, ErrorProb=0.63096)\n",
      "PhredData(ReadNumber=5113, PositionOfBase=20, ErrorProb=0.63096)\n",
      "PhredData(ReadNumber=6625, PositionOfBase=20, ErrorProb=0.63096)\n",
      "PhredData(ReadNumber=6685, PositionOfBase=20, ErrorProb=0.63096)\n",
      "PhredData(ReadNumber=7249, PositionOfBase=49, ErrorProb=0.63096)\n",
      "PhredData(ReadNumber=8361, PositionOfBase=43, ErrorProb=0.63096)\n",
      "PhredData(ReadNumber=13373, PositionOfBase=27, ErrorProb=0.63096)\n",
      "PhredData(ReadNumber=13685, PositionOfBase=29, ErrorProb=0.63096)\n",
      "PhredData(ReadNumber=14961, PositionOfBase=24, ErrorProb=0.63096)\n",
      "PhredData(ReadNumber=15389, PositionOfBase=28, ErrorProb=0.63096)\n",
      "PhredData(ReadNumber=16257, PositionOfBase=32, ErrorProb=0.63096)\n",
      "PhredData(ReadNumber=16429, PositionOfBase=29, ErrorProb=0.63096)\n",
      "PhredData(ReadNumber=17329, PositionOfBase=30, ErrorProb=0.63096)\n",
      "PhredData(ReadNumber=17793, PositionOfBase=26, ErrorProb=0.63096)\n",
      "PhredData(ReadNumber=23585, PositionOfBase=51, ErrorProb=0.63096)\n",
      "PhredData(ReadNumber=23609, PositionOfBase=51, ErrorProb=0.63096)\n",
      "PhredData(ReadNumber=24541, PositionOfBase=28, ErrorProb=0.63096)\n",
      "PhredData(ReadNumber=28053, PositionOfBase=28, ErrorProb=0.63096)\n",
      "PhredData(ReadNumber=28289, PositionOfBase=31, ErrorProb=0.63096)\n",
      "PhredData(ReadNumber=29329, PositionOfBase=27, ErrorProb=0.63096)\n",
      "PhredData(ReadNumber=29437, PositionOfBase=23, ErrorProb=0.63096)\n",
      "PhredData(ReadNumber=29513, PositionOfBase=37, ErrorProb=0.63096)\n",
      "PhredData(ReadNumber=29985, PositionOfBase=30, ErrorProb=0.63096)\n",
      "PhredData(ReadNumber=36709, PositionOfBase=37, ErrorProb=0.63096)\n",
      "PhredData(ReadNumber=38037, PositionOfBase=28, ErrorProb=0.63096)\n",
      "PhredData(ReadNumber=39749, PositionOfBase=26, ErrorProb=0.63096)\n",
      "PhredData(ReadNumber=40829, PositionOfBase=25, ErrorProb=0.63096)\n",
      "PhredData(ReadNumber=41461, PositionOfBase=31, ErrorProb=0.63096)\n",
      "PhredData(ReadNumber=43341, PositionOfBase=24, ErrorProb=0.63096)\n",
      "PhredData(ReadNumber=43453, PositionOfBase=27, ErrorProb=0.63096)\n",
      "PhredData(ReadNumber=44285, PositionOfBase=39, ErrorProb=0.63096)\n",
      "PhredData(ReadNumber=44561, PositionOfBase=45, ErrorProb=0.63096)\n",
      "PhredData(ReadNumber=45117, PositionOfBase=35, ErrorProb=0.63096)\n",
      "PhredData(ReadNumber=45709, PositionOfBase=28, ErrorProb=0.63096)\n",
      "PhredData(ReadNumber=50881, PositionOfBase=36, ErrorProb=0.63096)\n",
      "PhredData(ReadNumber=51349, PositionOfBase=24, ErrorProb=0.63096)\n",
      "PhredData(ReadNumber=51437, PositionOfBase=33, ErrorProb=0.63096)\n",
      "PhredData(ReadNumber=52317, PositionOfBase=34, ErrorProb=0.63096)\n",
      "PhredData(ReadNumber=53389, PositionOfBase=27, ErrorProb=0.63096)\n",
      "PhredData(ReadNumber=53505, PositionOfBase=33, ErrorProb=0.63096)\n",
      "PhredData(ReadNumber=54717, PositionOfBase=25, ErrorProb=0.63096)\n",
      "PhredData(ReadNumber=55133, PositionOfBase=35, ErrorProb=0.63096)\n",
      "PhredData(ReadNumber=57481, PositionOfBase=37, ErrorProb=0.63096)\n",
      "PhredData(ReadNumber=61481, PositionOfBase=27, ErrorProb=0.63096)\n",
      "PhredData(ReadNumber=61813, PositionOfBase=42, ErrorProb=0.63096)\n",
      "PhredData(ReadNumber=61837, PositionOfBase=41, ErrorProb=0.63096)\n",
      "PhredData(ReadNumber=65041, PositionOfBase=52, ErrorProb=0.63096)\n",
      "PhredData(ReadNumber=65417, PositionOfBase=35, ErrorProb=0.63096)\n",
      "PhredData(ReadNumber=70801, PositionOfBase=28, ErrorProb=0.63096)\n",
      "PhredData(ReadNumber=71133, PositionOfBase=28, ErrorProb=0.63096)\n",
      "PhredData(ReadNumber=71421, PositionOfBase=47, ErrorProb=0.63096)\n",
      "PhredData(ReadNumber=73309, PositionOfBase=27, ErrorProb=0.63096)\n",
      "PhredData(ReadNumber=73425, PositionOfBase=30, ErrorProb=0.63096)\n",
      "PhredData(ReadNumber=73681, PositionOfBase=30, ErrorProb=0.63096)\n",
      "PhredData(ReadNumber=73845, PositionOfBase=31, ErrorProb=0.63096)\n",
      "PhredData(ReadNumber=76157, PositionOfBase=26, ErrorProb=0.63096)\n",
      "PhredData(ReadNumber=76813, PositionOfBase=26, ErrorProb=0.63096)\n",
      "PhredData(ReadNumber=77049, PositionOfBase=25, ErrorProb=0.63096)\n",
      "PhredData(ReadNumber=77529, PositionOfBase=24, ErrorProb=0.63096)\n",
      "PhredData(ReadNumber=79485, PositionOfBase=26, ErrorProb=0.63096)\n",
      "PhredData(ReadNumber=81157, PositionOfBase=18, ErrorProb=0.63096)\n",
      "PhredData(ReadNumber=81253, PositionOfBase=27, ErrorProb=0.63096)\n",
      "PhredData(ReadNumber=81733, PositionOfBase=35, ErrorProb=0.63096)\n",
      "PhredData(ReadNumber=82065, PositionOfBase=31, ErrorProb=0.63096)\n",
      "PhredData(ReadNumber=90185, PositionOfBase=31, ErrorProb=0.63096)\n",
      "PhredData(ReadNumber=93749, PositionOfBase=24, ErrorProb=0.63096)\n",
      "PhredData(ReadNumber=96945, PositionOfBase=27, ErrorProb=0.63096)\n",
      "PhredData(ReadNumber=99993, PositionOfBase=39, ErrorProb=0.63096)\n",
      "PhredData(ReadNumber=100393, PositionOfBase=47, ErrorProb=0.63096)\n",
      "PhredData(ReadNumber=106801, PositionOfBase=52, ErrorProb=0.63096)\n",
      "PhredData(ReadNumber=106929, PositionOfBase=49, ErrorProb=0.63096)\n",
      "PhredData(ReadNumber=107221, PositionOfBase=26, ErrorProb=0.63096)\n",
      "PhredData(ReadNumber=108801, PositionOfBase=24, ErrorProb=0.63096)\n",
      "PhredData(ReadNumber=112101, PositionOfBase=46, ErrorProb=0.63096)\n",
      "PhredData(ReadNumber=114201, PositionOfBase=28, ErrorProb=0.63096)\n",
      "PhredData(ReadNumber=117437, PositionOfBase=34, ErrorProb=0.63096)\n",
      "PhredData(ReadNumber=117681, PositionOfBase=30, ErrorProb=0.63096)\n",
      "PhredData(ReadNumber=117865, PositionOfBase=24, ErrorProb=0.63096)\n",
      "PhredData(ReadNumber=118273, PositionOfBase=31, ErrorProb=0.63096)\n",
      "PhredData(ReadNumber=119085, PositionOfBase=28, ErrorProb=0.63096)\n",
      "PhredData(ReadNumber=119193, PositionOfBase=29, ErrorProb=0.63096)\n",
      "PhredData(ReadNumber=122189, PositionOfBase=28, ErrorProb=0.63096)\n",
      "PhredData(ReadNumber=124405, PositionOfBase=25, ErrorProb=0.63096)\n",
      "PhredData(ReadNumber=126213, PositionOfBase=26, ErrorProb=0.63096)\n",
      "PhredData(ReadNumber=127645, PositionOfBase=28, ErrorProb=0.63096)\n",
      "PhredData(ReadNumber=127665, PositionOfBase=42, ErrorProb=0.63096)\n",
      "PhredData(ReadNumber=128217, PositionOfBase=25, ErrorProb=0.63096)\n",
      "PhredData(ReadNumber=128917, PositionOfBase=33, ErrorProb=0.63096)\n",
      "PhredData(ReadNumber=129105, PositionOfBase=34, ErrorProb=0.63096)\n",
      "PhredData(ReadNumber=130973, PositionOfBase=36, ErrorProb=0.63096)\n",
      "PhredData(ReadNumber=131297, PositionOfBase=28, ErrorProb=0.63096)\n",
      "PhredData(ReadNumber=131917, PositionOfBase=36, ErrorProb=0.63096)\n",
      "PhredData(ReadNumber=135017, PositionOfBase=33, ErrorProb=0.63096)\n",
      "PhredData(ReadNumber=138073, PositionOfBase=47, ErrorProb=0.63096)\n",
      "PhredData(ReadNumber=138749, PositionOfBase=37, ErrorProb=0.63096)\n",
      "PhredData(ReadNumber=140937, PositionOfBase=37, ErrorProb=0.63096)\n",
      "PhredData(ReadNumber=144861, PositionOfBase=29, ErrorProb=0.63096)\n",
      "PhredData(ReadNumber=145481, PositionOfBase=33, ErrorProb=0.63096)\n",
      "PhredData(ReadNumber=147733, PositionOfBase=25, ErrorProb=0.63096)\n",
      "PhredData(ReadNumber=147917, PositionOfBase=32, ErrorProb=0.63096)\n",
      "PhredData(ReadNumber=150241, PositionOfBase=28, ErrorProb=0.63096)\n",
      "PhredData(ReadNumber=155861, PositionOfBase=31, ErrorProb=0.63096)\n",
      "PhredData(ReadNumber=158465, PositionOfBase=48, ErrorProb=0.63096)\n",
      "PhredData(ReadNumber=159161, PositionOfBase=40, ErrorProb=0.63096)\n"
     ]
    }
   ],
   "source": [
    "threshold = 0.5 #min error probability\n",
    "print(sum([1 for rn, pos, prob in result if prob > threshold]))\n",
    "\n",
    "end_result = list()\n",
    "for r in result:\n",
    "    rn, pos, prob = r\n",
    "    if prob > threshold:\n",
    "        (r)\n"
   ]
  },
  {
   "cell_type": "markdown",
   "metadata": {},
   "source": [
    "# Markov chain after PolyA analysis"
   ]
  },
  {
   "cell_type": "code",
   "execution_count": 40,
   "metadata": {
    "ExecuteTime": {
     "end_time": "2017-09-13T09:56:02.537120Z",
     "start_time": "2017-09-13T09:56:02.528715Z"
    },
    "collapsed": true
   },
   "outputs": [],
   "source": [
    "def after_polyatail(read, next_n_bases=10, min_len_poly_a=8):\n",
    "    \"\"\"\n",
    "    if a poly A tail length is grater than min_len_poly_a\n",
    "    go to the end of the tail\n",
    "    and return next n bases\n",
    "    \"\"\"\n",
    "    assert isinstance(read, str)\n",
    "    counter_a = 0\n",
    "    bases_after_poly_a = str()\n",
    "    for index, base in enumerate(read):\n",
    "        if base == 'A':\n",
    "            counter_a += 1\n",
    "        else:\n",
    "            if counter_a >= min_len_poly_a:\n",
    "                bases_after_poly_a = read[index:index + next_n_bases]\n",
    "            counter_a = 0\n",
    "    return bases_after_poly_a"
   ]
  },
  {
   "cell_type": "code",
   "execution_count": 41,
   "metadata": {
    "ExecuteTime": {
     "end_time": "2017-09-13T09:56:05.847219Z",
     "start_time": "2017-09-13T09:56:02.539268Z"
    },
    "collapsed": true
   },
   "outputs": [],
   "source": [
    "reads=[]\n",
    "for dna in dna_reads:\n",
    "    reads.append(after_polyatail(dna, 4, 3))"
   ]
  },
  {
   "cell_type": "code",
   "execution_count": 42,
   "metadata": {
    "ExecuteTime": {
     "end_time": "2017-09-13T09:56:05.857678Z",
     "start_time": "2017-09-13T09:56:05.850332Z"
    },
    "collapsed": true
   },
   "outputs": [],
   "source": [
    "from itertools import product\n",
    "alphabet = 'ACTGN'\n",
    "# let's do all possible transisions\n",
    "trans = [i+j for i, j in product(alphabet, alphabet)]  # possible transitions"
   ]
  },
  {
   "cell_type": "code",
   "execution_count": 43,
   "metadata": {
    "ExecuteTime": {
     "end_time": "2017-09-13T09:56:05.869115Z",
     "start_time": "2017-09-13T09:56:05.860651Z"
    }
   },
   "outputs": [
    {
     "name": "stdout",
     "output_type": "stream",
     "text": [
      "{'AA': 0, 'AC': 0, 'AT': 0, 'AG': 0, 'AN': 0, 'CA': 0, 'CC': 0, 'CT': 0, 'CG': 0, 'CN': 0, 'TA': 0, 'TC': 0, 'TT': 0, 'TG': 0, 'TN': 0, 'GA': 0, 'GC': 0, 'GT': 0, 'GG': 0, 'GN': 0, 'NA': 0, 'NC': 0, 'NT': 0, 'NG': 0, 'NN': 0}\n"
     ]
    }
   ],
   "source": [
    "# now lets do a dict where all initial values are 0\n",
    "d = {k: 0 for k in trans}\n",
    "print(d)"
   ]
  },
  {
   "cell_type": "code",
   "execution_count": 44,
   "metadata": {
    "ExecuteTime": {
     "end_time": "2017-09-13T09:56:17.621427Z",
     "start_time": "2017-09-13T09:56:05.871681Z"
    },
    "collapsed": true
   },
   "outputs": [],
   "source": [
    "# always take next 2 letters\n",
    "result= []\n",
    "for read in dna_reads:\n",
    "    for i in range(len(read)):\n",
    "        result.append((read[i: i+2]))"
   ]
  },
  {
   "cell_type": "code",
   "execution_count": 45,
   "metadata": {
    "ExecuteTime": {
     "end_time": "2017-09-13T09:56:17.635999Z",
     "start_time": "2017-09-13T09:56:17.625526Z"
    }
   },
   "outputs": [
    {
     "data": {
      "text/plain": [
       "['GC', 'CA', 'AT', 'TT', 'TG', 'GG', 'GA', 'AA', 'AA', 'AA']"
      ]
     },
     "execution_count": 45,
     "metadata": {},
     "output_type": "execute_result"
    }
   ],
   "source": [
    "result[0:10]"
   ]
  },
  {
   "cell_type": "code",
   "execution_count": 46,
   "metadata": {
    "ExecuteTime": {
     "end_time": "2017-09-13T09:56:31.834771Z",
     "start_time": "2017-09-13T09:56:17.638653Z"
    },
    "collapsed": true
   },
   "outputs": [],
   "source": [
    "# now combine this 2 letters with dict\n",
    "# that means if we see 2 letters, add +1 to coresponding enty in the dict\n",
    "for two_letters in result:\n",
    "    if two_letters in d.keys():\n",
    "        d[two_letters] += 1"
   ]
  },
  {
   "cell_type": "code",
   "execution_count": 47,
   "metadata": {
    "ExecuteTime": {
     "end_time": "2017-09-13T09:56:31.860257Z",
     "start_time": "2017-09-13T09:56:31.841568Z"
    }
   },
   "outputs": [
    {
     "name": "stdout",
     "output_type": "stream",
     "text": [
      "{'AA': 5812313, 'AC': 1615101, 'AT': 952776, 'AG': 1704025, 'AN': 527, 'CA': 1813380, 'CC': 1044646, 'CT': 1101885, 'CG': 958200, 'CN': 314, 'TA': 587587, 'TC': 1334364, 'TT': 953373, 'TG': 945421, 'TN': 207, 'GA': 1888594, 'GC': 925788, 'GT': 825327, 'GG': 1133393, 'GN': 258, 'NA': 540, 'NC': 274, 'NT': 219, 'NG': 278, 'NN': 1210}\n"
     ]
    }
   ],
   "source": [
    "print(d)"
   ]
  },
  {
   "cell_type": "code",
   "execution_count": 48,
   "metadata": {
    "ExecuteTime": {
     "end_time": "2017-09-13T09:56:31.886319Z",
     "start_time": "2017-09-13T09:56:31.863333Z"
    },
    "collapsed": true
   },
   "outputs": [],
   "source": [
    "total_transitions_to_a = 0\n",
    "total_transitions_to_c = 0\n",
    "total_transitions_to_t = 0\n",
    "total_transitions_to_g = 0\n",
    "total_transitions_to_n = 0\n",
    "\n",
    "for k in d.keys():\n",
    "    if k.startswith('A'):\n",
    "        total_transitions_to_a += d[k]\n",
    "    elif k.startswith('C'):\n",
    "        total_transitions_to_c += d[k]\n",
    "    elif k.startswith('T'):\n",
    "        total_transitions_to_t += d[k]\n",
    "    elif k.startswith('G'):\n",
    "        total_transitions_to_g += d[k]\n",
    "    elif k.startswith('N'):\n",
    "        total_transitions_to_n += d[k]\n",
    "    else:\n",
    "        print(\"we missed a key!\")\n",
    "        "
   ]
  },
  {
   "cell_type": "code",
   "execution_count": 49,
   "metadata": {
    "ExecuteTime": {
     "end_time": "2017-09-13T09:56:33.808279Z",
     "start_time": "2017-09-13T09:56:31.895815Z"
    },
    "collapsed": true
   },
   "outputs": [],
   "source": [
    "a_prob = []\n",
    "c_prob = []\n",
    "t_prob = []\n",
    "g_prob = []\n",
    "n_prob = []\n",
    "\n",
    "for k in trans:\n",
    "    if k.startswith('A'):\n",
    "        a_prob.append((d[k] / total_transitions_to_a))\n",
    "    elif k.startswith('C'):\n",
    "        c_prob.append((d[k] / total_transitions_to_c))\n",
    "    elif k.startswith('T'):\n",
    "        t_prob.append((d[k] / total_transitions_to_t))\n",
    "    elif k.startswith('G'):\n",
    "        g_prob.append((d[k] / total_transitions_to_g))\n",
    "    elif k.startswith('N'):\n",
    "        n_prob.append((d[k] / total_transitions_to_n))\n",
    "    else:\n",
    "        print(\"we missed a key!\")"
   ]
  },
  {
   "cell_type": "code",
   "execution_count": 50,
   "metadata": {
    "ExecuteTime": {
     "end_time": "2017-09-13T09:56:33.838730Z",
     "start_time": "2017-09-13T09:56:33.811251Z"
    }
   },
   "outputs": [
    {
     "data": {
      "text/plain": [
       "[[0.58, 0.16, 0.09, 0.17, 0.0],\n",
       " [0.37, 0.21, 0.22, 0.19, 0.0],\n",
       " [0.15, 0.35, 0.25, 0.25, 0.0],\n",
       " [0.4, 0.19, 0.17, 0.24, 0.0],\n",
       " [0.21, 0.11, 0.09, 0.11, 0.48]]"
      ]
     },
     "execution_count": 50,
     "metadata": {},
     "output_type": "execute_result"
    }
   ],
   "source": [
    "matrix = [[0 for i in range(len(alphabet))] for i in range(len(alphabet))]\n",
    "for i in range(len(alphabet)):\n",
    "    matrix [0][i] = round(a_prob[i], 2)\n",
    "    matrix [1][i] = round(c_prob[i], 2)\n",
    "    matrix [2][i] = round(t_prob[i], 2)\n",
    "    matrix [3][i] = round(g_prob[i], 2)\n",
    "    matrix [4][i] = round(n_prob[i], 2)\n",
    "    \n",
    "matrix"
   ]
  },
  {
   "cell_type": "code",
   "execution_count": 51,
   "metadata": {
    "ExecuteTime": {
     "end_time": "2017-09-13T09:56:33.896278Z",
     "start_time": "2017-09-13T09:56:33.841635Z"
    }
   },
   "outputs": [
    {
     "data": {
      "text/html": [
       "<div>\n",
       "<table border=\"1\" class=\"dataframe\">\n",
       "  <thead>\n",
       "    <tr style=\"text-align: right;\">\n",
       "      <th></th>\n",
       "      <th>A</th>\n",
       "      <th>C</th>\n",
       "      <th>T</th>\n",
       "      <th>G</th>\n",
       "      <th>N</th>\n",
       "    </tr>\n",
       "  </thead>\n",
       "  <tbody>\n",
       "    <tr>\n",
       "      <th>A</th>\n",
       "      <td>0.58</td>\n",
       "      <td>0.16</td>\n",
       "      <td>0.09</td>\n",
       "      <td>0.17</td>\n",
       "      <td>0.00</td>\n",
       "    </tr>\n",
       "    <tr>\n",
       "      <th>C</th>\n",
       "      <td>0.37</td>\n",
       "      <td>0.21</td>\n",
       "      <td>0.22</td>\n",
       "      <td>0.19</td>\n",
       "      <td>0.00</td>\n",
       "    </tr>\n",
       "    <tr>\n",
       "      <th>T</th>\n",
       "      <td>0.15</td>\n",
       "      <td>0.35</td>\n",
       "      <td>0.25</td>\n",
       "      <td>0.25</td>\n",
       "      <td>0.00</td>\n",
       "    </tr>\n",
       "    <tr>\n",
       "      <th>G</th>\n",
       "      <td>0.40</td>\n",
       "      <td>0.19</td>\n",
       "      <td>0.17</td>\n",
       "      <td>0.24</td>\n",
       "      <td>0.00</td>\n",
       "    </tr>\n",
       "    <tr>\n",
       "      <th>N</th>\n",
       "      <td>0.21</td>\n",
       "      <td>0.11</td>\n",
       "      <td>0.09</td>\n",
       "      <td>0.11</td>\n",
       "      <td>0.48</td>\n",
       "    </tr>\n",
       "  </tbody>\n",
       "</table>\n",
       "</div>"
      ],
      "text/plain": [
       "      A     C     T     G     N\n",
       "A  0.58  0.16  0.09  0.17  0.00\n",
       "C  0.37  0.21  0.22  0.19  0.00\n",
       "T  0.15  0.35  0.25  0.25  0.00\n",
       "G  0.40  0.19  0.17  0.24  0.00\n",
       "N  0.21  0.11  0.09  0.11  0.48"
      ]
     },
     "execution_count": 51,
     "metadata": {},
     "output_type": "execute_result"
    }
   ],
   "source": [
    "import pandas as pd\n",
    "alphabet = ['A', 'C', 'T', 'G', 'N']\n",
    "df = pd.DataFrame(matrix, index=alphabet, columns=alphabet)\n",
    "df"
   ]
  },
  {
   "cell_type": "markdown",
   "metadata": {},
   "source": [
    "# Error probability based on phred score "
   ]
  },
  {
   "cell_type": "code",
   "execution_count": 52,
   "metadata": {
    "ExecuteTime": {
     "end_time": "2017-09-13T09:56:33.916137Z",
     "start_time": "2017-09-13T09:56:33.899986Z"
    },
    "collapsed": true
   },
   "outputs": [],
   "source": [
    "def reader(path_to_file, start=0, stop=60, every_line_number=1):\n",
    "    lines_count = 160000\n",
    "    strings = list()\n",
    "    with open(path_to_file, 'r') as f:\n",
    "        for current_line in range(lines_count):\n",
    "            if current_line % 4 == every_line_number:  # pick lines with DNA sequences\n",
    "                s = f.readline().replace('\\n', '')\n",
    "                strings.append(s[start:stop])\n",
    "            else:\n",
    "                next(f)\n",
    "    return strings"
   ]
  },
  {
   "cell_type": "code",
   "execution_count": 53,
   "metadata": {
    "ExecuteTime": {
     "end_time": "2017-09-13T09:56:33.936288Z",
     "start_time": "2017-09-13T09:56:33.923789Z"
    },
    "collapsed": true
   },
   "outputs": [],
   "source": [
    "def map_string_to_probabilities(string):\n",
    "    \"\"\"takes a list of ascii symbols \n",
    "    returns correspodning probabilities in a list\"\"\"\n",
    "    \n",
    "    assert isinstance (string, str)\n",
    "    \n",
    "    errors = list()\n",
    "    for letter in string:\n",
    "        errors.append(base_calling_error_probabilities(letter))\n",
    "    return errors"
   ]
  },
  {
   "cell_type": "code",
   "execution_count": 54,
   "metadata": {
    "ExecuteTime": {
     "end_time": "2017-09-13T09:56:33.960886Z",
     "start_time": "2017-09-13T09:56:33.939329Z"
    },
    "collapsed": true
   },
   "outputs": [],
   "source": [
    "def number_of_errors_above_thershold(errors, threshold = 0.001):\n",
    "    \"\"\"takes a list of lists floats and \n",
    "    returns how many numbers in a list above threshold\n",
    "    \n",
    "    Example:\n",
    "    >>> number_of_errors_above_thershold([[.1, .2], [.2, .3]], threshold=.2)\n",
    "    [1, 2, 3]\n",
    "    \"\"\"\n",
    "    assert isinstance (errors, list)\n",
    "    [isinstance(i, list) for i in errors]\n",
    "    \n",
    "    err = list()\n",
    "    for lst in errors:\n",
    "        counter = 0 \n",
    "        for i in lst:\n",
    "            if i >= threshold:\n",
    "                counter += 1\n",
    "        if counter > 0:\n",
    "            err.append(counter)\n",
    "    return err\n",
    "\n",
    "assert number_of_errors_above_thershold([[.1, .2], [.2, .3]], threshold=.2) == [1,2]\n",
    "assert number_of_errors_above_thershold([[.1, .2], [.2, .3]], threshold=.5) == []"
   ]
  },
  {
   "cell_type": "code",
   "execution_count": 55,
   "metadata": {
    "ExecuteTime": {
     "end_time": "2017-09-13T09:56:33.977416Z",
     "start_time": "2017-09-13T09:56:33.964019Z"
    },
    "collapsed": true
   },
   "outputs": [],
   "source": [
    "def number_of_suspicious_strings(ascii_list):\n",
    "    \"\"\"\n",
    "    return how many strings has at least one letter which error probability is above threashold\n",
    "    \"\"\"\n",
    "    error = list()\n",
    "    for element in ascii_list:\n",
    "        error.append(map_string_to_probabilities(element))\n",
    "    a = number_of_errors_above_thershold(error)\n",
    "    return len(a)"
   ]
  },
  {
   "cell_type": "code",
   "execution_count": 56,
   "metadata": {
    "ExecuteTime": {
     "end_time": "2017-09-13T09:56:34.125308Z",
     "start_time": "2017-09-13T09:56:33.980540Z"
    },
    "collapsed": true
   },
   "outputs": [],
   "source": [
    "R1_list = !ls /Users/dariapodorskaja/Desktop/Lab/Lane_7_NoIndex_L007_R1*\n",
    "R1_list = list(R1_list)\n",
    "R2_list = !ls /Users/dariapodorskaja/Desktop/Lab/Lane_7_NoIndex_L007_R2*\n",
    "R2_list = list(R2_list)"
   ]
  },
  {
   "cell_type": "markdown",
   "metadata": {},
   "source": [
    "## Number of bases in well barcodes with an error threshold > 10^-3"
   ]
  },
  {
   "cell_type": "code",
   "execution_count": 57,
   "metadata": {
    "ExecuteTime": {
     "end_time": "2017-09-13T09:56:43.807263Z",
     "start_time": "2017-09-13T09:56:34.130596Z"
    }
   },
   "outputs": [
    {
     "name": "stdout",
     "output_type": "stream",
     "text": [
      "52177\n"
     ]
    }
   ],
   "source": [
    "path_to_file = R2_list\n",
    "wells_errors = list()\n",
    "total_well_errors = list()\n",
    "for file in path_to_file:\n",
    "    wells_ascii = reader(file, start=0, stop=6, every_line_number=3)\n",
    "    wells = reader(file, start=0, stop=6, every_line_number=1)\n",
    "    wells_errors.append((number_of_suspicious_strings(wells_ascii)))\n",
    "    total_well_errors = sum(wells_errors)\n",
    "print(total_well_errors)"
   ]
  },
  {
   "cell_type": "markdown",
   "metadata": {
    "variables": {
     "total_well_errors": "52177",
     "total_well_errors/400000": "0.1304425"
    }
   },
   "source": [
    "### Conclusion\n",
    "Based on analysis of 400.000 reads with total 2 400.000 bases that belong to well barcodes there are {{total_well_errors}}({{total_well_errors/400000}}% out of total number) bases in well barcodes with an error probability > 0.001"
   ]
  },
  {
   "cell_type": "markdown",
   "metadata": {},
   "source": [
    "## Number of bases in UMI with an error threshold > 10^-3 "
   ]
  },
  {
   "cell_type": "code",
   "execution_count": 58,
   "metadata": {
    "ExecuteTime": {
     "end_time": "2017-09-13T09:56:54.097242Z",
     "start_time": "2017-09-13T09:56:43.832815Z"
    }
   },
   "outputs": [
    {
     "name": "stdout",
     "output_type": "stream",
     "text": [
      "38322\n"
     ]
    }
   ],
   "source": [
    "path_to_file = R2_list\n",
    "umi_errors = list()\n",
    "total_umi_errors = list()\n",
    "for file in path_to_file:\n",
    "    umi_ascii = reader(file, start=6, stop=12, every_line_number=3)\n",
    "    umi = reader(file, start=6, stop=12, every_line_number=1)\n",
    "    umi_errors.append((number_of_suspicious_strings(umi_ascii)))\n",
    "    total_umi_errors = sum(umi_errors)\n",
    "print(total_umi_errors)"
   ]
  },
  {
   "cell_type": "markdown",
   "metadata": {
    "variables": {
     "total_umi_errors/400000": "0.095805"
    }
   },
   "source": [
    "### Conclusion\n",
    "Based on analysis of 400.000 reads with total 2 400.000 bases that belong to UMI there are {{total_umi_errors/400000}} % out of total number) bases in UMI with an error probability > 0.001"
   ]
  },
  {
   "cell_type": "markdown",
   "metadata": {},
   "source": [
    "## Number of bases in pool barcodes with an error threshold > 10^-3"
   ]
  },
  {
   "cell_type": "code",
   "execution_count": 59,
   "metadata": {
    "ExecuteTime": {
     "end_time": "2017-09-13T09:57:04.757319Z",
     "start_time": "2017-09-13T09:56:54.111362Z"
    }
   },
   "outputs": [
    {
     "name": "stdout",
     "output_type": "stream",
     "text": [
      "20615\n"
     ]
    }
   ],
   "source": [
    "path_to_file = R1_list\n",
    "pools_errors = list()\n",
    "total_pools_errors = list()\n",
    "for file in path_to_file:\n",
    "    pools_ascii = reader(file, start=3, stop=7, every_line_number=3)\n",
    "    pools = reader(file, start=7, stop=12, every_line_number=1)\n",
    "    pools_errors.append((number_of_suspicious_strings(pools_ascii)))\n",
    "    total_pools_errors = sum(pools_errors)\n",
    "print(total_pools_errors)"
   ]
  },
  {
   "cell_type": "markdown",
   "metadata": {
    "variables": {
     "total_pools_errors": "20615",
     "total_pools_errors/400000": "0.0515375"
    }
   },
   "source": [
    "### Conclusion\n",
    "Based on analysis of 400.000 reads with total 1 600.000 bases that belong to pool barcodes there are {{total_pools_errors}} ({{total_pools_errors/400000}} out of total number) bases in pool barcodes with an error probability > 0.001"
   ]
  },
  {
   "cell_type": "markdown",
   "metadata": {},
   "source": [
    "# Cell barcodes"
   ]
  },
  {
   "cell_type": "code",
   "execution_count": 60,
   "metadata": {
    "ExecuteTime": {
     "end_time": "2017-09-13T09:57:05.904455Z",
     "start_time": "2017-09-13T09:57:04.785936Z"
    },
    "collapsed": true
   },
   "outputs": [],
   "source": [
    "path_to_file = R1_list\n",
    "\n",
    "all_reads = list()\n",
    "for file in R1_list:\n",
    "    all_reads.extend((reader(file, start=0, stop=60, every_line_number=1)))\n",
    "\n"
   ]
  },
  {
   "cell_type": "code",
   "execution_count": 61,
   "metadata": {
    "ExecuteTime": {
     "end_time": "2017-09-13T09:57:06.086764Z",
     "start_time": "2017-09-13T09:57:05.907734Z"
    }
   },
   "outputs": [
    {
     "data": {
      "text/plain": [
       "41.5802001953125"
      ]
     },
     "execution_count": 61,
     "metadata": {},
     "output_type": "execute_result"
    }
   ],
   "source": [
    "size_of_list(all_reads)"
   ]
  },
  {
   "cell_type": "code",
   "execution_count": 62,
   "metadata": {
    "ExecuteTime": {
     "end_time": "2017-09-13T09:57:07.160838Z",
     "start_time": "2017-09-13T09:57:06.089847Z"
    }
   },
   "outputs": [
    {
     "name": "stdout",
     "output_type": "stream",
     "text": [
      "400000\n"
     ]
    }
   ],
   "source": [
    "path_to_file = R1_list\n",
    "\n",
    "pools = list()\n",
    "\n",
    "for file in R1_list:\n",
    "    pool = reader(file, start=3, stop=7, every_line_number=1)\n",
    "    pools.extend(pool)\n",
    "print(len(pools))"
   ]
  },
  {
   "cell_type": "code",
   "execution_count": 63,
   "metadata": {
    "ExecuteTime": {
     "end_time": "2017-09-13T09:57:08.257745Z",
     "start_time": "2017-09-13T09:57:07.163149Z"
    }
   },
   "outputs": [
    {
     "name": "stdout",
     "output_type": "stream",
     "text": [
      "400000\n"
     ]
    }
   ],
   "source": [
    "path_to_file = R2_list\n",
    "\n",
    "wells = list()\n",
    "\n",
    "for file in R2_list:\n",
    "    well = reader(file, start=0, stop=6, every_line_number=1)\n",
    "    wells.extend(well)\n",
    "print(len(wells))"
   ]
  },
  {
   "cell_type": "code",
   "execution_count": 64,
   "metadata": {
    "ExecuteTime": {
     "end_time": "2017-09-13T09:57:08.485574Z",
     "start_time": "2017-09-13T09:57:08.259924Z"
    },
    "collapsed": true
   },
   "outputs": [],
   "source": [
    "cell_barcodes = list()\n",
    "for a,b in zip(pools,wells):\n",
    "    cell_barcodes.append(a+b)"
   ]
  },
  {
   "cell_type": "code",
   "execution_count": 65,
   "metadata": {
    "ExecuteTime": {
     "end_time": "2017-09-13T09:57:08.543866Z",
     "start_time": "2017-09-13T09:57:08.487762Z"
    },
    "collapsed": true
   },
   "outputs": [],
   "source": [
    "from collections import Counter\n",
    "# print(Counter(cell_barcodes).most_common(1152))"
   ]
  },
  {
   "cell_type": "code",
   "execution_count": 66,
   "metadata": {
    "ExecuteTime": {
     "end_time": "2017-09-13T09:57:08.604427Z",
     "start_time": "2017-09-13T09:57:08.547720Z"
    },
    "collapsed": true
   },
   "outputs": [],
   "source": [
    "cell_barcodes_unique = set(cell_barcodes)"
   ]
  },
  {
   "cell_type": "code",
   "execution_count": 67,
   "metadata": {
    "ExecuteTime": {
     "end_time": "2017-09-13T09:57:08.625652Z",
     "start_time": "2017-09-13T09:57:08.610409Z"
    }
   },
   "outputs": [
    {
     "data": {
      "text/plain": [
       "21427"
      ]
     },
     "execution_count": 67,
     "metadata": {},
     "output_type": "execute_result"
    }
   ],
   "source": [
    "len(cell_barcodes_unique)"
   ]
  },
  {
   "cell_type": "code",
   "execution_count": 68,
   "metadata": {
    "ExecuteTime": {
     "end_time": "2017-09-13T09:57:08.646347Z",
     "start_time": "2017-09-13T09:57:08.638187Z"
    }
   },
   "outputs": [
    {
     "data": {
      "text/plain": [
       "'TTGGGACNNN'"
      ]
     },
     "execution_count": 68,
     "metadata": {},
     "output_type": "execute_result"
    }
   ],
   "source": [
    "cell_barcodes[0]"
   ]
  },
  {
   "cell_type": "code",
   "execution_count": null,
   "metadata": {
    "collapsed": true
   },
   "outputs": [],
   "source": []
  },
  {
   "cell_type": "code",
   "execution_count": null,
   "metadata": {
    "collapsed": true
   },
   "outputs": [],
   "source": []
  },
  {
   "cell_type": "code",
   "execution_count": null,
   "metadata": {
    "collapsed": true
   },
   "outputs": [],
   "source": []
  },
  {
   "cell_type": "code",
   "execution_count": 69,
   "metadata": {
    "ExecuteTime": {
     "end_time": "2017-09-13T09:57:08.659807Z",
     "start_time": "2017-09-13T09:57:08.650457Z"
    },
    "collapsed": true
   },
   "outputs": [],
   "source": [
    "import pandas as pd\n",
    "import numpy as np"
   ]
  },
  {
   "cell_type": "code",
   "execution_count": 70,
   "metadata": {
    "ExecuteTime": {
     "end_time": "2017-09-13T09:57:19.299751Z",
     "start_time": "2017-09-13T09:57:08.662616Z"
    },
    "collapsed": true
   },
   "outputs": [],
   "source": [
    "# count dna_reads in a file\n",
    "# open file\n",
    "pools = ['ACAG', 'AGTC', 'ATCA', 'CATG', 'CTAC', 'TCTA', 'TGAT', 'TTGG', 'unknown']\n",
    "R1_list = !ls /Users/dariapodorskaja/Desktop/Lab/Lane_7_NoIndex_L007_R1*\n",
    "R1_list = list(R1_list)\n",
    "path_to_file = R1_list\n",
    "dna_reads = []\n",
    "lines_count = 160000  # number of lines in 10 files\n",
    "\n",
    "list_streak = list()\n",
    "list_count = list()\n",
    "list_pool = list()\n",
    "list_corrected_pool = list()\n",
    "list_after_polyA = list()\n",
    "\n",
    "# make lists of dna reads\n",
    "for file in path_to_file:\n",
    "    with open(file, 'r') as f:   # f = open(path_to_file, 'r') # f is a variable with a file\n",
    "        for current_line in range(lines_count):\n",
    "            if current_line % 4 == 1:  # pick lines with DNA sequences\n",
    "                s = f.readline()\n",
    "                s = s.replace('\\n', '')\n",
    "                \n",
    "                pool = s[3:7]\n",
    "                list_streak.append(longest_a_streak(s))\n",
    "                list_count.append(s.count('A'))\n",
    "                list_pool.append(pool)\n",
    "                list_corrected_pool.append(pool_correction(pool, pools))\n",
    "                list_after_polyA.append(after_polyatail(s))\n",
    "            else:\n",
    "                next(f)"
   ]
  },
  {
   "cell_type": "code",
   "execution_count": 71,
   "metadata": {
    "ExecuteTime": {
     "end_time": "2017-09-13T09:57:19.798671Z",
     "start_time": "2017-09-13T09:57:19.303191Z"
    },
    "collapsed": true
   },
   "outputs": [],
   "source": [
    "# define empty pandas dataframe with column names\n",
    "df = pd.DataFrame(columns=('streakA', 'countA', 'pool_barcode', 'corrected_pool', 'well_barcode', 'cell_barcode'))\n",
    "# df.streakA = df.streakA.astype('int')\n",
    "# df.countA = df.countA.astype('int')\n",
    "# df.pool = df.pool.astype('str')\n",
    "# df.corrected_pool = df.corrected_pool.astype('str')\n",
    "\n",
    "# add to pandas dataframe\n",
    "df.streakA = list_streak\n",
    "df.countA = list_count\n",
    "df.pool_barcode = list_pool\n",
    "df.corrected_pool = list_corrected_pool\n",
    "df.well_barcode = wells\n",
    "df.cell_barcode = cell_barcodes"
   ]
  },
  {
   "cell_type": "code",
   "execution_count": 72,
   "metadata": {
    "ExecuteTime": {
     "end_time": "2017-09-13T09:57:19.883179Z",
     "start_time": "2017-09-13T09:57:19.801657Z"
    }
   },
   "outputs": [
    {
     "data": {
      "text/html": [
       "<div>\n",
       "<table border=\"1\" class=\"dataframe\">\n",
       "  <thead>\n",
       "    <tr style=\"text-align: right;\">\n",
       "      <th></th>\n",
       "      <th>streakA</th>\n",
       "      <th>countA</th>\n",
       "      <th>pool_barcode</th>\n",
       "      <th>corrected_pool</th>\n",
       "      <th>well_barcode</th>\n",
       "      <th>cell_barcode</th>\n",
       "    </tr>\n",
       "  </thead>\n",
       "  <tbody>\n",
       "    <tr>\n",
       "      <th>0</th>\n",
       "      <td>15</td>\n",
       "      <td>28</td>\n",
       "      <td>TTGG</td>\n",
       "      <td>TTGG</td>\n",
       "      <td>GACNNN</td>\n",
       "      <td>TTGGGACNNN</td>\n",
       "    </tr>\n",
       "    <tr>\n",
       "      <th>1</th>\n",
       "      <td>2</td>\n",
       "      <td>16</td>\n",
       "      <td>ATCA</td>\n",
       "      <td>ATCA</td>\n",
       "      <td>GTAACT</td>\n",
       "      <td>ATCAGTAACT</td>\n",
       "    </tr>\n",
       "    <tr>\n",
       "      <th>2</th>\n",
       "      <td>2</td>\n",
       "      <td>17</td>\n",
       "      <td>ACAG</td>\n",
       "      <td>ACAG</td>\n",
       "      <td>CGCCCC</td>\n",
       "      <td>ACAGCGCCCC</td>\n",
       "    </tr>\n",
       "    <tr>\n",
       "      <th>3</th>\n",
       "      <td>19</td>\n",
       "      <td>31</td>\n",
       "      <td>AGTC</td>\n",
       "      <td>AGTC</td>\n",
       "      <td>GATATC</td>\n",
       "      <td>AGTCGATATC</td>\n",
       "    </tr>\n",
       "    <tr>\n",
       "      <th>4</th>\n",
       "      <td>14</td>\n",
       "      <td>29</td>\n",
       "      <td>ACAG</td>\n",
       "      <td>ACAG</td>\n",
       "      <td>ACGGTC</td>\n",
       "      <td>ACAGACGGTC</td>\n",
       "    </tr>\n",
       "  </tbody>\n",
       "</table>\n",
       "</div>"
      ],
      "text/plain": [
       "   streakA  countA pool_barcode corrected_pool well_barcode cell_barcode\n",
       "0       15      28         TTGG           TTGG       GACNNN   TTGGGACNNN\n",
       "1        2      16         ATCA           ATCA       GTAACT   ATCAGTAACT\n",
       "2        2      17         ACAG           ACAG       CGCCCC   ACAGCGCCCC\n",
       "3       19      31         AGTC           AGTC       GATATC   AGTCGATATC\n",
       "4       14      29         ACAG           ACAG       ACGGTC   ACAGACGGTC"
      ]
     },
     "execution_count": 72,
     "metadata": {},
     "output_type": "execute_result"
    }
   ],
   "source": [
    "df.head()"
   ]
  },
  {
   "cell_type": "code",
   "execution_count": 73,
   "metadata": {
    "ExecuteTime": {
     "end_time": "2017-09-13T09:57:19.890244Z",
     "start_time": "2017-09-13T09:57:19.885686Z"
    },
    "collapsed": true
   },
   "outputs": [],
   "source": [
    "df = df.head(n=200)"
   ]
  },
  {
   "cell_type": "code",
   "execution_count": 74,
   "metadata": {
    "ExecuteTime": {
     "end_time": "2017-09-13T09:57:19.950815Z",
     "start_time": "2017-09-13T09:57:19.892555Z"
    }
   },
   "outputs": [
    {
     "data": {
      "text/html": [
       "<div>\n",
       "<table border=\"1\" class=\"dataframe\">\n",
       "  <thead>\n",
       "    <tr style=\"text-align: right;\">\n",
       "      <th></th>\n",
       "      <th>streakA</th>\n",
       "      <th>countA</th>\n",
       "      <th>pool_barcode</th>\n",
       "      <th>corrected_pool</th>\n",
       "      <th>well_barcode</th>\n",
       "      <th>cell_barcode</th>\n",
       "    </tr>\n",
       "  </thead>\n",
       "  <tbody>\n",
       "    <tr>\n",
       "      <th>0</th>\n",
       "      <td>15</td>\n",
       "      <td>28</td>\n",
       "      <td>TTGG</td>\n",
       "      <td>TTGG</td>\n",
       "      <td>GACNNN</td>\n",
       "      <td>TTGGGACNNN</td>\n",
       "    </tr>\n",
       "    <tr>\n",
       "      <th>1</th>\n",
       "      <td>2</td>\n",
       "      <td>16</td>\n",
       "      <td>ATCA</td>\n",
       "      <td>ATCA</td>\n",
       "      <td>GTAACT</td>\n",
       "      <td>ATCAGTAACT</td>\n",
       "    </tr>\n",
       "    <tr>\n",
       "      <th>2</th>\n",
       "      <td>2</td>\n",
       "      <td>17</td>\n",
       "      <td>ACAG</td>\n",
       "      <td>ACAG</td>\n",
       "      <td>CGCCCC</td>\n",
       "      <td>ACAGCGCCCC</td>\n",
       "    </tr>\n",
       "    <tr>\n",
       "      <th>3</th>\n",
       "      <td>19</td>\n",
       "      <td>31</td>\n",
       "      <td>AGTC</td>\n",
       "      <td>AGTC</td>\n",
       "      <td>GATATC</td>\n",
       "      <td>AGTCGATATC</td>\n",
       "    </tr>\n",
       "    <tr>\n",
       "      <th>4</th>\n",
       "      <td>14</td>\n",
       "      <td>29</td>\n",
       "      <td>ACAG</td>\n",
       "      <td>ACAG</td>\n",
       "      <td>ACGGTC</td>\n",
       "      <td>ACAGACGGTC</td>\n",
       "    </tr>\n",
       "    <tr>\n",
       "      <th>5</th>\n",
       "      <td>13</td>\n",
       "      <td>23</td>\n",
       "      <td>AGTC</td>\n",
       "      <td>AGTC</td>\n",
       "      <td>CAACTC</td>\n",
       "      <td>AGTCCAACTC</td>\n",
       "    </tr>\n",
       "    <tr>\n",
       "      <th>6</th>\n",
       "      <td>17</td>\n",
       "      <td>29</td>\n",
       "      <td>AGTC</td>\n",
       "      <td>AGTC</td>\n",
       "      <td>AGGATC</td>\n",
       "      <td>AGTCAGGATC</td>\n",
       "    </tr>\n",
       "    <tr>\n",
       "      <th>7</th>\n",
       "      <td>4</td>\n",
       "      <td>12</td>\n",
       "      <td>CTAC</td>\n",
       "      <td>CTAC</td>\n",
       "      <td>TGCTGA</td>\n",
       "      <td>CTACTGCTGA</td>\n",
       "    </tr>\n",
       "    <tr>\n",
       "      <th>8</th>\n",
       "      <td>16</td>\n",
       "      <td>31</td>\n",
       "      <td>ATCA</td>\n",
       "      <td>ATCA</td>\n",
       "      <td>CTTGGT</td>\n",
       "      <td>ATCACTTGGT</td>\n",
       "    </tr>\n",
       "    <tr>\n",
       "      <th>9</th>\n",
       "      <td>2</td>\n",
       "      <td>18</td>\n",
       "      <td>CTAC</td>\n",
       "      <td>CTAC</td>\n",
       "      <td>GGGGGT</td>\n",
       "      <td>CTACGGGGGT</td>\n",
       "    </tr>\n",
       "    <tr>\n",
       "      <th>10</th>\n",
       "      <td>4</td>\n",
       "      <td>19</td>\n",
       "      <td>ATCA</td>\n",
       "      <td>ATCA</td>\n",
       "      <td>GCATTG</td>\n",
       "      <td>ATCAGCATTG</td>\n",
       "    </tr>\n",
       "    <tr>\n",
       "      <th>11</th>\n",
       "      <td>20</td>\n",
       "      <td>28</td>\n",
       "      <td>AGTC</td>\n",
       "      <td>AGTC</td>\n",
       "      <td>GCCTAG</td>\n",
       "      <td>AGTCGCCTAG</td>\n",
       "    </tr>\n",
       "    <tr>\n",
       "      <th>12</th>\n",
       "      <td>21</td>\n",
       "      <td>31</td>\n",
       "      <td>ACAG</td>\n",
       "      <td>ACAG</td>\n",
       "      <td>TAAGCA</td>\n",
       "      <td>ACAGTAAGCA</td>\n",
       "    </tr>\n",
       "    <tr>\n",
       "      <th>13</th>\n",
       "      <td>2</td>\n",
       "      <td>16</td>\n",
       "      <td>ACAG</td>\n",
       "      <td>ACAG</td>\n",
       "      <td>AGTTGC</td>\n",
       "      <td>ACAGAGTTGC</td>\n",
       "    </tr>\n",
       "    <tr>\n",
       "      <th>14</th>\n",
       "      <td>13</td>\n",
       "      <td>27</td>\n",
       "      <td>CTAC</td>\n",
       "      <td>CTAC</td>\n",
       "      <td>GACCGT</td>\n",
       "      <td>CTACGACCGT</td>\n",
       "    </tr>\n",
       "    <tr>\n",
       "      <th>15</th>\n",
       "      <td>10</td>\n",
       "      <td>26</td>\n",
       "      <td>AGTC</td>\n",
       "      <td>AGTC</td>\n",
       "      <td>CGAGAT</td>\n",
       "      <td>AGTCCGAGAT</td>\n",
       "    </tr>\n",
       "    <tr>\n",
       "      <th>16</th>\n",
       "      <td>15</td>\n",
       "      <td>28</td>\n",
       "      <td>CATG</td>\n",
       "      <td>CATG</td>\n",
       "      <td>TTCAGG</td>\n",
       "      <td>CATGTTCAGG</td>\n",
       "    </tr>\n",
       "    <tr>\n",
       "      <th>17</th>\n",
       "      <td>17</td>\n",
       "      <td>30</td>\n",
       "      <td>CTAC</td>\n",
       "      <td>CTAC</td>\n",
       "      <td>TAGAGC</td>\n",
       "      <td>CTACTAGAGC</td>\n",
       "    </tr>\n",
       "    <tr>\n",
       "      <th>18</th>\n",
       "      <td>18</td>\n",
       "      <td>32</td>\n",
       "      <td>ACAG</td>\n",
       "      <td>ACAG</td>\n",
       "      <td>TTGAAT</td>\n",
       "      <td>ACAGTTGAAT</td>\n",
       "    </tr>\n",
       "    <tr>\n",
       "      <th>19</th>\n",
       "      <td>2</td>\n",
       "      <td>15</td>\n",
       "      <td>CTAC</td>\n",
       "      <td>CTAC</td>\n",
       "      <td>CCGTAA</td>\n",
       "      <td>CTACCCGTAA</td>\n",
       "    </tr>\n",
       "    <tr>\n",
       "      <th>20</th>\n",
       "      <td>15</td>\n",
       "      <td>27</td>\n",
       "      <td>CATG</td>\n",
       "      <td>CATG</td>\n",
       "      <td>CCAGCA</td>\n",
       "      <td>CATGCCAGCA</td>\n",
       "    </tr>\n",
       "    <tr>\n",
       "      <th>21</th>\n",
       "      <td>16</td>\n",
       "      <td>27</td>\n",
       "      <td>TTGG</td>\n",
       "      <td>TTGG</td>\n",
       "      <td>AGGATC</td>\n",
       "      <td>TTGGAGGATC</td>\n",
       "    </tr>\n",
       "    <tr>\n",
       "      <th>22</th>\n",
       "      <td>2</td>\n",
       "      <td>15</td>\n",
       "      <td>ACAG</td>\n",
       "      <td>ACAG</td>\n",
       "      <td>CACAGC</td>\n",
       "      <td>ACAGCACAGC</td>\n",
       "    </tr>\n",
       "    <tr>\n",
       "      <th>23</th>\n",
       "      <td>2</td>\n",
       "      <td>16</td>\n",
       "      <td>CATG</td>\n",
       "      <td>CATG</td>\n",
       "      <td>AGCGCT</td>\n",
       "      <td>CATGAGCGCT</td>\n",
       "    </tr>\n",
       "    <tr>\n",
       "      <th>24</th>\n",
       "      <td>13</td>\n",
       "      <td>26</td>\n",
       "      <td>ACAG</td>\n",
       "      <td>ACAG</td>\n",
       "      <td>GGTCCA</td>\n",
       "      <td>ACAGGGTCCA</td>\n",
       "    </tr>\n",
       "    <tr>\n",
       "      <th>25</th>\n",
       "      <td>9</td>\n",
       "      <td>23</td>\n",
       "      <td>CTAC</td>\n",
       "      <td>CTAC</td>\n",
       "      <td>AACGCA</td>\n",
       "      <td>CTACAACGCA</td>\n",
       "    </tr>\n",
       "    <tr>\n",
       "      <th>26</th>\n",
       "      <td>15</td>\n",
       "      <td>28</td>\n",
       "      <td>ACAG</td>\n",
       "      <td>ACAG</td>\n",
       "      <td>CCAGTT</td>\n",
       "      <td>ACAGCCAGTT</td>\n",
       "    </tr>\n",
       "    <tr>\n",
       "      <th>27</th>\n",
       "      <td>19</td>\n",
       "      <td>30</td>\n",
       "      <td>AGTC</td>\n",
       "      <td>AGTC</td>\n",
       "      <td>AGCAAT</td>\n",
       "      <td>AGTCAGCAAT</td>\n",
       "    </tr>\n",
       "    <tr>\n",
       "      <th>28</th>\n",
       "      <td>14</td>\n",
       "      <td>25</td>\n",
       "      <td>CTAC</td>\n",
       "      <td>CTAC</td>\n",
       "      <td>AACGCA</td>\n",
       "      <td>CTACAACGCA</td>\n",
       "    </tr>\n",
       "    <tr>\n",
       "      <th>29</th>\n",
       "      <td>15</td>\n",
       "      <td>28</td>\n",
       "      <td>ACAG</td>\n",
       "      <td>ACAG</td>\n",
       "      <td>CAGCAA</td>\n",
       "      <td>ACAGCAGCAA</td>\n",
       "    </tr>\n",
       "    <tr>\n",
       "      <th>...</th>\n",
       "      <td>...</td>\n",
       "      <td>...</td>\n",
       "      <td>...</td>\n",
       "      <td>...</td>\n",
       "      <td>...</td>\n",
       "      <td>...</td>\n",
       "    </tr>\n",
       "    <tr>\n",
       "      <th>170</th>\n",
       "      <td>3</td>\n",
       "      <td>18</td>\n",
       "      <td>ATCA</td>\n",
       "      <td>ATCA</td>\n",
       "      <td>GGTCCA</td>\n",
       "      <td>ATCAGGTCCA</td>\n",
       "    </tr>\n",
       "    <tr>\n",
       "      <th>171</th>\n",
       "      <td>14</td>\n",
       "      <td>34</td>\n",
       "      <td>ACAG</td>\n",
       "      <td>ACAG</td>\n",
       "      <td>GAGTCT</td>\n",
       "      <td>ACAGGAGTCT</td>\n",
       "    </tr>\n",
       "    <tr>\n",
       "      <th>172</th>\n",
       "      <td>2</td>\n",
       "      <td>15</td>\n",
       "      <td>TTGG</td>\n",
       "      <td>TTGG</td>\n",
       "      <td>GTAAAG</td>\n",
       "      <td>TTGGGTAAAG</td>\n",
       "    </tr>\n",
       "    <tr>\n",
       "      <th>173</th>\n",
       "      <td>22</td>\n",
       "      <td>35</td>\n",
       "      <td>CATG</td>\n",
       "      <td>CATG</td>\n",
       "      <td>TCAGCA</td>\n",
       "      <td>CATGTCAGCA</td>\n",
       "    </tr>\n",
       "    <tr>\n",
       "      <th>174</th>\n",
       "      <td>20</td>\n",
       "      <td>32</td>\n",
       "      <td>ATCA</td>\n",
       "      <td>ATCA</td>\n",
       "      <td>ATTGTC</td>\n",
       "      <td>ATCAATTGTC</td>\n",
       "    </tr>\n",
       "    <tr>\n",
       "      <th>175</th>\n",
       "      <td>3</td>\n",
       "      <td>17</td>\n",
       "      <td>CATG</td>\n",
       "      <td>CATG</td>\n",
       "      <td>GCACAT</td>\n",
       "      <td>CATGGCACAT</td>\n",
       "    </tr>\n",
       "    <tr>\n",
       "      <th>176</th>\n",
       "      <td>16</td>\n",
       "      <td>29</td>\n",
       "      <td>TTGG</td>\n",
       "      <td>TTGG</td>\n",
       "      <td>ACGATG</td>\n",
       "      <td>TTGGACGATG</td>\n",
       "    </tr>\n",
       "    <tr>\n",
       "      <th>177</th>\n",
       "      <td>2</td>\n",
       "      <td>17</td>\n",
       "      <td>CATG</td>\n",
       "      <td>CATG</td>\n",
       "      <td>TCGGCA</td>\n",
       "      <td>CATGTCGGCA</td>\n",
       "    </tr>\n",
       "    <tr>\n",
       "      <th>178</th>\n",
       "      <td>3</td>\n",
       "      <td>18</td>\n",
       "      <td>ATCA</td>\n",
       "      <td>ATCA</td>\n",
       "      <td>GCGATA</td>\n",
       "      <td>ATCAGCGATA</td>\n",
       "    </tr>\n",
       "    <tr>\n",
       "      <th>179</th>\n",
       "      <td>21</td>\n",
       "      <td>35</td>\n",
       "      <td>ATCA</td>\n",
       "      <td>ATCA</td>\n",
       "      <td>GTCCAC</td>\n",
       "      <td>ATCAGTCCAC</td>\n",
       "    </tr>\n",
       "    <tr>\n",
       "      <th>180</th>\n",
       "      <td>24</td>\n",
       "      <td>35</td>\n",
       "      <td>CTAC</td>\n",
       "      <td>CTAC</td>\n",
       "      <td>TCAGTC</td>\n",
       "      <td>CTACTCAGTC</td>\n",
       "    </tr>\n",
       "    <tr>\n",
       "      <th>181</th>\n",
       "      <td>3</td>\n",
       "      <td>16</td>\n",
       "      <td>TCTA</td>\n",
       "      <td>TCTA</td>\n",
       "      <td>CGTAGA</td>\n",
       "      <td>TCTACGTAGA</td>\n",
       "    </tr>\n",
       "    <tr>\n",
       "      <th>182</th>\n",
       "      <td>12</td>\n",
       "      <td>26</td>\n",
       "      <td>TTGG</td>\n",
       "      <td>TTGG</td>\n",
       "      <td>GCATTG</td>\n",
       "      <td>TTGGGCATTG</td>\n",
       "    </tr>\n",
       "    <tr>\n",
       "      <th>183</th>\n",
       "      <td>6</td>\n",
       "      <td>24</td>\n",
       "      <td>ATCA</td>\n",
       "      <td>ATCA</td>\n",
       "      <td>CATGCT</td>\n",
       "      <td>ATCACATGCT</td>\n",
       "    </tr>\n",
       "    <tr>\n",
       "      <th>184</th>\n",
       "      <td>15</td>\n",
       "      <td>35</td>\n",
       "      <td>CTAC</td>\n",
       "      <td>CTAC</td>\n",
       "      <td>CTGNNN</td>\n",
       "      <td>CTACCTGNNN</td>\n",
       "    </tr>\n",
       "    <tr>\n",
       "      <th>185</th>\n",
       "      <td>15</td>\n",
       "      <td>27</td>\n",
       "      <td>TTGG</td>\n",
       "      <td>TTGG</td>\n",
       "      <td>CTGNNN</td>\n",
       "      <td>TTGGCTGNNN</td>\n",
       "    </tr>\n",
       "    <tr>\n",
       "      <th>186</th>\n",
       "      <td>15</td>\n",
       "      <td>30</td>\n",
       "      <td>ATCA</td>\n",
       "      <td>ATCA</td>\n",
       "      <td>TCACGT</td>\n",
       "      <td>ATCATCACGT</td>\n",
       "    </tr>\n",
       "    <tr>\n",
       "      <th>187</th>\n",
       "      <td>2</td>\n",
       "      <td>17</td>\n",
       "      <td>CTAC</td>\n",
       "      <td>CTAC</td>\n",
       "      <td>CTTCTA</td>\n",
       "      <td>CTACCTTCTA</td>\n",
       "    </tr>\n",
       "    <tr>\n",
       "      <th>188</th>\n",
       "      <td>12</td>\n",
       "      <td>30</td>\n",
       "      <td>AGTC</td>\n",
       "      <td>AGTC</td>\n",
       "      <td>AGTCAG</td>\n",
       "      <td>AGTCAGTCAG</td>\n",
       "    </tr>\n",
       "    <tr>\n",
       "      <th>189</th>\n",
       "      <td>20</td>\n",
       "      <td>30</td>\n",
       "      <td>CATG</td>\n",
       "      <td>CATG</td>\n",
       "      <td>GGTCCA</td>\n",
       "      <td>CATGGGTCCA</td>\n",
       "    </tr>\n",
       "    <tr>\n",
       "      <th>190</th>\n",
       "      <td>21</td>\n",
       "      <td>35</td>\n",
       "      <td>TTGG</td>\n",
       "      <td>TTGG</td>\n",
       "      <td>CTGTGG</td>\n",
       "      <td>TTGGCTGTGG</td>\n",
       "    </tr>\n",
       "    <tr>\n",
       "      <th>191</th>\n",
       "      <td>14</td>\n",
       "      <td>29</td>\n",
       "      <td>TTGG</td>\n",
       "      <td>TTGG</td>\n",
       "      <td>GTCTGA</td>\n",
       "      <td>TTGGGTCTGA</td>\n",
       "    </tr>\n",
       "    <tr>\n",
       "      <th>192</th>\n",
       "      <td>13</td>\n",
       "      <td>32</td>\n",
       "      <td>ACAG</td>\n",
       "      <td>ACAG</td>\n",
       "      <td>GCGTCA</td>\n",
       "      <td>ACAGGCGTCA</td>\n",
       "    </tr>\n",
       "    <tr>\n",
       "      <th>193</th>\n",
       "      <td>21</td>\n",
       "      <td>31</td>\n",
       "      <td>ACAG</td>\n",
       "      <td>ACAG</td>\n",
       "      <td>AAGACA</td>\n",
       "      <td>ACAGAAGACA</td>\n",
       "    </tr>\n",
       "    <tr>\n",
       "      <th>194</th>\n",
       "      <td>16</td>\n",
       "      <td>33</td>\n",
       "      <td>ATCA</td>\n",
       "      <td>ATCA</td>\n",
       "      <td>AGTTGC</td>\n",
       "      <td>ATCAAGTTGC</td>\n",
       "    </tr>\n",
       "    <tr>\n",
       "      <th>195</th>\n",
       "      <td>15</td>\n",
       "      <td>27</td>\n",
       "      <td>AGTC</td>\n",
       "      <td>AGTC</td>\n",
       "      <td>GCTCTA</td>\n",
       "      <td>AGTCGCTCTA</td>\n",
       "    </tr>\n",
       "    <tr>\n",
       "      <th>196</th>\n",
       "      <td>4</td>\n",
       "      <td>28</td>\n",
       "      <td>CTAC</td>\n",
       "      <td>CTAC</td>\n",
       "      <td>TGTAAT</td>\n",
       "      <td>CTACTGTAAT</td>\n",
       "    </tr>\n",
       "    <tr>\n",
       "      <th>197</th>\n",
       "      <td>16</td>\n",
       "      <td>33</td>\n",
       "      <td>AGTC</td>\n",
       "      <td>AGTC</td>\n",
       "      <td>TGTCGG</td>\n",
       "      <td>AGTCTGTCGG</td>\n",
       "    </tr>\n",
       "    <tr>\n",
       "      <th>198</th>\n",
       "      <td>8</td>\n",
       "      <td>23</td>\n",
       "      <td>ATCA</td>\n",
       "      <td>ATCA</td>\n",
       "      <td>CATAGC</td>\n",
       "      <td>ATCACATAGC</td>\n",
       "    </tr>\n",
       "    <tr>\n",
       "      <th>199</th>\n",
       "      <td>20</td>\n",
       "      <td>35</td>\n",
       "      <td>ACAG</td>\n",
       "      <td>ACAG</td>\n",
       "      <td>TTGAGC</td>\n",
       "      <td>ACAGTTGAGC</td>\n",
       "    </tr>\n",
       "  </tbody>\n",
       "</table>\n",
       "<p>200 rows × 6 columns</p>\n",
       "</div>"
      ],
      "text/plain": [
       "     streakA  countA pool_barcode corrected_pool well_barcode cell_barcode\n",
       "0         15      28         TTGG           TTGG       GACNNN   TTGGGACNNN\n",
       "1          2      16         ATCA           ATCA       GTAACT   ATCAGTAACT\n",
       "2          2      17         ACAG           ACAG       CGCCCC   ACAGCGCCCC\n",
       "3         19      31         AGTC           AGTC       GATATC   AGTCGATATC\n",
       "4         14      29         ACAG           ACAG       ACGGTC   ACAGACGGTC\n",
       "5         13      23         AGTC           AGTC       CAACTC   AGTCCAACTC\n",
       "6         17      29         AGTC           AGTC       AGGATC   AGTCAGGATC\n",
       "7          4      12         CTAC           CTAC       TGCTGA   CTACTGCTGA\n",
       "8         16      31         ATCA           ATCA       CTTGGT   ATCACTTGGT\n",
       "9          2      18         CTAC           CTAC       GGGGGT   CTACGGGGGT\n",
       "10         4      19         ATCA           ATCA       GCATTG   ATCAGCATTG\n",
       "11        20      28         AGTC           AGTC       GCCTAG   AGTCGCCTAG\n",
       "12        21      31         ACAG           ACAG       TAAGCA   ACAGTAAGCA\n",
       "13         2      16         ACAG           ACAG       AGTTGC   ACAGAGTTGC\n",
       "14        13      27         CTAC           CTAC       GACCGT   CTACGACCGT\n",
       "15        10      26         AGTC           AGTC       CGAGAT   AGTCCGAGAT\n",
       "16        15      28         CATG           CATG       TTCAGG   CATGTTCAGG\n",
       "17        17      30         CTAC           CTAC       TAGAGC   CTACTAGAGC\n",
       "18        18      32         ACAG           ACAG       TTGAAT   ACAGTTGAAT\n",
       "19         2      15         CTAC           CTAC       CCGTAA   CTACCCGTAA\n",
       "20        15      27         CATG           CATG       CCAGCA   CATGCCAGCA\n",
       "21        16      27         TTGG           TTGG       AGGATC   TTGGAGGATC\n",
       "22         2      15         ACAG           ACAG       CACAGC   ACAGCACAGC\n",
       "23         2      16         CATG           CATG       AGCGCT   CATGAGCGCT\n",
       "24        13      26         ACAG           ACAG       GGTCCA   ACAGGGTCCA\n",
       "25         9      23         CTAC           CTAC       AACGCA   CTACAACGCA\n",
       "26        15      28         ACAG           ACAG       CCAGTT   ACAGCCAGTT\n",
       "27        19      30         AGTC           AGTC       AGCAAT   AGTCAGCAAT\n",
       "28        14      25         CTAC           CTAC       AACGCA   CTACAACGCA\n",
       "29        15      28         ACAG           ACAG       CAGCAA   ACAGCAGCAA\n",
       "..       ...     ...          ...            ...          ...          ...\n",
       "170        3      18         ATCA           ATCA       GGTCCA   ATCAGGTCCA\n",
       "171       14      34         ACAG           ACAG       GAGTCT   ACAGGAGTCT\n",
       "172        2      15         TTGG           TTGG       GTAAAG   TTGGGTAAAG\n",
       "173       22      35         CATG           CATG       TCAGCA   CATGTCAGCA\n",
       "174       20      32         ATCA           ATCA       ATTGTC   ATCAATTGTC\n",
       "175        3      17         CATG           CATG       GCACAT   CATGGCACAT\n",
       "176       16      29         TTGG           TTGG       ACGATG   TTGGACGATG\n",
       "177        2      17         CATG           CATG       TCGGCA   CATGTCGGCA\n",
       "178        3      18         ATCA           ATCA       GCGATA   ATCAGCGATA\n",
       "179       21      35         ATCA           ATCA       GTCCAC   ATCAGTCCAC\n",
       "180       24      35         CTAC           CTAC       TCAGTC   CTACTCAGTC\n",
       "181        3      16         TCTA           TCTA       CGTAGA   TCTACGTAGA\n",
       "182       12      26         TTGG           TTGG       GCATTG   TTGGGCATTG\n",
       "183        6      24         ATCA           ATCA       CATGCT   ATCACATGCT\n",
       "184       15      35         CTAC           CTAC       CTGNNN   CTACCTGNNN\n",
       "185       15      27         TTGG           TTGG       CTGNNN   TTGGCTGNNN\n",
       "186       15      30         ATCA           ATCA       TCACGT   ATCATCACGT\n",
       "187        2      17         CTAC           CTAC       CTTCTA   CTACCTTCTA\n",
       "188       12      30         AGTC           AGTC       AGTCAG   AGTCAGTCAG\n",
       "189       20      30         CATG           CATG       GGTCCA   CATGGGTCCA\n",
       "190       21      35         TTGG           TTGG       CTGTGG   TTGGCTGTGG\n",
       "191       14      29         TTGG           TTGG       GTCTGA   TTGGGTCTGA\n",
       "192       13      32         ACAG           ACAG       GCGTCA   ACAGGCGTCA\n",
       "193       21      31         ACAG           ACAG       AAGACA   ACAGAAGACA\n",
       "194       16      33         ATCA           ATCA       AGTTGC   ATCAAGTTGC\n",
       "195       15      27         AGTC           AGTC       GCTCTA   AGTCGCTCTA\n",
       "196        4      28         CTAC           CTAC       TGTAAT   CTACTGTAAT\n",
       "197       16      33         AGTC           AGTC       TGTCGG   AGTCTGTCGG\n",
       "198        8      23         ATCA           ATCA       CATAGC   ATCACATAGC\n",
       "199       20      35         ACAG           ACAG       TTGAGC   ACAGTTGAGC\n",
       "\n",
       "[200 rows x 6 columns]"
      ]
     },
     "execution_count": 74,
     "metadata": {},
     "output_type": "execute_result"
    }
   ],
   "source": [
    "df"
   ]
  },
  {
   "cell_type": "code",
   "execution_count": 75,
   "metadata": {
    "ExecuteTime": {
     "end_time": "2017-09-13T09:57:20.252419Z",
     "start_time": "2017-09-13T09:57:19.953175Z"
    }
   },
   "outputs": [
    {
     "data": {
      "text/html": [
       "<div>\n",
       "<table border=\"1\" class=\"dataframe\">\n",
       "  <thead>\n",
       "    <tr style=\"text-align: right;\">\n",
       "      <th></th>\n",
       "      <th>pool_barcode</th>\n",
       "      <th>well_barcode</th>\n",
       "    </tr>\n",
       "  </thead>\n",
       "  <tbody>\n",
       "    <tr>\n",
       "      <th>TTGGGACNNN</th>\n",
       "      <td>TTGG</td>\n",
       "      <td>GACNNN</td>\n",
       "    </tr>\n",
       "    <tr>\n",
       "      <th>ATCAGTAACT</th>\n",
       "      <td>ATCA</td>\n",
       "      <td>GTAACT</td>\n",
       "    </tr>\n",
       "    <tr>\n",
       "      <th>ACAGCGCCCC</th>\n",
       "      <td>ACAG</td>\n",
       "      <td>CGCCCC</td>\n",
       "    </tr>\n",
       "    <tr>\n",
       "      <th>AGTCGATATC</th>\n",
       "      <td>AGTC</td>\n",
       "      <td>GATATC</td>\n",
       "    </tr>\n",
       "    <tr>\n",
       "      <th>ACAGACGGTC</th>\n",
       "      <td>ACAG</td>\n",
       "      <td>ACGGTC</td>\n",
       "    </tr>\n",
       "  </tbody>\n",
       "</table>\n",
       "</div>"
      ],
      "text/plain": [
       "           pool_barcode well_barcode\n",
       "TTGGGACNNN         TTGG       GACNNN\n",
       "ATCAGTAACT         ATCA       GTAACT\n",
       "ACAGCGCCCC         ACAG       CGCCCC\n",
       "AGTCGATATC         AGTC       GATATC\n",
       "ACAGACGGTC         ACAG       ACGGTC"
      ]
     },
     "execution_count": 75,
     "metadata": {},
     "output_type": "execute_result"
    }
   ],
   "source": [
    "df = pd.DataFrame(index=cell_barcodes, columns=('pool_barcode', 'well_barcode', ))\n",
    "df.pool_barcode = list_pool\n",
    "df.well_barcode = wells\n",
    "df.head()\n"
   ]
  },
  {
   "cell_type": "code",
   "execution_count": null,
   "metadata": {
    "collapsed": true
   },
   "outputs": [],
   "source": []
  },
  {
   "cell_type": "code",
   "execution_count": 76,
   "metadata": {
    "ExecuteTime": {
     "end_time": "2017-09-13T09:57:20.258630Z",
     "start_time": "2017-09-13T09:57:20.255040Z"
    },
    "collapsed": true
   },
   "outputs": [],
   "source": [
    "# for pool,p in df.groupby(by=\"corrected_pool\"):\n",
    "#     p.streakA.plot(kind='bar')\n",
    "    \n",
    "# #plt.legend()\n",
    "# p.streakA.plot(kind='bar')"
   ]
  },
  {
   "cell_type": "code",
   "execution_count": 77,
   "metadata": {
    "ExecuteTime": {
     "end_time": "2017-09-13T09:57:20.266196Z",
     "start_time": "2017-09-13T09:57:20.261562Z"
    },
    "collapsed": true
   },
   "outputs": [],
   "source": [
    "# %matplotlib inline\n",
    "# df.streakA.hist(by=df.corrected_pool)"
   ]
  },
  {
   "cell_type": "code",
   "execution_count": 78,
   "metadata": {
    "ExecuteTime": {
     "end_time": "2017-09-13T09:57:20.276892Z",
     "start_time": "2017-09-13T09:57:20.272279Z"
    },
    "collapsed": true
   },
   "outputs": [],
   "source": [
    "# df1 = df.loc[:,['streakA', 'corrected_pool']]\n",
    "# fig, ax = plt.subplots()\n",
    "\n",
    "# for pool,p in df1.groupby(by=\"corrected_pool\"):\n",
    "#     p.plot(label=pool, alpha=.75, ax=ax)\n",
    "\n",
    "# ax.legend()"
   ]
  },
  {
   "cell_type": "code",
   "execution_count": 79,
   "metadata": {
    "ExecuteTime": {
     "end_time": "2017-09-13T09:57:20.287459Z",
     "start_time": "2017-09-13T09:57:20.282268Z"
    },
    "collapsed": true
   },
   "outputs": [],
   "source": [
    "# df.head()"
   ]
  },
  {
   "cell_type": "code",
   "execution_count": null,
   "metadata": {
    "collapsed": true
   },
   "outputs": [],
   "source": []
  },
  {
   "cell_type": "code",
   "execution_count": null,
   "metadata": {
    "collapsed": true
   },
   "outputs": [],
   "source": []
  },
  {
   "cell_type": "code",
   "execution_count": null,
   "metadata": {
    "collapsed": true
   },
   "outputs": [],
   "source": []
  },
  {
   "cell_type": "code",
   "execution_count": null,
   "metadata": {
    "collapsed": true
   },
   "outputs": [],
   "source": []
  },
  {
   "cell_type": "code",
   "execution_count": null,
   "metadata": {
    "collapsed": true
   },
   "outputs": [],
   "source": []
  },
  {
   "cell_type": "code",
   "execution_count": null,
   "metadata": {
    "collapsed": true
   },
   "outputs": [],
   "source": []
  },
  {
   "cell_type": "code",
   "execution_count": null,
   "metadata": {
    "collapsed": true
   },
   "outputs": [],
   "source": []
  },
  {
   "cell_type": "code",
   "execution_count": null,
   "metadata": {
    "collapsed": true
   },
   "outputs": [],
   "source": []
  },
  {
   "cell_type": "code",
   "execution_count": null,
   "metadata": {
    "collapsed": true
   },
   "outputs": [],
   "source": []
  },
  {
   "cell_type": "code",
   "execution_count": null,
   "metadata": {
    "collapsed": true
   },
   "outputs": [],
   "source": []
  },
  {
   "cell_type": "code",
   "execution_count": null,
   "metadata": {
    "collapsed": true
   },
   "outputs": [],
   "source": []
  },
  {
   "cell_type": "code",
   "execution_count": null,
   "metadata": {
    "collapsed": true
   },
   "outputs": [],
   "source": []
  },
  {
   "cell_type": "code",
   "execution_count": 80,
   "metadata": {
    "ExecuteTime": {
     "end_time": "2017-09-13T09:57:20.305218Z",
     "start_time": "2017-09-13T09:57:20.300167Z"
    },
    "collapsed": true
   },
   "outputs": [],
   "source": [
    "\n",
    "# fig, ax = plt.subplots(10, figsize=(20,30))\n",
    "\n",
    "# for i, (pool,p) in enumerate(df.groupby(by=\"corrected_pool\")):\n",
    "#     ax[i].hist(p.streakA, label=pool)\n",
    "# plt.legend();"
   ]
  },
  {
   "cell_type": "code",
   "execution_count": null,
   "metadata": {
    "collapsed": true
   },
   "outputs": [],
   "source": []
  }
 ],
 "metadata": {
  "kernelspec": {
   "display_name": "Python 3",
   "language": "python",
   "name": "python3"
  },
  "language_info": {
   "codemirror_mode": {
    "name": "ipython",
    "version": 3
   },
   "file_extension": ".py",
   "mimetype": "text/x-python",
   "name": "python",
   "nbconvert_exporter": "python",
   "pygments_lexer": "ipython3",
   "version": "3.6.0"
  },
  "toc": {
   "collapse_to_match_collapsible_headings": false,
   "colors": {
    "hover_highlight": "#DAA520",
    "navigate_num": "#000000",
    "navigate_text": "#333333",
    "running_highlight": "#FF0000",
    "selected_highlight": "#FFD700",
    "sidebar_border": "#EEEEEE",
    "wrapper_background": "#FFFFFF"
   },
   "moveMenuLeft": true,
   "nav_menu": {
    "height": "138px",
    "width": "252px"
   },
   "navigate_menu": true,
   "number_sections": true,
   "sideBar": true,
   "skip_h1_title": false,
   "threshold": 4,
   "toc_cell": true,
   "toc_section_display": "block",
   "toc_window_display": false,
   "widenNotebook": false
  },
  "varInspector": {
   "cols": {
    "lenName": 16,
    "lenType": 16,
    "lenVar": 40
   },
   "kernels_config": {
    "python": {
     "delete_cmd_postfix": "",
     "delete_cmd_prefix": "del ",
     "library": "var_list.py",
     "varRefreshCmd": "print(var_dic_list())"
    },
    "r": {
     "delete_cmd_postfix": ") ",
     "delete_cmd_prefix": "rm(",
     "library": "var_list.r",
     "varRefreshCmd": "cat(var_dic_list()) "
    }
   },
   "oldHeight": 363,
   "position": {
    "height": "302px",
    "left": "1118px",
    "right": "20px",
    "top": "106px",
    "width": "307px"
   },
   "types_to_exclude": [
    "module",
    "function",
    "builtin_function_or_method",
    "instance",
    "_Feature"
   ],
   "varInspector_section_display": "block",
   "window_display": false
  }
 },
 "nbformat": 4,
 "nbformat_minor": 2
}
