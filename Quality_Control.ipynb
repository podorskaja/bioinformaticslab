{
 "cells": [
  {
   "cell_type": "markdown",
   "metadata": {
    "toc": "true"
   },
   "source": [
    " # Table of Contents\n",
    "<div class=\"toc\" style=\"margin-top: 1em;\"><ul class=\"toc-item\" id=\"toc-level0\"><li><span><a href=\"http://localhost:8888/notebooks/bioinformaticslab/Quality_Control.ipynb#Find-the-longest-streak-of-'A'-Nucleotide\" data-toc-modified-id=\"Find-the-longest-streak-of-'A'-Nucleotide-1\"><span class=\"toc-item-num\">1&nbsp;&nbsp;</span>Find the longest streak of 'A' Nucleotide</a></span><ul class=\"toc-item\"><li><span><a href=\"http://localhost:8888/notebooks/bioinformaticslab/Quality_Control.ipynb#Conclusion\" data-toc-modified-id=\"Conclusion-1.1\"><span class=\"toc-item-num\">1.1&nbsp;&nbsp;</span>Conclusion</a></span></li></ul></li><li><span><a href=\"http://localhost:8888/notebooks/bioinformaticslab/Quality_Control.ipynb#Total-'A'-count-per-read\" data-toc-modified-id=\"Total-'A'-count-per-read-2\"><span class=\"toc-item-num\">2&nbsp;&nbsp;</span>Total 'A' count per read</a></span><ul class=\"toc-item\"><li><span><a href=\"http://localhost:8888/notebooks/bioinformaticslab/Quality_Control.ipynb#Conclusion\" data-toc-modified-id=\"Conclusion-2.1\"><span class=\"toc-item-num\">2.1&nbsp;&nbsp;</span>Conclusion</a></span></li></ul></li><li><span><a href=\"http://localhost:8888/notebooks/bioinformaticslab/Quality_Control.ipynb#Count-DNA-reads-by-pool\" data-toc-modified-id=\"Count-DNA-reads-by-pool-3\"><span class=\"toc-item-num\">3&nbsp;&nbsp;</span>Count DNA reads by pool</a></span><ul class=\"toc-item\"><li><span><a href=\"http://localhost:8888/notebooks/bioinformaticslab/Quality_Control.ipynb#Conclusion\" data-toc-modified-id=\"Conclusion-3.1\"><span class=\"toc-item-num\">3.1&nbsp;&nbsp;</span>Conclusion</a></span></li></ul></li><li><span><a href=\"http://localhost:8888/notebooks/bioinformaticslab/Quality_Control.ipynb#Demultiplexing\" data-toc-modified-id=\"Demultiplexing-4\"><span class=\"toc-item-num\">4&nbsp;&nbsp;</span>Demultiplexing</a></span></li><li><span><a href=\"http://localhost:8888/notebooks/bioinformaticslab/Quality_Control.ipynb#Count-longest-streak-of-'A'-by-the-pool\" data-toc-modified-id=\"Count-longest-streak-of-'A'-by-the-pool-5\"><span class=\"toc-item-num\">5&nbsp;&nbsp;</span>Count longest streak of 'A' by the pool</a></span></li><li><span><a href=\"http://localhost:8888/notebooks/bioinformaticslab/Quality_Control.ipynb#Poly-A-tail-analysis\" data-toc-modified-id=\"Poly-A-tail-analysis-6\"><span class=\"toc-item-num\">6&nbsp;&nbsp;</span>Poly-A tail analysis</a></span></li><li><span><a href=\"http://localhost:8888/notebooks/bioinformaticslab/Quality_Control.ipynb#Consensus-matrix-on-strings-after-poly-A-tail\" data-toc-modified-id=\"Consensus-matrix-on-strings-after-poly-A-tail-7\"><span class=\"toc-item-num\">7&nbsp;&nbsp;</span>Consensus matrix on strings after poly A tail</a></span></li><li><span><a href=\"http://localhost:8888/notebooks/bioinformaticslab/Quality_Control.ipynb#Find-consensus-sequence-(=-artefact)-after-Poly-A-tail\" data-toc-modified-id=\"Find-consensus-sequence-(=-artefact)-after-Poly-A-tail-8\"><span class=\"toc-item-num\">8&nbsp;&nbsp;</span>Find consensus sequence (= artefact) after Poly A tail</a></span></li><li><span><a href=\"http://localhost:8888/notebooks/bioinformaticslab/Quality_Control.ipynb#Error-probability-of-the-base-in-disrupted-polyA-based-on-phred-score\" data-toc-modified-id=\"Error-probability-of-the-base-in-disrupted-polyA-based-on-phred-score-9\"><span class=\"toc-item-num\">9&nbsp;&nbsp;</span>Error probability of the base in disrupted polyA based on phred score</a></span></li><li><span><a href=\"http://localhost:8888/notebooks/bioinformaticslab/Quality_Control.ipynb#Markov-chain-after-PolyA-analysis\" data-toc-modified-id=\"Markov-chain-after-PolyA-analysis-10\"><span class=\"toc-item-num\">10&nbsp;&nbsp;</span>Markov chain after PolyA analysis</a></span></li><li><span><a href=\"http://localhost:8888/notebooks/bioinformaticslab/Quality_Control.ipynb#Error-probability-based-on-phred-score\" data-toc-modified-id=\"Error-probability-based-on-phred-score-11\"><span class=\"toc-item-num\">11&nbsp;&nbsp;</span>Error probability based on phred score</a></span><ul class=\"toc-item\"><li><span><a href=\"http://localhost:8888/notebooks/bioinformaticslab/Quality_Control.ipynb#Number-of-bases-in-well-barcodes-with-an-error-threshold-&gt;-10^-3\" data-toc-modified-id=\"Number-of-bases-in-well-barcodes-with-an-error-threshold->-10^-3-11.1\"><span class=\"toc-item-num\">11.1&nbsp;&nbsp;</span>Number of bases in well barcodes with an error threshold &gt; 10^-3</a></span><ul class=\"toc-item\"><li><span><a href=\"http://localhost:8888/notebooks/bioinformaticslab/Quality_Control.ipynb#Conclusion\" data-toc-modified-id=\"Conclusion-11.1.1\"><span class=\"toc-item-num\">11.1.1&nbsp;&nbsp;</span>Conclusion</a></span></li></ul></li><li><span><a href=\"http://localhost:8888/notebooks/bioinformaticslab/Quality_Control.ipynb#Number-of-bases-in-UMI-with-an-error-threshold-&gt;-10^-3\" data-toc-modified-id=\"Number-of-bases-in-UMI-with-an-error-threshold->-10^-3-11.2\"><span class=\"toc-item-num\">11.2&nbsp;&nbsp;</span>Number of bases in UMI with an error threshold &gt; 10^-3</a></span><ul class=\"toc-item\"><li><span><a href=\"http://localhost:8888/notebooks/bioinformaticslab/Quality_Control.ipynb#Conclusion\" data-toc-modified-id=\"Conclusion-11.2.1\"><span class=\"toc-item-num\">11.2.1&nbsp;&nbsp;</span>Conclusion</a></span></li></ul></li><li><span><a href=\"http://localhost:8888/notebooks/bioinformaticslab/Quality_Control.ipynb#Number-of-bases-in-pool-barcodes-with-an-error-threshold-&gt;-10^-3\" data-toc-modified-id=\"Number-of-bases-in-pool-barcodes-with-an-error-threshold->-10^-3-11.3\"><span class=\"toc-item-num\">11.3&nbsp;&nbsp;</span>Number of bases in pool barcodes with an error threshold &gt; 10^-3</a></span><ul class=\"toc-item\"><li><span><a href=\"http://localhost:8888/notebooks/bioinformaticslab/Quality_Control.ipynb#Conclusion\" data-toc-modified-id=\"Conclusion-11.3.1\"><span class=\"toc-item-num\">11.3.1&nbsp;&nbsp;</span>Conclusion</a></span></li></ul></li></ul></li><li><span><a href=\"http://localhost:8888/notebooks/bioinformaticslab/Quality_Control.ipynb#Cell-barcodes\" data-toc-modified-id=\"Cell-barcodes-12\"><span class=\"toc-item-num\">12&nbsp;&nbsp;</span>Cell barcodes</a></span></li></ul></div>"
   ]
  },
  {
   "cell_type": "markdown",
   "metadata": {},
   "source": [
    "# Find the longest streak of 'A' Nucleotide"
   ]
  },
  {
   "cell_type": "code",
   "execution_count": 134,
   "metadata": {
    "ExecuteTime": {
     "end_time": "2017-09-12T20:55:04.785432Z",
     "start_time": "2017-09-12T20:54:43.511393Z"
    },
    "collapsed": true
   },
   "outputs": [],
   "source": [
    "%reset -f"
   ]
  },
  {
   "cell_type": "code",
   "execution_count": 135,
   "metadata": {
    "ExecuteTime": {
     "end_time": "2017-09-12T20:55:04.801190Z",
     "start_time": "2017-09-12T20:55:04.791583Z"
    },
    "collapsed": true
   },
   "outputs": [],
   "source": [
    "import seaborn as sns\n",
    "import matplotlib.pyplot as plt"
   ]
  },
  {
   "cell_type": "code",
   "execution_count": 136,
   "metadata": {
    "ExecuteTime": {
     "end_time": "2017-09-12T20:55:04.848437Z",
     "start_time": "2017-09-12T20:55:04.803803Z"
    },
    "collapsed": true
   },
   "outputs": [],
   "source": [
    "R1_list = !ls /Users/dariapodorskaja/Desktop/Lab/Lane_7_NoIndex_L007_R1*\n",
    "R1_list = list(R1_list)"
   ]
  },
  {
   "cell_type": "code",
   "execution_count": 137,
   "metadata": {
    "ExecuteTime": {
     "end_time": "2017-09-12T20:55:06.247354Z",
     "start_time": "2017-09-12T20:55:04.852296Z"
    },
    "collapsed": true
   },
   "outputs": [],
   "source": [
    "# count dna_reads in a file\n",
    "# open file\n",
    "\n",
    "dna_reads = []\n",
    "lines_count = 160000  # number of lines in a file\n",
    "\n",
    "# make lists of dna reads\n",
    "for file in R1_list:\n",
    "    with open(file, 'r') as f:   # f = open(path_to_file, 'r') # f is a variable with a file\n",
    "        for current_line in range(lines_count):\n",
    "            if current_line % 4 == 1:  # pick lines with DNA sequences\n",
    "                s = f.readline()\n",
    "                s = s.replace('\\n', '')\n",
    "                dna_reads.append(s)\n",
    "            else:\n",
    "                next(f)"
   ]
  },
  {
   "cell_type": "code",
   "execution_count": 138,
   "metadata": {
    "ExecuteTime": {
     "end_time": "2017-09-12T20:55:06.256822Z",
     "start_time": "2017-09-12T20:55:06.250460Z"
    }
   },
   "outputs": [
    {
     "data": {
      "text/plain": [
       "400000"
      ]
     },
     "execution_count": 138,
     "metadata": {},
     "output_type": "execute_result"
    }
   ],
   "source": [
    "len(dna_reads)"
   ]
  },
  {
   "cell_type": "code",
   "execution_count": 139,
   "metadata": {
    "ExecuteTime": {
     "end_time": "2017-09-12T20:55:06.264108Z",
     "start_time": "2017-09-12T20:55:06.259051Z"
    },
    "collapsed": true
   },
   "outputs": [],
   "source": [
    "def size_of_list(my_list):\n",
    "    \"\"\"size of my_list in MB\"\"\"\n",
    "    import sys\n",
    "    return sum([sys.getsizeof(i) for i in my_list]) / 1024 / 1024"
   ]
  },
  {
   "cell_type": "code",
   "execution_count": 140,
   "metadata": {
    "ExecuteTime": {
     "end_time": "2017-09-12T20:55:06.272237Z",
     "start_time": "2017-09-12T20:55:06.266740Z"
    },
    "collapsed": true
   },
   "outputs": [],
   "source": [
    "def histo(values, plot_title='empty title'):\n",
    "    \"\"\"show a histogram based on list\"\"\"\n",
    "    import matplotlib.pyplot as plt\n",
    "\n",
    "    plt.bar(range(len(values)),values)\n",
    "    plt.title(plot_title)\n",
    "    plt.show()\n"
   ]
  },
  {
   "cell_type": "code",
   "execution_count": 141,
   "metadata": {
    "ExecuteTime": {
     "end_time": "2017-09-12T20:55:06.296336Z",
     "start_time": "2017-09-12T20:55:06.274517Z"
    },
    "collapsed": true
   },
   "outputs": [],
   "source": [
    "def longest_a_streak(dna):\n",
    "    \"\"\"find longest streak of A in a string\"\"\"\n",
    "    counter = 0 \n",
    "    longest_streak = 0 #variable must be defined\n",
    "    for base in dna: \n",
    "        if base == 'A':\n",
    "            counter = counter + 1\n",
    "            if counter > longest_streak:\n",
    "                longest_streak = counter\n",
    "        else:\n",
    "            counter = 0\n",
    "    return longest_streak"
   ]
  },
  {
   "cell_type": "code",
   "execution_count": 142,
   "metadata": {
    "ExecuteTime": {
     "end_time": "2017-09-12T20:55:08.661519Z",
     "start_time": "2017-09-12T20:55:06.299132Z"
    },
    "collapsed": true
   },
   "outputs": [],
   "source": [
    "result = list()\n",
    "for s in dna_reads:\n",
    "    result.append(longest_a_streak(s))"
   ]
  },
  {
   "cell_type": "code",
   "execution_count": 143,
   "metadata": {
    "ExecuteTime": {
     "end_time": "2017-09-12T20:55:08.763596Z",
     "start_time": "2017-09-12T20:55:08.664552Z"
    }
   },
   "outputs": [
    {
     "name": "stdout",
     "output_type": "stream",
     "text": [
      "[50, 6106, 62289, 26702, 14599, 9449, 8647, 8638, 7625, 8399, 10165, 13048, 15929, 17763, 18980, 18955, 19225, 20180, 20061, 19701, 18003, 15701, 12000, 9001, 6363, 4329, 2791, 1834, 1189, 787, 493, 321, 220, 142, 91, 67, 48, 27, 25, 12, 10, 6, 7, 5, 5, 2, 2, 2, 0, 0, 0, 0, 1, 2, 1, 0, 0, 0, 0, 0, 2]\n"
     ]
    }
   ],
   "source": [
    "# create a list with 61 zeroes\n",
    "longest_a_histo = [0 for i in range(61)]\n",
    "\n",
    "# add +1 to the correponding position when we see an element\n",
    "# i.e. if we see element 13 in \"result\", add +1 to position 13 in \"longest_a_histo\"\n",
    "for r in result:\n",
    "    longest_a_histo[r] += 1\n",
    "\n",
    "print(longest_a_histo)"
   ]
  },
  {
   "cell_type": "code",
   "execution_count": 144,
   "metadata": {
    "ExecuteTime": {
     "end_time": "2017-09-12T20:55:09.312491Z",
     "start_time": "2017-09-12T20:55:08.765987Z"
    }
   },
   "outputs": [
    {
     "data": {
      "image/png": "[encoded data removed]",
      "text/plain": [
       "<matplotlib.figure.Figure at 0x1929379b0>"
      ]
     },
     "metadata": {},
     "output_type": "display_data"
    }
   ],
   "source": [
    "histo(longest_a_histo, 'Longest \"A\" streak')"
   ]
  },
  {
   "cell_type": "markdown",
   "metadata": {},
   "source": [
    "## Conclusion\n",
    "- The most \"popular\" A streak is of length 2 (it can be found in >6000 reads out of 40k)\n",
    "- The most common A streak is of length 10-25 \n"
   ]
  },
  {
   "cell_type": "markdown",
   "metadata": {},
   "source": [
    "# Total 'A' count per read"
   ]
  },
  {
   "cell_type": "code",
   "execution_count": 145,
   "metadata": {
    "ExecuteTime": {
     "end_time": "2017-09-12T20:55:12.503160Z",
     "start_time": "2017-09-12T20:55:09.314940Z"
    },
    "collapsed": true
   },
   "outputs": [],
   "source": [
    "result = []\n",
    "counter_A = 0\n",
    "for s in dna_reads:\n",
    "    for base in s:\n",
    "        if base == 'A':\n",
    "            counter_A += 1\n",
    "    result.append(counter_A)\n",
    "    counter_A = 0"
   ]
  },
  {
   "cell_type": "code",
   "execution_count": 146,
   "metadata": {
    "ExecuteTime": {
     "end_time": "2017-09-12T20:55:12.609334Z",
     "start_time": "2017-09-12T20:55:12.505041Z"
    },
    "collapsed": true
   },
   "outputs": [],
   "source": [
    "total_a = [0 for i in range(61)]\n",
    "for r in result:\n",
    "    total_a[r] += 1"
   ]
  },
  {
   "cell_type": "code",
   "execution_count": 147,
   "metadata": {
    "ExecuteTime": {
     "end_time": "2017-09-12T20:55:13.059386Z",
     "start_time": "2017-09-12T20:55:12.612539Z"
    }
   },
   "outputs": [
    {
     "data": {
      "image/png": "[encoded data removed]",
      "text/plain": [
       "<matplotlib.figure.Figure at 0x1917c6b70>"
      ]
     },
     "metadata": {},
     "output_type": "display_data"
    }
   ],
   "source": [
    "histo(total_a, plot_title='Total count of \"A\"')"
   ]
  },
  {
   "cell_type": "markdown",
   "metadata": {
    "variables": {
     "suspicious_reads": "<p><strong>NameError</strong>: name &#39;suspicious_reads&#39; is not defined</p>\n"
    }
   },
   "source": [
    "## Conclusion\n",
    "- We expect to have 25% of A. \n",
    "\n",
    "- More than 20 bases per read are encountered in {{suspicious_reads}}% of all reads\n"
   ]
  },
  {
   "cell_type": "markdown",
   "metadata": {},
   "source": [
    "# Count DNA reads by pool "
   ]
  },
  {
   "cell_type": "code",
   "execution_count": 148,
   "metadata": {
    "ExecuteTime": {
     "end_time": "2017-09-12T20:55:13.099576Z",
     "start_time": "2017-09-12T20:55:13.091757Z"
    },
    "collapsed": true
   },
   "outputs": [],
   "source": [
    "d = {\n",
    "'ACAG': 0,\n",
    "'AGTC': 0,\n",
    "'ATCA': 0,\n",
    "'CATG': 0,\n",
    "'CTAC': 0,\n",
    "'TCTA': 0,\n",
    "'TGAT': 0,\n",
    "'TTGG': 0,\n",
    "'unknown': 0\n",
    "}\n",
    "\n",
    "# # or we can create this dict ourselves\n",
    "# pools = ['ACAG', 'AGTC', 'ATCA', 'CATG', 'CTAC', 'TCTA', 'TGAT', 'TTGG', 'unknown']\n",
    "# {pool: 0 for pool in pools}"
   ]
  },
  {
   "cell_type": "code",
   "execution_count": 149,
   "metadata": {
    "ExecuteTime": {
     "end_time": "2017-09-12T20:55:13.435132Z",
     "start_time": "2017-09-12T20:55:13.102345Z"
    },
    "collapsed": true
   },
   "outputs": [],
   "source": [
    "for read in dna_reads:\n",
    "    pool = read[3:7]\n",
    "    if pool in d.keys():\n",
    "        d[pool] += 1\n",
    "    else:\n",
    "        d['unknown'] += 1"
   ]
  },
  {
   "cell_type": "code",
   "execution_count": 150,
   "metadata": {
    "ExecuteTime": {
     "end_time": "2017-09-12T20:55:13.443341Z",
     "start_time": "2017-09-12T20:55:13.437594Z"
    }
   },
   "outputs": [
    {
     "name": "stdout",
     "output_type": "stream",
     "text": [
      "{'ACAG': 63064, 'AGTC': 70542, 'ATCA': 58141, 'CATG': 66798, 'CTAC': 72654, 'TCTA': 27, 'TGAT': 12, 'TTGG': 56581, 'unknown': 12181}\n"
     ]
    }
   ],
   "source": [
    "print(d)"
   ]
  },
  {
   "cell_type": "code",
   "execution_count": 151,
   "metadata": {
    "ExecuteTime": {
     "end_time": "2017-09-12T20:55:13.724037Z",
     "start_time": "2017-09-12T20:55:13.445880Z"
    }
   },
   "outputs": [
    {
     "data": {
      "image/png": "[encoded data removed]",
      "text/plain": [
       "<matplotlib.figure.Figure at 0x187d4be80>"
      ]
     },
     "metadata": {},
     "output_type": "display_data"
    }
   ],
   "source": [
    "# order in a dict is not guaranteed, so we may get weird results\n",
    "plt.bar(range(len(d.keys())),d.values())\n",
    "plt.xticks(range(len(d)), list(sorted(d.keys())))\n",
    "plt.title('Count DNA reads by pool')\n",
    "plt.show()"
   ]
  },
  {
   "cell_type": "markdown",
   "metadata": {},
   "source": [
    "## Conclusion\n",
    "- 2 given pools from the wet lab were not found "
   ]
  },
  {
   "cell_type": "markdown",
   "metadata": {},
   "source": [
    "# Demultiplexing\n"
   ]
  },
  {
   "cell_type": "code",
   "execution_count": 152,
   "metadata": {
    "ExecuteTime": {
     "end_time": "2017-09-12T20:55:13.734295Z",
     "start_time": "2017-09-12T20:55:13.726687Z"
    },
    "collapsed": true
   },
   "outputs": [],
   "source": [
    "def hamming_distance(dna1, dna2):\n",
    "    assert isinstance(dna1, str)\n",
    "    assert isinstance(dna2, str)\n",
    "\n",
    "    distance = 0\n",
    "    for b1, b2 in zip(dna1, dna2):\n",
    "        if b1 != b2:\n",
    "            distance += 1\n",
    "    return distance\n",
    "\n",
    "assert hamming_distance('AAAA', 'unknown') == 4"
   ]
  },
  {
   "cell_type": "code",
   "execution_count": 153,
   "metadata": {
    "ExecuteTime": {
     "end_time": "2017-09-12T20:55:13.749514Z",
     "start_time": "2017-09-12T20:55:13.737217Z"
    }
   },
   "outputs": [],
   "source": [
    "def pool_correction(read_pool, list_of_pools, max_ham_dist = 1):\n",
    "    \"\"\"compare given pool against list of pools and correct it\"\"\"\n",
    "    assert isinstance(read_pool, str)\n",
    "    assert isinstance(list_of_pools, list)\n",
    "    for p in list_of_pools:\n",
    "        dist = hamming_distance(p, read_pool)\n",
    "        if dist == 0:\n",
    "            return p\n",
    "        elif dist <= max_ham_dist:\n",
    "            return p\n",
    "    return 'unknown'\n",
    "\n",
    "pools = ['ACAG', 'AGTC', 'ATCA', 'CATG', 'CTAC', 'TCTA', 'TGAT', 'TTGG', 'unknown']\n",
    "assert pool_correction('ACAT', pools) == 'ACAG'\n",
    "assert pool_correction('TTGG', pools) == 'TTGG'\n",
    "assert pool_correction('MMMM', pools) == 'unknown'\n",
    "assert pool_correction('ACTA', pools, max_ham_dist=2) == 'ACAG'"
   ]
  },
  {
   "cell_type": "code",
   "execution_count": 154,
   "metadata": {
    "ExecuteTime": {
     "end_time": "2017-09-12T20:55:24.158983Z",
     "start_time": "2017-09-12T20:55:13.751880Z"
    }
   },
   "outputs": [
    {
     "data": {
      "text/html": [
       "<iframe id=\"igraph\" scrolling=\"no\" style=\"border:none;\" seamless=\"seamless\" src=\"https://plot.ly/~apochka/2.embed\" height=\"525px\" width=\"100%\"></iframe>"
      ],
      "text/plain": [
       "<plotly.tools.PlotlyDisplay object>"
      ]
     },
     "execution_count": 154,
     "metadata": {},
     "output_type": "execute_result"
    }
   ],
   "source": [
    "# 1 initialize dict\n",
    "# 2 add corrected pools\n",
    "# 3 plot\n",
    "\n",
    "import plotly.plotly as py\n",
    "import plotly.graph_objs as go\n",
    "\n",
    "data = list()\n",
    "for hamming_dist in range(3):\n",
    "    d = {\n",
    "    'ACAG': 0,\n",
    "    'AGTC': 0,\n",
    "    'ATCA': 0,\n",
    "    'CATG': 0,\n",
    "    'CTAC': 0,\n",
    "    'TCTA': 0,\n",
    "    'TGAT': 0,\n",
    "    'TTGG': 0,\n",
    "    'unknown': 0\n",
    "    }\n",
    "\n",
    "\n",
    "    for read in dna_reads:\n",
    "        pool = read[3:7]\n",
    "        pool = pool_correction(pool, pools, hamming_dist)\n",
    "        d[pool] += 1\n",
    "    keys, values = zip(*d.items())\n",
    "\n",
    "    trace = go.Bar(\n",
    "        x=keys,\n",
    "        y=values,\n",
    "        name='Hamming distance of ' + str(hamming_dist)\n",
    "    )\n",
    "    data.append(trace)\n",
    "\n",
    "#     plot_from_dict(d, plot_title= \"Hamming distance of \" + str(hamming_dist))\n",
    "py.iplot(data, filename = 'basic-line')"
   ]
  },
  {
   "cell_type": "markdown",
   "metadata": {},
   "source": [
    "# Count longest streak of 'A' by the pool"
   ]
  },
  {
   "cell_type": "code",
   "execution_count": 155,
   "metadata": {
    "ExecuteTime": {
     "end_time": "2017-09-12T20:55:24.168682Z",
     "start_time": "2017-09-12T20:55:24.161346Z"
    },
    "collapsed": true
   },
   "outputs": [],
   "source": [
    "pools = ['ACAG', 'AGTC', 'ATCA', 'CATG', 'CTAC', 'TCTA', 'TGAT', 'TTGG', 'unknown']\n",
    "\n",
    "# create a dictionary with keys as strings from pools and for values empty list with 61 zeroes\n",
    "d = {k: list(0 for i in range(61)) for k in pools}"
   ]
  },
  {
   "cell_type": "code",
   "execution_count": 156,
   "metadata": {
    "ExecuteTime": {
     "end_time": "2017-09-12T20:55:27.305082Z",
     "start_time": "2017-09-12T20:55:24.171130Z"
    },
    "collapsed": true
   },
   "outputs": [],
   "source": [
    "for read in dna_reads:\n",
    "    pool = read[3:7]\n",
    "    longest_a_streak_in_pool = longest_a_streak(read)\n",
    "    lst_61_zeroes = d[pool] if pool in d.keys() else d['unknown']\n",
    "    lst_61_zeroes[longest_a_streak_in_pool] += 1"
   ]
  },
  {
   "cell_type": "code",
   "execution_count": 157,
   "metadata": {
    "ExecuteTime": {
     "end_time": "2017-09-12T20:55:30.501871Z",
     "start_time": "2017-09-12T20:55:27.307405Z"
    }
   },
   "outputs": [
    {
     "data": {
      "image/png": "[encoded data removed]",
      "text/plain": [
       "<matplotlib.figure.Figure at 0x11ed93cc0>"
      ]
     },
     "metadata": {},
     "output_type": "display_data"
    }
   ],
   "source": [
    "from itertools import product\n",
    "graph_position = list(product(range(3), range(3)))\n",
    "\n",
    "dim = {'x': 3, 'y': 3}\n",
    "f, axarr = plt.subplots(dim['x'], dim['y'], figsize=(18, 10))\n",
    "\n",
    "max_y_value = max(max(i) for i in d.values())\n",
    "\n",
    "\n",
    "for coordinates, d_pool in zip(graph_position, d.items()):\n",
    "    i, j = coordinates\n",
    "    k, v = d_pool\n",
    "    axarr[i, j].bar(range(len(v)),v)\n",
    "    axarr[i, j].set_title(k)\n",
    "    axarr[i, j].set_ylim([0, max_y_value])\n",
    "\n",
    "plt.show()"
   ]
  },
  {
   "cell_type": "markdown",
   "metadata": {},
   "source": [
    "# Poly-A tail analysis"
   ]
  },
  {
   "cell_type": "code",
   "execution_count": 158,
   "metadata": {
    "ExecuteTime": {
     "end_time": "2017-09-12T20:55:30.513284Z",
     "start_time": "2017-09-12T20:55:30.504015Z"
    },
    "collapsed": true
   },
   "outputs": [],
   "source": [
    "def after_polyatail(read, next_n_bases=5, min_len_poly_a=8):\n",
    "    \"\"\"\n",
    "    if a poly A tail length is grater than min_len_poly_a\n",
    "    go to the end of the tail\n",
    "    and return next n bases\n",
    "    \"\"\"\n",
    "    counter_a = 0\n",
    "    bases_after_poly_a = str()\n",
    "    for index, base in enumerate(read):\n",
    "        if base == 'A':\n",
    "            counter_a += 1\n",
    "        else:\n",
    "            if counter_a > min_len_poly_a:\n",
    "                bases_after_poly_a = read[index:index + next_n_bases]\n",
    "            counter_a = 0\n",
    "    return bases_after_poly_a"
   ]
  },
  {
   "cell_type": "code",
   "execution_count": 159,
   "metadata": {
    "ExecuteTime": {
     "end_time": "2017-09-12T20:55:30.523373Z",
     "start_time": "2017-09-12T20:55:30.515886Z"
    },
    "collapsed": true
   },
   "outputs": [],
   "source": [
    "assert after_polyatail(\"AAAAAAAAAAAAAAAAAAAAAATCCCCCCCCCCCC\") == 'TCCCC'\n",
    "assert after_polyatail(\"ACACAT\") == ''"
   ]
  },
  {
   "cell_type": "code",
   "execution_count": 160,
   "metadata": {
    "ExecuteTime": {
     "end_time": "2017-09-12T20:56:05.144217Z",
     "start_time": "2017-09-12T20:55:30.526309Z"
    }
   },
   "outputs": [
    {
     "name": "stdout",
     "output_type": "stream",
     "text": [
      "[('C', 120470), ('G', 66058), ('T', 58409), ('N', 78)]\n",
      "[('CC', 48237), ('CA', 33626), ('TC', 20765), ('CG', 19927), ('GC', 19702), ('GG', 18671)]\n",
      "[('CCC', 23352), ('CAA', 13052), ('CCA', 10946), ('CAC', 10251), ('GAA', 9573), ('GGG', 8346)]\n",
      "[('CCCC', 11955), ('CAAA', 6502), ('GAAA', 5855), ('CCCA', 4592), ('CCAA', 4115), ('GGGG', 4050)]\n",
      "[('CCCCC', 6257), ('GAAAA', 3760), ('CAAAA', 3507), ('GGGGG', 2147), ('CCCCA', 2042), ('CCCCG', 2035)]\n",
      "[('CCCCCC', 3071), ('GAAAAA', 2372), ('CAAAAA', 2076), ('GGGGGG', 1199), ('CCCCCG', 1142), ('CCCCCA', 1035)]\n",
      "[('GAAAAAA', 1427), ('CCCCCCC', 1371), ('CAAAAAA', 1239), ('GGGGGGG', 673), ('CCCCCCG', 609), ('C', 553)]\n",
      "[('GAAAAAAA', 827), ('CAAAAAAA', 623), ('CCCCCCCC', 580), ('C', 553), ('CAAAAAAC', 368), ('T', 366)]\n",
      "[('C', 553), ('GAAAAAAAA', 367), ('T', 366), ('G', 298), ('GAAAAGAAA', 263), ('CAAAAAAAA', 259)]\n",
      "[('C', 553), ('T', 366), ('G', 298), ('CC', 229), ('GAAAAGAAAA', 213), ('CA', 197)]\n"
     ]
    }
   ],
   "source": [
    "from collections import Counter\n",
    "\n",
    "for i in range(1,11):\n",
    "    after_a = list()\n",
    "    for read in dna_reads:\n",
    "        s = after_polyatail(read, i)\n",
    "        if s != '': # read didn't have min polyA tail -> returns ''\n",
    "            after_a.append(s)\n",
    "    print(Counter(after_a).most_common(6))\n"
   ]
  },
  {
   "cell_type": "markdown",
   "metadata": {},
   "source": [
    "# Consensus matrix on strings after poly A tail"
   ]
  },
  {
   "cell_type": "code",
   "execution_count": 161,
   "metadata": {
    "ExecuteTime": {
     "end_time": "2017-09-12T20:56:05.154904Z",
     "start_time": "2017-09-12T20:56:05.147106Z"
    }
   },
   "outputs": [
    {
     "data": {
      "text/plain": [
       "[[0, 0, 0, 0, 0, 0, 0, 0, 0, 0],\n",
       " [0, 0, 0, 0, 0, 0, 0, 0, 0, 0],\n",
       " [0, 0, 0, 0, 0, 0, 0, 0, 0, 0],\n",
       " [0, 0, 0, 0, 0, 0, 0, 0, 0, 0],\n",
       " [0, 0, 0, 0, 0, 0, 0, 0, 0, 0]]"
      ]
     },
     "execution_count": 161,
     "metadata": {},
     "output_type": "execute_result"
    }
   ],
   "source": [
    "# create a matrix with 5 rows and 10 columns, where every element is 0\n",
    "matrix = [[0 for i in range(10)] for i in range(5)]\n",
    "matrix"
   ]
  },
  {
   "cell_type": "code",
   "execution_count": 162,
   "metadata": {
    "ExecuteTime": {
     "end_time": "2017-09-12T20:56:08.484786Z",
     "start_time": "2017-09-12T20:56:05.157095Z"
    },
    "collapsed": true
   },
   "outputs": [],
   "source": [
    "after_a = list()\n",
    "for read in dna_reads:\n",
    "    s = after_polyatail(read, 10)\n",
    "    if s != '': # read didn't have min polyA tail -> returns ''\n",
    "        after_a.append(s)"
   ]
  },
  {
   "cell_type": "code",
   "execution_count": 163,
   "metadata": {
    "ExecuteTime": {
     "end_time": "2017-09-12T20:56:09.661679Z",
     "start_time": "2017-09-12T20:56:08.488041Z"
    },
    "collapsed": true
   },
   "outputs": [],
   "source": [
    "for s in after_a:\n",
    "    for index, base in enumerate(s):\n",
    "        if base == 'A':\n",
    "            matrix[0][index] += 1\n",
    "        elif base == 'C':\n",
    "            matrix[1][index] += 1\n",
    "        elif base == 'T':\n",
    "            matrix[2][index] += 1\n",
    "        elif base == 'G':\n",
    "            matrix[3][index] += 1\n",
    "        elif base == 'N':\n",
    "            matrix[4][index] += 1\n",
    "        else:\n",
    "            print(\"Unexpected letter\")"
   ]
  },
  {
   "cell_type": "code",
   "execution_count": 164,
   "metadata": {
    "ExecuteTime": {
     "end_time": "2017-09-12T20:56:09.716929Z",
     "start_time": "2017-09-12T20:56:09.664652Z"
    }
   },
   "outputs": [
    {
     "data": {
      "text/html": [
       "<div>\n",
       "<table border=\"1\" class=\"dataframe\">\n",
       "  <thead>\n",
       "    <tr style=\"text-align: right;\">\n",
       "      <th></th>\n",
       "      <th>0</th>\n",
       "      <th>1</th>\n",
       "      <th>2</th>\n",
       "      <th>3</th>\n",
       "      <th>4</th>\n",
       "      <th>5</th>\n",
       "      <th>6</th>\n",
       "      <th>7</th>\n",
       "      <th>8</th>\n",
       "      <th>9</th>\n",
       "    </tr>\n",
       "  </thead>\n",
       "  <tbody>\n",
       "    <tr>\n",
       "      <th>A</th>\n",
       "      <td>0</td>\n",
       "      <td>61354</td>\n",
       "      <td>67567</td>\n",
       "      <td>68487</td>\n",
       "      <td>63294</td>\n",
       "      <td>60598</td>\n",
       "      <td>58231</td>\n",
       "      <td>61707</td>\n",
       "      <td>63178</td>\n",
       "      <td>68591</td>\n",
       "    </tr>\n",
       "    <tr>\n",
       "      <th>C</th>\n",
       "      <td>120470</td>\n",
       "      <td>88708</td>\n",
       "      <td>82638</td>\n",
       "      <td>78448</td>\n",
       "      <td>77615</td>\n",
       "      <td>69974</td>\n",
       "      <td>57444</td>\n",
       "      <td>57971</td>\n",
       "      <td>50768</td>\n",
       "      <td>47102</td>\n",
       "    </tr>\n",
       "    <tr>\n",
       "      <th>T</th>\n",
       "      <td>58409</td>\n",
       "      <td>42135</td>\n",
       "      <td>39354</td>\n",
       "      <td>40527</td>\n",
       "      <td>41075</td>\n",
       "      <td>46060</td>\n",
       "      <td>53118</td>\n",
       "      <td>47852</td>\n",
       "      <td>51151</td>\n",
       "      <td>48655</td>\n",
       "    </tr>\n",
       "    <tr>\n",
       "      <th>G</th>\n",
       "      <td>66058</td>\n",
       "      <td>51550</td>\n",
       "      <td>52896</td>\n",
       "      <td>53719</td>\n",
       "      <td>58009</td>\n",
       "      <td>62088</td>\n",
       "      <td>68607</td>\n",
       "      <td>68608</td>\n",
       "      <td>69650</td>\n",
       "      <td>68967</td>\n",
       "    </tr>\n",
       "    <tr>\n",
       "      <th>N</th>\n",
       "      <td>78</td>\n",
       "      <td>48</td>\n",
       "      <td>58</td>\n",
       "      <td>64</td>\n",
       "      <td>63</td>\n",
       "      <td>45</td>\n",
       "      <td>37</td>\n",
       "      <td>25</td>\n",
       "      <td>30</td>\n",
       "      <td>24</td>\n",
       "    </tr>\n",
       "  </tbody>\n",
       "</table>\n",
       "</div>"
      ],
      "text/plain": [
       "        0      1      2      3      4      5      6      7      8      9\n",
       "A       0  61354  67567  68487  63294  60598  58231  61707  63178  68591\n",
       "C  120470  88708  82638  78448  77615  69974  57444  57971  50768  47102\n",
       "T   58409  42135  39354  40527  41075  46060  53118  47852  51151  48655\n",
       "G   66058  51550  52896  53719  58009  62088  68607  68608  69650  68967\n",
       "N      78     48     58     64     63     45     37     25     30     24"
      ]
     },
     "execution_count": 164,
     "metadata": {},
     "output_type": "execute_result"
    }
   ],
   "source": [
    "import pandas\n",
    "df = pandas.DataFrame(matrix)\n",
    "df.rename({0: 'A', 1: 'C', 2: 'T', 3: 'G', 4: 'N'})\n",
    "\n",
    "# # as an alternative we can generate dict for .rename() ourselves\n",
    "# alphabet = 'ACTGN'\n",
    "# {k: v for k, v in zip(range(len(alphabet)), alphabet)}"
   ]
  },
  {
   "cell_type": "markdown",
   "metadata": {},
   "source": [
    "# Find consensus sequence (= artefact) after Poly A tail"
   ]
  },
  {
   "cell_type": "code",
   "execution_count": 165,
   "metadata": {
    "ExecuteTime": {
     "end_time": "2017-09-12T20:56:10.151107Z",
     "start_time": "2017-09-12T20:56:09.720059Z"
    },
    "collapsed": true
   },
   "outputs": [],
   "source": [
    "rotated_after_a = [''.join(s) for s in zip(*after_a)] \n",
    "# e.g reads = ['AATC','ACTGA','ATG'] -> reads = ['AAA', ACT', 'TTG', 'CG', 'A' ]"
   ]
  },
  {
   "cell_type": "code",
   "execution_count": 166,
   "metadata": {
    "ExecuteTime": {
     "end_time": "2017-09-12T20:56:10.793741Z",
     "start_time": "2017-09-12T20:56:10.153212Z"
    },
    "collapsed": true
   },
   "outputs": [],
   "source": [
    "# zip functions can be applied only to the lists of strings of the same lengh.\n",
    "# If the string is shorter than the string with max length -> add space to the string\n",
    "max_length = (len(max(after_a, key=len)))\n",
    "\n",
    "\n",
    "for index, s in enumerate(after_a):\n",
    "    if len(s) != max_length:  # if len of current string is not the same as maximum length\n",
    "             after_a[index] = s + ' ' * ( max_length - len(s) ) \n",
    "\n",
    "after_a_rotated = ([''.join(s) for s in zip(*after_a)])"
   ]
  },
  {
   "cell_type": "code",
   "execution_count": 167,
   "metadata": {
    "ExecuteTime": {
     "end_time": "2017-09-12T20:56:10.855220Z",
     "start_time": "2017-09-12T20:56:10.796854Z"
    },
    "collapsed": true
   },
   "outputs": [],
   "source": [
    "# count the number of each nucleotide in each column\n",
    "a_list = []\n",
    "t_list = []\n",
    "g_list = []\n",
    "c_list = []\n",
    "n_list = []\n",
    "\n",
    "\n",
    "for read in after_a_rotated:\n",
    "    a_list.append( read.count( 'A' ))\n",
    "    t_list.append( read.count( 'T' ))\n",
    "    g_list.append( read.count( 'G' ))\n",
    "    c_list.append( read.count( 'C' ))\n",
    "    n_list.append( read.count( 'N' ))"
   ]
  },
  {
   "cell_type": "code",
   "execution_count": 168,
   "metadata": {
    "ExecuteTime": {
     "end_time": "2017-09-12T20:56:10.868687Z",
     "start_time": "2017-09-12T20:56:10.857637Z"
    }
   },
   "outputs": [
    {
     "name": "stdout",
     "output_type": "stream",
     "text": [
      "CCCCCCGGGG\n"
     ]
    }
   ],
   "source": [
    "# define an artefact based on consensus\n",
    "\n",
    "data = list((zip(a_list, t_list, g_list, c_list, n_list)))\n",
    "#1st tuple 1st column from the reads\n",
    "\n",
    "d = {0:'A', 1:'T', 2:'G', 3:'C', 4:'N'}\n",
    "artefact = str()\n",
    "for line in data:\n",
    "    max_value = max( line ) # find max value in current line\n",
    "    index_of_max_value = line.index( max_value )  # find index of max value in current line\n",
    "    artefact += d[index_of_max_value]\n",
    "print( artefact )\n",
    "    \n",
    "    "
   ]
  },
  {
   "cell_type": "markdown",
   "metadata": {
    "ExecuteTime": {
     "end_time": "2017-08-19T21:56:38.413420Z",
     "start_time": "2017-08-19T21:56:38.406837Z"
    }
   },
   "source": [
    "# Error probability of the base in disrupted polyA based on phred score "
   ]
  },
  {
   "cell_type": "code",
   "execution_count": 169,
   "metadata": {
    "ExecuteTime": {
     "end_time": "2017-09-12T20:56:10.878115Z",
     "start_time": "2017-09-12T20:56:10.871742Z"
    },
    "collapsed": true
   },
   "outputs": [],
   "source": [
    "def base_calling_error_probabilities(ascii_code):\n",
    "    assert isinstance(ascii_code, str)\n",
    "    assert len(ascii_code) == 1\n",
    "    q = ord(ascii_code) - 33\n",
    "    p = round(10 ** (-q / 10), 5)\n",
    "    return p"
   ]
  },
  {
   "cell_type": "code",
   "execution_count": 170,
   "metadata": {
    "ExecuteTime": {
     "end_time": "2017-09-12T20:56:10.892156Z",
     "start_time": "2017-09-12T20:56:10.880838Z"
    },
    "collapsed": true
   },
   "outputs": [],
   "source": [
    "def disrupted_poly_A(read,min_len_poly_a=8, min_len_poly_a2 = 5):\n",
    "    \"\"\"\n",
    "    find poly A tail in a read that is disrupted only by one base other than 'A'\n",
    "    \n",
    "    \"\"\"\n",
    "    import re\n",
    "    \n",
    "    min_len_poly_a = str(min_len_poly_a)\n",
    "    min_len_poly_a2 = str(min_len_poly_a2)\n",
    "    pattern = \"[A]{\" + min_len_poly_a + \",}([^A])[A]{\" + min_len_poly_a2 + \",}\"\n",
    "    m = re.search(pattern, read)  \n",
    "    if m:\n",
    "        return m.span(1)[0]\n",
    "    return ''"
   ]
  },
  {
   "cell_type": "code",
   "execution_count": 171,
   "metadata": {
    "ExecuteTime": {
     "end_time": "2017-09-12T20:56:11.295032Z",
     "start_time": "2017-09-12T20:56:10.895193Z"
    },
    "collapsed": true
   },
   "outputs": [],
   "source": [
    "from collections import namedtuple\n",
    "phred_data = namedtuple('PhredData', 'ReadNumber PositionOfBase ErrorProb')\n",
    "n=160000\n",
    "result = []\n",
    "path_to_file = '/Users/dariapodorskaja/Desktop/Lab/Lane_7_NoIndex_L007_R1_001.fastq'\n",
    "with open(path_to_file, 'r') as f:   # f = open(path_to_file, 'r') # f is a variable with a file\n",
    "    for line_number in range(n):\n",
    "        if line_number %4 ==1:\n",
    "            s = f.readline().replace('\\n', '')\n",
    "            position = disrupted_poly_A(s)\n",
    "            read_number = line_number\n",
    "        elif line_number %4 ==3 and position != '':\n",
    "            s = f.readline().replace('\\n', '')\n",
    "            p = base_calling_error_probabilities(s[position])\n",
    "            result.append(phred_data(read_number, position, p))\n",
    "        else:\n",
    "            next(f)"
   ]
  },
  {
   "cell_type": "code",
   "execution_count": 172,
   "metadata": {
    "ExecuteTime": {
     "end_time": "2017-09-12T20:56:11.319524Z",
     "start_time": "2017-09-12T20:56:11.298489Z"
    }
   },
   "outputs": [
    {
     "name": "stdout",
     "output_type": "stream",
     "text": [
      "111\n",
      "PhredData(ReadNumber=285, PositionOfBase=20, ErrorProb=0.63096)\n",
      "PhredData(ReadNumber=1805, PositionOfBase=33, ErrorProb=0.63096)\n",
      "PhredData(ReadNumber=1909, PositionOfBase=20, ErrorProb=0.63096)\n",
      "PhredData(ReadNumber=2229, PositionOfBase=20, ErrorProb=0.63096)\n",
      "PhredData(ReadNumber=4109, PositionOfBase=27, ErrorProb=0.63096)\n",
      "PhredData(ReadNumber=4373, PositionOfBase=49, ErrorProb=0.63096)\n",
      "PhredData(ReadNumber=4669, PositionOfBase=20, ErrorProb=0.63096)\n",
      "PhredData(ReadNumber=4973, PositionOfBase=20, ErrorProb=0.63096)\n",
      "PhredData(ReadNumber=5113, PositionOfBase=20, ErrorProb=0.63096)\n",
      "PhredData(ReadNumber=6625, PositionOfBase=20, ErrorProb=0.63096)\n",
      "PhredData(ReadNumber=6685, PositionOfBase=20, ErrorProb=0.63096)\n",
      "PhredData(ReadNumber=7249, PositionOfBase=49, ErrorProb=0.63096)\n",
      "PhredData(ReadNumber=8361, PositionOfBase=43, ErrorProb=0.63096)\n",
      "PhredData(ReadNumber=13373, PositionOfBase=27, ErrorProb=0.63096)\n",
      "PhredData(ReadNumber=13685, PositionOfBase=29, ErrorProb=0.63096)\n",
      "PhredData(ReadNumber=14961, PositionOfBase=24, ErrorProb=0.63096)\n",
      "PhredData(ReadNumber=15389, PositionOfBase=28, ErrorProb=0.63096)\n",
      "PhredData(ReadNumber=16257, PositionOfBase=32, ErrorProb=0.63096)\n",
      "PhredData(ReadNumber=16429, PositionOfBase=29, ErrorProb=0.63096)\n",
      "PhredData(ReadNumber=17329, PositionOfBase=30, ErrorProb=0.63096)\n",
      "PhredData(ReadNumber=17793, PositionOfBase=26, ErrorProb=0.63096)\n",
      "PhredData(ReadNumber=23585, PositionOfBase=51, ErrorProb=0.63096)\n",
      "PhredData(ReadNumber=23609, PositionOfBase=51, ErrorProb=0.63096)\n",
      "PhredData(ReadNumber=24541, PositionOfBase=28, ErrorProb=0.63096)\n",
      "PhredData(ReadNumber=28053, PositionOfBase=28, ErrorProb=0.63096)\n",
      "PhredData(ReadNumber=28289, PositionOfBase=31, ErrorProb=0.63096)\n",
      "PhredData(ReadNumber=29329, PositionOfBase=27, ErrorProb=0.63096)\n",
      "PhredData(ReadNumber=29437, PositionOfBase=23, ErrorProb=0.63096)\n",
      "PhredData(ReadNumber=29513, PositionOfBase=37, ErrorProb=0.63096)\n",
      "PhredData(ReadNumber=29985, PositionOfBase=30, ErrorProb=0.63096)\n",
      "PhredData(ReadNumber=36709, PositionOfBase=37, ErrorProb=0.63096)\n",
      "PhredData(ReadNumber=38037, PositionOfBase=28, ErrorProb=0.63096)\n",
      "PhredData(ReadNumber=39749, PositionOfBase=26, ErrorProb=0.63096)\n",
      "PhredData(ReadNumber=40829, PositionOfBase=25, ErrorProb=0.63096)\n",
      "PhredData(ReadNumber=41461, PositionOfBase=31, ErrorProb=0.63096)\n",
      "PhredData(ReadNumber=43341, PositionOfBase=24, ErrorProb=0.63096)\n",
      "PhredData(ReadNumber=43453, PositionOfBase=27, ErrorProb=0.63096)\n",
      "PhredData(ReadNumber=44285, PositionOfBase=39, ErrorProb=0.63096)\n",
      "PhredData(ReadNumber=44561, PositionOfBase=45, ErrorProb=0.63096)\n",
      "PhredData(ReadNumber=45117, PositionOfBase=35, ErrorProb=0.63096)\n",
      "PhredData(ReadNumber=45709, PositionOfBase=28, ErrorProb=0.63096)\n",
      "PhredData(ReadNumber=50881, PositionOfBase=36, ErrorProb=0.63096)\n",
      "PhredData(ReadNumber=51349, PositionOfBase=24, ErrorProb=0.63096)\n",
      "PhredData(ReadNumber=51437, PositionOfBase=33, ErrorProb=0.63096)\n",
      "PhredData(ReadNumber=52317, PositionOfBase=34, ErrorProb=0.63096)\n",
      "PhredData(ReadNumber=53389, PositionOfBase=27, ErrorProb=0.63096)\n",
      "PhredData(ReadNumber=53505, PositionOfBase=33, ErrorProb=0.63096)\n",
      "PhredData(ReadNumber=54717, PositionOfBase=25, ErrorProb=0.63096)\n",
      "PhredData(ReadNumber=55133, PositionOfBase=35, ErrorProb=0.63096)\n",
      "PhredData(ReadNumber=57481, PositionOfBase=37, ErrorProb=0.63096)\n",
      "PhredData(ReadNumber=61481, PositionOfBase=27, ErrorProb=0.63096)\n",
      "PhredData(ReadNumber=61813, PositionOfBase=42, ErrorProb=0.63096)\n",
      "PhredData(ReadNumber=61837, PositionOfBase=41, ErrorProb=0.63096)\n",
      "PhredData(ReadNumber=65041, PositionOfBase=52, ErrorProb=0.63096)\n",
      "PhredData(ReadNumber=65417, PositionOfBase=35, ErrorProb=0.63096)\n",
      "PhredData(ReadNumber=70801, PositionOfBase=28, ErrorProb=0.63096)\n",
      "PhredData(ReadNumber=71133, PositionOfBase=28, ErrorProb=0.63096)\n",
      "PhredData(ReadNumber=71421, PositionOfBase=47, ErrorProb=0.63096)\n",
      "PhredData(ReadNumber=73309, PositionOfBase=27, ErrorProb=0.63096)\n",
      "PhredData(ReadNumber=73425, PositionOfBase=30, ErrorProb=0.63096)\n",
      "PhredData(ReadNumber=73681, PositionOfBase=30, ErrorProb=0.63096)\n",
      "PhredData(ReadNumber=73845, PositionOfBase=31, ErrorProb=0.63096)\n",
      "PhredData(ReadNumber=76157, PositionOfBase=26, ErrorProb=0.63096)\n",
      "PhredData(ReadNumber=76813, PositionOfBase=26, ErrorProb=0.63096)\n",
      "PhredData(ReadNumber=77049, PositionOfBase=25, ErrorProb=0.63096)\n",
      "PhredData(ReadNumber=77529, PositionOfBase=24, ErrorProb=0.63096)\n",
      "PhredData(ReadNumber=79485, PositionOfBase=26, ErrorProb=0.63096)\n",
      "PhredData(ReadNumber=81157, PositionOfBase=18, ErrorProb=0.63096)\n",
      "PhredData(ReadNumber=81253, PositionOfBase=27, ErrorProb=0.63096)\n",
      "PhredData(ReadNumber=81733, PositionOfBase=35, ErrorProb=0.63096)\n",
      "PhredData(ReadNumber=82065, PositionOfBase=31, ErrorProb=0.63096)\n",
      "PhredData(ReadNumber=90185, PositionOfBase=31, ErrorProb=0.63096)\n",
      "PhredData(ReadNumber=93749, PositionOfBase=24, ErrorProb=0.63096)\n",
      "PhredData(ReadNumber=96945, PositionOfBase=27, ErrorProb=0.63096)\n",
      "PhredData(ReadNumber=99993, PositionOfBase=39, ErrorProb=0.63096)\n",
      "PhredData(ReadNumber=100393, PositionOfBase=47, ErrorProb=0.63096)\n",
      "PhredData(ReadNumber=106801, PositionOfBase=52, ErrorProb=0.63096)\n",
      "PhredData(ReadNumber=106929, PositionOfBase=49, ErrorProb=0.63096)\n",
      "PhredData(ReadNumber=107221, PositionOfBase=26, ErrorProb=0.63096)\n",
      "PhredData(ReadNumber=108801, PositionOfBase=24, ErrorProb=0.63096)\n",
      "PhredData(ReadNumber=112101, PositionOfBase=46, ErrorProb=0.63096)\n",
      "PhredData(ReadNumber=114201, PositionOfBase=28, ErrorProb=0.63096)\n",
      "PhredData(ReadNumber=117437, PositionOfBase=34, ErrorProb=0.63096)\n",
      "PhredData(ReadNumber=117681, PositionOfBase=30, ErrorProb=0.63096)\n",
      "PhredData(ReadNumber=117865, PositionOfBase=24, ErrorProb=0.63096)\n",
      "PhredData(ReadNumber=118273, PositionOfBase=31, ErrorProb=0.63096)\n",
      "PhredData(ReadNumber=119085, PositionOfBase=28, ErrorProb=0.63096)\n",
      "PhredData(ReadNumber=119193, PositionOfBase=29, ErrorProb=0.63096)\n",
      "PhredData(ReadNumber=122189, PositionOfBase=28, ErrorProb=0.63096)\n",
      "PhredData(ReadNumber=124405, PositionOfBase=25, ErrorProb=0.63096)\n",
      "PhredData(ReadNumber=126213, PositionOfBase=26, ErrorProb=0.63096)\n",
      "PhredData(ReadNumber=127645, PositionOfBase=28, ErrorProb=0.63096)\n",
      "PhredData(ReadNumber=127665, PositionOfBase=42, ErrorProb=0.63096)\n",
      "PhredData(ReadNumber=128217, PositionOfBase=25, ErrorProb=0.63096)\n",
      "PhredData(ReadNumber=128917, PositionOfBase=33, ErrorProb=0.63096)\n",
      "PhredData(ReadNumber=129105, PositionOfBase=34, ErrorProb=0.63096)\n",
      "PhredData(ReadNumber=130973, PositionOfBase=36, ErrorProb=0.63096)\n",
      "PhredData(ReadNumber=131297, PositionOfBase=28, ErrorProb=0.63096)\n",
      "PhredData(ReadNumber=131917, PositionOfBase=36, ErrorProb=0.63096)\n",
      "PhredData(ReadNumber=135017, PositionOfBase=33, ErrorProb=0.63096)\n",
      "PhredData(ReadNumber=138073, PositionOfBase=47, ErrorProb=0.63096)\n",
      "PhredData(ReadNumber=138749, PositionOfBase=37, ErrorProb=0.63096)\n",
      "PhredData(ReadNumber=140937, PositionOfBase=37, ErrorProb=0.63096)\n",
      "PhredData(ReadNumber=144861, PositionOfBase=29, ErrorProb=0.63096)\n",
      "PhredData(ReadNumber=145481, PositionOfBase=33, ErrorProb=0.63096)\n",
      "PhredData(ReadNumber=147733, PositionOfBase=25, ErrorProb=0.63096)\n",
      "PhredData(ReadNumber=147917, PositionOfBase=32, ErrorProb=0.63096)\n",
      "PhredData(ReadNumber=150241, PositionOfBase=28, ErrorProb=0.63096)\n",
      "PhredData(ReadNumber=155861, PositionOfBase=31, ErrorProb=0.63096)\n",
      "PhredData(ReadNumber=158465, PositionOfBase=48, ErrorProb=0.63096)\n",
      "PhredData(ReadNumber=159161, PositionOfBase=40, ErrorProb=0.63096)\n"
     ]
    }
   ],
   "source": [
    "threshold = 0.5 #min error probability\n",
    "print(sum([1 for rn, pos, prob in result if prob > threshold]))\n",
    "\n",
    "for r in result:\n",
    "    rn, pos, prob = r\n",
    "    if prob > threshold:\n",
    "        print(r)\n"
   ]
  },
  {
   "cell_type": "markdown",
   "metadata": {},
   "source": [
    "# Markov chain after PolyA analysis"
   ]
  },
  {
   "cell_type": "code",
   "execution_count": 173,
   "metadata": {
    "ExecuteTime": {
     "end_time": "2017-09-12T20:56:11.331029Z",
     "start_time": "2017-09-12T20:56:11.321746Z"
    },
    "collapsed": true
   },
   "outputs": [],
   "source": [
    "def after_polyatail(read, next_n_bases=10, min_len_poly_a=8):\n",
    "    \"\"\"\n",
    "    if a poly A tail length is grater than min_len_poly_a\n",
    "    go to the end of the tail\n",
    "    and return next n bases\n",
    "    \"\"\"\n",
    "    assert isinstance(read, str)\n",
    "    counter_a = 0\n",
    "    bases_after_poly_a = str()\n",
    "    for index, base in enumerate(read):\n",
    "        if base == 'A':\n",
    "            counter_a += 1\n",
    "        else:\n",
    "            if counter_a >= min_len_poly_a:\n",
    "                bases_after_poly_a = read[index:index + next_n_bases]\n",
    "            counter_a = 0\n",
    "    return bases_after_poly_a"
   ]
  },
  {
   "cell_type": "code",
   "execution_count": 174,
   "metadata": {
    "ExecuteTime": {
     "end_time": "2017-09-12T20:56:14.716950Z",
     "start_time": "2017-09-12T20:56:11.333591Z"
    },
    "collapsed": true
   },
   "outputs": [],
   "source": [
    "reads=[]\n",
    "for dna in dna_reads:\n",
    "    reads.append(after_polyatail(dna, 4, 3))"
   ]
  },
  {
   "cell_type": "code",
   "execution_count": 175,
   "metadata": {
    "ExecuteTime": {
     "end_time": "2017-09-12T20:56:14.725349Z",
     "start_time": "2017-09-12T20:56:14.719917Z"
    },
    "collapsed": true
   },
   "outputs": [],
   "source": [
    "from itertools import product\n",
    "alphabet = 'ACTGN'\n",
    "# let's do all possible transisions\n",
    "trans = [i+j for i, j in product(alphabet, alphabet)]  # possible transitions"
   ]
  },
  {
   "cell_type": "code",
   "execution_count": 176,
   "metadata": {
    "ExecuteTime": {
     "end_time": "2017-09-12T20:56:14.736826Z",
     "start_time": "2017-09-12T20:56:14.727845Z"
    }
   },
   "outputs": [
    {
     "name": "stdout",
     "output_type": "stream",
     "text": [
      "{'AA': 0, 'AC': 0, 'AT': 0, 'AG': 0, 'AN': 0, 'CA': 0, 'CC': 0, 'CT': 0, 'CG': 0, 'CN': 0, 'TA': 0, 'TC': 0, 'TT': 0, 'TG': 0, 'TN': 0, 'GA': 0, 'GC': 0, 'GT': 0, 'GG': 0, 'GN': 0, 'NA': 0, 'NC': 0, 'NT': 0, 'NG': 0, 'NN': 0}\n"
     ]
    }
   ],
   "source": [
    "# now lets do a dict where all initial values are 0\n",
    "d = {k: 0 for k in trans}\n",
    "print(d)"
   ]
  },
  {
   "cell_type": "code",
   "execution_count": 177,
   "metadata": {
    "ExecuteTime": {
     "end_time": "2017-09-12T20:56:26.730776Z",
     "start_time": "2017-09-12T20:56:14.739475Z"
    },
    "collapsed": true
   },
   "outputs": [],
   "source": [
    "# always take next 2 letters\n",
    "result= []\n",
    "for read in dna_reads:\n",
    "    for i in range(len(read)):\n",
    "        result.append((read[i: i+2]))"
   ]
  },
  {
   "cell_type": "code",
   "execution_count": 178,
   "metadata": {
    "ExecuteTime": {
     "end_time": "2017-09-12T20:56:26.756605Z",
     "start_time": "2017-09-12T20:56:26.740362Z"
    }
   },
   "outputs": [
    {
     "data": {
      "text/plain": [
       "['GC', 'CA', 'AT', 'TT', 'TG', 'GG', 'GA', 'AA', 'AA', 'AA']"
      ]
     },
     "execution_count": 178,
     "metadata": {},
     "output_type": "execute_result"
    }
   ],
   "source": [
    "result[0:10]"
   ]
  },
  {
   "cell_type": "code",
   "execution_count": 179,
   "metadata": {
    "ExecuteTime": {
     "end_time": "2017-09-12T20:56:40.645080Z",
     "start_time": "2017-09-12T20:56:26.759467Z"
    },
    "collapsed": true
   },
   "outputs": [],
   "source": [
    "# now combine this 2 letters with dict\n",
    "# that means if we see 2 letters, add +1 to coresponding enty in the dict\n",
    "for two_letters in result:\n",
    "    if two_letters in d.keys():\n",
    "        d[two_letters] += 1"
   ]
  },
  {
   "cell_type": "code",
   "execution_count": 180,
   "metadata": {
    "ExecuteTime": {
     "end_time": "2017-09-12T20:56:40.671623Z",
     "start_time": "2017-09-12T20:56:40.654462Z"
    }
   },
   "outputs": [
    {
     "name": "stdout",
     "output_type": "stream",
     "text": [
      "{'AA': 5812313, 'AC': 1615101, 'AT': 952776, 'AG': 1704025, 'AN': 527, 'CA': 1813380, 'CC': 1044646, 'CT': 1101885, 'CG': 958200, 'CN': 314, 'TA': 587587, 'TC': 1334364, 'TT': 953373, 'TG': 945421, 'TN': 207, 'GA': 1888594, 'GC': 925788, 'GT': 825327, 'GG': 1133393, 'GN': 258, 'NA': 540, 'NC': 274, 'NT': 219, 'NG': 278, 'NN': 1210}\n"
     ]
    }
   ],
   "source": [
    "print(d)"
   ]
  },
  {
   "cell_type": "code",
   "execution_count": 181,
   "metadata": {
    "ExecuteTime": {
     "end_time": "2017-09-12T20:56:40.709295Z",
     "start_time": "2017-09-12T20:56:40.675352Z"
    },
    "collapsed": true
   },
   "outputs": [],
   "source": [
    "total_transitions_to_a = 0\n",
    "total_transitions_to_c = 0\n",
    "total_transitions_to_t = 0\n",
    "total_transitions_to_g = 0\n",
    "total_transitions_to_n = 0\n",
    "\n",
    "for k in d.keys():\n",
    "    if k.startswith('A'):\n",
    "        total_transitions_to_a += d[k]\n",
    "    elif k.startswith('C'):\n",
    "        total_transitions_to_c += d[k]\n",
    "    elif k.startswith('T'):\n",
    "        total_transitions_to_t += d[k]\n",
    "    elif k.startswith('G'):\n",
    "        total_transitions_to_g += d[k]\n",
    "    elif k.startswith('N'):\n",
    "        total_transitions_to_n += d[k]\n",
    "    else:\n",
    "        print(\"we missed a key!\")\n",
    "        "
   ]
  },
  {
   "cell_type": "code",
   "execution_count": 182,
   "metadata": {
    "ExecuteTime": {
     "end_time": "2017-09-12T20:56:43.374509Z",
     "start_time": "2017-09-12T20:56:40.712306Z"
    },
    "collapsed": true
   },
   "outputs": [],
   "source": [
    "a_prob = []\n",
    "c_prob = []\n",
    "t_prob = []\n",
    "g_prob = []\n",
    "n_prob = []\n",
    "\n",
    "for k in trans:\n",
    "    if k.startswith('A'):\n",
    "        a_prob.append((d[k] / total_transitions_to_a))\n",
    "    elif k.startswith('C'):\n",
    "        c_prob.append((d[k] / total_transitions_to_c))\n",
    "    elif k.startswith('T'):\n",
    "        t_prob.append((d[k] / total_transitions_to_t))\n",
    "    elif k.startswith('G'):\n",
    "        g_prob.append((d[k] / total_transitions_to_g))\n",
    "    elif k.startswith('N'):\n",
    "        n_prob.append((d[k] / total_transitions_to_n))\n",
    "    else:\n",
    "        print(\"we missed a key!\")"
   ]
  },
  {
   "cell_type": "code",
   "execution_count": 183,
   "metadata": {
    "ExecuteTime": {
     "end_time": "2017-09-12T20:56:43.407312Z",
     "start_time": "2017-09-12T20:56:43.382302Z"
    }
   },
   "outputs": [
    {
     "data": {
      "text/plain": [
       "[[0.58, 0.16, 0.09, 0.17, 0.0],\n",
       " [0.37, 0.21, 0.22, 0.19, 0.0],\n",
       " [0.15, 0.35, 0.25, 0.25, 0.0],\n",
       " [0.4, 0.19, 0.17, 0.24, 0.0],\n",
       " [0.21, 0.11, 0.09, 0.11, 0.48]]"
      ]
     },
     "execution_count": 183,
     "metadata": {},
     "output_type": "execute_result"
    }
   ],
   "source": [
    "matrix = [[0 for i in range(len(alphabet))] for i in range(len(alphabet))]\n",
    "for i in range(len(alphabet)):\n",
    "    matrix [0][i] = round(a_prob[i], 2)\n",
    "    matrix [1][i] = round(c_prob[i], 2)\n",
    "    matrix [2][i] = round(t_prob[i], 2)\n",
    "    matrix [3][i] = round(g_prob[i], 2)\n",
    "    matrix [4][i] = round(n_prob[i], 2)\n",
    "    \n",
    "matrix"
   ]
  },
  {
   "cell_type": "code",
   "execution_count": 184,
   "metadata": {
    "ExecuteTime": {
     "end_time": "2017-09-12T20:56:43.506747Z",
     "start_time": "2017-09-12T20:56:43.409611Z"
    }
   },
   "outputs": [
    {
     "data": {
      "text/html": [
       "<div>\n",
       "<table border=\"1\" class=\"dataframe\">\n",
       "  <thead>\n",
       "    <tr style=\"text-align: right;\">\n",
       "      <th></th>\n",
       "      <th>A</th>\n",
       "      <th>C</th>\n",
       "      <th>T</th>\n",
       "      <th>G</th>\n",
       "      <th>N</th>\n",
       "    </tr>\n",
       "  </thead>\n",
       "  <tbody>\n",
       "    <tr>\n",
       "      <th>A</th>\n",
       "      <td>0.58</td>\n",
       "      <td>0.16</td>\n",
       "      <td>0.09</td>\n",
       "      <td>0.17</td>\n",
       "      <td>0.00</td>\n",
       "    </tr>\n",
       "    <tr>\n",
       "      <th>C</th>\n",
       "      <td>0.37</td>\n",
       "      <td>0.21</td>\n",
       "      <td>0.22</td>\n",
       "      <td>0.19</td>\n",
       "      <td>0.00</td>\n",
       "    </tr>\n",
       "    <tr>\n",
       "      <th>T</th>\n",
       "      <td>0.15</td>\n",
       "      <td>0.35</td>\n",
       "      <td>0.25</td>\n",
       "      <td>0.25</td>\n",
       "      <td>0.00</td>\n",
       "    </tr>\n",
       "    <tr>\n",
       "      <th>G</th>\n",
       "      <td>0.40</td>\n",
       "      <td>0.19</td>\n",
       "      <td>0.17</td>\n",
       "      <td>0.24</td>\n",
       "      <td>0.00</td>\n",
       "    </tr>\n",
       "    <tr>\n",
       "      <th>N</th>\n",
       "      <td>0.21</td>\n",
       "      <td>0.11</td>\n",
       "      <td>0.09</td>\n",
       "      <td>0.11</td>\n",
       "      <td>0.48</td>\n",
       "    </tr>\n",
       "  </tbody>\n",
       "</table>\n",
       "</div>"
      ],
      "text/plain": [
       "      A     C     T     G     N\n",
       "A  0.58  0.16  0.09  0.17  0.00\n",
       "C  0.37  0.21  0.22  0.19  0.00\n",
       "T  0.15  0.35  0.25  0.25  0.00\n",
       "G  0.40  0.19  0.17  0.24  0.00\n",
       "N  0.21  0.11  0.09  0.11  0.48"
      ]
     },
     "execution_count": 184,
     "metadata": {},
     "output_type": "execute_result"
    }
   ],
   "source": [
    "import pandas as pd\n",
    "alphabet = ['A', 'C', 'T', 'G', 'N']\n",
    "df = pd.DataFrame(matrix, index=alphabet, columns=alphabet)\n",
    "df"
   ]
  },
  {
   "cell_type": "markdown",
   "metadata": {},
   "source": [
    "# Error probability based on phred score "
   ]
  },
  {
   "cell_type": "code",
   "execution_count": 185,
   "metadata": {
    "ExecuteTime": {
     "end_time": "2017-09-12T20:56:43.528998Z",
     "start_time": "2017-09-12T20:56:43.515262Z"
    },
    "collapsed": true
   },
   "outputs": [],
   "source": [
    "def reader(path_to_file, start=0, stop=60, every_line_number=1):\n",
    "    lines_count = 160000\n",
    "    strings = list()\n",
    "    with open(path_to_file, 'r') as f:\n",
    "        for current_line in range(lines_count):\n",
    "            if current_line % 4 == every_line_number:  # pick lines with DNA sequences\n",
    "                s = f.readline().replace('\\n', '')\n",
    "                strings.append(s[start:stop])\n",
    "            else:\n",
    "                next(f)\n",
    "    return strings"
   ]
  },
  {
   "cell_type": "code",
   "execution_count": 186,
   "metadata": {
    "ExecuteTime": {
     "end_time": "2017-09-12T20:56:43.544720Z",
     "start_time": "2017-09-12T20:56:43.531688Z"
    },
    "collapsed": true
   },
   "outputs": [],
   "source": [
    "def map_string_to_probabilities(string):\n",
    "    \"\"\"takes a list of ascii symbols \n",
    "    returns correspodning probabilities in a list\"\"\"\n",
    "    \n",
    "    assert isinstance (string, str)\n",
    "    \n",
    "    errors = list()\n",
    "    for letter in string:\n",
    "        errors.append(base_calling_error_probabilities(letter))\n",
    "    return errors"
   ]
  },
  {
   "cell_type": "code",
   "execution_count": 187,
   "metadata": {
    "ExecuteTime": {
     "end_time": "2017-09-12T20:56:43.561837Z",
     "start_time": "2017-09-12T20:56:43.547443Z"
    },
    "collapsed": true
   },
   "outputs": [],
   "source": [
    "def number_of_errors_above_thershold(errors, threshold = 0.001):\n",
    "    \"\"\"takes a list of lists floats and \n",
    "    returns how many numbers in a list above threshold\n",
    "    \n",
    "    Example:\n",
    "    >>> number_of_errors_above_thershold([[.1, .2], [.2, .3]], threshold=.2)\n",
    "    [1, 2, 3]\n",
    "    \"\"\"\n",
    "    assert isinstance (errors, list)\n",
    "    [isinstance(i, list) for i in errors]\n",
    "    \n",
    "    err = list()\n",
    "    for lst in errors:\n",
    "        counter = 0 \n",
    "        for i in lst:\n",
    "            if i >= threshold:\n",
    "                counter += 1\n",
    "        if counter > 0:\n",
    "            err.append(counter)\n",
    "    return err\n",
    "\n",
    "assert number_of_errors_above_thershold([[.1, .2], [.2, .3]], threshold=.2) == [1,2]\n",
    "assert number_of_errors_above_thershold([[.1, .2], [.2, .3]], threshold=.5) == []"
   ]
  },
  {
   "cell_type": "code",
   "execution_count": 188,
   "metadata": {
    "ExecuteTime": {
     "end_time": "2017-09-12T20:56:43.574570Z",
     "start_time": "2017-09-12T20:56:43.563979Z"
    },
    "collapsed": true
   },
   "outputs": [],
   "source": [
    "def number_of_suspicious_strings(ascii_list):\n",
    "    \"\"\"\n",
    "    return how many strings has at least one letter which error probability is above threashold\n",
    "    \"\"\"\n",
    "    error = list()\n",
    "    for element in ascii_list:\n",
    "        error.append(map_string_to_probabilities(element))\n",
    "    a = number_of_errors_above_thershold(error)\n",
    "    return len(a)"
   ]
  },
  {
   "cell_type": "code",
   "execution_count": 189,
   "metadata": {
    "ExecuteTime": {
     "end_time": "2017-09-12T20:56:43.693973Z",
     "start_time": "2017-09-12T20:56:43.577090Z"
    },
    "collapsed": true
   },
   "outputs": [],
   "source": [
    "R1_list = !ls /Users/dariapodorskaja/Desktop/Lab/Lane_7_NoIndex_L007_R1*\n",
    "R1_list = list(R1_list)\n",
    "R2_list = !ls /Users/dariapodorskaja/Desktop/Lab/Lane_7_NoIndex_L007_R2*\n",
    "R2_list = list(R2_list)"
   ]
  },
  {
   "cell_type": "markdown",
   "metadata": {},
   "source": [
    "## Number of bases in well barcodes with an error threshold > 10^-3"
   ]
  },
  {
   "cell_type": "code",
   "execution_count": 190,
   "metadata": {
    "ExecuteTime": {
     "end_time": "2017-09-12T20:56:55.716847Z",
     "start_time": "2017-09-12T20:56:43.705596Z"
    }
   },
   "outputs": [
    {
     "name": "stdout",
     "output_type": "stream",
     "text": [
      "52177\n"
     ]
    }
   ],
   "source": [
    "path_to_file = R2_list\n",
    "wells_errors = list()\n",
    "total_well_errors = list()\n",
    "for file in path_to_file:\n",
    "    wells_ascii = reader(file, start=0, stop=6, every_line_number=3)\n",
    "    wells = reader(file, start=0, stop=6, every_line_number=1)\n",
    "    wells_errors.append((number_of_suspicious_strings(wells_ascii)))\n",
    "    total_well_errors = sum(wells_errors)\n",
    "print(total_well_errors)"
   ]
  },
  {
   "cell_type": "markdown",
   "metadata": {
    "variables": {
     "total_well_errors": "52177",
     "total_well_errors/400000": "0.1304425"
    }
   },
   "source": [
    "### Conclusion\n",
    "Based on analysis of 400.000 reads with total 2 400.000 bases that belong to well barcodes there are {{total_well_errors}}({{total_well_errors/400000}}% out of total number) bases in well barcodes with an error probability > 0.001"
   ]
  },
  {
   "cell_type": "markdown",
   "metadata": {},
   "source": [
    "## Number of bases in UMI with an error threshold > 10^-3 "
   ]
  },
  {
   "cell_type": "code",
   "execution_count": 191,
   "metadata": {
    "ExecuteTime": {
     "end_time": "2017-09-12T20:57:07.908771Z",
     "start_time": "2017-09-12T20:56:55.749015Z"
    }
   },
   "outputs": [
    {
     "name": "stdout",
     "output_type": "stream",
     "text": [
      "38322\n"
     ]
    }
   ],
   "source": [
    "path_to_file = R2_list\n",
    "umi_errors = list()\n",
    "total_umi_errors = list()\n",
    "for file in path_to_file:\n",
    "    umi_ascii = reader(file, start=6, stop=12, every_line_number=3)\n",
    "    umi = reader(file, start=6, stop=12, every_line_number=1)\n",
    "    umi_errors.append((number_of_suspicious_strings(umi_ascii)))\n",
    "    total_umi_errors = sum(umi_errors)\n",
    "print(total_umi_errors)"
   ]
  },
  {
   "cell_type": "markdown",
   "metadata": {
    "variables": {
     "total_umi_errors/400000": "0.095805"
    }
   },
   "source": [
    "### Conclusion\n",
    "Based on analysis of 400.000 reads with total 2 400.000 bases that belong to UMI there are {{total_umi_errors/400000}} % out of total number) bases in UMI with an error probability > 0.001"
   ]
  },
  {
   "cell_type": "markdown",
   "metadata": {},
   "source": [
    "## Number of bases in pool barcodes with an error threshold > 10^-3"
   ]
  },
  {
   "cell_type": "code",
   "execution_count": 192,
   "metadata": {
    "ExecuteTime": {
     "end_time": "2017-09-12T20:57:16.976775Z",
     "start_time": "2017-09-12T20:57:07.919550Z"
    }
   },
   "outputs": [
    {
     "name": "stdout",
     "output_type": "stream",
     "text": [
      "20615\n"
     ]
    }
   ],
   "source": [
    "path_to_file = R1_list\n",
    "pools_errors = list()\n",
    "total_pools_errors = list()\n",
    "for file in path_to_file:\n",
    "    pools_ascii = reader(file, start=3, stop=7, every_line_number=3)\n",
    "    pools = reader(file, start=7, stop=12, every_line_number=1)\n",
    "    pools_errors.append((number_of_suspicious_strings(pools_ascii)))\n",
    "    total_pools_errors = sum(pools_errors)\n",
    "print(total_pools_errors)"
   ]
  },
  {
   "cell_type": "markdown",
   "metadata": {
    "variables": {
     "total_pools_errors": "20615",
     "total_pools_errors/400000": "0.0515375"
    }
   },
   "source": [
    "### Conclusion\n",
    "Based on analysis of 400.000 reads with total 1 600.000 bases that belong to pool barcodes there are {{total_pools_errors}} ({{total_pools_errors/400000}} out of total number) bases in pool barcodes with an error probability > 0.001"
   ]
  },
  {
   "cell_type": "markdown",
   "metadata": {},
   "source": [
    "# Cell barcodes"
   ]
  },
  {
   "cell_type": "code",
   "execution_count": 193,
   "metadata": {
    "ExecuteTime": {
     "end_time": "2017-09-12T20:57:18.218371Z",
     "start_time": "2017-09-12T20:57:16.998468Z"
    }
   },
   "outputs": [],
   "source": [
    "path_to_file = R1_list\n",
    "\n",
    "all_reads = list()\n",
    "for file in R1_list:\n",
    "    all_reads.extend((reader(file, start=0, stop=60, every_line_number=1)))\n",
    "\n"
   ]
  },
  {
   "cell_type": "code",
   "execution_count": 194,
   "metadata": {
    "ExecuteTime": {
     "end_time": "2017-09-12T20:57:18.379703Z",
     "start_time": "2017-09-12T20:57:18.221394Z"
    }
   },
   "outputs": [
    {
     "data": {
      "text/plain": [
       "41.5802001953125"
      ]
     },
     "execution_count": 194,
     "metadata": {},
     "output_type": "execute_result"
    }
   ],
   "source": [
    "size_of_list(all_reads)"
   ]
  },
  {
   "cell_type": "code",
   "execution_count": 195,
   "metadata": {
    "ExecuteTime": {
     "end_time": "2017-09-12T20:57:19.400542Z",
     "start_time": "2017-09-12T20:57:18.382076Z"
    }
   },
   "outputs": [
    {
     "name": "stdout",
     "output_type": "stream",
     "text": [
      "400000\n"
     ]
    }
   ],
   "source": [
    "path_to_file = R1_list\n",
    "\n",
    "pools = list()\n",
    "\n",
    "for file in R1_list:\n",
    "    pool = reader(file, start=3, stop=7, every_line_number=1)\n",
    "    pools.extend(pool)\n",
    "print(len(pools))"
   ]
  },
  {
   "cell_type": "code",
   "execution_count": 196,
   "metadata": {
    "ExecuteTime": {
     "end_time": "2017-09-12T20:57:20.514340Z",
     "start_time": "2017-09-12T20:57:19.403220Z"
    }
   },
   "outputs": [
    {
     "name": "stdout",
     "output_type": "stream",
     "text": [
      "400000\n"
     ]
    }
   ],
   "source": [
    "path_to_file = R2_list\n",
    "\n",
    "wells = list()\n",
    "\n",
    "for file in R2_list:\n",
    "    well = reader(file, start=0, stop=6, every_line_number=1)\n",
    "    wells.extend(well)\n",
    "print(len(wells))"
   ]
  },
  {
   "cell_type": "code",
   "execution_count": 197,
   "metadata": {
    "ExecuteTime": {
     "end_time": "2017-09-12T20:57:20.754638Z",
     "start_time": "2017-09-12T20:57:20.516742Z"
    },
    "collapsed": true
   },
   "outputs": [],
   "source": [
    "cell_barcodes = list()\n",
    "for a,b in zip(pools,wells):\n",
    "    cell_barcodes.append(a+b)"
   ]
  },
  {
   "cell_type": "code",
   "execution_count": 198,
   "metadata": {
    "ExecuteTime": {
     "end_time": "2017-09-12T20:57:20.978981Z",
     "start_time": "2017-09-12T20:57:20.804056Z"
    }
   },
   "outputs": [
    {
     "name": "stdout",
     "output_type": "stream",
     "text": [
      "[('CTACAACGCA', 2172), ('AGTCCAGCAA', 840), ('CTACCAGCAA', 822), ('CTACTGCAGC', 771), ('AGTCCGCCCC', 720), ('CATGTGCTGC', 713), ('CTACCAGTCA', 705), ('CTACGACTGA', 704), ('AGTCCGCCTT', 696), ('AGTCTGCTGC', 692), ('AGTCGGTCCA', 689), ('TTGGTGCAGC', 669), ('AGTCGGTACC', 667), ('CATGGCAGCC', 666), ('AGTCCACATC', 663), ('ACAGCGCCTT', 650), ('ATCAGTCCAA', 649), ('CTACCATAGC', 644), ('CATGCAGCAA', 641), ('AGTCTCCAGC', 639), ('CTACCCAGCA', 637), ('CTACCGTTAC', 635), ('ATCAGGTCCA', 634), ('CATGGGTCCA', 628), ('CATGCGCCTT', 628), ('AGTCCCAGCA', 622), ('ATCATGCAGC', 622), ('TTGGGCAGCC', 619), ('CATGTGCTCG', 619), ('AGTCTGCAGC', 617), ('AGTCGCAGCC', 614), ('ACAGTGCTGC', 614), ('CTACGGTCCA', 610), ('ATCATGCTCG', 610), ('CTACTGCTGC', 607), ('AGTCGTCCAC', 606), ('ATCACGTTAC', 598), ('CATGTGCAGC', 596), ('AGTCGCTCTA', 590), ('CTACCAACTC', 588), ('CTACCGACGT', 588), ('ACAGTGCAGC', 587), ('CATGCCAGCA', 583), ('ACAGCAGCAA', 583), ('CATGCGTACG', 583), ('AGTCTGCTCG', 583), ('CTACCGAGAT', 583), ('CATGGACCAG', 582), ('CATGGTCCAC', 582), ('TTGGTAGAGC', 581), ('CATGCAGCGG', 579), ('CATGAACGCA', 577), ('AGTCCGACGT', 576), ('CTACCGCCTT', 575), ('AGTCGCACAC', 573), ('CATGCATGCT', 567), ('CATGCTGCGG', 566), ('AGTCCATGCT', 566), ('CTACCGCAGT', 560), ('ATCACAGTCA', 558), ('AGTCCTACCA', 553), ('ATCACACATC', 550), ('TTGGCAGCAA', 550), ('ATCAAACGCA', 549), ('ACAGGGTCCA', 548), ('AGTCGTCATC', 548), ('AGTCACCAAC', 548), ('CTACGAACCT', 546), ('CATGGTCTGA', 546), ('CATGCACATC', 545), ('CTACGTCCAA', 544), ('ACAGCGGAAT', 542), ('TTGGGTCCAA', 539), ('AGTCCCTACC', 538), ('AGTCGTCTGA', 537), ('AGTCCAGCGG', 536), ('AGTCCGCTAT', 536), ('AGTCCTGCGG', 535), ('AGTCCGTTAC', 534), ('CTACGGTACC', 532), ('ATCAGCAGCC', 530), ('AGTCCATAGC', 526), ('CTACGTCTGA', 524), ('CATGCGTTAC', 524), ('TTGGCGACGT', 522), ('ATCACAACTC', 522), ('ATCACATGCT', 521), ('AGTCGACCTA', 519), ('CATGTCTGGC', 519), ('ATCAGGTACC', 518), ('CTACCATGCT', 518), ('AGTCGAACTG', 518), ('CATGCCAGTT', 517), ('ACAGCAACTC', 516), ('CTACGCAGCC', 512), ('CTACGAACTG', 508), ('ATCAGACTGA', 508), ('ATCACATAGC', 507), ('CATGGACCTA', 506), ('CATGCAGTCA', 506), ('CTACCCAACA', 504), ('TTGGCCAGCA', 503), ('CATGCAACTC', 502), ('ACAGTCGCGA', 502), ('ACAGAACGCA', 498), ('CTACGTAGCA', 493), ('TTGGGTCCAC', 493), ('AGTCGCACAT', 492), ('CATGGACCGT', 492), ('ACAGGCAGCC', 491), ('CATGGCACAT', 488), ('AGTCCCAGTT', 488), ('ACAGGCGTCA', 487), ('ACAGGCACAT', 486), ('CTACGCGTCA', 486), ('ACAGCCAACA', 485), ('CTACACAGGT', 485), ('CTACCACATC', 485), ('AGTCGACAGT', 485), ('CATGGCCGTC', 485), ('AGTCCAACTC', 484), ('CATGGCCTAG', 480), ('AGTCAACTGG', 479), ('CATGCCTACC', 479), ('ACAGCTACCA', 479), ('AGTCGAGCTC', 478), ('ACAGCATGCT', 478), ('TTGGCATAGC', 478), ('ACAGCAGTCA', 477), ('CATGGCACAC', 476), ('CTACCAGCGG', 476), ('TTGGCACATC', 476), ('TTGGTAACCG', 475), ('CTACGACCTA', 475), ('CTACTTACGC', 475), ('CATGCCAACA', 473), ('ATCACCTACC', 472), ('ACAGCAGCGG', 471), ('TTGGCTGCGG', 471), ('CATGCATAGC', 471), ('CTACGTCATC', 470), ('CTACAGCGCT', 468), ('CTACGACAGT', 467), ('AGTCGTAGCA', 467), ('ATCAGCACAC', 467), ('ACAGCCAGCA', 467), ('TTGGGCCGCA', 466), ('AGTCTCGGAA', 465), ('AGTCAACGCA', 463), ('TTGGCAGTCA', 461), ('CATGCTATGC', 460), ('CATGGCGTCA', 460), ('CTACGCACAC', 459), ('AGTCGCCGCA', 457), ('TTGGCGCCTT', 457), ('CATGACCAAC', 456), ('TTGGCAGCGG', 456), ('CATGTCCAGC', 454), ('CATGGTCATC', 453), ('TTGGAACGCA', 453), ('CTACTCCAGC', 453), ('CATGCTACCA', 452), ('CATGGTGCAC', 452), ('ACAGGGTACC', 452), ('CTACCCTACC', 451), ('AGTCTCGCCT', 451), ('ATCACTGATG', 451), ('AGTCAGGTGC', 450), ('CATGTCGCCT', 449), ('ATCAGAACTG', 449), ('ACAGCGTACG', 447), ('CATGCGACGT', 447), ('CATGTTCGCT', 446), ('ACAGTGCTCG', 446), ('ACAGCCAGTT', 445), ('ACAGGCCGTC', 445), ('AGTCGATCGA', 444), ('ATCACGCCTT', 444), ('ATCACATTGA', 444), ('ACAGGTCATC', 444), ('CTACCGTACG', 443), ('ATCACGACGT', 443), ('ACAGGTCCAA', 443), ('CTACGTCTCA', 442), ('CATGTGCTGA', 441), ('AGTCGACTGA', 439), ('ACAGGTGCAC', 439), ('ATCACAGCGG', 439), ('TTGGGCGTCA', 439), ('AGTCAGCATG', 438), ('CTACGATCGA', 438), ('CTACTGCTCG', 438), ('AGTCGTCGCC', 438), ('AGTCGACCAG', 438), ('AGTCAGCAAT', 436), ('ATCAGCGATA', 436), ('CTACCGCTAT', 436), ('TTGGGCTCTA', 436), ('ACAGCGTTAC', 436), ('CTACTGCTGA', 435), ('AGTCGTCCAA', 435), ('TTGGGGTCCA', 435), ('CTACGTATCG', 435), ('CTACAGCATG', 434), ('ACAGGACAGT', 432), ('CATGGTCCAA', 431), ('AGTCCGTACG', 431), ('TTGGCAACTC', 430), ('ACAGCGCTAT', 428), ('AGTCGCGATA', 428), ('AGTCGATCAC', 428), ('TTGGTGCTGC', 428), ('CTACCAGGAG', 428), ('AGTCGACCGT', 427), ('CTACGCCGTC', 426), ('CATGGACAGT', 426), ('TTGGCCAGTT', 426), ('ATCACGCAGT', 426), ('CATGAGCATG', 425), ('CTACTGTCGG', 425), ('TTGGAGGTGC', 425), ('ACAGCGACGT', 424), ('CTACCATTGA', 424), ('TTGGTCGCCT', 424), ('ATCAGCACAT', 423), ('CTACTCTGGC', 421), ('CTACGAGCTC', 421), ('AGTCCCAACA', 421), ('CATGTAGAGC', 421), ('CTACCCGTAA', 420), ('CATGCGCTAT', 420), ('TTGGCGAGAT', 420), ('ATCAACCAAC', 420), ('CTACCCAGTT', 419), ('ATCAGTAGCA', 419), ('CTACTCGCGA', 418), ('CTACGCTATG', 417), ('ACAGGTCTGA', 417), ('ACAGCGAGAT', 416), ('AGTCTTACGC', 415), ('ATCAGTCAAG', 415), ('ACAGGAACCT', 415), ('AGTCGAACCT', 414), ('ACAGGCTCTA', 414), ('ACAGCATAGC', 414), ('ACAGGTAGCA', 414), ('CTACGCACAT', 413), ('CTACCTATGC', 413), ('AGTCCTGTGG', 412), ('AGTCTCTGGC', 412), ('CTACGACCAG', 412), ('CTACCATCGT', 412), ('CATGGAACCT', 411), ('ATCACTGCGG', 411), ('CATGGAACTG', 411), ('TTGGGTGCAC', 410), ('ATCAGATCGA', 410), ('TTGGGATCGA', 410), ('CTACGCGATA', 409), ('AGTCGCCGTC', 408), ('TTGGCGCAGT', 408), ('AGTCGTGCAC', 408), ('TTGGGTCTCA', 407), ('AGTCGCCTAG', 406), ('AGTCCGCAGT', 406), ('TTGGCATGCT', 405), ('CTACTCGCCT', 405), ('TTGGCCAACA', 404), ('CATGTCAGCA', 402), ('ACAGCCTACC', 402), ('TTGGCTATGC', 400), ('CTACTCAAGC', 400), ('TTGGCGTACG', 400), ('ACAGGAACTG', 400), ('ATCAGAACCT', 399), ('ACAGGACCAG', 399), ('TTGGACCAAC', 398), ('CATGCAGGAG', 398), ('CATGAGTTGC', 398), ('CTACCGGAAT', 396), ('ATCATGCTGA', 396), ('CATGGGTACC', 396), ('ACAGGCCTAG', 395), ('TTGGGAACTG', 394), ('AGTCACGTAC', 394), ('ACAGGACTGA', 393), ('ATCAGAGCTC', 393), ('AGTCTCAGCA', 393), ('ATCACGAGAT', 393), ('AGTCCATGCA', 392), ('AGTCCAGTCA', 392), ('ATCATAGAGC', 391), ('CTACTCACAG', 391), ('ACAGTGCAAG', 390), ('CTACGTCCAC', 390), ('ATCACAGGAG', 390), ('TTGGGGCTAA', 390), ('CATGGACTGA', 389), ('CATGCATTGA', 389), ('ACAGGCGATA', 388), ('ACAGAACTGG', 388), ('ACAGGACCGT', 388), ('CTACCGAATG', 387), ('CTACGGTTCA', 387), ('CATGCGCAGT', 387), ('CTACCATCAG', 387), ('CTACCTAGTG', 386), ('TTGGCTACCA', 386), ('CTACCTGATG', 386), ('ACAGCACATC', 384), ('AGTCGGACTT', 383), ('ACAGACCAAC', 383), ('CTACAACTGG', 382), ('ACAGAGCGCT', 382), ('AGTCGCGTCA', 382), ('AGTCTGCTGA', 381), ('ACAGTGCTGA', 381), ('CATGAGCGCT', 380), ('TTGGCCTACC', 380), ('ATCACATCAG', 380), ('TTGGGCCGTC', 380), ('CATGGTAGCA', 380), ('ATCATCGCCT', 379), ('ACAGGATCAC', 379), ('ACAGCGCCCC', 378), ('ACAGAGGTGC', 378), ('CTACGTCGCC', 377), ('CATGCGAGAT', 377), ('ATCATCCAGC', 377), ('ATCAGGCTAA', 377), ('CATGTTACGC', 377), ('ACAGCGCAGT', 377), ('TTGGAGCGCT', 376), ('ATCACCAGCA', 376), ('TTGGGTCTGA', 375), ('ATCACTACCA', 375), ('TTGGTGCTGA', 375), ('CATGCGAATG', 375), ('AGTCCGGAAT', 375), ('AGTCCATTGA', 375), ('CATGTCGCGA', 375), ('CTACGCCTAG', 375), ('ACAGTCAGCA', 374), ('CATGGAAGGA', 374), ('ACAGTCGCCT', 373), ('TTGGGCACAC', 373), ('CATGTAACCG', 373), ('ATCACGGAAT', 372), ('CATGTCCTTG', 372), ('ACAGTTACGC', 372), ('AGTCTGCAAG', 371), ('CTACAGCATC', 370), ('CATGCTGTGG', 370), ('AGTCAACTTG', 370), ('TTGGCAGGAG', 368), ('CATGTCAAGC', 368), ('CTACGGCTAA', 368), ('CTACGCTCTA', 368), ('CTACACCAAC', 367), ('CATGCCTTCG', 367), ('CATGCCAGAG', 367), ('CATGCGGAAT', 367), ('CTACCTTGAC', 367), ('CATGGCGATA', 366), ('CTACAGGTGC', 365), ('ATCAGTCTGA', 365), ('ATCAGTCTCA', 365), ('CTACGATATC', 365), ('CTACCTACCA', 364), ('CATGTTGAGC', 363), ('CTACTCCTTG', 363), ('ATCACTGTGG', 363), ('ACAGTAACCG', 363), ('ATCAAGCGCT', 362), ('CATGGATCGA', 362), ('ACAGGACCTA', 361), ('ACAGTCCAGC', 360), ('TTGGGGTACC', 360), ('AGTCAGCGCT', 359), ('AGTCCTGATG', 359), ('CTACGCATTG', 359), ('AGTCGCTATG', 359), ('ATCAGTATCG', 358), ('CTACGTGCAC', 358), ('CATGCAATAG', 358), ('CTACGTAACA', 358), ('CATGGCTCTA', 357), ('CTACTGCAAG', 357), ('CATGTCTGCA', 357), ('ATCACAGCAA', 356), ('ACAGCTATGC', 356), ('ATCATGCTGC', 355), ('ACAGGCACAC', 355), ('ACAGGTCCAC', 354), ('TTGGGACTGA', 354), ('CTACGGACTT', 354), ('ACAGTGAGAC', 353), ('CTACGCGTAT', 352), ('CATGTGAGAC', 352), ('CTACCTGCGG', 352), ('ACAGGTCTCA', 352), ('ACAGGTCGCC', 351), ('CTACCATGCA', 351), ('TTGGTCAGCA', 351), ('CTACTGAGAC', 351), ('ATCACATCGT', 350), ('CATGTCGCTA', 350), ('TTGGCTGATG', 350), ('CTACTGTACA', 349), ('ACAGAGTTGC', 348), ('TTGGAGGTCG', 348), ('ATCAGTCATC', 348), ('ATCACATGCA', 348), ('CTACGTAGTC', 348), ('AGTCTTGAGC', 348), ('TTGGAACTGG', 347), ('CATGGTCGCC', 347), ('CTACGACCGT', 346), ('CTACTCAGCA', 346), ('CTACAGCTGT', 345), ('CATGGTCTCA', 345), ('AGTCTCACAG', 345), ('ATCACGTACG', 345), ('ATCATTCGCT', 345), ('CATGGATCAC', 345), ('CTACTAGAGC', 343), ('TTGGCTGTGG', 343), ('ATCATGTCGG', 342), ('AGTCTCGCTA', 342), ('TTGGGTAGCA', 342), ('TTGGGCACAT', 342), ('AGTCCGAGAT', 341), ('ACAGCAGGAG', 341), ('ACAGGATCGA', 341), ('CATGGAGTCT', 340), ('TTGGCATGCA', 340), ('AGTCCAGGAG', 340), ('CATGGCTATG', 339), ('CATGGCCGCA', 338), ('TTGGGAACCT', 337), ('AGTCAGTTGC', 337), ('ACAGGGCTAA', 337), ('ATCATCTGGC', 336), ('ACAGTCAAGC', 336), ('ATCAAACTGG', 336), ('ATCAAGGTGC', 336), ('CTACGCCGCA', 335), ('CATGGATATC', 335), ('ATCAGCCGTC', 335), ('TTGGTGCTCG', 335), ('TTGGGACAGT', 335), ('ATCAGCGTCA', 335), ('AGTCTGTCGG', 334), ('AGTCCGAATG', 334), ('CATGGAGCTC', 334), ('CATGAGGTGC', 334), ('ACAGTTCGCT', 333), ('CTACTCAGTC', 332), ('CTACCCAAGT', 332), ('ACAGGTATCG', 332), ('CTACATACGC', 332), ('CTACTCGTAG', 332), ('CTACTTCGCT', 332), ('AGTCGTATCG', 332), ('AGTCGTCTCA', 331), ('CATGGGTTCA', 331), ('ACAGCAATAG', 331), ('CTACTCGGAA', 329), ('AGTCTCGCCC', 329), ('ATCACGCTAT', 328), ('TTGGATAGCG', 328), ('ATCAGTCCAC', 327), ('ATCAAGTTGC', 327), ('AGTCCTATGC', 327), ('ATCATCCTTG', 327), ('AGTCGATATC', 326), ('ATCAGACCAG', 326), ('CTACCTGTGG', 325), ('TTGGTGTCGG', 325), ('ACAGCATTGA', 325), ('ACAGAGCAAT', 325), ('TTGGGACCGT', 324), ('CTACTAGGCA', 323), ('TTGGCATCGT', 323), ('AGTCCATCGT', 323), ('CATGGGCTAA', 322), ('ATCATGCAAG', 322), ('ACAGGAGTCT', 321), ('TTGGTCCAGC', 321), ('ACAGAGCATG', 321), ('CTACCTCAGA', 321), ('CATGCTGATG', 321), ('AGTCACGATG', 320), ('ACAGCTGTAC', 320), ('ATCAAGCATC', 320), ('ATCAGACAGT', 319), ('CATGAGCATC', 319), ('ATCAGACCGT', 319), ('CATGAGCAAT', 319), ('ACAGTCCTTG', 319), ('AGTCGGCTAA', 319), ('AGTCTTCGCT', 319), ('TTGGCGCTAT', 318), ('CATGCCGTAA', 318), ('AGTCGCGTAT', 317), ('CTACATTGGC', 316), ('ACAGCATCGT', 315), ('ACAGAGACTC', 315), ('AGTCCCGTAA', 315), ('CATGGGACTT', 314), ('ATCACGAATG', 313), ('CATGACGTAC', 313), ('CTACTAACCG', 312), ('ATCATCGGAA', 312), ('AGTCAGGTCG', 312), ('TTGGGCGATA', 312), ('CTACCAGGTT', 310), ('ACAGGAAGGA', 310), ('CTACACGATG', 310), ('CTACTTAGCC', 310), ('TTGGTCGCTA', 309), ('ACAGTCGCTA', 309), ('CTACGAGTCT', 309), ('AGTCAAGACA', 309), ('TTGGAGCATC', 308), ('TTGGAGCAAT', 308), ('CATGCATCGT', 308), ('CATGAACTGG', 308), ('TTGGAGTTGC', 308), ('ACAGCTGATG', 308), ('CTACTTGAGC', 308), ('ACAGGCCGCA', 308), ('CTACAGTTGC', 308), ('TTGGGCCTAG', 307), ('ATCAGTCGCC', 306), ('AGTCTCGCGA', 306), ('CTACCTGTAC', 306), ('ACAGCTTGAC', 305), ('CATGTCAGTC', 305), ('CTACCCAGAG', 305), ('AGTCGTAGTC', 305), ('AGTCGGTTCA', 304), ('ATCACTGTAC', 304), ('ATCAATTGGC', 304), ('ATCACTAGTG', 304), ('ATCATCAGCA', 304), ('CATGGCGTAT', 304), ('ACAGGTAGTC', 304), ('CATGTAAGCA', 303), ('AGTCTAACCG', 303), ('AGTCTGAGAC', 303), ('AGTCAGCATC', 303), ('CATGTGTCGG', 302), ('AGTCCAATAG', 301), ('CATGGTAACA', 301), ('ACAGGAGCTC', 301), ('TTGGCGAATG', 301), ('AGTCGCATTG', 300), ('CTACAACTTG', 300), ('CTACATCCGT', 300), ('ACAGGCGTAT', 300), ('ACAGGATATC', 299), ('CATGAACTTG', 299), ('ATCAGCTATG', 299), ('AGTCAAGGCT', 299), ('ACAGATAGCG', 299), ('CATGATCGTC', 299), ('CATGATCTCG', 299), ('CTACTTCCGA', 298), ('CATGCATGCA', 297), ('ATCATTAGCC', 297), ('CTACACGTAC', 297), ('CTACATCTCG', 296), ('ACAGAGCTGT', 296), ('TTGGCGGAAT', 296), ('AGTCCCAGAG', 296), ('CATGATCCGT', 295), ('TTGGGACCAG', 294), ('CATGCTGTAC', 294), ('ACAGCCAAGT', 294), ('CTACAGCAAT', 294), ('AGTCAATCGG', 294), ('TTGGGACCTA', 294), ('CTACATCGTC', 294), ('TTGGTCAAGC', 293), ('TTGGGGTTCA', 293), ('ACAGCGAATG', 293), ('ATCAGACCTA', 293), ('CTACTACGTA', 293), ('ATCATTACGC', 293), ('ACAGTCTGCA', 293), ('ACAGCTGTGG', 292), ('ATCAGCTCTA', 292), ('CATGAGTCAG', 291), ('CATGTCACAG', 291), ('ACAGTCTGGC', 289), ('CTACCAATAG', 289), ('CATGTGCAAG', 288), ('ACAGATCGTC', 288), ('CTACCTGTAA', 288), ('CATGCATCAG', 288), ('ATCAAGCAAT', 288), ('AGTCACGGTC', 287), ('AGTCCCAAGT', 287), ('AGTCATACGC', 287), ('ACAGGCTATG', 286), ('TTGGTTCCGA', 286), ('TTGGCGTTAC', 286), ('CTACAAGACA', 286), ('TTGGTAGTCG', 285), ('ATCATCAAGC', 285), ('AGTCGAAGGA', 285), ('ATCACCAACA', 285), ('TTGGTCTGGC', 284), ('ATCATGAGAC', 283), ('ACAGAACTTG', 283), ('ACAGCATCAG', 283), ('ATCACCAGTT', 283), ('ATCAAACTTG', 283), ('TTGGTTGAGC', 282), ('ATCAGCCGCA', 282), ('CTACACGGTC', 282), ('TTGGAGCATG', 282), ('CTACGAAGAA', 281), ('TTGGGTAACA', 281), ('TTGGGTCGCC', 281), ('TTGGATTGGC', 281), ('ATCAGCATTG', 280), ('AGTCTCCTTG', 280), ('ATCAGAAGGA', 280), ('ATCAATCGTC', 280), ('ACAGTCGGAA', 279), ('ACAGTGTAAC', 278), ('CATGTCTCGG', 278), ('TTGGACGGTC', 278), ('TTGGGTCATC', 278), ('ATCACTTGAC', 278), ('CATGTCGGAA', 278), ('CTACCCTAGG', 277), ('ACAGATCTCG', 277), ('AGTCTCAAGC', 277), ('AGTCTCCAGT', 277), ('ACAGAGCATC', 277), ('ACAGAGCTTA', 276), ('AGTCCCTATG', 276), ('ATCATCGCGA', 276), ('CTACTCGCTA', 276), ('ACAGATTGGC', 276), ('ACAGGCATTG', 276), ('CATGACGGTC', 276), ('ACAGCTGCGG', 275), ('ACAGTGTACA', 275), ('CTACTCAATG', 275), ('TTGGCATTGA', 275), ('TTGGTCGCGA', 274), ('AGTCATCTCG', 274), ('CTACAGGATC', 274), ('ACAGTTAGCC', 274), ('AGTCGTCAAG', 274), ('ACAGATCCGT', 273), ('CTACTAAGCA', 273), ('CTACCCTTCG', 273), ('AGTCTTCCGA', 272), ('ATCATCGCTA', 272), ('AGTCTAAGCA', 272), ('CTACTCTGCA', 272), ('ATCACCAGAG', 271), ('ATCATTCCGA', 271), ('CTACCGTAGA', 270), ('CATGTTAGCC', 270), ('ATCATCGTAG', 269), ('ACAGACAGGT', 269), ('CATGTGTACA', 269), ('CATGTATCCA', 269), ('CATGTTGTCT', 269), ('ATCATCACAG', 269), ('AGTCTAGAGC', 269), ('TTGGGATCAC', 268), ('TTGGCCGTAA', 268), ('TTGGAGCTGT', 268), ('TTGGGAGTCT', 268), ('AGTCCATCAG', 268), ('TTGGTCAGTC', 267), ('CTACAAGGCT', 267), ('CATGGTATCG', 267), ('CTACTGTAAC', 267), ('AGTCAGGATC', 266), ('ATCAATCTCG', 266), ('ATCACTATGC', 266), ('CTACTAGTCG', 265), ('CATGAGCTGT', 265), ('AGTCATCGTC', 265), ('TTGGTTACGC', 265), ('ATCAATCCGT', 265), ('ATCAGTACTA', 264), ('ATCAGCCTAG', 264), ('ACAGCCGTAA', 264), ('ATCAGAAGAA', 264), ('CTACAGACTC', 264), ('AGTCCTTGAC', 263), ('ATCATCCAGT', 262), ('ACAGTAGAGC', 262), ('ATCAACGTAC', 262), ('CATGCTTGAC', 262), ('CATGGCATTG', 261), ('CATGATTGGC', 261), ('ATCAAGCATG', 261), ('CATGATACGC', 260), ('ATCAATACGC', 259), ('AGTCATTGGC', 258), ('ACAGGGTTCA', 258), ('CTACCTAACT', 258), ('AGTCTAGTCG', 257), ('ACAGCCAGAG', 257), ('ACAGCATGCA', 257), ('TTGGGAAGGA', 256), ('ACAGAGTCAG', 256), ('CATGTTCCGA', 256), ('CTACCTGTGA', 256), ('ATCACTGTAA', 256), ('TTGGTTCGCT', 255), ('CATGAGGTCG', 255), ('ATCAAGCTGT', 255), ('ATCACCAAGT', 255), ('CATGCCAAGT', 255), ('ATCAAGGTCG', 254), ('TTGGATACGC', 254), ('AGTCCTGTAC', 254), ('AGTCCCTTCG', 254), ('AGTCCTGTGA', 253), ('TTGGGCATTG', 253), ('TTGGATCCGT', 253), ('AGTCATCCGT', 253), ('TTGGGATATC', 253), ('ATCACCGTAA', 253), ('ATCATAGTCG', 253), ('TTGGGCGTAT', 252), ('AGTCTCTGCA', 252), ('ATCACTGTGA', 252), ('CTACATAGCG', 252), ('ATCAAAGGCT', 252), ('CATGCTAACT', 252), ('ACAGACGTAC', 252), ('ACAGGGACTT', 251), ('ACAGTGTCGG', 251), ('ATCAAGACTC', 251), ('AGTCGTAACA', 251), ('CTACTAGACT', 251), ('ACAGAAGGCT', 251), ('ACAGTTCCGA', 251), ('AGTCAGACTC', 250), ('AGTCGAGTCT', 249), ('ATCATACGTA', 249), ('ACAGCTCAGA', 249), ('CATGCTCAGA', 249), ('ATCATAACCG', 249), ('ATCAGTGCAC', 248), ('TTGGAAGGCT', 248), ('TTGGGGACTT', 248), ('TTGGTAGGCA', 248), ('AGTCATAGCG', 248), ('TTGGATCGTC', 248), ('CTACAGTCAG', 248), ('ACAGTAGTCG', 247), ('ATCATAAGCA', 247), ('TTGGTAGCGT', 247), ('ATCACTCAGA', 247), ('ATCATTGAGC', 246), ('CATGATAGCG', 246), ('AGTCTCTCGG', 245), ('AGTCCTCAGA', 245), ('TTGGCATCAG', 245), ('CATGGTAGTC', 245), ('CTACAGGTCG', 245), ('AGTCTCACGT', 245), ('AGTCCTAGTG', 245), ('ACAGACTCTG', 245), ('ATCAGTAGTC', 244), ('CTACGAAGGA', 244), ('CATGAAGGCT', 244), ('TTGGATCTCG', 244), ('AGTCTTAGCC', 243), ('TTGGCCAGAG', 243), ('TTGGTCGGAA', 243), ('CTACTAGCGT', 242), ('CATGTAGCGT', 241), ('CATGTCACGT', 241), ('CATGGTCAAG', 241), ('ATCAGGTTCA', 241), ('AGTCTGTAAC', 241), ('AGTCCGTAGA', 241), ('AGTCAGTCAG', 240), ('CATGAAGACA', 240), ('ACAGATACGC', 240), ('AGTCTGTACA', 240), ('CTACTCTCGG', 240), ('ATCAAGCTTA', 240), ('CATGCAGGTT', 239), ('CTACCCTATG', 239), ('CATGACAGGT', 239), ('ATCAGAGTCT', 239), ('ATCATATCCA', 239), ('ATCACAATAG', 239), ('CATGTGTAAC', 237), ('TTGGCGTAGA', 237), ('ATCACCTTCG', 237), ('ACAGCGTAGA', 237), ('CATGCGTAGA', 236), ('AGTCACAGGT', 236), ('CTACTCACGT', 236), ('ACAGTCGTAG', 236), ('CATGGAAGAA', 235), ('ATCACAGGTT', 235), ('ATCAGGACTT', 235), ('CATGATTGTC', 235), ('ATCAACGGTC', 235), ('TTGGAGCTTA', 235), ('ACAGACGGTC', 234), ('ACAGTAGCTA', 234), ('TTGGCTCAGA', 234), ('CTACAGTACT', 234), ('ACAGCTGTAA', 234), ('CTACAGCTTA', 234), ('CATGTACGTA', 233), ('CATGTAGGCA', 232), ('TTGGCAATAG', 232), ('AGTCTAGCGT', 232), ('AGTCTACGTA', 232), ('ACAGTAGCGT', 232), ('ACAGAGGATC', 232), ('AGTCCAGGTT', 231), ('AGTCACAGTT', 231), ('AGTCAGCTGT', 231), ('TTGGGAGCTC', 231), ('TTGGACGTAC', 229), ('ACAGTCACGT', 229), ('CTACATTGTC', 228), ('ATCATCACGT', 227), ('TTGGAGACTC', 227), ('TTGGGTATCG', 227), ('TTGGCTGTGA', 227), ('CATGACGATG', 227), ('ATCAGCGTAT', 227), ('TTGGTCTCGG', 227), ('TTGGTGAGAC', 226), ('TTGGAACTTG', 226), ('TTGGTGCAAG', 226), ('CATGTCCAGT', 226), ('ACAGCTAGTG', 226), ('TTGGCTTGAC', 225), ('TTGGGCTATG', 225), ('CATGCTAGTG', 225), ('CATGCTGTAA', 224), ('ATCAATAGCG', 223), ('CTACTTCAGG', 223), ('ACAGGTAACA', 223), ('ATCATGTACA', 222), ('CTACACAGTT', 222), ('TTGGTCACAG', 221), ('TTGGACAGGT', 221), ('CATGAATCGG', 221), ('TTGGCTGTAA', 220), ('CTACAATCGG', 220), ('ACAGATTGTC', 219), ('TTGGTCTGCA', 219), ('ATCATCAGTC', 219), ('ATCATAGCGT', 219), ('AGTCTAGACT', 218), ('ACAGTAAGCA', 217), ('CTACTATCCA', 217), ('CTACTAGCTA', 217), ('ACAGTCACAG', 217), ('CATGTAGTCG', 217), ('TTGGCCAAGT', 217), ('CTACTCCAGT', 217), ('AGTCTATCCA', 216), ('TTGGTTGTCT', 216), ('ATCAACGATG', 215), ('AGTCTAGGCA', 215), ('TTGGTACGTA', 214), ('AGTCATTGTC', 214), ('ACAGTAGACT', 214), ('ACAGTCTCGG', 214), ('CATGAGACTC', 214), ('CTACGATCAC', 214), ('CATGCTGTGA', 213), ('CTACACTGTA', 213), ('ACAGCAGGTT', 213), ('TTGGTCAATG', 212), ('AGTCGTACTA', 212), ('ATCAATTGTC', 211), ('CTACTTGTCT', 211), ('ATCACCTATG', 210), ('AGTCCTAACT', 210), ('ATCACGTAGA', 210), ('TTGGTCACGT', 209), ('ATCAAAGACA', 209), ('ACAGAAGACA', 208), ('ACAGTCGCCC', 208), ('CATGACTCTG', 208), ('CATGAGCTTA', 208), ('CATGTAGCTA', 208), ('ACAGTCCAGT', 207), ('ACAGTAGGCA', 207), ('ACAGAATCGG', 206), ('AGTCAGCTTA', 206), ('CTACAGGTAA', 205), ('ACAGTTGAGC', 204), ('ATCATCTCGG', 204), ('TTGGAAGACA', 204), ('TTGGCTGTAC', 204), ('TTGGCTAGTG', 204), ('ACAGAAGCTT', 203), ('ACAGAGGTCG', 203), ('CATGTTGAAT', 202), ('CTACAGGTTA', 202), ('CATGTCGTAG', 202), ('CTACGTACTA', 202), ('AGTCCCTAGG', 201), ('TTGGCCTTCG', 201), ('TTGGCAGGTT', 200), ('TTGGGTACTA', 200), ('ACAGCCTAGG', 199), ('ATCAACAGGT', 199), ('AGTCGAAGAA', 199), ('CATGACTGGA', 198), ('ATCAAAGGAT', 198), ('TTGGAGTCAG', 197), ('CTACGTCAAG', 197), ('AGTCACTCTG', 197), ('CATGAGGTAA', 197), ('ACAGACGATG', 196), ('TTGGGTAGTC', 196), ('ACAGGTACTA', 196), ('AGTCTCAGTC', 196), ('TTGGTAAGCA', 196), ('CATGTAGACT', 195), ('ATCATAGGCA', 195), ('CATGTGTAAT', 194), ('TTGGATTGTC', 193), ('ACAGTACGTA', 193), ('CATGAGGATC', 193), ('CATGTCAATG', 192), ('CTACTAAGCT', 191), ('CTACACTCTG', 191), ('ATCAGATATC', 191), ('TTGGTCCAGT', 190), ('CTACTACTTA', 190), ('ACAGTCAGTC', 190), ('ATCATAGACT', 190), ('TTGGTGTAAC', 190), ('ATCATCTGCA', 190), ('TTGGTCCTTG', 190), ('AGTCTAGCTA', 189), ('AGTCAGTACT', 189), ('ACAGCCTTCG', 189), ('CTACAGTCTA', 188), ('AGTCAGGTAA', 187), ('AGTCTCGTAG', 187), ('CATGCCTAGG', 186), ('ATCAAATCGG', 186), ('ATCAAGGTTA', 186), ('AGTCTTGAAT', 185), ('ATCAGATCAC', 185), ('CATGACAGTT', 184), ('ACAGACTGTA', 184), ('ATCAAGGATC', 184), ('CTACTATCTG', 184), ('ATCATCAATG', 183), ('ACAGTTCAGG', 183), ('TTGGGTCAAG', 183), ('CTACACTAGT', 182), ('AGTCAGGTTA', 182), ('ATCATGTAAC', 182), ('ACAGGAAGAA', 182), ('CATGTAAGCT', 181), ('TTGGCTAACT', 180), ('TTGGTGTACA', 179), ('ACAGACAGTT', 179), ('ACAGATTCCT', 178), ('CATGAAGCTT', 178), ('ACAGTTGTCT', 177), ('AGTCTCAATG', 176), ('CTACACTGGA', 175), ('ACAGAGTACT', 174), ('AGTCTTGTCT', 174), ('TTGGGAAGAA', 174), ('CATGTTCAGG', 173), ('TTGGACGATG', 173), ('ACAGTAAGCT', 172), ('TTGGAATCGG', 172), ('ACAGTCAATG', 171), ('ACAGTATCCA', 171), ('CATGACTGTA', 171), ('TTGGACAGTT', 171), ('TTGGTTAGCC', 170), ('ATCACTAACT', 170), ('ATCATTGTCT', 169), ('CTACAAGCTT', 168), ('CATGGTACTA', 168), ('TTGGACTCTG', 167), ('ATCAGTAACA', 166), ('ACAGACTAAG', 166), ('TTGGTTCAGG', 166), ('AGTCTACTTA', 166), ('CTACACTAAG', 166), ('CATGAGGTTA', 165), ('AGTCAGTCTA', 165), ('TTGGCCTAGG', 164), ('AGTCATTCCT', 163), ('ATCAAGTCAG', 163), ('TTGGTAGCTA', 163), ('ACAGCTGTGA', 163), ('TTGGCCTATG', 162), ('ACAGCTAACT', 161), ('AGTCAAGGAT', 161), ('TTGGTATCCA', 160), ('AGTCGTATAA', 160), ('ACAGAAGGAT', 159), ('ACAGTACTTA', 158), ('CTACAAGGAT', 158), ('CTACGAAAAA', 157), ('ACAGAACAAT', 157), ('AGTCCTGTAA', 157), ('AGTCAAGCTT', 157), ('ACAGTTGAAT', 156), ('TTGGTCGTAG', 156), ('TTGGAGGTAA', 156), ('TTGGAGGATC', 155), ('ACAGAGGTAA', 155), ('CTACTTGAAT', 155), ('TTGGACTGTA', 154), ('CATGTTAACG', 154), ('CATGCCTATG', 154), ('TTGGACTAAG', 154), ('AGTCACTGGA', 154), ('ACAGTATCTG', 153), ('CTACATTCCT', 153), ('CATGATTCCT', 153), ('TTGGTAAGCT', 152), ('AGTCACTGTA', 152), ('ACAGGTCAAG', 151), ('TTGGTATCTG', 151), ('CATGAGTACT', 150), ('AGTCTTAACG', 148), ('ACAGTTAACG', 148), ('ATCAAGTACT', 147), ('ATCATACTTA', 147), ('ACAGGTATAA', 147), ('TTGGACTGGA', 147), ('CATGTATCTG', 147), ('CATGAACAAT', 147), ('CATGAGTCTA', 146), ('ATCATAGCTA', 145), ('TTGGTAGACT', 144), ('ATCAAGGTAA', 144), ('ACAGACTAGT', 143), ('TTGGACTAGT', 142), ('CATGAAGGAT', 142), ('ACAGCCTATG', 142), ('AGTCAACAAT', 141), ('TTGGAACAAT', 141), ('TTGGAAGCTT', 140), ('ATCAACAGTT', 139), ('ATCATTCAGG', 139), ('AGTCTATCTG', 139), ('TTGGAGTACT', 138), ('TTGGATTCCT', 137), ('AGTCTTCAGG', 137), ('CATGTACTTA', 137), ('TTGGTTGAAT', 137), ('AGTCTAAGCT', 137), ('CATGACTAAG', 137), ('ATCAACTGGA', 136), ('ATCAACTAGT', 135), ('CTACCCAAAA', 135), ('AGTCATTCTA', 134), ('ACAGAGTCTA', 133), ('TTGGAATGTT', 133), ('ATCATATCTG', 132), ('ATCATTAACG', 132), ('AGTCAATGTT', 132), ('CATGACTAGT', 132), ('ACAGAGGTTA', 131), ('ATCAGTATAA', 131), ('CTACTAATGA', 130), ('ACAGACTGGA', 129), ('ATCATAATGA', 127), ('TTGGTACTTA', 126), ('CTACTTAACG', 126), ('TTGGTTAACG', 125), ('AGTCACTAGT', 124), ('TTGGAGGTTA', 124), ('ATCATTGAAT', 123), ('AGTCACTAAG', 122), ('ATCATAAGCT', 122), ('ATCAAGTCTA', 121), ('ATCACCTAGG', 121), ('CTACTGTAAT', 119), ('ATCAACTGTA', 119), ('CTACAACAAT', 119), ('TTGGAGTCTA', 118), ('AGTCTGTAAT', 117), ('CATGAATGTT', 115), ('TTGGTAATGA', 114), ('ATCAACTCTG', 112), ('ACAGTAATGA', 111), ('CTACCTATAG', 109), ('ACAGAATGTT', 107), ('ATCAAAGCTT', 107), ('TTGGTGTAAT', 105), ('TTGGAAGGAT', 103), ('ACAGCCAAAA', 103), ('CATGGTATAA', 103), ('ATCAAATGTT', 103), ('CTACAATGTT', 102), ('CATGTAATGA', 101), ('CATGATTATC', 100), ('TTGGGTATAA', 99), ('ATCAACTAAG', 99), ('TTGGTTAATC', 98), ('CTACTTAATC', 97), ('ATCATGTAAT', 97), ('ACAGTGTAAT', 97), ('ACAGCTATAG', 92), ('CTACGTATAA', 92), ('AGTCTTAATC', 91), ('ATCAAACAAT', 90), ('TTGGCTATAG', 90), ('ACAGATTCTA', 89), ('AGTCCTATAG', 87), ('CATGATTCTA', 86), ('CATGTTAATC', 86), ('CATGCTATAG', 86), ('ATCACTATAG', 85), ('ATCATTAATC', 85), ('CTACATTATG', 84), ('CTACATTCTA', 84), ('CTACATTATC', 82), ('CTACGTAAAA', 81), ('AGTCTAATGA', 79), ('TTGGATTCTA', 79), ('ACAGATTATC', 78), ('CATGCCAAAA', 77), ('TTGGATTATC', 76), ('AGTCATTATG', 76), ('ATCAATTCTA', 76), ('TTGGATTATG', 76), ('CATGATTATG', 76), ('ACAGATTATG', 75), ('ACAGGAAAAA', 73), ('AGTCATTATC', 70)]\n"
     ]
    }
   ],
   "source": [
    "from collections import Counter\n",
    "print(Counter(cell_barcodes).most_common(1152))"
   ]
  },
  {
   "cell_type": "code",
   "execution_count": 199,
   "metadata": {
    "ExecuteTime": {
     "end_time": "2017-09-12T20:57:21.022253Z",
     "start_time": "2017-09-12T20:57:20.983368Z"
    },
    "collapsed": true
   },
   "outputs": [],
   "source": [
    "cell_barcodes_unique = set(cell_barcodes)"
   ]
  },
  {
   "cell_type": "code",
   "execution_count": 200,
   "metadata": {
    "ExecuteTime": {
     "end_time": "2017-09-12T20:57:21.031717Z",
     "start_time": "2017-09-12T20:57:21.025413Z"
    }
   },
   "outputs": [
    {
     "data": {
      "text/plain": [
       "21427"
      ]
     },
     "execution_count": 200,
     "metadata": {},
     "output_type": "execute_result"
    }
   ],
   "source": [
    "len(cell_barcodes_unique)"
   ]
  },
  {
   "cell_type": "code",
   "execution_count": 201,
   "metadata": {
    "ExecuteTime": {
     "end_time": "2017-09-12T20:57:21.056869Z",
     "start_time": "2017-09-12T20:57:21.033837Z"
    }
   },
   "outputs": [
    {
     "data": {
      "text/plain": [
       "'TTGGGACNNN'"
      ]
     },
     "execution_count": 201,
     "metadata": {},
     "output_type": "execute_result"
    }
   ],
   "source": [
    "cell_barcodes[0]"
   ]
  },
  {
   "cell_type": "code",
   "execution_count": null,
   "metadata": {
    "collapsed": true
   },
   "outputs": [],
   "source": []
  },
  {
   "cell_type": "code",
   "execution_count": null,
   "metadata": {
    "collapsed": true
   },
   "outputs": [],
   "source": []
  },
  {
   "cell_type": "code",
   "execution_count": null,
   "metadata": {
    "collapsed": true
   },
   "outputs": [],
   "source": []
  },
  {
   "cell_type": "code",
   "execution_count": null,
   "metadata": {
    "ExecuteTime": {
     "start_time": "2017-09-12T18:55:05.041Z"
    },
    "collapsed": true
   },
   "outputs": [],
   "source": [
    "import pandas as pd\n",
    "import numpy as np"
   ]
  },
  {
   "cell_type": "code",
   "execution_count": null,
   "metadata": {
    "ExecuteTime": {
     "start_time": "2017-09-12T18:55:05.046Z"
    }
   },
   "outputs": [],
   "source": [
    "# count dna_reads in a file\n",
    "# open file\n",
    "pools = ['ACAG', 'AGTC', 'ATCA', 'CATG', 'CTAC', 'TCTA', 'TGAT', 'TTGG', 'unknown']\n",
    "R1_list = !ls /Users/dariapodorskaja/Desktop/Lab/Lane_7_NoIndex_L007_R1*\n",
    "R1_list = list(R1_list)\n",
    "path_to_file = R1_list\n",
    "dna_reads = []\n",
    "lines_count = 160000  # number of lines in 10 files\n",
    "\n",
    "list_streak = list()\n",
    "list_count = list()\n",
    "list_pool = list()\n",
    "list_corrected_pool = list()\n",
    "list_after_polyA = list()\n",
    "\n",
    "# make lists of dna reads\n",
    "for file in path_to_file:\n",
    "    with open(file, 'r') as f:   # f = open(path_to_file, 'r') # f is a variable with a file\n",
    "        for current_line in range(lines_count):\n",
    "            if current_line % 4 == 1:  # pick lines with DNA sequences\n",
    "                s = f.readline()\n",
    "                s = s.replace('\\n', '')\n",
    "                \n",
    "                pool = s[3:7]\n",
    "                list_streak.append(longest_a_streak(s))\n",
    "                list_count.append(s.count('A'))\n",
    "                list_pool.append(pool)\n",
    "                list_corrected_pool.append(pool_correction(pool, pools))\n",
    "                list_after_polyA.append(after_polyatail(s))\n",
    "            else:\n",
    "                next(f)"
   ]
  },
  {
   "cell_type": "code",
   "execution_count": null,
   "metadata": {
    "ExecuteTime": {
     "start_time": "2017-09-12T18:55:05.051Z"
    }
   },
   "outputs": [],
   "source": [
    "# define empty pandas dataframe with column names\n",
    "df = pd.DataFrame(columns=('streakA', 'countA', 'pool_barcode', 'corrected_pool', 'well_barcode', 'cell_barcode'))\n",
    "# df.streakA = df.streakA.astype('int')\n",
    "# df.countA = df.countA.astype('int')\n",
    "# df.pool = df.pool.astype('str')\n",
    "# df.corrected_pool = df.corrected_pool.astype('str')\n",
    "\n",
    "# add to pandas dataframe\n",
    "df.streakA = list_streak\n",
    "df.countA = list_count\n",
    "df.pool_barcode = list_pool\n",
    "df.corrected_pool = list_corrected_pool\n",
    "df.well_barcode = wells\n",
    "df.cell_barcode = cell_barcodes"
   ]
  },
  {
   "cell_type": "code",
   "execution_count": null,
   "metadata": {
    "ExecuteTime": {
     "start_time": "2017-09-12T18:55:05.058Z"
    }
   },
   "outputs": [],
   "source": [
    "df.head()"
   ]
  },
  {
   "cell_type": "code",
   "execution_count": null,
   "metadata": {
    "ExecuteTime": {
     "start_time": "2017-09-12T18:55:05.063Z"
    },
    "collapsed": true
   },
   "outputs": [],
   "source": [
    "df = df.head(n=200)"
   ]
  },
  {
   "cell_type": "code",
   "execution_count": null,
   "metadata": {
    "ExecuteTime": {
     "start_time": "2017-09-12T18:55:05.078Z"
    }
   },
   "outputs": [],
   "source": [
    "df"
   ]
  },
  {
   "cell_type": "code",
   "execution_count": null,
   "metadata": {
    "ExecuteTime": {
     "start_time": "2017-09-12T18:55:05.084Z"
    }
   },
   "outputs": [],
   "source": [
    "df = pd.DataFrame(index=cell_barcodes, columns=('pool_barcode', 'well_barcode', 'cell_barcode'))\n",
    "df.pool_barcode = list_pool\n",
    "df.well_barcode = wells\n",
    "df.cell_barcode = cell_barcodes\n",
    "df.head()\n"
   ]
  },
  {
   "cell_type": "code",
   "execution_count": null,
   "metadata": {
    "collapsed": true
   },
   "outputs": [],
   "source": []
  },
  {
   "cell_type": "code",
   "execution_count": null,
   "metadata": {
    "ExecuteTime": {
     "start_time": "2017-09-12T18:55:05.097Z"
    }
   },
   "outputs": [],
   "source": [
    "# for pool,p in df.groupby(by=\"corrected_pool\"):\n",
    "#     p.streakA.plot(kind='bar')\n",
    "    \n",
    "# #plt.legend()\n",
    "# p.streakA.plot(kind='bar')"
   ]
  },
  {
   "cell_type": "code",
   "execution_count": null,
   "metadata": {
    "ExecuteTime": {
     "start_time": "2017-09-12T18:55:05.102Z"
    }
   },
   "outputs": [],
   "source": [
    "# %matplotlib inline\n",
    "# df.streakA.hist(by=df.corrected_pool)"
   ]
  },
  {
   "cell_type": "code",
   "execution_count": null,
   "metadata": {
    "ExecuteTime": {
     "start_time": "2017-09-12T18:55:22.625Z"
    }
   },
   "outputs": [],
   "source": [
    "# df1 = df.loc[:,['streakA', 'corrected_pool']]\n",
    "# fig, ax = plt.subplots()\n",
    "\n",
    "# for pool,p in df1.groupby(by=\"corrected_pool\"):\n",
    "#     p.plot(label=pool, alpha=.75, ax=ax)\n",
    "\n",
    "# ax.legend()"
   ]
  },
  {
   "cell_type": "code",
   "execution_count": null,
   "metadata": {
    "ExecuteTime": {
     "start_time": "2017-09-12T18:55:05.114Z"
    }
   },
   "outputs": [],
   "source": [
    "# df.head()"
   ]
  },
  {
   "cell_type": "code",
   "execution_count": null,
   "metadata": {
    "collapsed": true
   },
   "outputs": [],
   "source": []
  },
  {
   "cell_type": "code",
   "execution_count": null,
   "metadata": {
    "collapsed": true
   },
   "outputs": [],
   "source": []
  },
  {
   "cell_type": "code",
   "execution_count": null,
   "metadata": {
    "collapsed": true
   },
   "outputs": [],
   "source": []
  },
  {
   "cell_type": "code",
   "execution_count": null,
   "metadata": {
    "collapsed": true
   },
   "outputs": [],
   "source": []
  },
  {
   "cell_type": "code",
   "execution_count": null,
   "metadata": {
    "collapsed": true
   },
   "outputs": [],
   "source": []
  },
  {
   "cell_type": "code",
   "execution_count": null,
   "metadata": {
    "collapsed": true
   },
   "outputs": [],
   "source": []
  },
  {
   "cell_type": "code",
   "execution_count": null,
   "metadata": {
    "collapsed": true
   },
   "outputs": [],
   "source": []
  },
  {
   "cell_type": "code",
   "execution_count": null,
   "metadata": {
    "collapsed": true
   },
   "outputs": [],
   "source": []
  },
  {
   "cell_type": "code",
   "execution_count": null,
   "metadata": {
    "collapsed": true
   },
   "outputs": [],
   "source": []
  },
  {
   "cell_type": "code",
   "execution_count": null,
   "metadata": {
    "collapsed": true
   },
   "outputs": [],
   "source": []
  },
  {
   "cell_type": "code",
   "execution_count": null,
   "metadata": {
    "collapsed": true
   },
   "outputs": [],
   "source": []
  },
  {
   "cell_type": "code",
   "execution_count": null,
   "metadata": {
    "collapsed": true
   },
   "outputs": [],
   "source": []
  },
  {
   "cell_type": "code",
   "execution_count": null,
   "metadata": {
    "ExecuteTime": {
     "start_time": "2017-09-12T18:55:05.138Z"
    }
   },
   "outputs": [],
   "source": [
    "\n",
    "# fig, ax = plt.subplots(10, figsize=(20,30))\n",
    "\n",
    "# for i, (pool,p) in enumerate(df.groupby(by=\"corrected_pool\")):\n",
    "#     ax[i].hist(p.streakA, label=pool)\n",
    "# plt.legend();"
   ]
  },
  {
   "cell_type": "code",
   "execution_count": null,
   "metadata": {
    "collapsed": true
   },
   "outputs": [],
   "source": []
  }
 ],
 "metadata": {
  "kernelspec": {
   "display_name": "Python 3",
   "language": "python",
   "name": "python3"
  },
  "language_info": {
   "codemirror_mode": {
    "name": "ipython",
    "version": 3
   },
   "file_extension": ".py",
   "mimetype": "text/x-python",
   "name": "python",
   "nbconvert_exporter": "python",
   "pygments_lexer": "ipython3",
   "version": "3.6.0"
  },
  "toc": {
   "collapse_to_match_collapsible_headings": false,
   "colors": {
    "hover_highlight": "#DAA520",
    "navigate_num": "#000000",
    "navigate_text": "#333333",
    "running_highlight": "#FF0000",
    "selected_highlight": "#FFD700",
    "sidebar_border": "#EEEEEE",
    "wrapper_background": "#FFFFFF"
   },
   "moveMenuLeft": true,
   "nav_menu": {
    "height": "138px",
    "width": "252px"
   },
   "navigate_menu": true,
   "number_sections": true,
   "sideBar": true,
   "skip_h1_title": false,
   "threshold": 4,
   "toc_cell": true,
   "toc_section_display": "block",
   "toc_window_display": false,
   "widenNotebook": false
  },
  "varInspector": {
   "cols": {
    "lenName": 16,
    "lenType": 16,
    "lenVar": 40
   },
   "kernels_config": {
    "python": {
     "delete_cmd_postfix": "",
     "delete_cmd_prefix": "del ",
     "library": "var_list.py",
     "varRefreshCmd": "print(var_dic_list())"
    },
    "r": {
     "delete_cmd_postfix": ") ",
     "delete_cmd_prefix": "rm(",
     "library": "var_list.r",
     "varRefreshCmd": "cat(var_dic_list()) "
    }
   },
   "oldHeight": 363,
   "position": {
    "height": "302px",
    "left": "1118px",
    "right": "20px",
    "top": "106px",
    "width": "307px"
   },
   "types_to_exclude": [
    "module",
    "function",
    "builtin_function_or_method",
    "instance",
    "_Feature"
   ],
   "varInspector_section_display": "block",
   "window_display": false
  }
 },
 "nbformat": 4,
 "nbformat_minor": 2
}
