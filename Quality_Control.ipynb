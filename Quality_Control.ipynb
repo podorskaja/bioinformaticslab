{
 "cells": [
  {
   "cell_type": "markdown",
   "metadata": {
    "slideshow": {
     "slide_type": "slide"
    },
    "toc": "true"
   },
   "source": [
    " # Table of Contents\n",
    "<div class=\"toc\" style=\"margin-top: 1em;\"><ul class=\"toc-item\" id=\"toc-level0\"><li><span><a href=\"http://localhost:8888/notebooks/bioinformaticslab/Quality_Control.ipynb#Find-the-longest-streak-of-'A'-Nucleotide\" data-toc-modified-id=\"Find-the-longest-streak-of-'A'-Nucleotide-1\"><span class=\"toc-item-num\">1&nbsp;&nbsp;</span>Find the longest streak of 'A' Nucleotide</a></span><ul class=\"toc-item\"><li><span><a href=\"http://localhost:8888/notebooks/bioinformaticslab/Quality_Control.ipynb#Conclusion\" data-toc-modified-id=\"Conclusion-1.1\"><span class=\"toc-item-num\">1.1&nbsp;&nbsp;</span>Conclusion</a></span></li></ul></li><li><span><a href=\"http://localhost:8888/notebooks/bioinformaticslab/Quality_Control.ipynb#Find-the-longest-streak-of-'T'-Nucleotide\" data-toc-modified-id=\"Find-the-longest-streak-of-'T'-Nucleotide-2\"><span class=\"toc-item-num\">2&nbsp;&nbsp;</span>Find the longest streak of 'T' Nucleotide</a></span><ul class=\"toc-item\"><li><span><a href=\"http://localhost:8888/notebooks/bioinformaticslab/Quality_Control.ipynb#Conclusion\" data-toc-modified-id=\"Conclusion-2.1\"><span class=\"toc-item-num\">2.1&nbsp;&nbsp;</span>Conclusion</a></span></li></ul></li><li><span><a href=\"http://localhost:8888/notebooks/bioinformaticslab/Quality_Control.ipynb#Total-'A'-count-per-read\" data-toc-modified-id=\"Total-'A'-count-per-read-3\"><span class=\"toc-item-num\">3&nbsp;&nbsp;</span>Total 'A' count per read</a></span><ul class=\"toc-item\"><li><span><a href=\"http://localhost:8888/notebooks/bioinformaticslab/Quality_Control.ipynb#Conclusion\" data-toc-modified-id=\"Conclusion-3.1\"><span class=\"toc-item-num\">3.1&nbsp;&nbsp;</span>Conclusion</a></span></li></ul></li><li><span><a href=\"http://localhost:8888/notebooks/bioinformaticslab/Quality_Control.ipynb#Total-'T'-count-per-read\" data-toc-modified-id=\"Total-'T'-count-per-read-4\"><span class=\"toc-item-num\">4&nbsp;&nbsp;</span>Total 'T' count per read</a></span></li><li><span><a href=\"http://localhost:8888/notebooks/bioinformaticslab/Quality_Control.ipynb#Count-DNA-reads-by-pool\" data-toc-modified-id=\"Count-DNA-reads-by-pool-5\"><span class=\"toc-item-num\">5&nbsp;&nbsp;</span>Count DNA reads by pool</a></span><ul class=\"toc-item\"><li><span><a href=\"http://localhost:8888/notebooks/bioinformaticslab/Quality_Control.ipynb#Conclusion\" data-toc-modified-id=\"Conclusion-5.1\"><span class=\"toc-item-num\">5.1&nbsp;&nbsp;</span>Conclusion</a></span></li></ul></li><li><span><a href=\"http://localhost:8888/notebooks/bioinformaticslab/Quality_Control.ipynb#Demultiplexing\" data-toc-modified-id=\"Demultiplexing-6\"><span class=\"toc-item-num\">6&nbsp;&nbsp;</span>Demultiplexing</a></span></li><li><span><a href=\"http://localhost:8888/notebooks/bioinformaticslab/Quality_Control.ipynb#Count-longest-streak-of-'A'-by-the-pool\" data-toc-modified-id=\"Count-longest-streak-of-'A'-by-the-pool-7\"><span class=\"toc-item-num\">7&nbsp;&nbsp;</span>Count longest streak of 'A' by the pool</a></span></li><li><span><a href=\"http://localhost:8888/notebooks/bioinformaticslab/Quality_Control.ipynb#Base-content-(%)-based-on-the-position-in-the-read\" data-toc-modified-id=\"Base-content-(%)-based-on-the-position-in-the-read-8\"><span class=\"toc-item-num\">8&nbsp;&nbsp;</span>Base content (%) based on the position in the read</a></span></li><li><span><a href=\"http://localhost:8888/notebooks/bioinformaticslab/Quality_Control.ipynb#Poly-A-tail-analysis\" data-toc-modified-id=\"Poly-A-tail-analysis-9\"><span class=\"toc-item-num\">9&nbsp;&nbsp;</span>Poly-A tail analysis</a></span></li><li><span><a href=\"http://localhost:8888/notebooks/bioinformaticslab/Quality_Control.ipynb#Consensus-matrix-on-strings-after-poly-A-tail\" data-toc-modified-id=\"Consensus-matrix-on-strings-after-poly-A-tail-10\"><span class=\"toc-item-num\">10&nbsp;&nbsp;</span>Consensus matrix on strings after poly A tail</a></span></li><li><span><a href=\"http://localhost:8888/notebooks/bioinformaticslab/Quality_Control.ipynb#Find-consensus-sequence-(=-artefact)-after-Poly-A-tail\" data-toc-modified-id=\"Find-consensus-sequence-(=-artefact)-after-Poly-A-tail-11\"><span class=\"toc-item-num\">11&nbsp;&nbsp;</span>Find consensus sequence (= artefact) after Poly A tail</a></span></li><li><span><a href=\"http://localhost:8888/notebooks/bioinformaticslab/Quality_Control.ipynb#Error-probability-of-the-base-in-disrupted-polyA-based-on-phred-score\" data-toc-modified-id=\"Error-probability-of-the-base-in-disrupted-polyA-based-on-phred-score-12\"><span class=\"toc-item-num\">12&nbsp;&nbsp;</span>Error probability of the base in disrupted polyA based on phred score</a></span></li><li><span><a href=\"http://localhost:8888/notebooks/bioinformaticslab/Quality_Control.ipynb#Markov-chain-after-PolyA-analysis\" data-toc-modified-id=\"Markov-chain-after-PolyA-analysis-13\"><span class=\"toc-item-num\">13&nbsp;&nbsp;</span>Markov chain after PolyA analysis</a></span></li><li><span><a href=\"http://localhost:8888/notebooks/bioinformaticslab/Quality_Control.ipynb#Error-probability-based-on-phred-score\" data-toc-modified-id=\"Error-probability-based-on-phred-score-14\"><span class=\"toc-item-num\">14&nbsp;&nbsp;</span>Error probability based on phred score</a></span><ul class=\"toc-item\"><li><span><a href=\"http://localhost:8888/notebooks/bioinformaticslab/Quality_Control.ipynb#Number-of-bases-in-well-barcodes-with-an-error-threshold-&gt;-10^-3\" data-toc-modified-id=\"Number-of-bases-in-well-barcodes-with-an-error-threshold->-10^-3-14.1\"><span class=\"toc-item-num\">14.1&nbsp;&nbsp;</span>Number of bases in well barcodes with an error threshold &gt; 10^-3</a></span><ul class=\"toc-item\"><li><span><a href=\"http://localhost:8888/notebooks/bioinformaticslab/Quality_Control.ipynb#Conclusion\" data-toc-modified-id=\"Conclusion-14.1.1\"><span class=\"toc-item-num\">14.1.1&nbsp;&nbsp;</span>Conclusion</a></span></li></ul></li><li><span><a href=\"http://localhost:8888/notebooks/bioinformaticslab/Quality_Control.ipynb#Number-of-bases-in-UMI-with-an-error-threshold-&gt;-10^-3\" data-toc-modified-id=\"Number-of-bases-in-UMI-with-an-error-threshold->-10^-3-14.2\"><span class=\"toc-item-num\">14.2&nbsp;&nbsp;</span>Number of bases in UMI with an error threshold &gt; 10^-3</a></span><ul class=\"toc-item\"><li><span><a href=\"http://localhost:8888/notebooks/bioinformaticslab/Quality_Control.ipynb#Conclusion\" data-toc-modified-id=\"Conclusion-14.2.1\"><span class=\"toc-item-num\">14.2.1&nbsp;&nbsp;</span>Conclusion</a></span></li></ul></li><li><span><a href=\"http://localhost:8888/notebooks/bioinformaticslab/Quality_Control.ipynb#Number-of-bases-in-pool-barcodes-with-an-error-threshold-&gt;-10^-3\" data-toc-modified-id=\"Number-of-bases-in-pool-barcodes-with-an-error-threshold->-10^-3-14.3\"><span class=\"toc-item-num\">14.3&nbsp;&nbsp;</span>Number of bases in pool barcodes with an error threshold &gt; 10^-3</a></span><ul class=\"toc-item\"><li><span><a href=\"http://localhost:8888/notebooks/bioinformaticslab/Quality_Control.ipynb#Conclusion\" data-toc-modified-id=\"Conclusion-14.3.1\"><span class=\"toc-item-num\">14.3.1&nbsp;&nbsp;</span>Conclusion</a></span></li></ul></li></ul></li><li><span><a href=\"http://localhost:8888/notebooks/bioinformaticslab/Quality_Control.ipynb#Cell-barcodes\" data-toc-modified-id=\"Cell-barcodes-15\"><span class=\"toc-item-num\">15&nbsp;&nbsp;</span>Cell barcodes</a></span></li></ul></div>"
   ]
  },
  {
   "cell_type": "code",
   "execution_count": 247,
   "metadata": {
    "ExecuteTime": {
     "end_time": "2017-10-15T10:26:03.540883Z",
     "start_time": "2017-10-15T10:25:35.892616Z"
    },
    "collapsed": true,
    "slideshow": {
     "slide_type": "slide"
    }
   },
   "outputs": [],
   "source": [
    "%reset -f"
   ]
  },
  {
   "cell_type": "code",
   "execution_count": 248,
   "metadata": {
    "ExecuteTime": {
     "end_time": "2017-10-15T10:26:03.581290Z",
     "start_time": "2017-10-15T10:26:03.545502Z"
    },
    "collapsed": true,
    "slideshow": {
     "slide_type": "subslide"
    }
   },
   "outputs": [],
   "source": [
    "import seaborn as sns\n",
    "import matplotlib.pyplot as plt"
   ]
  },
  {
   "cell_type": "code",
   "execution_count": 249,
   "metadata": {
    "ExecuteTime": {
     "end_time": "2017-10-15T10:26:03.678937Z",
     "start_time": "2017-10-15T10:26:03.606284Z"
    },
    "collapsed": true,
    "slideshow": {
     "slide_type": "fragment"
    }
   },
   "outputs": [],
   "source": [
    "R1_list = !ls /Users/dariapodorskaja/Desktop/Lab/Lane_7_NoIndex_L007_R1*\n",
    "R1_list = list(R1_list)"
   ]
  },
  {
   "cell_type": "code",
   "execution_count": 250,
   "metadata": {
    "ExecuteTime": {
     "end_time": "2017-10-15T10:26:05.664454Z",
     "start_time": "2017-10-15T10:26:03.682367Z"
    },
    "collapsed": true
   },
   "outputs": [],
   "source": [
    "# count dna_reads in a file\n",
    "# open file\n",
    "\n",
    "dna_reads = []\n",
    "lines_count = 160000  # number of lines in a file\n",
    "\n",
    "# make lists of dna reads\n",
    "for file in R1_list:\n",
    "    with open(file, 'r') as f:   # f = open(path_to_file, 'r') # f is a variable with a file\n",
    "        for current_line in range(lines_count):\n",
    "            if current_line % 4 == 1:  # pick lines with DNA sequences\n",
    "                s = f.readline()\n",
    "                s = s.replace('\\n', '')\n",
    "                dna_reads.append(s)\n",
    "            else:\n",
    "                next(f)"
   ]
  },
  {
   "cell_type": "code",
   "execution_count": 251,
   "metadata": {
    "ExecuteTime": {
     "end_time": "2017-10-15T10:26:05.692128Z",
     "start_time": "2017-10-15T10:26:05.667537Z"
    }
   },
   "outputs": [
    {
     "data": {
      "text/plain": [
       "400000"
      ]
     },
     "execution_count": 251,
     "metadata": {},
     "output_type": "execute_result"
    }
   ],
   "source": [
    "len(dna_reads)"
   ]
  },
  {
   "cell_type": "code",
   "execution_count": 252,
   "metadata": {
    "ExecuteTime": {
     "end_time": "2017-10-15T10:26:05.750413Z",
     "start_time": "2017-10-15T10:26:05.695170Z"
    },
    "collapsed": true
   },
   "outputs": [],
   "source": [
    "def size_of_list(my_list):\n",
    "    \"\"\"size of my_list in MB\"\"\"\n",
    "    import sys\n",
    "    return sum([sys.getsizeof(i) for i in my_list]) / 1024 / 1024"
   ]
  },
  {
   "cell_type": "code",
   "execution_count": 253,
   "metadata": {
    "ExecuteTime": {
     "end_time": "2017-10-15T10:26:05.771548Z",
     "start_time": "2017-10-15T10:26:05.758678Z"
    },
    "collapsed": true
   },
   "outputs": [],
   "source": [
    "def histo(values, plot_title='empty title'):\n",
    "    \"\"\"show a histogram based on list\"\"\"\n",
    "    import matplotlib.pyplot as plt\n",
    "\n",
    "    plt.bar(range(len(values)),values)\n",
    "    plt.title(plot_title)\n",
    "    plt.show()\n"
   ]
  },
  {
   "cell_type": "markdown",
   "metadata": {},
   "source": [
    "# Find the longest streak of 'A' Nucleotide"
   ]
  },
  {
   "cell_type": "code",
   "execution_count": 254,
   "metadata": {
    "ExecuteTime": {
     "end_time": "2017-10-15T10:26:05.802591Z",
     "start_time": "2017-10-15T10:26:05.774538Z"
    },
    "collapsed": true
   },
   "outputs": [],
   "source": [
    "def longest_a_streak(dna):\n",
    "    \"\"\"find longest streak of A in a string\"\"\"\n",
    "    counter = 0 \n",
    "    longest_streak = 0 #variable must be defined\n",
    "    for base in dna: \n",
    "        if base == 'A':\n",
    "            counter = counter + 1\n",
    "            if counter > longest_streak:\n",
    "                longest_streak = counter\n",
    "        else:\n",
    "            counter = 0\n",
    "    return longest_streak"
   ]
  },
  {
   "cell_type": "code",
   "execution_count": 255,
   "metadata": {
    "ExecuteTime": {
     "end_time": "2017-10-15T10:26:10.183067Z",
     "start_time": "2017-10-15T10:26:05.805854Z"
    },
    "collapsed": true
   },
   "outputs": [],
   "source": [
    "result = list()\n",
    "for s in dna_reads:\n",
    "    result.append(longest_a_streak(s))"
   ]
  },
  {
   "cell_type": "code",
   "execution_count": 256,
   "metadata": {
    "ExecuteTime": {
     "end_time": "2017-10-15T10:26:10.412873Z",
     "start_time": "2017-10-15T10:26:10.227972Z"
    }
   },
   "outputs": [
    {
     "name": "stdout",
     "output_type": "stream",
     "text": [
      "[50, 6106, 62289, 26702, 14599, 9449, 8647, 8638, 7625, 8399, 10165, 13048, 15929, 17763, 18980, 18955, 19225, 20180, 20061, 19701, 18003, 15701, 12000, 9001, 6363, 4329, 2791, 1834, 1189, 787, 493, 321, 220, 142, 91, 67, 48, 27, 25, 12, 10, 6, 7, 5, 5, 2, 2, 2, 0, 0, 0, 0, 1, 2, 1, 0, 0, 0, 0, 0, 2]\n"
     ]
    }
   ],
   "source": [
    "# create a list with 61 zeroes\n",
    "longest_a_histo = [0 for i in range(61)]\n",
    "\n",
    "# add +1 to the correponding position when we see an element\n",
    "# i.e. if we see element 13 in \"result\", add +1 to position 13 in \"longest_a_histo\"\n",
    "for r in result:\n",
    "    longest_a_histo[r] += 1\n",
    "\n",
    "print(longest_a_histo)"
   ]
  },
  {
   "cell_type": "code",
   "execution_count": 257,
   "metadata": {
    "ExecuteTime": {
     "end_time": "2017-10-15T10:26:10.953399Z",
     "start_time": "2017-10-15T10:26:10.415181Z"
    }
   },
   "outputs": [
    {
     "data": {
      "image/png": "[encoded data removed]",
      "text/plain": [
       "<matplotlib.figure.Figure at 0x194fa82b0>"
      ]
     },
     "metadata": {},
     "output_type": "display_data"
    }
   ],
   "source": [
    "histo(longest_a_histo, 'Longest \"A\" streak')"
   ]
  },
  {
   "cell_type": "markdown",
   "metadata": {},
   "source": [
    "## Conclusion\n",
    "- The most \"popular\" A streak is of length 2 (it can be found in >60.000 reads out of 400.000)\n",
    "- The most common A streak is of length 10-23\n"
   ]
  },
  {
   "cell_type": "markdown",
   "metadata": {},
   "source": [
    "# Find the longest streak of 'T' Nucleotide"
   ]
  },
  {
   "cell_type": "code",
   "execution_count": 258,
   "metadata": {
    "ExecuteTime": {
     "end_time": "2017-10-15T10:26:10.967513Z",
     "start_time": "2017-10-15T10:26:10.955705Z"
    },
    "collapsed": true
   },
   "outputs": [],
   "source": [
    "def longest_t_streak(dna):\n",
    "    \"\"\"find longest streak of T in a string\"\"\"\n",
    "    counter_t = 0 \n",
    "    longest_t_streak = 0 #variable must be defined\n",
    "    for base in dna: \n",
    "        if base == 'T':\n",
    "            counter_t = counter_t + 1\n",
    "            if counter_t > longest_t_streak:\n",
    "                longest_t_streak = counter_t\n",
    "        else:\n",
    "            counter_t = 0\n",
    "    return longest_t_streak"
   ]
  },
  {
   "cell_type": "code",
   "execution_count": null,
   "metadata": {
    "ExecuteTime": {
     "end_time": "2017-10-14T19:43:08.993292Z",
     "start_time": "2017-10-14T19:43:08.611573Z"
    }
   },
   "outputs": [],
   "source": []
  },
  {
   "cell_type": "code",
   "execution_count": 259,
   "metadata": {
    "ExecuteTime": {
     "end_time": "2017-10-15T10:26:13.872417Z",
     "start_time": "2017-10-15T10:26:10.969837Z"
    },
    "collapsed": true
   },
   "outputs": [],
   "source": [
    "result = list()\n",
    "for s in dna_reads:\n",
    "    result.append(longest_t_streak(s))"
   ]
  },
  {
   "cell_type": "code",
   "execution_count": 260,
   "metadata": {
    "ExecuteTime": {
     "end_time": "2017-10-15T10:26:14.004075Z",
     "start_time": "2017-10-15T10:26:13.874637Z"
    }
   },
   "outputs": [
    {
     "name": "stdout",
     "output_type": "stream",
     "text": [
      "[251, 146102, 160641, 49881, 14811, 6121, 1953, 1314, 885, 684, 703, 739, 656, 754, 717, 782, 840, 908, 853, 916, 827, 766, 729, 685, 580, 576, 471, 427, 400, 388, 341, 304, 249, 244, 241, 204, 170, 156, 130, 108, 90, 91, 67, 67, 48, 47, 62, 48, 40, 62, 36, 46, 61, 671, 18, 4, 6, 3, 4, 1, 21]\n"
     ]
    }
   ],
   "source": [
    "# create a list with 61 zeroes\n",
    "longest_t_histo = [0 for i in range(61)]\n",
    "\n",
    "# add +1 to the correponding position when we see an element\n",
    "# i.e. if we see element 13 in \"result\", add +1 to position 13 in \"longest_a_histo\"\n",
    "for r in result:\n",
    "    longest_t_histo[r] += 1\n",
    "\n",
    "print(longest_t_histo)"
   ]
  },
  {
   "cell_type": "code",
   "execution_count": 261,
   "metadata": {
    "ExecuteTime": {
     "end_time": "2017-10-15T10:26:14.454267Z",
     "start_time": "2017-10-15T10:26:14.007162Z"
    }
   },
   "outputs": [
    {
     "data": {
      "image/png": "[encoded data removed]",
      "text/plain": [
       "<matplotlib.figure.Figure at 0x116ace048>"
      ]
     },
     "metadata": {},
     "output_type": "display_data"
    }
   ],
   "source": [
    "histo(longest_t_histo, 'Longest \"T\" streak')"
   ]
  },
  {
   "cell_type": "markdown",
   "metadata": {
    "collapsed": true
   },
   "source": [
    "## Conclusion\n",
    "- The most common length of streak of \"T\" is of 1-3 bases in a row"
   ]
  },
  {
   "cell_type": "markdown",
   "metadata": {},
   "source": [
    "# Total 'A' count per read"
   ]
  },
  {
   "cell_type": "code",
   "execution_count": 262,
   "metadata": {
    "ExecuteTime": {
     "end_time": "2017-10-15T10:26:18.735445Z",
     "start_time": "2017-10-15T10:26:14.456821Z"
    },
    "collapsed": true
   },
   "outputs": [],
   "source": [
    "result = []\n",
    "counter_A = 0\n",
    "for s in dna_reads:\n",
    "    for base in s:\n",
    "        if base == 'A':\n",
    "            counter_A += 1\n",
    "    result.append(counter_A)\n",
    "    counter_A = 0"
   ]
  },
  {
   "cell_type": "code",
   "execution_count": 263,
   "metadata": {
    "ExecuteTime": {
     "end_time": "2017-10-15T10:26:18.936047Z",
     "start_time": "2017-10-15T10:26:18.739014Z"
    },
    "collapsed": true
   },
   "outputs": [],
   "source": [
    "total_a = [0 for i in range(61)]\n",
    "for r in result:\n",
    "    total_a[r] += 1"
   ]
  },
  {
   "cell_type": "code",
   "execution_count": 264,
   "metadata": {
    "ExecuteTime": {
     "end_time": "2017-10-15T10:26:19.499702Z",
     "start_time": "2017-10-15T10:26:18.939440Z"
    }
   },
   "outputs": [
    {
     "data": {
      "image/png": "[encoded data removed]",
      "text/plain": [
       "<matplotlib.figure.Figure at 0x116c697f0>"
      ]
     },
     "metadata": {},
     "output_type": "display_data"
    }
   ],
   "source": [
    "histo(total_a, plot_title='Total count of \"A\"')"
   ]
  },
  {
   "cell_type": "markdown",
   "metadata": {},
   "source": [
    "## Conclusion\n",
    "- We expect to have 25% of A. \n",
    "\n"
   ]
  },
  {
   "cell_type": "markdown",
   "metadata": {},
   "source": [
    "# Total 'T' count per read"
   ]
  },
  {
   "cell_type": "code",
   "execution_count": 265,
   "metadata": {
    "ExecuteTime": {
     "end_time": "2017-10-15T10:26:24.633425Z",
     "start_time": "2017-10-15T10:26:19.503695Z"
    },
    "collapsed": true
   },
   "outputs": [],
   "source": [
    "result_t = []\n",
    "counter_t = 0\n",
    "for s in dna_reads:\n",
    "    for base in s:\n",
    "        if base == 'T':\n",
    "            counter_t += 1\n",
    "    result_t.append(counter_t)\n",
    "    counter_t = 0"
   ]
  },
  {
   "cell_type": "code",
   "execution_count": 266,
   "metadata": {
    "ExecuteTime": {
     "end_time": "2017-10-15T10:26:24.817733Z",
     "start_time": "2017-10-15T10:26:24.640266Z"
    },
    "collapsed": true
   },
   "outputs": [],
   "source": [
    "total_t = [0 for i in range(61)]\n",
    "for r in result_t:\n",
    "    total_t[r] += 1"
   ]
  },
  {
   "cell_type": "code",
   "execution_count": 267,
   "metadata": {
    "ExecuteTime": {
     "end_time": "2017-10-15T10:26:25.400685Z",
     "start_time": "2017-10-15T10:26:24.847544Z"
    }
   },
   "outputs": [
    {
     "data": {
      "image/png": "[encoded data removed]",
      "text/plain": [
       "<matplotlib.figure.Figure at 0x170a02048>"
      ]
     },
     "metadata": {},
     "output_type": "display_data"
    }
   ],
   "source": [
    "histo(total_t, plot_title='Total count of \"T\"')"
   ]
  },
  {
   "cell_type": "markdown",
   "metadata": {},
   "source": [
    "# Count DNA reads by pool "
   ]
  },
  {
   "cell_type": "code",
   "execution_count": 268,
   "metadata": {
    "ExecuteTime": {
     "end_time": "2017-10-15T10:26:25.448968Z",
     "start_time": "2017-10-15T10:26:25.425768Z"
    },
    "collapsed": true
   },
   "outputs": [],
   "source": [
    "d = {\n",
    "'ACAG': 0,\n",
    "'AGTC': 0,\n",
    "'ATCA': 0,\n",
    "'CATG': 0,\n",
    "'CTAC': 0,\n",
    "'TCTA': 0,\n",
    "'TGAT': 0,\n",
    "'TTGG': 0,\n",
    "'unknown': 0\n",
    "}\n",
    "\n",
    "# # or we can create this dict ourselves\n",
    "# pools = ['ACAG', 'AGTC', 'ATCA', 'CATG', 'CTAC', 'TCTA', 'TGAT', 'TTGG', 'unknown']\n",
    "# {pool: 0 for pool in pools}"
   ]
  },
  {
   "cell_type": "code",
   "execution_count": 269,
   "metadata": {
    "ExecuteTime": {
     "end_time": "2017-10-15T10:26:25.461338Z",
     "start_time": "2017-10-15T10:26:25.453099Z"
    }
   },
   "outputs": [
    {
     "name": "stdout",
     "output_type": "stream",
     "text": [
      "400000\n"
     ]
    }
   ],
   "source": [
    "print(len(dna_reads))"
   ]
  },
  {
   "cell_type": "code",
   "execution_count": 270,
   "metadata": {
    "ExecuteTime": {
     "end_time": "2017-10-15T10:26:26.151565Z",
     "start_time": "2017-10-15T10:26:25.464493Z"
    },
    "collapsed": true
   },
   "outputs": [],
   "source": [
    "for read in dna_reads:\n",
    "    pool = read[3:7]\n",
    "    if pool in d.keys():\n",
    "        d[pool] += 1\n",
    "    else:\n",
    "        d['unknown'] += 1"
   ]
  },
  {
   "cell_type": "code",
   "execution_count": 271,
   "metadata": {
    "ExecuteTime": {
     "end_time": "2017-10-15T10:26:26.161062Z",
     "start_time": "2017-10-15T10:26:26.154165Z"
    }
   },
   "outputs": [
    {
     "name": "stdout",
     "output_type": "stream",
     "text": [
      "{'ACAG': 63064, 'AGTC': 70542, 'ATCA': 58141, 'CATG': 66798, 'CTAC': 72654, 'TCTA': 27, 'TGAT': 12, 'TTGG': 56581, 'unknown': 12181}\n"
     ]
    }
   ],
   "source": [
    "print(d)"
   ]
  },
  {
   "cell_type": "code",
   "execution_count": 272,
   "metadata": {
    "ExecuteTime": {
     "end_time": "2017-10-15T10:26:26.864837Z",
     "start_time": "2017-10-15T10:26:26.164238Z"
    }
   },
   "outputs": [
    {
     "data": {
      "image/png": "[encoded data removed]",
      "text/plain": [
       "<matplotlib.figure.Figure at 0x190228780>"
      ]
     },
     "metadata": {},
     "output_type": "display_data"
    }
   ],
   "source": [
    "# order in a dict is not guaranteed, so we may get weird results\n",
    "plt.bar(range(len(d.keys())),d.values())\n",
    "plt.xticks(range(len(d)), list(sorted(d.keys())))\n",
    "plt.title('Count DNA reads by pool')\n",
    "plt.show()"
   ]
  },
  {
   "cell_type": "markdown",
   "metadata": {},
   "source": [
    "## Conclusion\n",
    "- 2 given pools from the wet lab were not found "
   ]
  },
  {
   "cell_type": "markdown",
   "metadata": {},
   "source": [
    "# Demultiplexing\n"
   ]
  },
  {
   "cell_type": "code",
   "execution_count": 273,
   "metadata": {
    "ExecuteTime": {
     "end_time": "2017-10-15T10:26:26.881225Z",
     "start_time": "2017-10-15T10:26:26.868496Z"
    },
    "collapsed": true
   },
   "outputs": [],
   "source": [
    "def hamming_distance(dna1, dna2):\n",
    "    assert isinstance(dna1, str)\n",
    "    assert isinstance(dna2, str)\n",
    "\n",
    "    distance = 0\n",
    "    for b1, b2 in zip(dna1, dna2):\n",
    "        if b1 != b2:\n",
    "            distance += 1\n",
    "    return distance\n",
    "\n",
    "assert hamming_distance('AAAA', 'unknown') == 4"
   ]
  },
  {
   "cell_type": "code",
   "execution_count": 274,
   "metadata": {
    "ExecuteTime": {
     "end_time": "2017-10-15T10:26:26.902029Z",
     "start_time": "2017-10-15T10:26:26.883654Z"
    },
    "collapsed": true
   },
   "outputs": [],
   "source": [
    "def pool_correction(read_pool, list_of_pools, max_ham_dist = 1):\n",
    "    \"\"\"compare given pool against list of pools and correct it\"\"\"\n",
    "    assert isinstance(read_pool, str)\n",
    "    assert isinstance(list_of_pools, list)\n",
    "    for p in list_of_pools:\n",
    "        dist = hamming_distance(p, read_pool)\n",
    "        if dist == 0:\n",
    "            return p\n",
    "        elif dist <= max_ham_dist:\n",
    "            return p\n",
    "    return 'unknown'\n",
    "\n",
    "pools = ['ACAG', 'AGTC', 'ATCA', 'CATG', 'CTAC', 'TCTA', 'TGAT', 'TTGG', 'unknown']\n",
    "assert pool_correction('ACAT', pools) == 'ACAG'\n",
    "assert pool_correction('TTGG', pools) == 'TTGG'\n",
    "assert pool_correction('MMMM', pools) == 'unknown'\n",
    "assert pool_correction('ACTA', pools, max_ham_dist=2) == 'ACAG'"
   ]
  },
  {
   "cell_type": "code",
   "execution_count": 275,
   "metadata": {
    "ExecuteTime": {
     "end_time": "2017-10-15T10:26:39.859829Z",
     "start_time": "2017-10-15T10:26:26.905488Z"
    }
   },
   "outputs": [
    {
     "data": {
      "text/html": [
       "<iframe id=\"igraph\" scrolling=\"no\" style=\"border:none;\" seamless=\"seamless\" src=\"https://plot.ly/~apochka/2.embed\" height=\"525px\" width=\"100%\"></iframe>"
      ],
      "text/plain": [
       "<plotly.tools.PlotlyDisplay object>"
      ]
     },
     "execution_count": 275,
     "metadata": {},
     "output_type": "execute_result"
    }
   ],
   "source": [
    "# 1 initialize dict\n",
    "# 2 add corrected pools\n",
    "# 3 plot\n",
    "\n",
    "import plotly.plotly as py\n",
    "import plotly.graph_objs as go\n",
    "\n",
    "data = list()\n",
    "for hamming_dist in range(3):\n",
    "    d = {\n",
    "    'ACAG': 0,\n",
    "    'AGTC': 0,\n",
    "    'ATCA': 0,\n",
    "    'CATG': 0,\n",
    "    'CTAC': 0,\n",
    "    'TCTA': 0,\n",
    "    'TGAT': 0,\n",
    "    'TTGG': 0,\n",
    "    'unknown': 0\n",
    "    }\n",
    "\n",
    "\n",
    "    for read in dna_reads:\n",
    "        pool = read[3:7]\n",
    "        pool = pool_correction(pool, pools, hamming_dist)\n",
    "        d[pool] += 1\n",
    "    keys, values = zip(*d.items())\n",
    "\n",
    "    trace = go.Bar(\n",
    "        x=keys,\n",
    "        y=values,\n",
    "        name='Hamming distance of ' + str(hamming_dist)\n",
    "    )\n",
    "    data.append(trace)\n",
    "\n",
    "#     plot_from_dict(d, plot_title= \"Hamming distance of \" + str(hamming_dist))\n",
    "py.iplot(data, filename = 'basic-line')"
   ]
  },
  {
   "cell_type": "markdown",
   "metadata": {},
   "source": [
    "# Count longest streak of 'A' by the pool"
   ]
  },
  {
   "cell_type": "code",
   "execution_count": 276,
   "metadata": {
    "ExecuteTime": {
     "end_time": "2017-10-15T10:26:39.882508Z",
     "start_time": "2017-10-15T10:26:39.866250Z"
    },
    "collapsed": true
   },
   "outputs": [],
   "source": [
    "pools = ['ACAG', 'AGTC', 'ATCA', 'CATG', 'CTAC', 'TCTA', 'TGAT', 'TTGG', 'unknown']\n",
    "\n",
    "# create a dictionary with keys as strings from pools and for values empty list with 61 zeroes\n",
    "d = {k: list(0 for i in range(61)) for k in pools}"
   ]
  },
  {
   "cell_type": "code",
   "execution_count": 277,
   "metadata": {
    "ExecuteTime": {
     "end_time": "2017-10-15T10:26:43.944774Z",
     "start_time": "2017-10-15T10:26:39.884724Z"
    },
    "collapsed": true
   },
   "outputs": [],
   "source": [
    "for read in dna_reads:\n",
    "    pool = read[3:7]\n",
    "    longest_a_streak_in_pool = longest_a_streak(read)\n",
    "    lst_61_zeroes = d[pool] if pool in d.keys() else d['unknown']\n",
    "    lst_61_zeroes[longest_a_streak_in_pool] += 1"
   ]
  },
  {
   "cell_type": "code",
   "execution_count": 278,
   "metadata": {
    "ExecuteTime": {
     "end_time": "2017-10-15T10:26:47.731616Z",
     "start_time": "2017-10-15T10:26:43.947177Z"
    }
   },
   "outputs": [
    {
     "data": {
      "image/png": "[encoded data removed]",
      "text/plain": [
       "<matplotlib.figure.Figure at 0x1110316d8>"
      ]
     },
     "metadata": {},
     "output_type": "display_data"
    }
   ],
   "source": [
    "from itertools import product\n",
    "graph_position = list(product(range(3), range(3)))\n",
    "\n",
    "dim = {'x': 3, 'y': 3}\n",
    "f, axarr = plt.subplots(dim['x'], dim['y'], figsize=(18, 10))\n",
    "\n",
    "max_y_value = max(max(i) for i in d.values())\n",
    "\n",
    "\n",
    "for coordinates, d_pool in zip(graph_position, d.items()):\n",
    "    i, j = coordinates\n",
    "    k, v = d_pool\n",
    "    axarr[i, j].bar(range(len(v)),v)\n",
    "    axarr[i, j].set_title(k)\n",
    "    axarr[i, j].set_ylim([0, max_y_value])\n",
    "\n",
    "plt.show()"
   ]
  },
  {
   "cell_type": "markdown",
   "metadata": {},
   "source": [
    "# Base content (%) based on the position in the read"
   ]
  },
  {
   "cell_type": "code",
   "execution_count": 279,
   "metadata": {
    "ExecuteTime": {
     "end_time": "2017-10-15T10:26:49.119410Z",
     "start_time": "2017-10-15T10:26:47.733863Z"
    },
    "collapsed": true
   },
   "outputs": [],
   "source": [
    "dna_reads1 = list(map(list, zip(*dna_reads)))"
   ]
  },
  {
   "cell_type": "code",
   "execution_count": 280,
   "metadata": {
    "ExecuteTime": {
     "end_time": "2017-10-15T10:26:52.284508Z",
     "start_time": "2017-10-15T10:26:49.122666Z"
    },
    "collapsed": true
   },
   "outputs": [],
   "source": [
    "dna_length = len(dna_reads1[0]) # dna length is 40 000 nucleotides\n",
    "a_count = []\n",
    "c_count = []\n",
    "g_count = []\n",
    "t_count = []\n",
    "n_count = []\n",
    "for dna in dna_reads1:\n",
    "    a_count.append(dna.count('A') / dna_length*100)\n",
    "    c_count.append(dna.count('C') / dna_length*100)\n",
    "    g_count.append(dna.count('G') / dna_length*100)\n",
    "    t_count.append(dna.count('T') / dna_length*100)\n",
    "    n_count.append(dna.count('N') / dna_length*100)"
   ]
  },
  {
   "cell_type": "code",
   "execution_count": 281,
   "metadata": {
    "ExecuteTime": {
     "end_time": "2017-10-15T10:26:53.169141Z",
     "start_time": "2017-10-15T10:26:52.287333Z"
    }
   },
   "outputs": [
    {
     "data": {
      "image/png": "[encoded data removed]",
      "text/plain": [
       "<matplotlib.figure.Figure at 0x11191d198>"
      ]
     },
     "metadata": {},
     "output_type": "display_data"
    }
   ],
   "source": [
    "import matplotlib.pyplot as plt\n",
    "plt.plot(a_count, label='A') # A on each read\n",
    "plt.plot(c_count, label='C') # C on each read\n",
    "plt.plot(g_count, label='G') #G on each read\n",
    "plt.plot(t_count, label='T') #T on each read\n",
    "plt.plot(n_count, label='N') #N on each read\n",
    "\n",
    "\n",
    "# Place a legend to the right of this smaller subplot.\n",
    "plt.legend(bbox_to_anchor=(1.05, 1), loc=2, borderaxespad=0.)\n",
    "plt.xlabel('Position in read (bp)')\n",
    "plt.ylabel('Base content (%)')\n",
    "\n",
    "plt.show()"
   ]
  },
  {
   "cell_type": "markdown",
   "metadata": {},
   "source": [
    "# Poly-A tail analysis"
   ]
  },
  {
   "cell_type": "code",
   "execution_count": 282,
   "metadata": {
    "ExecuteTime": {
     "end_time": "2017-10-15T10:26:53.185288Z",
     "start_time": "2017-10-15T10:26:53.172211Z"
    },
    "collapsed": true
   },
   "outputs": [],
   "source": [
    "def after_polyatail(read, next_n_bases=5, min_len_poly_a=8):\n",
    "    \"\"\"\n",
    "    if a poly A tail length is grater than min_len_poly_a\n",
    "    go to the end of the tail\n",
    "    and return next n bases\n",
    "    \"\"\"\n",
    "    counter_a = 0\n",
    "    bases_after_poly_a = str()\n",
    "    for index, base in enumerate(read):\n",
    "        if base == 'A':\n",
    "            counter_a += 1\n",
    "        else:\n",
    "            if counter_a > min_len_poly_a:\n",
    "                bases_after_poly_a = read[index:index + next_n_bases]\n",
    "            counter_a = 0\n",
    "    return bases_after_poly_a"
   ]
  },
  {
   "cell_type": "code",
   "execution_count": 283,
   "metadata": {
    "ExecuteTime": {
     "end_time": "2017-10-15T10:26:53.204964Z",
     "start_time": "2017-10-15T10:26:53.194880Z"
    },
    "collapsed": true
   },
   "outputs": [],
   "source": [
    "assert after_polyatail(\"AAAAAAAAAAAAAAAAAAAAAATCCCCCCCCCCCC\") == 'TCCCC'\n",
    "assert after_polyatail(\"ACACAT\") == ''"
   ]
  },
  {
   "cell_type": "code",
   "execution_count": 284,
   "metadata": {
    "ExecuteTime": {
     "end_time": "2017-10-15T10:27:44.904096Z",
     "start_time": "2017-10-15T10:26:53.214704Z"
    }
   },
   "outputs": [
    {
     "name": "stdout",
     "output_type": "stream",
     "text": [
      "[('C', 120470), ('G', 66058), ('T', 58409), ('N', 78)]\n",
      "[('CC', 48237), ('CA', 33626), ('TC', 20765), ('CG', 19927), ('GC', 19702), ('GG', 18671)]\n",
      "[('CCC', 23352), ('CAA', 13052), ('CCA', 10946), ('CAC', 10251), ('GAA', 9573), ('GGG', 8346)]\n",
      "[('CCCC', 11955), ('CAAA', 6502), ('GAAA', 5855), ('CCCA', 4592), ('CCAA', 4115), ('GGGG', 4050)]\n",
      "[('CCCCC', 6257), ('GAAAA', 3760), ('CAAAA', 3507), ('GGGGG', 2147), ('CCCCA', 2042), ('CCCCG', 2035)]\n",
      "[('CCCCCC', 3071), ('GAAAAA', 2372), ('CAAAAA', 2076), ('GGGGGG', 1199), ('CCCCCG', 1142), ('CCCCCA', 1035)]\n",
      "[('GAAAAAA', 1427), ('CCCCCCC', 1371), ('CAAAAAA', 1239), ('GGGGGGG', 673), ('CCCCCCG', 609), ('C', 553)]\n",
      "[('GAAAAAAA', 827), ('CAAAAAAA', 623), ('CCCCCCCC', 580), ('C', 553), ('CAAAAAAC', 368), ('T', 366)]\n",
      "[('C', 553), ('GAAAAAAAA', 367), ('T', 366), ('G', 298), ('GAAAAGAAA', 263), ('CAAAAAAAA', 259)]\n",
      "[('C', 553), ('T', 366), ('G', 298), ('CC', 229), ('GAAAAGAAAA', 213), ('CA', 197)]\n"
     ]
    }
   ],
   "source": [
    "from collections import Counter\n",
    "\n",
    "for i in range(1,11):\n",
    "    after_a = list()\n",
    "    for read in dna_reads:\n",
    "        s = after_polyatail(read, i)\n",
    "        if s != '': # read didn't have min polyA tail -> returns ''\n",
    "            after_a.append(s)\n",
    "    print(Counter(after_a).most_common(6))\n"
   ]
  },
  {
   "cell_type": "markdown",
   "metadata": {},
   "source": [
    "# Consensus matrix on strings after poly A tail"
   ]
  },
  {
   "cell_type": "code",
   "execution_count": 285,
   "metadata": {
    "ExecuteTime": {
     "end_time": "2017-10-15T10:27:45.134031Z",
     "start_time": "2017-10-15T10:27:44.960163Z"
    }
   },
   "outputs": [
    {
     "data": {
      "text/plain": [
       "[[0, 0, 0, 0, 0, 0, 0, 0, 0, 0],\n",
       " [0, 0, 0, 0, 0, 0, 0, 0, 0, 0],\n",
       " [0, 0, 0, 0, 0, 0, 0, 0, 0, 0],\n",
       " [0, 0, 0, 0, 0, 0, 0, 0, 0, 0],\n",
       " [0, 0, 0, 0, 0, 0, 0, 0, 0, 0]]"
      ]
     },
     "execution_count": 285,
     "metadata": {},
     "output_type": "execute_result"
    }
   ],
   "source": [
    "# create a matrix with 5 rows and 10 columns, where every element is 0\n",
    "matrix = [[0 for i in range(10)] for i in range(5)]\n",
    "matrix"
   ]
  },
  {
   "cell_type": "code",
   "execution_count": 286,
   "metadata": {
    "ExecuteTime": {
     "end_time": "2017-10-15T10:27:45.213811Z",
     "start_time": "2017-10-15T10:27:45.169648Z"
    }
   },
   "outputs": [
    {
     "name": "stdout",
     "output_type": "stream",
     "text": [
      "400000\n"
     ]
    }
   ],
   "source": [
    "print(len(dna_reads))"
   ]
  },
  {
   "cell_type": "code",
   "execution_count": 287,
   "metadata": {
    "ExecuteTime": {
     "end_time": "2017-10-15T10:27:51.204262Z",
     "start_time": "2017-10-15T10:27:45.221482Z"
    },
    "collapsed": true
   },
   "outputs": [],
   "source": [
    "after_a = list()\n",
    "for read in dna_reads:\n",
    "    s = after_polyatail(read, 10)\n",
    "    if s != '': # read didn't have min polyA tail -> returns ''\n",
    "        after_a.append(s)"
   ]
  },
  {
   "cell_type": "code",
   "execution_count": 288,
   "metadata": {
    "ExecuteTime": {
     "end_time": "2017-10-15T10:27:53.935645Z",
     "start_time": "2017-10-15T10:27:51.233527Z"
    },
    "collapsed": true
   },
   "outputs": [],
   "source": [
    "for s in after_a:\n",
    "    for index, base in enumerate(s):\n",
    "        if base == 'A':\n",
    "            matrix[0][index] += 1\n",
    "        elif base == 'C':\n",
    "            matrix[1][index] += 1\n",
    "        elif base == 'T':\n",
    "            matrix[2][index] += 1\n",
    "        elif base == 'G':\n",
    "            matrix[3][index] += 1\n",
    "        elif base == 'N':\n",
    "            matrix[4][index] += 1\n",
    "        else:\n",
    "            print(\"Unexpected letter\")"
   ]
  },
  {
   "cell_type": "code",
   "execution_count": 289,
   "metadata": {
    "ExecuteTime": {
     "end_time": "2017-10-15T10:27:54.286700Z",
     "start_time": "2017-10-15T10:27:53.937892Z"
    }
   },
   "outputs": [
    {
     "data": {
      "text/html": [
       "<div>\n",
       "<table border=\"1\" class=\"dataframe\">\n",
       "  <thead>\n",
       "    <tr style=\"text-align: right;\">\n",
       "      <th></th>\n",
       "      <th>0</th>\n",
       "      <th>1</th>\n",
       "      <th>2</th>\n",
       "      <th>3</th>\n",
       "      <th>4</th>\n",
       "      <th>5</th>\n",
       "      <th>6</th>\n",
       "      <th>7</th>\n",
       "      <th>8</th>\n",
       "      <th>9</th>\n",
       "    </tr>\n",
       "  </thead>\n",
       "  <tbody>\n",
       "    <tr>\n",
       "      <th>A</th>\n",
       "      <td>0</td>\n",
       "      <td>61354</td>\n",
       "      <td>67567</td>\n",
       "      <td>68487</td>\n",
       "      <td>63294</td>\n",
       "      <td>60598</td>\n",
       "      <td>58231</td>\n",
       "      <td>61707</td>\n",
       "      <td>63178</td>\n",
       "      <td>68591</td>\n",
       "    </tr>\n",
       "    <tr>\n",
       "      <th>C</th>\n",
       "      <td>120470</td>\n",
       "      <td>88708</td>\n",
       "      <td>82638</td>\n",
       "      <td>78448</td>\n",
       "      <td>77615</td>\n",
       "      <td>69974</td>\n",
       "      <td>57444</td>\n",
       "      <td>57971</td>\n",
       "      <td>50768</td>\n",
       "      <td>47102</td>\n",
       "    </tr>\n",
       "    <tr>\n",
       "      <th>T</th>\n",
       "      <td>58409</td>\n",
       "      <td>42135</td>\n",
       "      <td>39354</td>\n",
       "      <td>40527</td>\n",
       "      <td>41075</td>\n",
       "      <td>46060</td>\n",
       "      <td>53118</td>\n",
       "      <td>47852</td>\n",
       "      <td>51151</td>\n",
       "      <td>48655</td>\n",
       "    </tr>\n",
       "    <tr>\n",
       "      <th>G</th>\n",
       "      <td>66058</td>\n",
       "      <td>51550</td>\n",
       "      <td>52896</td>\n",
       "      <td>53719</td>\n",
       "      <td>58009</td>\n",
       "      <td>62088</td>\n",
       "      <td>68607</td>\n",
       "      <td>68608</td>\n",
       "      <td>69650</td>\n",
       "      <td>68967</td>\n",
       "    </tr>\n",
       "    <tr>\n",
       "      <th>N</th>\n",
       "      <td>78</td>\n",
       "      <td>48</td>\n",
       "      <td>58</td>\n",
       "      <td>64</td>\n",
       "      <td>63</td>\n",
       "      <td>45</td>\n",
       "      <td>37</td>\n",
       "      <td>25</td>\n",
       "      <td>30</td>\n",
       "      <td>24</td>\n",
       "    </tr>\n",
       "  </tbody>\n",
       "</table>\n",
       "</div>"
      ],
      "text/plain": [
       "        0      1      2      3      4      5      6      7      8      9\n",
       "A       0  61354  67567  68487  63294  60598  58231  61707  63178  68591\n",
       "C  120470  88708  82638  78448  77615  69974  57444  57971  50768  47102\n",
       "T   58409  42135  39354  40527  41075  46060  53118  47852  51151  48655\n",
       "G   66058  51550  52896  53719  58009  62088  68607  68608  69650  68967\n",
       "N      78     48     58     64     63     45     37     25     30     24"
      ]
     },
     "execution_count": 289,
     "metadata": {},
     "output_type": "execute_result"
    }
   ],
   "source": [
    "import pandas\n",
    "df = pandas.DataFrame(matrix)\n",
    "df.rename({0: 'A', 1: 'C', 2: 'T', 3: 'G', 4: 'N'})\n",
    "\n",
    "# # as an alternative we can generate dict for .rename() ourselves\n",
    "# alphabet = 'ACTGN'\n",
    "# {k: v for k, v in zip(range(len(alphabet)), alphabet)}"
   ]
  },
  {
   "cell_type": "markdown",
   "metadata": {},
   "source": [
    "# Find consensus sequence (= artefact) after Poly A tail"
   ]
  },
  {
   "cell_type": "code",
   "execution_count": 290,
   "metadata": {
    "ExecuteTime": {
     "end_time": "2017-10-15T10:27:57.083397Z",
     "start_time": "2017-10-15T10:27:54.290596Z"
    },
    "collapsed": true
   },
   "outputs": [],
   "source": [
    "rotated_after_a = [''.join(s) for s in zip(*after_a)] \n",
    "# e.g reads = ['AATC','ACTGA','ATG'] -> reads = ['AAA', ACT', 'TTG', 'CG', 'A' ]"
   ]
  },
  {
   "cell_type": "code",
   "execution_count": 291,
   "metadata": {
    "ExecuteTime": {
     "end_time": "2017-10-15T10:27:58.466921Z",
     "start_time": "2017-10-15T10:27:57.085703Z"
    },
    "collapsed": true
   },
   "outputs": [],
   "source": [
    "# zip functions can be applied only to the lists of strings of the same lengh.\n",
    "# If the string is shorter than the string with max length -> add space to the string\n",
    "max_length = (len(max(after_a, key=len)))\n",
    "\n",
    "\n",
    "for index, s in enumerate(after_a):\n",
    "    if len(s) != max_length:  # if len of current string is not the same as maximum length\n",
    "             after_a[index] = s + ' ' * ( max_length - len(s) ) \n",
    "\n",
    "after_a_rotated = ([''.join(s) for s in zip(*after_a)])"
   ]
  },
  {
   "cell_type": "code",
   "execution_count": 292,
   "metadata": {
    "ExecuteTime": {
     "end_time": "2017-10-15T10:27:58.606771Z",
     "start_time": "2017-10-15T10:27:58.469158Z"
    },
    "collapsed": true
   },
   "outputs": [],
   "source": [
    "# count the number of each nucleotide in each column\n",
    "a_list = []\n",
    "t_list = []\n",
    "g_list = []\n",
    "c_list = []\n",
    "n_list = []\n",
    "\n",
    "\n",
    "for read in after_a_rotated:\n",
    "    a_list.append( read.count( 'A' ))\n",
    "    t_list.append( read.count( 'T' ))\n",
    "    g_list.append( read.count( 'G' ))\n",
    "    c_list.append( read.count( 'C' ))\n",
    "    n_list.append( read.count( 'N' ))"
   ]
  },
  {
   "cell_type": "code",
   "execution_count": 293,
   "metadata": {
    "ExecuteTime": {
     "end_time": "2017-10-15T10:27:58.631613Z",
     "start_time": "2017-10-15T10:27:58.611653Z"
    }
   },
   "outputs": [
    {
     "name": "stdout",
     "output_type": "stream",
     "text": [
      "CCCCCCGGGG\n"
     ]
    }
   ],
   "source": [
    "# define an artefact based on consensus\n",
    "\n",
    "data = list((zip(a_list, t_list, g_list, c_list, n_list)))\n",
    "#1st tuple 1st column from the reads\n",
    "\n",
    "d = {0:'A', 1:'T', 2:'G', 3:'C', 4:'N'}\n",
    "artefact = str()\n",
    "for line in data:\n",
    "    max_value = max( line ) # find max value in current line\n",
    "    index_of_max_value = line.index( max_value )  # find index of max value in current line\n",
    "    artefact += d[index_of_max_value]\n",
    "print( artefact )\n",
    "    \n",
    "    "
   ]
  },
  {
   "cell_type": "markdown",
   "metadata": {
    "ExecuteTime": {
     "end_time": "2017-08-19T21:56:38.413420Z",
     "start_time": "2017-08-19T21:56:38.406837Z"
    }
   },
   "source": [
    "# Error probability of the base in disrupted polyA based on phred score "
   ]
  },
  {
   "cell_type": "code",
   "execution_count": 294,
   "metadata": {
    "ExecuteTime": {
     "end_time": "2017-10-15T10:27:58.644961Z",
     "start_time": "2017-10-15T10:27:58.635355Z"
    },
    "collapsed": true
   },
   "outputs": [],
   "source": [
    "def base_calling_error_probabilities(ascii_code):\n",
    "    assert isinstance(ascii_code, str)\n",
    "    assert len(ascii_code) == 1\n",
    "    q = ord(ascii_code) - 33\n",
    "    p = round(10 ** (-q / 10), 5)\n",
    "    return p"
   ]
  },
  {
   "cell_type": "code",
   "execution_count": 295,
   "metadata": {
    "ExecuteTime": {
     "end_time": "2017-10-15T10:27:58.669305Z",
     "start_time": "2017-10-15T10:27:58.648869Z"
    },
    "collapsed": true
   },
   "outputs": [],
   "source": [
    "def disrupted_poly_A(read,min_len_poly_a=8, min_len_poly_a2 = 5):\n",
    "    \"\"\"\n",
    "    find poly A tail in a read that is disrupted only by one base other than 'A'\n",
    "    \n",
    "    \"\"\"\n",
    "    import re\n",
    "    \n",
    "    min_len_poly_a = str(min_len_poly_a)\n",
    "    min_len_poly_a2 = str(min_len_poly_a2)\n",
    "    pattern = \"[A]{\" + min_len_poly_a + \",}([^A])[A]{\" + min_len_poly_a2 + \",}\"\n",
    "    m = re.search(pattern, read)  \n",
    "    if m:\n",
    "        return m.span(1)[0]\n",
    "    return ''"
   ]
  },
  {
   "cell_type": "code",
   "execution_count": 296,
   "metadata": {
    "ExecuteTime": {
     "end_time": "2017-10-15T10:27:59.603435Z",
     "start_time": "2017-10-15T10:27:58.672196Z"
    },
    "collapsed": true
   },
   "outputs": [],
   "source": [
    "from collections import namedtuple\n",
    "phred_data = namedtuple('PhredData', 'ReadNumber PositionOfBase ErrorProb')\n",
    "n=160000\n",
    "result = []\n",
    "path_to_file = '/Users/dariapodorskaja/Desktop/Lab/Lane_7_NoIndex_L007_R1_001.fastq'\n",
    "with open(path_to_file, 'r') as f:   # f = open(path_to_file, 'r') # f is a variable with a file\n",
    "    for line_number in range(n):\n",
    "        if line_number %4 ==1:\n",
    "            s = f.readline().replace('\\n', '')\n",
    "            position = disrupted_poly_A(s)\n",
    "            read_number = line_number\n",
    "        elif line_number %4 ==3 and position != '':\n",
    "            s = f.readline().replace('\\n', '')\n",
    "            p = base_calling_error_probabilities(s[position])\n",
    "            result.append(phred_data(read_number, position, p))\n",
    "        else:\n",
    "            next(f)"
   ]
  },
  {
   "cell_type": "code",
   "execution_count": 297,
   "metadata": {
    "ExecuteTime": {
     "end_time": "2017-10-15T10:27:59.662793Z",
     "start_time": "2017-10-15T10:27:59.619757Z"
    }
   },
   "outputs": [
    {
     "name": "stdout",
     "output_type": "stream",
     "text": [
      "Total number of other than 'A' bases between two polyA with an error probability more that 0.63 is 111\n",
      "PhredData(ReadNumber=285, PositionOfBase=20, ErrorProb=0.63096)\n",
      "PhredData(ReadNumber=1805, PositionOfBase=33, ErrorProb=0.63096)\n",
      "PhredData(ReadNumber=1909, PositionOfBase=20, ErrorProb=0.63096)\n",
      "PhredData(ReadNumber=2229, PositionOfBase=20, ErrorProb=0.63096)\n",
      "PhredData(ReadNumber=4109, PositionOfBase=27, ErrorProb=0.63096)\n",
      "PhredData(ReadNumber=4373, PositionOfBase=49, ErrorProb=0.63096)\n",
      "PhredData(ReadNumber=4669, PositionOfBase=20, ErrorProb=0.63096)\n",
      "PhredData(ReadNumber=4973, PositionOfBase=20, ErrorProb=0.63096)\n",
      "PhredData(ReadNumber=5113, PositionOfBase=20, ErrorProb=0.63096)\n",
      "PhredData(ReadNumber=6625, PositionOfBase=20, ErrorProb=0.63096)\n",
      "PhredData(ReadNumber=6685, PositionOfBase=20, ErrorProb=0.63096)\n",
      "PhredData(ReadNumber=7249, PositionOfBase=49, ErrorProb=0.63096)\n",
      "PhredData(ReadNumber=8361, PositionOfBase=43, ErrorProb=0.63096)\n",
      "PhredData(ReadNumber=13373, PositionOfBase=27, ErrorProb=0.63096)\n",
      "PhredData(ReadNumber=13685, PositionOfBase=29, ErrorProb=0.63096)\n",
      "PhredData(ReadNumber=14961, PositionOfBase=24, ErrorProb=0.63096)\n",
      "PhredData(ReadNumber=15389, PositionOfBase=28, ErrorProb=0.63096)\n",
      "PhredData(ReadNumber=16257, PositionOfBase=32, ErrorProb=0.63096)\n",
      "PhredData(ReadNumber=16429, PositionOfBase=29, ErrorProb=0.63096)\n",
      "PhredData(ReadNumber=17329, PositionOfBase=30, ErrorProb=0.63096)\n"
     ]
    }
   ],
   "source": [
    "threshold = 0.63 #min error probability\n",
    "error_count = sum([1 for rn, pos, prob in result if prob > threshold])\n",
    "\n",
    "s = \"Total number of other than 'A' bases between two polyA with an error probability more that {} is {}\"\n",
    "s = s.format(threshold, error_count)\n",
    "print(s)\n",
    "\n",
    "end_result = list()\n",
    "for r in result:\n",
    "    rn, pos, prob = r\n",
    "    if prob > threshold:\n",
    "        end_result.append(r)\n",
    "\n",
    "for result in end_result[:20]:\n",
    "    print(result)\n"
   ]
  },
  {
   "cell_type": "markdown",
   "metadata": {},
   "source": [
    "# Markov chain after PolyA analysis"
   ]
  },
  {
   "cell_type": "code",
   "execution_count": 298,
   "metadata": {
    "ExecuteTime": {
     "end_time": "2017-10-15T10:27:59.676472Z",
     "start_time": "2017-10-15T10:27:59.665699Z"
    },
    "collapsed": true
   },
   "outputs": [],
   "source": [
    "def after_polyatail(read, next_n_bases=10, min_len_poly_a=8):\n",
    "    \"\"\"\n",
    "    if a poly A tail length is grater than min_len_poly_a\n",
    "    go to the end of the tail\n",
    "    and return next n bases\n",
    "    \"\"\"\n",
    "    assert isinstance(read, str)\n",
    "    counter_a = 0\n",
    "    bases_after_poly_a = str()\n",
    "    for index, base in enumerate(read):\n",
    "        if base == 'A':\n",
    "            counter_a += 1\n",
    "        else:\n",
    "            if counter_a >= min_len_poly_a:\n",
    "                bases_after_poly_a = read[index:index + next_n_bases]\n",
    "            counter_a = 0\n",
    "    return bases_after_poly_a"
   ]
  },
  {
   "cell_type": "code",
   "execution_count": 299,
   "metadata": {
    "ExecuteTime": {
     "end_time": "2017-10-15T10:28:04.950642Z",
     "start_time": "2017-10-15T10:27:59.679395Z"
    },
    "collapsed": true
   },
   "outputs": [],
   "source": [
    "reads=[]\n",
    "for dna in dna_reads:\n",
    "    reads.append(after_polyatail(dna, 4, 3))"
   ]
  },
  {
   "cell_type": "code",
   "execution_count": 300,
   "metadata": {
    "ExecuteTime": {
     "end_time": "2017-10-15T10:28:04.986586Z",
     "start_time": "2017-10-15T10:28:04.966463Z"
    },
    "collapsed": true
   },
   "outputs": [],
   "source": [
    "from itertools import product\n",
    "alphabet = 'ACTGN'\n",
    "# let's do all possible transisions\n",
    "trans = [i+j for i, j in product(alphabet, alphabet)]  # possible transitions"
   ]
  },
  {
   "cell_type": "code",
   "execution_count": 301,
   "metadata": {
    "ExecuteTime": {
     "end_time": "2017-10-15T10:28:05.002418Z",
     "start_time": "2017-10-15T10:28:04.989481Z"
    }
   },
   "outputs": [
    {
     "name": "stdout",
     "output_type": "stream",
     "text": [
      "{'AA': 0, 'AC': 0, 'AT': 0, 'AG': 0, 'AN': 0, 'CA': 0, 'CC': 0, 'CT': 0, 'CG': 0, 'CN': 0, 'TA': 0, 'TC': 0, 'TT': 0, 'TG': 0, 'TN': 0, 'GA': 0, 'GC': 0, 'GT': 0, 'GG': 0, 'GN': 0, 'NA': 0, 'NC': 0, 'NT': 0, 'NG': 0, 'NN': 0}\n"
     ]
    }
   ],
   "source": [
    "# now lets do a dict where all initial values are 0\n",
    "d = {k: 0 for k in trans}\n",
    "print(d)"
   ]
  },
  {
   "cell_type": "code",
   "execution_count": 302,
   "metadata": {
    "ExecuteTime": {
     "end_time": "2017-10-15T10:28:23.630003Z",
     "start_time": "2017-10-15T10:28:05.007125Z"
    },
    "collapsed": true
   },
   "outputs": [],
   "source": [
    "# always take next 2 letters\n",
    "result= []\n",
    "for read in dna_reads:\n",
    "    for i in range(len(read)):\n",
    "        result.append((read[i: i+2]))"
   ]
  },
  {
   "cell_type": "code",
   "execution_count": 303,
   "metadata": {
    "ExecuteTime": {
     "end_time": "2017-10-15T10:28:23.802479Z",
     "start_time": "2017-10-15T10:28:23.677147Z"
    }
   },
   "outputs": [
    {
     "data": {
      "text/plain": [
       "['GC', 'CA', 'AT', 'TT', 'TG', 'GG', 'GA', 'AA', 'AA', 'AA']"
      ]
     },
     "execution_count": 303,
     "metadata": {},
     "output_type": "execute_result"
    }
   ],
   "source": [
    "result[0:10]"
   ]
  },
  {
   "cell_type": "code",
   "execution_count": 304,
   "metadata": {
    "ExecuteTime": {
     "end_time": "2017-10-15T10:28:45.565975Z",
     "start_time": "2017-10-15T10:28:23.808401Z"
    },
    "collapsed": true
   },
   "outputs": [],
   "source": [
    "# now combine this 2 letters with dict\n",
    "# that means if we see 2 letters, add +1 to coresponding enty in the dict\n",
    "for two_letters in result:\n",
    "    if two_letters in d.keys():\n",
    "        d[two_letters] += 1"
   ]
  },
  {
   "cell_type": "code",
   "execution_count": 305,
   "metadata": {
    "ExecuteTime": {
     "end_time": "2017-10-15T10:28:51.337938Z",
     "start_time": "2017-10-15T10:28:45.575930Z"
    }
   },
   "outputs": [
    {
     "name": "stdout",
     "output_type": "stream",
     "text": [
      "{'AA': 5812313, 'AC': 1615101, 'AT': 952776, 'AG': 1704025, 'AN': 527, 'CA': 1813380, 'CC': 1044646, 'CT': 1101885, 'CG': 958200, 'CN': 314, 'TA': 587587, 'TC': 1334364, 'TT': 953373, 'TG': 945421, 'TN': 207, 'GA': 1888594, 'GC': 925788, 'GT': 825327, 'GG': 1133393, 'GN': 258, 'NA': 540, 'NC': 274, 'NT': 219, 'NG': 278, 'NN': 1210}\n"
     ]
    }
   ],
   "source": [
    "print(d)"
   ]
  },
  {
   "cell_type": "code",
   "execution_count": 306,
   "metadata": {
    "ExecuteTime": {
     "end_time": "2017-10-15T10:28:51.454147Z",
     "start_time": "2017-10-15T10:28:51.349121Z"
    },
    "collapsed": true
   },
   "outputs": [],
   "source": [
    "total_transitions_to_a = 0\n",
    "total_transitions_to_c = 0\n",
    "total_transitions_to_t = 0\n",
    "total_transitions_to_g = 0\n",
    "total_transitions_to_n = 0\n",
    "\n",
    "for k in d.keys():\n",
    "    if k.startswith('A'):\n",
    "        total_transitions_to_a += d[k]\n",
    "    elif k.startswith('C'):\n",
    "        total_transitions_to_c += d[k]\n",
    "    elif k.startswith('T'):\n",
    "        total_transitions_to_t += d[k]\n",
    "    elif k.startswith('G'):\n",
    "        total_transitions_to_g += d[k]\n",
    "    elif k.startswith('N'):\n",
    "        total_transitions_to_n += d[k]\n",
    "    else:\n",
    "        print(\"we missed a key!\")\n",
    "        "
   ]
  },
  {
   "cell_type": "code",
   "execution_count": 307,
   "metadata": {
    "ExecuteTime": {
     "end_time": "2017-10-15T10:28:51.508597Z",
     "start_time": "2017-10-15T10:28:51.459115Z"
    },
    "collapsed": true
   },
   "outputs": [],
   "source": [
    "a_prob = []\n",
    "c_prob = []\n",
    "t_prob = []\n",
    "g_prob = []\n",
    "n_prob = []\n",
    "\n",
    "for k in trans:\n",
    "    if k.startswith('A'):\n",
    "        a_prob.append((d[k] / total_transitions_to_a))\n",
    "    elif k.startswith('C'):\n",
    "        c_prob.append((d[k] / total_transitions_to_c))\n",
    "    elif k.startswith('T'):\n",
    "        t_prob.append((d[k] / total_transitions_to_t))\n",
    "    elif k.startswith('G'):\n",
    "        g_prob.append((d[k] / total_transitions_to_g))\n",
    "    elif k.startswith('N'):\n",
    "        n_prob.append((d[k] / total_transitions_to_n))\n",
    "    else:\n",
    "        print(\"we missed a key!\")"
   ]
  },
  {
   "cell_type": "code",
   "execution_count": 308,
   "metadata": {
    "ExecuteTime": {
     "end_time": "2017-10-15T10:28:51.581658Z",
     "start_time": "2017-10-15T10:28:51.518696Z"
    }
   },
   "outputs": [
    {
     "data": {
      "text/plain": [
       "[[0.58, 0.16, 0.09, 0.17, 0.0],\n",
       " [0.37, 0.21, 0.22, 0.19, 0.0],\n",
       " [0.15, 0.35, 0.25, 0.25, 0.0],\n",
       " [0.4, 0.19, 0.17, 0.24, 0.0],\n",
       " [0.21, 0.11, 0.09, 0.11, 0.48]]"
      ]
     },
     "execution_count": 308,
     "metadata": {},
     "output_type": "execute_result"
    }
   ],
   "source": [
    "matrix = [[0 for i in range(len(alphabet))] for i in range(len(alphabet))]\n",
    "for i in range(len(alphabet)):\n",
    "    matrix [0][i] = round(a_prob[i], 2)\n",
    "    matrix [1][i] = round(c_prob[i], 2)\n",
    "    matrix [2][i] = round(t_prob[i], 2)\n",
    "    matrix [3][i] = round(g_prob[i], 2)\n",
    "    matrix [4][i] = round(n_prob[i], 2)\n",
    "    \n",
    "matrix"
   ]
  },
  {
   "cell_type": "code",
   "execution_count": 309,
   "metadata": {
    "ExecuteTime": {
     "end_time": "2017-10-15T10:28:51.812256Z",
     "start_time": "2017-10-15T10:28:51.584341Z"
    }
   },
   "outputs": [
    {
     "data": {
      "text/html": [
       "<div>\n",
       "<table border=\"1\" class=\"dataframe\">\n",
       "  <thead>\n",
       "    <tr style=\"text-align: right;\">\n",
       "      <th></th>\n",
       "      <th>A</th>\n",
       "      <th>C</th>\n",
       "      <th>T</th>\n",
       "      <th>G</th>\n",
       "      <th>N</th>\n",
       "    </tr>\n",
       "  </thead>\n",
       "  <tbody>\n",
       "    <tr>\n",
       "      <th>A</th>\n",
       "      <td>0.58</td>\n",
       "      <td>0.16</td>\n",
       "      <td>0.09</td>\n",
       "      <td>0.17</td>\n",
       "      <td>0.00</td>\n",
       "    </tr>\n",
       "    <tr>\n",
       "      <th>C</th>\n",
       "      <td>0.37</td>\n",
       "      <td>0.21</td>\n",
       "      <td>0.22</td>\n",
       "      <td>0.19</td>\n",
       "      <td>0.00</td>\n",
       "    </tr>\n",
       "    <tr>\n",
       "      <th>T</th>\n",
       "      <td>0.15</td>\n",
       "      <td>0.35</td>\n",
       "      <td>0.25</td>\n",
       "      <td>0.25</td>\n",
       "      <td>0.00</td>\n",
       "    </tr>\n",
       "    <tr>\n",
       "      <th>G</th>\n",
       "      <td>0.40</td>\n",
       "      <td>0.19</td>\n",
       "      <td>0.17</td>\n",
       "      <td>0.24</td>\n",
       "      <td>0.00</td>\n",
       "    </tr>\n",
       "    <tr>\n",
       "      <th>N</th>\n",
       "      <td>0.21</td>\n",
       "      <td>0.11</td>\n",
       "      <td>0.09</td>\n",
       "      <td>0.11</td>\n",
       "      <td>0.48</td>\n",
       "    </tr>\n",
       "  </tbody>\n",
       "</table>\n",
       "</div>"
      ],
      "text/plain": [
       "      A     C     T     G     N\n",
       "A  0.58  0.16  0.09  0.17  0.00\n",
       "C  0.37  0.21  0.22  0.19  0.00\n",
       "T  0.15  0.35  0.25  0.25  0.00\n",
       "G  0.40  0.19  0.17  0.24  0.00\n",
       "N  0.21  0.11  0.09  0.11  0.48"
      ]
     },
     "execution_count": 309,
     "metadata": {},
     "output_type": "execute_result"
    }
   ],
   "source": [
    "import pandas as pd\n",
    "alphabet = ['A', 'C', 'T', 'G', 'N']\n",
    "df = pd.DataFrame(matrix, index=alphabet, columns=alphabet)\n",
    "df"
   ]
  },
  {
   "cell_type": "markdown",
   "metadata": {},
   "source": [
    "# Error probability based on phred score "
   ]
  },
  {
   "cell_type": "code",
   "execution_count": 310,
   "metadata": {
    "ExecuteTime": {
     "end_time": "2017-10-15T10:28:51.916422Z",
     "start_time": "2017-10-15T10:28:51.814090Z"
    },
    "collapsed": true
   },
   "outputs": [],
   "source": [
    "def reader(path_to_file, start=0, stop=60, every_line_number=1):\n",
    "    lines_count = 160000\n",
    "    strings = list()\n",
    "    with open(path_to_file, 'r') as f:\n",
    "        for current_line in range(lines_count):\n",
    "            if current_line % 4 == every_line_number:  # pick lines with DNA sequences\n",
    "                s = f.readline().replace('\\n', '')\n",
    "                strings.append(s[start:stop])\n",
    "            else:\n",
    "                next(f)\n",
    "    return strings"
   ]
  },
  {
   "cell_type": "code",
   "execution_count": 311,
   "metadata": {
    "ExecuteTime": {
     "end_time": "2017-10-15T10:28:51.993271Z",
     "start_time": "2017-10-15T10:28:51.920197Z"
    },
    "collapsed": true
   },
   "outputs": [],
   "source": [
    "def map_string_to_probabilities(string):\n",
    "    \"\"\"takes a list of ascii symbols \n",
    "    returns correspodning probabilities in a list\"\"\"\n",
    "    \n",
    "    assert isinstance (string, str)\n",
    "    \n",
    "    errors = list()\n",
    "    for letter in string:\n",
    "        errors.append(base_calling_error_probabilities(letter))\n",
    "    return errors"
   ]
  },
  {
   "cell_type": "code",
   "execution_count": 312,
   "metadata": {
    "ExecuteTime": {
     "end_time": "2017-10-15T10:28:52.062824Z",
     "start_time": "2017-10-15T10:28:51.996220Z"
    },
    "collapsed": true
   },
   "outputs": [],
   "source": [
    "def number_of_errors_above_thershold(errors, threshold = 0.001):\n",
    "    \"\"\"takes a list of lists floats and \n",
    "    returns how many numbers in a list above threshold\n",
    "    \n",
    "    Example:\n",
    "    >>> number_of_errors_above_thershold([[.1, .2], [.2, .3]], threshold=.2)\n",
    "    [1, 2, 3]\n",
    "    \"\"\"\n",
    "    assert isinstance (errors, list)\n",
    "    [isinstance(i, list) for i in errors]\n",
    "    \n",
    "    err = list()\n",
    "    for lst in errors:\n",
    "        counter = 0 \n",
    "        for i in lst:\n",
    "            if i >= threshold:\n",
    "                counter += 1\n",
    "        if counter > 0:\n",
    "            err.append(counter)\n",
    "    return err\n",
    "\n",
    "assert number_of_errors_above_thershold([[.1, .2], [.2, .3]], threshold=.2) == [1,2]\n",
    "assert number_of_errors_above_thershold([[.1, .2], [.2, .3]], threshold=.5) == []"
   ]
  },
  {
   "cell_type": "code",
   "execution_count": 313,
   "metadata": {
    "ExecuteTime": {
     "end_time": "2017-10-15T10:28:52.109893Z",
     "start_time": "2017-10-15T10:28:52.077245Z"
    },
    "collapsed": true
   },
   "outputs": [],
   "source": [
    "def number_of_suspicious_strings(ascii_list):\n",
    "    \"\"\"\n",
    "    return how many strings has at least one letter which error probability is above threashold\n",
    "    \"\"\"\n",
    "    error = list()\n",
    "    for element in ascii_list:\n",
    "        error.append(map_string_to_probabilities(element))\n",
    "    a = number_of_errors_above_thershold(error)\n",
    "    return len(a)"
   ]
  },
  {
   "cell_type": "code",
   "execution_count": 314,
   "metadata": {
    "ExecuteTime": {
     "end_time": "2017-10-15T10:28:52.307963Z",
     "start_time": "2017-10-15T10:28:52.113329Z"
    },
    "collapsed": true
   },
   "outputs": [],
   "source": [
    "R1_list = !ls /Users/dariapodorskaja/Desktop/Lab/Lane_7_NoIndex_L007_R1*\n",
    "R1_list = list(R1_list)\n",
    "R2_list = !ls /Users/dariapodorskaja/Desktop/Lab/Lane_7_NoIndex_L007_R2*\n",
    "R2_list = list(R2_list)"
   ]
  },
  {
   "cell_type": "markdown",
   "metadata": {},
   "source": [
    "## Number of bases in well barcodes with an error threshold > 10^-3"
   ]
  },
  {
   "cell_type": "code",
   "execution_count": 315,
   "metadata": {
    "ExecuteTime": {
     "end_time": "2017-10-15T10:29:29.794902Z",
     "start_time": "2017-10-15T10:28:52.311536Z"
    }
   },
   "outputs": [
    {
     "name": "stdout",
     "output_type": "stream",
     "text": [
      "52177\n"
     ]
    }
   ],
   "source": [
    "path_to_file = R2_list\n",
    "wells_errors = list()\n",
    "total_well_errors = list()\n",
    "for file in path_to_file:\n",
    "    wells_ascii = reader(file, start=0, stop=6, every_line_number=3)\n",
    "    wells = reader(file, start=0, stop=6, every_line_number=1)\n",
    "    wells_errors.append((number_of_suspicious_strings(wells_ascii)))\n",
    "    total_well_errors = sum(wells_errors)\n",
    "print(total_well_errors)"
   ]
  },
  {
   "cell_type": "markdown",
   "metadata": {
    "variables": {
     "total_well_errors": {},
     "total_well_errors/400000": {}
    }
   },
   "source": [
    "### Conclusion\n",
    "Based on analysis of 400.000 reads with total 2 400.000 bases that belong to well barcodes there are {{total_well_errors}}({{total_well_errors/400000}}% out of total number) bases in well barcodes with an error probability > 0.001"
   ]
  },
  {
   "cell_type": "markdown",
   "metadata": {},
   "source": [
    "## Number of bases in UMI with an error threshold > 10^-3 "
   ]
  },
  {
   "cell_type": "code",
   "execution_count": 316,
   "metadata": {
    "ExecuteTime": {
     "end_time": "2017-10-15T10:29:46.463369Z",
     "start_time": "2017-10-15T10:29:29.798199Z"
    }
   },
   "outputs": [
    {
     "name": "stdout",
     "output_type": "stream",
     "text": [
      "38322\n"
     ]
    }
   ],
   "source": [
    "path_to_file = R2_list\n",
    "umi_errors = list()\n",
    "total_umi_errors = list()\n",
    "for file in path_to_file:\n",
    "    umi_ascii = reader(file, start=6, stop=12, every_line_number=3)\n",
    "    umi = reader(file, start=6, stop=12, every_line_number=1)\n",
    "    umi_errors.append((number_of_suspicious_strings(umi_ascii)))\n",
    "    total_umi_errors = sum(umi_errors)\n",
    "print(total_umi_errors)"
   ]
  },
  {
   "cell_type": "markdown",
   "metadata": {
    "variables": {
     "total_umi_errors/400000": {}
    }
   },
   "source": [
    "### Conclusion\n",
    "Based on analysis of 400.000 reads with total 2 400.000 bases that belong to UMI there are {{total_umi_errors/400000}} % out of total number) bases in UMI with an error probability > 0.001"
   ]
  },
  {
   "cell_type": "markdown",
   "metadata": {},
   "source": [
    "## Number of bases in pool barcodes with an error threshold > 10^-3"
   ]
  },
  {
   "cell_type": "code",
   "execution_count": 317,
   "metadata": {
    "ExecuteTime": {
     "end_time": "2017-10-15T10:29:55.691016Z",
     "start_time": "2017-10-15T10:29:46.466522Z"
    }
   },
   "outputs": [
    {
     "name": "stdout",
     "output_type": "stream",
     "text": [
      "20615\n"
     ]
    }
   ],
   "source": [
    "path_to_file = R1_list\n",
    "pools_errors = list()\n",
    "total_pools_errors = list()\n",
    "for file in path_to_file:\n",
    "    pools_ascii = reader(file, start=3, stop=7, every_line_number=3)\n",
    "    pools = reader(file, start=7, stop=12, every_line_number=1)\n",
    "    pools_errors.append((number_of_suspicious_strings(pools_ascii)))\n",
    "    total_pools_errors = sum(pools_errors)\n",
    "print(total_pools_errors)"
   ]
  },
  {
   "cell_type": "markdown",
   "metadata": {
    "variables": {
     "total_pools_errors": {},
     "total_pools_errors/400000": {}
    }
   },
   "source": [
    "### Conclusion\n",
    "Based on analysis of 400.000 reads with total 1 600.000 bases that belong to pool barcodes there are {{total_pools_errors}} ({{total_pools_errors/400000}} out of total number) bases in pool barcodes with an error probability > 0.001"
   ]
  },
  {
   "cell_type": "markdown",
   "metadata": {},
   "source": [
    "# Cell barcodes"
   ]
  },
  {
   "cell_type": "code",
   "execution_count": 361,
   "metadata": {
    "ExecuteTime": {
     "end_time": "2017-10-15T10:36:47.305355Z",
     "start_time": "2017-10-15T10:36:46.027674Z"
    },
    "collapsed": true
   },
   "outputs": [],
   "source": [
    "path_to_file = R1_list\n",
    "\n",
    "all_reads = list()\n",
    "for file in R1_list:\n",
    "    all_reads.extend((reader(file, start=0, stop=60, every_line_number=1)))"
   ]
  },
  {
   "cell_type": "code",
   "execution_count": 362,
   "metadata": {
    "ExecuteTime": {
     "end_time": "2017-10-15T10:36:48.331713Z",
     "start_time": "2017-10-15T10:36:47.308327Z"
    }
   },
   "outputs": [
    {
     "name": "stdout",
     "output_type": "stream",
     "text": [
      "400000\n"
     ]
    }
   ],
   "source": [
    "path_to_file = R1_list\n",
    "\n",
    "pools = list()\n",
    "\n",
    "for file in R1_list:\n",
    "    pool = reader(file, start=3, stop=7, every_line_number=1)\n",
    "    pools.extend(pool)\n",
    "print(len(pools))"
   ]
  },
  {
   "cell_type": "code",
   "execution_count": 363,
   "metadata": {
    "ExecuteTime": {
     "end_time": "2017-10-15T10:36:49.463642Z",
     "start_time": "2017-10-15T10:36:48.334234Z"
    }
   },
   "outputs": [
    {
     "name": "stdout",
     "output_type": "stream",
     "text": [
      "400000\n"
     ]
    }
   ],
   "source": [
    "path_to_file = R2_list\n",
    "\n",
    "wells = list()\n",
    "\n",
    "for file in R2_list:\n",
    "    well = reader(file, start=0, stop=6, every_line_number=1)\n",
    "    wells.extend(well)\n",
    "print(len(wells))"
   ]
  },
  {
   "cell_type": "code",
   "execution_count": 364,
   "metadata": {
    "ExecuteTime": {
     "end_time": "2017-10-15T10:36:49.765162Z",
     "start_time": "2017-10-15T10:36:49.465765Z"
    },
    "collapsed": true
   },
   "outputs": [],
   "source": [
    "cell_barcodes = list()\n",
    "for a,b in zip(pools,wells):\n",
    "    cell_barcodes.append(a+b)"
   ]
  },
  {
   "cell_type": "code",
   "execution_count": 365,
   "metadata": {
    "ExecuteTime": {
     "end_time": "2017-10-15T10:36:49.795399Z",
     "start_time": "2017-10-15T10:36:49.768822Z"
    },
    "collapsed": true
   },
   "outputs": [],
   "source": [
    "from collections import Counter\n"
   ]
  },
  {
   "cell_type": "code",
   "execution_count": 366,
   "metadata": {
    "ExecuteTime": {
     "end_time": "2017-10-15T10:36:49.989242Z",
     "start_time": "2017-10-15T10:36:49.798534Z"
    },
    "collapsed": true
   },
   "outputs": [],
   "source": [
    "cell_barcodes_unique = set(cell_barcodes)"
   ]
  },
  {
   "cell_type": "code",
   "execution_count": 367,
   "metadata": {
    "ExecuteTime": {
     "end_time": "2017-10-15T10:36:49.997167Z",
     "start_time": "2017-10-15T10:36:49.991669Z"
    }
   },
   "outputs": [
    {
     "data": {
      "text/plain": [
       "21427"
      ]
     },
     "execution_count": 367,
     "metadata": {},
     "output_type": "execute_result"
    }
   ],
   "source": [
    "len(cell_barcodes_unique)"
   ]
  },
  {
   "cell_type": "code",
   "execution_count": 368,
   "metadata": {
    "ExecuteTime": {
     "end_time": "2017-10-15T10:36:50.003875Z",
     "start_time": "2017-10-15T10:36:49.999374Z"
    },
    "collapsed": true
   },
   "outputs": [],
   "source": [
    "import pandas as pd\n",
    "import numpy as np"
   ]
  },
  {
   "cell_type": "code",
   "execution_count": 369,
   "metadata": {
    "ExecuteTime": {
     "end_time": "2017-10-15T10:37:01.106351Z",
     "start_time": "2017-10-15T10:36:51.065937Z"
    },
    "collapsed": true
   },
   "outputs": [],
   "source": [
    "# count dna_reads in a file\n",
    "# open file\n",
    "pools = ['ACAG', 'AGTC', 'ATCA', 'CATG', 'CTAC', 'TCTA', 'TGAT', 'TTGG', 'unknown']\n",
    "R1_list = !ls /Users/dariapodorskaja/Desktop/Lab/Lane_7_NoIndex_L007_R1*\n",
    "R1_list = list(R1_list)\n",
    "path_to_file = R1_list\n",
    "lines_count = 160000  # number of lines in 10 files\n",
    "\n",
    "list_streak = list()\n",
    "list_count = list()\n",
    "list_pool = list()\n",
    "list_corrected_pool = list()\n",
    "list_after_polyA = list()\n",
    "\n",
    "# make lists of dna reads\n",
    "for file in path_to_file:\n",
    "    with open(file, 'r') as f:   # f = open(path_to_file, 'r') # f is a variable with a file\n",
    "        for current_line in range(lines_count):\n",
    "            if current_line % 4 == 1:  # pick lines with DNA sequences\n",
    "                s = f.readline()\n",
    "                s = s.replace('\\n', '')\n",
    "                \n",
    "                pool = s[3:7]\n",
    "                list_streak.append(longest_a_streak(s))\n",
    "                list_count.append(s.count('A'))\n",
    "                list_pool.append(pool)\n",
    "                list_corrected_pool.append(pool_correction(pool, pools))\n",
    "                list_after_polyA.append(after_polyatail(s))\n",
    "            else:\n",
    "                next(f)"
   ]
  },
  {
   "cell_type": "code",
   "execution_count": 370,
   "metadata": {
    "ExecuteTime": {
     "end_time": "2017-10-15T10:37:01.606777Z",
     "start_time": "2017-10-15T10:37:01.109226Z"
    },
    "collapsed": true
   },
   "outputs": [],
   "source": [
    "# define empty pandas dataframe with column names\n",
    "df = pd.DataFrame(columns=('streakA', 'countA', 'pool_barcode', 'corrected_pool', 'well_barcode', 'cell_barcode'))\n",
    "# df.streakA = df.streakA.astype('int')\n",
    "# df.countA = df.countA.astype('int')\n",
    "# df.pool = df.pool.astype('str')\n",
    "# df.corrected_pool = df.corrected_pool.astype('str')\n",
    "\n",
    "# add to pandas dataframe\n",
    "df.streakA = list_streak\n",
    "df.countA = list_count\n",
    "df.pool_barcode = list_pool\n",
    "df.corrected_pool = list_corrected_pool\n",
    "df.well_barcode = wells\n",
    "df.cell_barcode = cell_barcodes"
   ]
  },
  {
   "cell_type": "code",
   "execution_count": 371,
   "metadata": {
    "ExecuteTime": {
     "end_time": "2017-10-15T10:37:02.393572Z",
     "start_time": "2017-10-15T10:37:02.387801Z"
    },
    "collapsed": true
   },
   "outputs": [],
   "source": [
    "df = df.head(n=20)"
   ]
  },
  {
   "cell_type": "code",
   "execution_count": 372,
   "metadata": {
    "ExecuteTime": {
     "end_time": "2017-10-15T10:37:04.526656Z",
     "start_time": "2017-10-15T10:37:04.502670Z"
    }
   },
   "outputs": [
    {
     "data": {
      "text/html": [
       "<div>\n",
       "<table border=\"1\" class=\"dataframe\">\n",
       "  <thead>\n",
       "    <tr style=\"text-align: right;\">\n",
       "      <th></th>\n",
       "      <th>streakA</th>\n",
       "      <th>countA</th>\n",
       "      <th>pool_barcode</th>\n",
       "      <th>corrected_pool</th>\n",
       "      <th>well_barcode</th>\n",
       "      <th>cell_barcode</th>\n",
       "    </tr>\n",
       "  </thead>\n",
       "  <tbody>\n",
       "    <tr>\n",
       "      <th>0</th>\n",
       "      <td>15</td>\n",
       "      <td>28</td>\n",
       "      <td>TTGG</td>\n",
       "      <td>TTGG</td>\n",
       "      <td>GACNNN</td>\n",
       "      <td>TTGGGACNNN</td>\n",
       "    </tr>\n",
       "    <tr>\n",
       "      <th>1</th>\n",
       "      <td>2</td>\n",
       "      <td>16</td>\n",
       "      <td>ATCA</td>\n",
       "      <td>ATCA</td>\n",
       "      <td>GTAACT</td>\n",
       "      <td>ATCAGTAACT</td>\n",
       "    </tr>\n",
       "    <tr>\n",
       "      <th>2</th>\n",
       "      <td>2</td>\n",
       "      <td>17</td>\n",
       "      <td>ACAG</td>\n",
       "      <td>ACAG</td>\n",
       "      <td>CGCCCC</td>\n",
       "      <td>ACAGCGCCCC</td>\n",
       "    </tr>\n",
       "    <tr>\n",
       "      <th>3</th>\n",
       "      <td>19</td>\n",
       "      <td>31</td>\n",
       "      <td>AGTC</td>\n",
       "      <td>AGTC</td>\n",
       "      <td>GATATC</td>\n",
       "      <td>AGTCGATATC</td>\n",
       "    </tr>\n",
       "    <tr>\n",
       "      <th>4</th>\n",
       "      <td>14</td>\n",
       "      <td>29</td>\n",
       "      <td>ACAG</td>\n",
       "      <td>ACAG</td>\n",
       "      <td>ACGGTC</td>\n",
       "      <td>ACAGACGGTC</td>\n",
       "    </tr>\n",
       "    <tr>\n",
       "      <th>5</th>\n",
       "      <td>13</td>\n",
       "      <td>23</td>\n",
       "      <td>AGTC</td>\n",
       "      <td>AGTC</td>\n",
       "      <td>CAACTC</td>\n",
       "      <td>AGTCCAACTC</td>\n",
       "    </tr>\n",
       "    <tr>\n",
       "      <th>6</th>\n",
       "      <td>17</td>\n",
       "      <td>29</td>\n",
       "      <td>AGTC</td>\n",
       "      <td>AGTC</td>\n",
       "      <td>AGGATC</td>\n",
       "      <td>AGTCAGGATC</td>\n",
       "    </tr>\n",
       "    <tr>\n",
       "      <th>7</th>\n",
       "      <td>4</td>\n",
       "      <td>12</td>\n",
       "      <td>CTAC</td>\n",
       "      <td>CTAC</td>\n",
       "      <td>TGCTGA</td>\n",
       "      <td>CTACTGCTGA</td>\n",
       "    </tr>\n",
       "    <tr>\n",
       "      <th>8</th>\n",
       "      <td>16</td>\n",
       "      <td>31</td>\n",
       "      <td>ATCA</td>\n",
       "      <td>ATCA</td>\n",
       "      <td>CTTGGT</td>\n",
       "      <td>ATCACTTGGT</td>\n",
       "    </tr>\n",
       "    <tr>\n",
       "      <th>9</th>\n",
       "      <td>2</td>\n",
       "      <td>18</td>\n",
       "      <td>CTAC</td>\n",
       "      <td>CTAC</td>\n",
       "      <td>GGGGGT</td>\n",
       "      <td>CTACGGGGGT</td>\n",
       "    </tr>\n",
       "    <tr>\n",
       "      <th>10</th>\n",
       "      <td>4</td>\n",
       "      <td>19</td>\n",
       "      <td>ATCA</td>\n",
       "      <td>ATCA</td>\n",
       "      <td>GCATTG</td>\n",
       "      <td>ATCAGCATTG</td>\n",
       "    </tr>\n",
       "    <tr>\n",
       "      <th>11</th>\n",
       "      <td>20</td>\n",
       "      <td>28</td>\n",
       "      <td>AGTC</td>\n",
       "      <td>AGTC</td>\n",
       "      <td>GCCTAG</td>\n",
       "      <td>AGTCGCCTAG</td>\n",
       "    </tr>\n",
       "    <tr>\n",
       "      <th>12</th>\n",
       "      <td>21</td>\n",
       "      <td>31</td>\n",
       "      <td>ACAG</td>\n",
       "      <td>ACAG</td>\n",
       "      <td>TAAGCA</td>\n",
       "      <td>ACAGTAAGCA</td>\n",
       "    </tr>\n",
       "    <tr>\n",
       "      <th>13</th>\n",
       "      <td>2</td>\n",
       "      <td>16</td>\n",
       "      <td>ACAG</td>\n",
       "      <td>ACAG</td>\n",
       "      <td>AGTTGC</td>\n",
       "      <td>ACAGAGTTGC</td>\n",
       "    </tr>\n",
       "    <tr>\n",
       "      <th>14</th>\n",
       "      <td>13</td>\n",
       "      <td>27</td>\n",
       "      <td>CTAC</td>\n",
       "      <td>CTAC</td>\n",
       "      <td>GACCGT</td>\n",
       "      <td>CTACGACCGT</td>\n",
       "    </tr>\n",
       "    <tr>\n",
       "      <th>15</th>\n",
       "      <td>10</td>\n",
       "      <td>26</td>\n",
       "      <td>AGTC</td>\n",
       "      <td>AGTC</td>\n",
       "      <td>CGAGAT</td>\n",
       "      <td>AGTCCGAGAT</td>\n",
       "    </tr>\n",
       "    <tr>\n",
       "      <th>16</th>\n",
       "      <td>15</td>\n",
       "      <td>28</td>\n",
       "      <td>CATG</td>\n",
       "      <td>CATG</td>\n",
       "      <td>TTCAGG</td>\n",
       "      <td>CATGTTCAGG</td>\n",
       "    </tr>\n",
       "    <tr>\n",
       "      <th>17</th>\n",
       "      <td>17</td>\n",
       "      <td>30</td>\n",
       "      <td>CTAC</td>\n",
       "      <td>CTAC</td>\n",
       "      <td>TAGAGC</td>\n",
       "      <td>CTACTAGAGC</td>\n",
       "    </tr>\n",
       "    <tr>\n",
       "      <th>18</th>\n",
       "      <td>18</td>\n",
       "      <td>32</td>\n",
       "      <td>ACAG</td>\n",
       "      <td>ACAG</td>\n",
       "      <td>TTGAAT</td>\n",
       "      <td>ACAGTTGAAT</td>\n",
       "    </tr>\n",
       "    <tr>\n",
       "      <th>19</th>\n",
       "      <td>2</td>\n",
       "      <td>15</td>\n",
       "      <td>CTAC</td>\n",
       "      <td>CTAC</td>\n",
       "      <td>CCGTAA</td>\n",
       "      <td>CTACCCGTAA</td>\n",
       "    </tr>\n",
       "  </tbody>\n",
       "</table>\n",
       "</div>"
      ],
      "text/plain": [
       "    streakA  countA pool_barcode corrected_pool well_barcode cell_barcode\n",
       "0        15      28         TTGG           TTGG       GACNNN   TTGGGACNNN\n",
       "1         2      16         ATCA           ATCA       GTAACT   ATCAGTAACT\n",
       "2         2      17         ACAG           ACAG       CGCCCC   ACAGCGCCCC\n",
       "3        19      31         AGTC           AGTC       GATATC   AGTCGATATC\n",
       "4        14      29         ACAG           ACAG       ACGGTC   ACAGACGGTC\n",
       "5        13      23         AGTC           AGTC       CAACTC   AGTCCAACTC\n",
       "6        17      29         AGTC           AGTC       AGGATC   AGTCAGGATC\n",
       "7         4      12         CTAC           CTAC       TGCTGA   CTACTGCTGA\n",
       "8        16      31         ATCA           ATCA       CTTGGT   ATCACTTGGT\n",
       "9         2      18         CTAC           CTAC       GGGGGT   CTACGGGGGT\n",
       "10        4      19         ATCA           ATCA       GCATTG   ATCAGCATTG\n",
       "11       20      28         AGTC           AGTC       GCCTAG   AGTCGCCTAG\n",
       "12       21      31         ACAG           ACAG       TAAGCA   ACAGTAAGCA\n",
       "13        2      16         ACAG           ACAG       AGTTGC   ACAGAGTTGC\n",
       "14       13      27         CTAC           CTAC       GACCGT   CTACGACCGT\n",
       "15       10      26         AGTC           AGTC       CGAGAT   AGTCCGAGAT\n",
       "16       15      28         CATG           CATG       TTCAGG   CATGTTCAGG\n",
       "17       17      30         CTAC           CTAC       TAGAGC   CTACTAGAGC\n",
       "18       18      32         ACAG           ACAG       TTGAAT   ACAGTTGAAT\n",
       "19        2      15         CTAC           CTAC       CCGTAA   CTACCCGTAA"
      ]
     },
     "execution_count": 372,
     "metadata": {},
     "output_type": "execute_result"
    }
   ],
   "source": [
    "df"
   ]
  },
  {
   "cell_type": "code",
   "execution_count": 373,
   "metadata": {
    "ExecuteTime": {
     "end_time": "2017-10-15T10:37:41.395780Z",
     "start_time": "2017-10-15T10:37:41.046892Z"
    }
   },
   "outputs": [
    {
     "data": {
      "text/html": [
       "<div>\n",
       "<table border=\"1\" class=\"dataframe\">\n",
       "  <thead>\n",
       "    <tr style=\"text-align: right;\">\n",
       "      <th></th>\n",
       "      <th>pool_barcode</th>\n",
       "      <th>well_barcode</th>\n",
       "    </tr>\n",
       "  </thead>\n",
       "  <tbody>\n",
       "    <tr>\n",
       "      <th>TTGGGACNNN</th>\n",
       "      <td>TTGG</td>\n",
       "      <td>GACNNN</td>\n",
       "    </tr>\n",
       "    <tr>\n",
       "      <th>ATCAGTAACT</th>\n",
       "      <td>ATCA</td>\n",
       "      <td>GTAACT</td>\n",
       "    </tr>\n",
       "    <tr>\n",
       "      <th>ACAGCGCCCC</th>\n",
       "      <td>ACAG</td>\n",
       "      <td>CGCCCC</td>\n",
       "    </tr>\n",
       "    <tr>\n",
       "      <th>AGTCGATATC</th>\n",
       "      <td>AGTC</td>\n",
       "      <td>GATATC</td>\n",
       "    </tr>\n",
       "    <tr>\n",
       "      <th>ACAGACGGTC</th>\n",
       "      <td>ACAG</td>\n",
       "      <td>ACGGTC</td>\n",
       "    </tr>\n",
       "  </tbody>\n",
       "</table>\n",
       "</div>"
      ],
      "text/plain": [
       "           pool_barcode well_barcode\n",
       "TTGGGACNNN         TTGG       GACNNN\n",
       "ATCAGTAACT         ATCA       GTAACT\n",
       "ACAGCGCCCC         ACAG       CGCCCC\n",
       "AGTCGATATC         AGTC       GATATC\n",
       "ACAGACGGTC         ACAG       ACGGTC"
      ]
     },
     "execution_count": 373,
     "metadata": {},
     "output_type": "execute_result"
    }
   ],
   "source": [
    "df = pd.DataFrame(index=cell_barcodes, columns=('pool_barcode', 'well_barcode', ))\n",
    "df.pool_barcode = list_pool\n",
    "df.well_barcode = wells\n",
    "df.head()\n"
   ]
  },
  {
   "cell_type": "code",
   "execution_count": 374,
   "metadata": {
    "ExecuteTime": {
     "end_time": "2017-10-15T10:38:53.297339Z",
     "start_time": "2017-10-15T10:38:53.273648Z"
    },
    "collapsed": true
   },
   "outputs": [],
   "source": [
    "def has_poly_A(string1):\n",
    "    a_counter = 0\n",
    "    for base in string1:\n",
    "        if base == 'A':\n",
    "            a_counter +=1\n",
    "            if a_counter >= 10:\n",
    "                return 1\n",
    "        else:\n",
    "            a_counter = 0\n",
    "    return 0\n",
    "    "
   ]
  },
  {
   "cell_type": "code",
   "execution_count": 375,
   "metadata": {
    "ExecuteTime": {
     "end_time": "2017-10-15T10:38:53.878253Z",
     "start_time": "2017-10-15T10:38:53.859546Z"
    }
   },
   "outputs": [
    {
     "name": "stdout",
     "output_type": "stream",
     "text": [
      "192\n"
     ]
    }
   ],
   "source": [
    "path = \"/Users/dariapodorskaja/Desktop/Lab/cell-barcodes.txt\"\n",
    "with open(path, 'r') as f:\n",
    "    correct_wells = f.read().splitlines()\n",
    "print(len(correct_wells))"
   ]
  },
  {
   "cell_type": "code",
   "execution_count": 376,
   "metadata": {
    "ExecuteTime": {
     "end_time": "2017-10-15T10:38:56.035832Z",
     "start_time": "2017-10-15T10:38:54.525021Z"
    },
    "collapsed": true
   },
   "outputs": [],
   "source": [
    "correct_pools = ['ACAG', 'AGTC', 'ATCA', 'CATG', 'CTAC', 'TTGG']\n",
    "\n",
    "filtered_reads = list()\n",
    "cell_barcodes = list()\n",
    "for pool,well,read in zip(list_pool,wells, dna_reads):\n",
    "    if pool in correct_pools and well in correct_wells:\n",
    "        cell_barcodes.append(pool+well)\n",
    "        filtered_reads.append(read)"
   ]
  },
  {
   "cell_type": "code",
   "execution_count": 377,
   "metadata": {
    "ExecuteTime": {
     "end_time": "2017-10-15T10:38:58.079495Z",
     "start_time": "2017-10-15T10:38:56.695502Z"
    },
    "collapsed": true
   },
   "outputs": [],
   "source": [
    "poly_A_list = list()\n",
    "for read in filtered_reads:\n",
    "    poly_A_list.append(has_poly_A(read))  "
   ]
  },
  {
   "cell_type": "code",
   "execution_count": 378,
   "metadata": {
    "ExecuteTime": {
     "end_time": "2017-10-15T10:39:00.195042Z",
     "start_time": "2017-10-15T10:38:58.082419Z"
    }
   },
   "outputs": [
    {
     "name": "stdout",
     "output_type": "stream",
     "text": [
      "359941\n",
      "[19, 14, 13, 17, 4, 4, 20, 21, 2, 13]\n"
     ]
    }
   ],
   "source": [
    "streak_a = list()\n",
    "for read in filtered_reads:\n",
    "    streak_a.append(longest_a_streak(read))\n",
    "\n",
    "print(len(streak_a))\n",
    "print(streak_a[:10])"
   ]
  },
  {
   "cell_type": "code",
   "execution_count": 379,
   "metadata": {
    "ExecuteTime": {
     "end_time": "2017-10-15T10:39:01.032864Z",
     "start_time": "2017-10-15T10:39:01.027563Z"
    }
   },
   "outputs": [
    {
     "name": "stdout",
     "output_type": "stream",
     "text": [
      "359941\n"
     ]
    }
   ],
   "source": [
    "print(len(filtered_reads))"
   ]
  },
  {
   "cell_type": "code",
   "execution_count": 380,
   "metadata": {
    "ExecuteTime": {
     "end_time": "2017-10-15T10:39:03.948937Z",
     "start_time": "2017-10-15T10:39:03.944281Z"
    }
   },
   "outputs": [
    {
     "name": "stdout",
     "output_type": "stream",
     "text": [
      "359941\n"
     ]
    }
   ],
   "source": [
    "print(len(cell_barcodes))"
   ]
  },
  {
   "cell_type": "code",
   "execution_count": 381,
   "metadata": {
    "ExecuteTime": {
     "end_time": "2017-10-15T10:39:05.089506Z",
     "start_time": "2017-10-15T10:39:04.581061Z"
    }
   },
   "outputs": [
    {
     "data": {
      "text/html": [
       "<div>\n",
       "<table border=\"1\" class=\"dataframe\">\n",
       "  <thead>\n",
       "    <tr style=\"text-align: right;\">\n",
       "      <th></th>\n",
       "      <th>cell_barcodes</th>\n",
       "      <th>longest_A_streak</th>\n",
       "      <th>number_of_reads</th>\n",
       "      <th>poly_A</th>\n",
       "    </tr>\n",
       "  </thead>\n",
       "  <tbody>\n",
       "    <tr>\n",
       "      <th>0</th>\n",
       "      <td>AGTCGATATC</td>\n",
       "      <td>1</td>\n",
       "      <td>1</td>\n",
       "      <td>1</td>\n",
       "    </tr>\n",
       "    <tr>\n",
       "      <th>1</th>\n",
       "      <td>ACAGACGGTC</td>\n",
       "      <td>1</td>\n",
       "      <td>1</td>\n",
       "      <td>1</td>\n",
       "    </tr>\n",
       "    <tr>\n",
       "      <th>2</th>\n",
       "      <td>AGTCCAACTC</td>\n",
       "      <td>1</td>\n",
       "      <td>1</td>\n",
       "      <td>1</td>\n",
       "    </tr>\n",
       "    <tr>\n",
       "      <th>3</th>\n",
       "      <td>AGTCAGGATC</td>\n",
       "      <td>1</td>\n",
       "      <td>1</td>\n",
       "      <td>1</td>\n",
       "    </tr>\n",
       "    <tr>\n",
       "      <th>4</th>\n",
       "      <td>CTACTGCTGA</td>\n",
       "      <td>1</td>\n",
       "      <td>1</td>\n",
       "      <td>0</td>\n",
       "    </tr>\n",
       "  </tbody>\n",
       "</table>\n",
       "</div>"
      ],
      "text/plain": [
       "  cell_barcodes  longest_A_streak  number_of_reads  poly_A\n",
       "0    AGTCGATATC                 1                1       1\n",
       "1    ACAGACGGTC                 1                1       1\n",
       "2    AGTCCAACTC                 1                1       1\n",
       "3    AGTCAGGATC                 1                1       1\n",
       "4    CTACTGCTGA                 1                1       0"
      ]
     },
     "execution_count": 381,
     "metadata": {},
     "output_type": "execute_result"
    }
   ],
   "source": [
    "df = pd.DataFrame(columns=('cell_barcodes',  'longest_A_streak', 'number_of_reads', \"poly_A\"))\n",
    "df.cell_barcodes = cell_barcodes\n",
    "df.longest_A_streak = [1 if i > 0 else 0 for i in streak_a]\n",
    "df.number_of_reads = [1 for i in range(len(streak_a))]\n",
    "df.poly_A = poly_A_list\n",
    "df.head()"
   ]
  },
  {
   "cell_type": "code",
   "execution_count": 382,
   "metadata": {
    "ExecuteTime": {
     "end_time": "2017-10-15T10:39:05.978738Z",
     "start_time": "2017-10-15T10:39:05.740303Z"
    }
   },
   "outputs": [
    {
     "name": "stdout",
     "output_type": "stream",
     "text": [
      "359941\n"
     ]
    }
   ],
   "source": [
    "#df1 = df1.assign(e=p.Series(np.random.randn(sLength)).values)\n",
    "cell_barcodes_lst= list(df.cell_barcodes.tolist())\n",
    "_pool_barcodes = list()\n",
    "for i in cell_barcodes_lst:\n",
    "    _pool_barcodes.append((i[0:4]))\n",
    "print(len(cell_barcodes_lst))\n"
   ]
  },
  {
   "cell_type": "code",
   "execution_count": 383,
   "metadata": {
    "ExecuteTime": {
     "end_time": "2017-10-15T10:39:12.520335Z",
     "start_time": "2017-10-15T10:39:12.488506Z"
    }
   },
   "outputs": [
    {
     "data": {
      "text/html": [
       "<div>\n",
       "<table border=\"1\" class=\"dataframe\">\n",
       "  <thead>\n",
       "    <tr style=\"text-align: right;\">\n",
       "      <th></th>\n",
       "      <th>cell_barcodes</th>\n",
       "      <th>longest_A_streak</th>\n",
       "      <th>number_of_reads</th>\n",
       "      <th>poly_A</th>\n",
       "      <th>pool_barcodes</th>\n",
       "    </tr>\n",
       "  </thead>\n",
       "  <tbody>\n",
       "    <tr>\n",
       "      <th>0</th>\n",
       "      <td>AGTCGATATC</td>\n",
       "      <td>1</td>\n",
       "      <td>1</td>\n",
       "      <td>1</td>\n",
       "      <td>AGTC</td>\n",
       "    </tr>\n",
       "    <tr>\n",
       "      <th>1</th>\n",
       "      <td>ACAGACGGTC</td>\n",
       "      <td>1</td>\n",
       "      <td>1</td>\n",
       "      <td>1</td>\n",
       "      <td>ACAG</td>\n",
       "    </tr>\n",
       "    <tr>\n",
       "      <th>2</th>\n",
       "      <td>AGTCCAACTC</td>\n",
       "      <td>1</td>\n",
       "      <td>1</td>\n",
       "      <td>1</td>\n",
       "      <td>AGTC</td>\n",
       "    </tr>\n",
       "    <tr>\n",
       "      <th>3</th>\n",
       "      <td>AGTCAGGATC</td>\n",
       "      <td>1</td>\n",
       "      <td>1</td>\n",
       "      <td>1</td>\n",
       "      <td>AGTC</td>\n",
       "    </tr>\n",
       "    <tr>\n",
       "      <th>4</th>\n",
       "      <td>CTACTGCTGA</td>\n",
       "      <td>1</td>\n",
       "      <td>1</td>\n",
       "      <td>0</td>\n",
       "      <td>CTAC</td>\n",
       "    </tr>\n",
       "  </tbody>\n",
       "</table>\n",
       "</div>"
      ],
      "text/plain": [
       "  cell_barcodes  longest_A_streak  number_of_reads  poly_A pool_barcodes\n",
       "0    AGTCGATATC                 1                1       1          AGTC\n",
       "1    ACAGACGGTC                 1                1       1          ACAG\n",
       "2    AGTCCAACTC                 1                1       1          AGTC\n",
       "3    AGTCAGGATC                 1                1       1          AGTC\n",
       "4    CTACTGCTGA                 1                1       0          CTAC"
      ]
     },
     "execution_count": 383,
     "metadata": {},
     "output_type": "execute_result"
    }
   ],
   "source": [
    "df['pool_barcodes'] = _pool_barcodes\n",
    "df.head()"
   ]
  },
  {
   "cell_type": "code",
   "execution_count": 384,
   "metadata": {
    "ExecuteTime": {
     "end_time": "2017-10-15T10:39:13.289357Z",
     "start_time": "2017-10-15T10:39:13.122626Z"
    }
   },
   "outputs": [
    {
     "data": {
      "text/html": [
       "<div>\n",
       "<table border=\"1\" class=\"dataframe\">\n",
       "  <thead>\n",
       "    <tr style=\"text-align: right;\">\n",
       "      <th></th>\n",
       "      <th>longest_A_streak</th>\n",
       "      <th>number_of_reads</th>\n",
       "      <th>poly_A</th>\n",
       "    </tr>\n",
       "    <tr>\n",
       "      <th>cell_barcodes</th>\n",
       "      <th></th>\n",
       "      <th></th>\n",
       "      <th></th>\n",
       "    </tr>\n",
       "  </thead>\n",
       "  <tbody>\n",
       "    <tr>\n",
       "      <th>ACAGAACAAT</th>\n",
       "      <td>157</td>\n",
       "      <td>157</td>\n",
       "      <td>92</td>\n",
       "    </tr>\n",
       "    <tr>\n",
       "      <th>ACAGAACGCA</th>\n",
       "      <td>498</td>\n",
       "      <td>498</td>\n",
       "      <td>318</td>\n",
       "    </tr>\n",
       "    <tr>\n",
       "      <th>ACAGAACTGG</th>\n",
       "      <td>388</td>\n",
       "      <td>388</td>\n",
       "      <td>251</td>\n",
       "    </tr>\n",
       "    <tr>\n",
       "      <th>ACAGAACTTG</th>\n",
       "      <td>283</td>\n",
       "      <td>283</td>\n",
       "      <td>181</td>\n",
       "    </tr>\n",
       "    <tr>\n",
       "      <th>ACAGAAGACA</th>\n",
       "      <td>208</td>\n",
       "      <td>208</td>\n",
       "      <td>121</td>\n",
       "    </tr>\n",
       "  </tbody>\n",
       "</table>\n",
       "</div>"
      ],
      "text/plain": [
       "               longest_A_streak  number_of_reads  poly_A\n",
       "cell_barcodes                                           \n",
       "ACAGAACAAT                  157              157      92\n",
       "ACAGAACGCA                  498              498     318\n",
       "ACAGAACTGG                  388              388     251\n",
       "ACAGAACTTG                  283              283     181\n",
       "ACAGAAGACA                  208              208     121"
      ]
     },
     "execution_count": 384,
     "metadata": {},
     "output_type": "execute_result"
    }
   ],
   "source": [
    "df2=df.groupby(\"cell_barcodes\").sum()\n",
    "#df2['% of reads with polyA in the cell'] = (df2.poly_A / df2.number_of_reads)*100\n",
    "df2.head()"
   ]
  },
  {
   "cell_type": "code",
   "execution_count": 385,
   "metadata": {
    "ExecuteTime": {
     "end_time": "2017-10-15T10:39:14.515388Z",
     "start_time": "2017-10-15T10:39:14.435166Z"
    }
   },
   "outputs": [
    {
     "data": {
      "text/html": [
       "<div>\n",
       "<table border=\"1\" class=\"dataframe\">\n",
       "  <thead>\n",
       "    <tr style=\"text-align: right;\">\n",
       "      <th></th>\n",
       "      <th>longest_A_streak</th>\n",
       "      <th>number_of_reads</th>\n",
       "      <th>poly_A</th>\n",
       "      <th>% of reads with polyA in the cell</th>\n",
       "    </tr>\n",
       "    <tr>\n",
       "      <th>cell_barcodes</th>\n",
       "      <th></th>\n",
       "      <th></th>\n",
       "      <th></th>\n",
       "      <th></th>\n",
       "    </tr>\n",
       "  </thead>\n",
       "  <tbody>\n",
       "    <tr>\n",
       "      <th>ACAGAACAAT</th>\n",
       "      <td>157</td>\n",
       "      <td>157</td>\n",
       "      <td>92</td>\n",
       "      <td>58.598726</td>\n",
       "    </tr>\n",
       "    <tr>\n",
       "      <th>ACAGAACGCA</th>\n",
       "      <td>498</td>\n",
       "      <td>498</td>\n",
       "      <td>318</td>\n",
       "      <td>63.855422</td>\n",
       "    </tr>\n",
       "    <tr>\n",
       "      <th>ACAGAACTGG</th>\n",
       "      <td>388</td>\n",
       "      <td>388</td>\n",
       "      <td>251</td>\n",
       "      <td>64.690722</td>\n",
       "    </tr>\n",
       "    <tr>\n",
       "      <th>ACAGAACTTG</th>\n",
       "      <td>283</td>\n",
       "      <td>283</td>\n",
       "      <td>181</td>\n",
       "      <td>63.957597</td>\n",
       "    </tr>\n",
       "    <tr>\n",
       "      <th>ACAGAAGACA</th>\n",
       "      <td>208</td>\n",
       "      <td>208</td>\n",
       "      <td>121</td>\n",
       "      <td>58.173077</td>\n",
       "    </tr>\n",
       "  </tbody>\n",
       "</table>\n",
       "</div>"
      ],
      "text/plain": [
       "               longest_A_streak  number_of_reads  poly_A  \\\n",
       "cell_barcodes                                              \n",
       "ACAGAACAAT                  157              157      92   \n",
       "ACAGAACGCA                  498              498     318   \n",
       "ACAGAACTGG                  388              388     251   \n",
       "ACAGAACTTG                  283              283     181   \n",
       "ACAGAAGACA                  208              208     121   \n",
       "\n",
       "               % of reads with polyA in the cell  \n",
       "cell_barcodes                                     \n",
       "ACAGAACAAT                             58.598726  \n",
       "ACAGAACGCA                             63.855422  \n",
       "ACAGAACTGG                             64.690722  \n",
       "ACAGAACTTG                             63.957597  \n",
       "ACAGAAGACA                             58.173077  "
      ]
     },
     "execution_count": 385,
     "metadata": {},
     "output_type": "execute_result"
    }
   ],
   "source": [
    "df1=df.groupby(\"cell_barcodes\").sum()\n",
    "df1['% of reads with polyA in the cell'] = (df1.poly_A / df1.number_of_reads)*100\n",
    "df1.head()"
   ]
  },
  {
   "cell_type": "code",
   "execution_count": 386,
   "metadata": {
    "ExecuteTime": {
     "end_time": "2017-10-15T10:39:16.354532Z",
     "start_time": "2017-10-15T10:39:16.341537Z"
    },
    "collapsed": true
   },
   "outputs": [],
   "source": [
    "#df1 = df1.assign(e=p.Series(np.random.randn(sLength)).values)\n",
    "cell_barcodes_lst= list(df1.index.tolist())\n",
    "_pool_barcodes = list()\n",
    "for i in cell_barcodes_lst:\n",
    "    _pool_barcodes.append((i[0:4]))"
   ]
  },
  {
   "cell_type": "code",
   "execution_count": 354,
   "metadata": {
    "ExecuteTime": {
     "end_time": "2017-10-15T10:32:13.951140Z",
     "start_time": "2017-10-15T10:32:13.946668Z"
    },
    "collapsed": true
   },
   "outputs": [],
   "source": [
    "df1[\"pool_barcode\"] = _pool_barcodes"
   ]
  },
  {
   "cell_type": "code",
   "execution_count": 355,
   "metadata": {
    "ExecuteTime": {
     "end_time": "2017-10-15T10:32:14.411173Z",
     "start_time": "2017-10-15T10:32:14.397838Z"
    }
   },
   "outputs": [
    {
     "data": {
      "text/html": [
       "<div>\n",
       "<table border=\"1\" class=\"dataframe\">\n",
       "  <thead>\n",
       "    <tr style=\"text-align: right;\">\n",
       "      <th></th>\n",
       "      <th>longest_A_streak</th>\n",
       "      <th>number_of_reads</th>\n",
       "      <th>poly_A</th>\n",
       "      <th>% of reads with polyA in the cell</th>\n",
       "      <th>pool_barcode</th>\n",
       "    </tr>\n",
       "    <tr>\n",
       "      <th>cell_barcodes</th>\n",
       "      <th></th>\n",
       "      <th></th>\n",
       "      <th></th>\n",
       "      <th></th>\n",
       "      <th></th>\n",
       "    </tr>\n",
       "  </thead>\n",
       "  <tbody>\n",
       "    <tr>\n",
       "      <th>ACAGAACAAT</th>\n",
       "      <td>157</td>\n",
       "      <td>157</td>\n",
       "      <td>92</td>\n",
       "      <td>58.598726</td>\n",
       "      <td>ACAG</td>\n",
       "    </tr>\n",
       "    <tr>\n",
       "      <th>ACAGAACGCA</th>\n",
       "      <td>498</td>\n",
       "      <td>498</td>\n",
       "      <td>318</td>\n",
       "      <td>63.855422</td>\n",
       "      <td>ACAG</td>\n",
       "    </tr>\n",
       "    <tr>\n",
       "      <th>ACAGAACTGG</th>\n",
       "      <td>388</td>\n",
       "      <td>388</td>\n",
       "      <td>251</td>\n",
       "      <td>64.690722</td>\n",
       "      <td>ACAG</td>\n",
       "    </tr>\n",
       "    <tr>\n",
       "      <th>ACAGAACTTG</th>\n",
       "      <td>283</td>\n",
       "      <td>283</td>\n",
       "      <td>181</td>\n",
       "      <td>63.957597</td>\n",
       "      <td>ACAG</td>\n",
       "    </tr>\n",
       "    <tr>\n",
       "      <th>ACAGAAGACA</th>\n",
       "      <td>208</td>\n",
       "      <td>208</td>\n",
       "      <td>121</td>\n",
       "      <td>58.173077</td>\n",
       "      <td>ACAG</td>\n",
       "    </tr>\n",
       "  </tbody>\n",
       "</table>\n",
       "</div>"
      ],
      "text/plain": [
       "               longest_A_streak  number_of_reads  poly_A  \\\n",
       "cell_barcodes                                              \n",
       "ACAGAACAAT                  157              157      92   \n",
       "ACAGAACGCA                  498              498     318   \n",
       "ACAGAACTGG                  388              388     251   \n",
       "ACAGAACTTG                  283              283     181   \n",
       "ACAGAAGACA                  208              208     121   \n",
       "\n",
       "               % of reads with polyA in the cell pool_barcode  \n",
       "cell_barcodes                                                  \n",
       "ACAGAACAAT                             58.598726         ACAG  \n",
       "ACAGAACGCA                             63.855422         ACAG  \n",
       "ACAGAACTGG                             64.690722         ACAG  \n",
       "ACAGAACTTG                             63.957597         ACAG  \n",
       "ACAGAAGACA                             58.173077         ACAG  "
      ]
     },
     "execution_count": 355,
     "metadata": {},
     "output_type": "execute_result"
    }
   ],
   "source": [
    "df1.head()"
   ]
  },
  {
   "cell_type": "code",
   "execution_count": 356,
   "metadata": {
    "ExecuteTime": {
     "end_time": "2017-10-15T10:32:15.547893Z",
     "start_time": "2017-10-15T10:32:15.156918Z"
    }
   },
   "outputs": [
    {
     "data": {
      "image/png": "[encoded data removed]",
      "text/plain": [
       "<matplotlib.figure.Figure at 0x18f1d5dd8>"
      ]
     },
     "metadata": {},
     "output_type": "display_data"
    }
   ],
   "source": [
    "fig, axes = plt.subplots()\n",
    "\n",
    "axes.violinplot(dataset = [df1[df1.pool_barcode == \"ACAG\"][\"% of reads with polyA in the cell\"],\n",
    "                           df1[df1.pool_barcode == \"AGTC\"][\"% of reads with polyA in the cell\"],\n",
    "                           df1[df1.pool_barcode == \"ATCA\"][\"% of reads with polyA in the cell\"],\n",
    "                           df1[df1.pool_barcode == \"CATG\"][\"% of reads with polyA in the cell\"],\n",
    "                           df1[df1.pool_barcode == \"CTAC\"][\"% of reads with polyA in the cell\"],\n",
    "                           df1[df1.pool_barcode == \"TTGG\"][\"% of reads with polyA in the cell\"] ], showmeans = True)\n",
    "axes.set_title('% of reads with polyA by pool barcode')\n",
    "axes.yaxis.grid(True)\n",
    "axes.set_xlabel('Pool barcode')\n",
    "axes.set_ylabel('% of reads with polyA')\n",
    "axes.set_xticklabels([\"1\",\"ACAG\", \"AGTC\", \"ATCA\", \"CATG\", \"CTAC\", \"TTGG\"])\n",
    "\n",
    "plt.show()"
   ]
  },
  {
   "cell_type": "code",
   "execution_count": 359,
   "metadata": {
    "ExecuteTime": {
     "end_time": "2017-10-15T10:33:21.078181Z",
     "start_time": "2017-10-15T10:33:20.826314Z"
    }
   },
   "outputs": [
    {
     "data": {
      "image/png": "[encoded data removed]",
      "text/plain": [
       "<matplotlib.figure.Figure at 0x19485b2e8>"
      ]
     },
     "metadata": {},
     "output_type": "display_data"
    }
   ],
   "source": [
    "%matplotlib inline\n",
    "df1.boxplot(column='% of reads with polyA in the cell')\n",
    "plt.show()"
   ]
  },
  {
   "cell_type": "code",
   "execution_count": null,
   "metadata": {
    "collapsed": true
   },
   "outputs": [],
   "source": []
  }
 ],
 "metadata": {
  "kernelspec": {
   "display_name": "Python 3",
   "language": "python",
   "name": "python3"
  },
  "language_info": {
   "codemirror_mode": {
    "name": "ipython",
    "version": 3
   },
   "file_extension": ".py",
   "mimetype": "text/x-python",
   "name": "python",
   "nbconvert_exporter": "python",
   "pygments_lexer": "ipython3",
   "version": "3.6.0"
  },
  "toc": {
   "collapse_to_match_collapsible_headings": false,
   "colors": {
    "hover_highlight": "#DAA520",
    "navigate_num": "#000000",
    "navigate_text": "#333333",
    "running_highlight": "#FF0000",
    "selected_highlight": "#FFD700",
    "sidebar_border": "#EEEEEE",
    "wrapper_background": "#FFFFFF"
   },
   "moveMenuLeft": true,
   "nav_menu": {
    "height": "138px",
    "width": "252px"
   },
   "navigate_menu": true,
   "number_sections": true,
   "sideBar": true,
   "skip_h1_title": false,
   "threshold": 4,
   "toc_cell": true,
   "toc_section_display": "block",
   "toc_window_display": false,
   "widenNotebook": false
  },
  "varInspector": {
   "cols": {
    "lenName": 16,
    "lenType": 16,
    "lenVar": 40
   },
   "kernels_config": {
    "python": {
     "delete_cmd_postfix": "",
     "delete_cmd_prefix": "del ",
     "library": "var_list.py",
     "varRefreshCmd": "print(var_dic_list())"
    },
    "r": {
     "delete_cmd_postfix": ") ",
     "delete_cmd_prefix": "rm(",
     "library": "var_list.r",
     "varRefreshCmd": "cat(var_dic_list()) "
    }
   },
   "oldHeight": 363,
   "position": {
    "height": "302px",
    "left": "1118px",
    "right": "20px",
    "top": "106px",
    "width": "307px"
   },
   "types_to_exclude": [
    "module",
    "function",
    "builtin_function_or_method",
    "instance",
    "_Feature"
   ],
   "varInspector_section_display": "block",
   "window_display": false
  }
 },
 "nbformat": 4,
 "nbformat_minor": 2
}
