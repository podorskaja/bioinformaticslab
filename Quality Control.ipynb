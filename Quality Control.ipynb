{
 "cells": [
  {
   "cell_type": "markdown",
   "metadata": {
    "toc": "true"
   },
   "source": [
    " # Table of Contents\n",
    "<div class=\"toc\" style=\"margin-top: 1em;\"><ul class=\"toc-item\" id=\"toc-level0\"><li><span><a href=\"http://localhost:8888/notebooks/bioinformaticslab/Quality%20Control.ipynb#Find-the-longest-streak-of-'A'-Nucleotide\" data-toc-modified-id=\"Find-the-longest-streak-of-'A'-Nucleotide-1\"><span class=\"toc-item-num\">1&nbsp;&nbsp;</span>Find the longest streak of 'A' Nucleotide</a></span></li><li><span><a href=\"http://localhost:8888/notebooks/bioinformaticslab/Quality%20Control.ipynb#Total-'A'-count-in-a-read\" data-toc-modified-id=\"Total-'A'-count-in-a-read-2\"><span class=\"toc-item-num\">2&nbsp;&nbsp;</span>Total 'A' count in a read</a></span></li><li><span><a href=\"http://localhost:8888/notebooks/bioinformaticslab/Quality%20Control.ipynb#Count-DNA-reads-by-pool\" data-toc-modified-id=\"Count-DNA-reads-by-pool-3\"><span class=\"toc-item-num\">3&nbsp;&nbsp;</span>Count DNA reads by pool</a></span></li><li><span><a href=\"http://localhost:8888/notebooks/bioinformaticslab/Quality%20Control.ipynb#Count-longest-streak-of-'A'-by-the-pool\" data-toc-modified-id=\"Count-longest-streak-of-'A'-by-the-pool-4\"><span class=\"toc-item-num\">4&nbsp;&nbsp;</span>Count longest streak of 'A' by the pool</a></span></li><li><span><a href=\"http://localhost:8888/notebooks/bioinformaticslab/Quality%20Control.ipynb#Poly-A-tail-analysis\" data-toc-modified-id=\"Poly-A-tail-analysis-5\"><span class=\"toc-item-num\">5&nbsp;&nbsp;</span>Poly-A tail analysis</a></span></li><li><span><a href=\"http://localhost:8888/notebooks/bioinformaticslab/Quality%20Control.ipynb#Consensus-matrix-on-strings-after-poly-A-tail\" data-toc-modified-id=\"Consensus-matrix-on-strings-after-poly-A-tail-6\"><span class=\"toc-item-num\">6&nbsp;&nbsp;</span>Consensus matrix on strings after poly A tail</a></span></li><li><span><a href=\"http://localhost:8888/notebooks/bioinformaticslab/Quality%20Control.ipynb#Find-consensus-sequence-(=-artefact)-after-Poly-A-tail\" data-toc-modified-id=\"Find-consensus-sequence-(=-artefact)-after-Poly-A-tail-7\"><span class=\"toc-item-num\">7&nbsp;&nbsp;</span>Find consensus sequence (= artefact) after Poly A tail</a></span></li><li><span><a href=\"http://localhost:8888/notebooks/bioinformaticslab/Quality%20Control.ipynb#Misc\" data-toc-modified-id=\"Misc-8\"><span class=\"toc-item-num\">8&nbsp;&nbsp;</span>Misc</a></span></li></ul></div>"
   ]
  },
  {
   "cell_type": "markdown",
   "metadata": {},
   "source": [
    "# Find the longest streak of 'A' Nucleotide"
   ]
  },
  {
   "cell_type": "code",
   "execution_count": 249,
   "metadata": {
    "ExecuteTime": {
     "end_time": "2017-08-19T23:06:16.324273Z",
     "start_time": "2017-08-19T23:06:16.320703Z"
    },
    "collapsed": true
   },
   "outputs": [],
   "source": [
    "import seaborn as sns\n",
    "import matplotlib.pyplot as plt"
   ]
  },
  {
   "cell_type": "code",
   "execution_count": 250,
   "metadata": {
    "ExecuteTime": {
     "end_time": "2017-08-19T23:06:16.458952Z",
     "start_time": "2017-08-19T23:06:16.326989Z"
    },
    "collapsed": true
   },
   "outputs": [],
   "source": [
    "# count dna_reads in a file\n",
    "# open file\n",
    "path_to_file = '/Users/dariapodorskaja/Desktop/Lab/Lane_7_NoIndex_L007_R1_001.fastq'\n",
    "dna_reads = []\n",
    "lines_count = 160000  # number of lines in a file\n",
    "#Result = []\n",
    "\n",
    "# make lists of dna reads\n",
    "with open(path_to_file, 'r') as f:   # f = open(path_to_file, 'r') # f is a variable with a file\n",
    "    for current_line in range(lines_count):\n",
    "        if current_line % 4 == 1:  # pick lines with DNA sequences\n",
    "            s = f.readline()\n",
    "            s = s.replace('\\n', '')\n",
    "            dna_reads.append(s)\n",
    "        else:\n",
    "            next(f)"
   ]
  },
  {
   "cell_type": "code",
   "execution_count": 251,
   "metadata": {
    "ExecuteTime": {
     "end_time": "2017-08-19T23:06:16.466141Z",
     "start_time": "2017-08-19T23:06:16.460933Z"
    },
    "collapsed": true
   },
   "outputs": [],
   "source": [
    "def size_of_list(my_list):\n",
    "    \"\"\"size of my_list in MB\"\"\"\n",
    "    import sys\n",
    "    return sum([sys.getsizeof(i) for i in my_list]) / 1024 / 1024"
   ]
  },
  {
   "cell_type": "code",
   "execution_count": 252,
   "metadata": {
    "ExecuteTime": {
     "end_time": "2017-08-19T23:06:16.476736Z",
     "start_time": "2017-08-19T23:06:16.468928Z"
    },
    "collapsed": true
   },
   "outputs": [],
   "source": [
    "def histo(values, plot_title='empty title'):\n",
    "    \"\"\"show a histogram based on list\"\"\"\n",
    "    import matplotlib.pyplot as plt\n",
    "\n",
    "    plt.bar(range(len(values)),values)\n",
    "    plt.title(plot_title)\n",
    "    plt.show()\n"
   ]
  },
  {
   "cell_type": "code",
   "execution_count": 253,
   "metadata": {
    "ExecuteTime": {
     "end_time": "2017-08-19T23:06:16.486035Z",
     "start_time": "2017-08-19T23:06:16.479399Z"
    },
    "collapsed": true
   },
   "outputs": [],
   "source": [
    "def longest_a_streak(dna):\n",
    "    \"\"\"find longest streak of A in a string\"\"\"\n",
    "    counter = 0 \n",
    "    longest_streak = 0 #variable must be defined\n",
    "    for base in dna: \n",
    "        if base == 'A':\n",
    "            counter = counter + 1\n",
    "            if counter > longest_streak:\n",
    "                longest_streak = counter\n",
    "        else:\n",
    "            counter = 0\n",
    "    return longest_streak"
   ]
  },
  {
   "cell_type": "code",
   "execution_count": 254,
   "metadata": {
    "ExecuteTime": {
     "end_time": "2017-08-19T23:06:16.834605Z",
     "start_time": "2017-08-19T23:06:16.488989Z"
    },
    "collapsed": true
   },
   "outputs": [],
   "source": [
    "result = list()\n",
    "for s in dna_reads:\n",
    "    result.append(longest_a_streak(s))"
   ]
  },
  {
   "cell_type": "code",
   "execution_count": 255,
   "metadata": {
    "ExecuteTime": {
     "end_time": "2017-08-19T23:06:16.854086Z",
     "start_time": "2017-08-19T23:06:16.838361Z"
    }
   },
   "outputs": [
    {
     "name": "stdout",
     "output_type": "stream",
     "text": [
      "[4, 576, 6101, 2563, 1412, 937, 841, 839, 713, 830, 994, 1249, 1631, 1777, 1927, 1840, 1947, 2083, 2025, 2007, 1849, 1657, 1266, 926, 665, 438, 314, 201, 134, 93, 52, 26, 23, 23, 10, 7, 5, 4, 3, 1, 3, 0, 1, 0, 0, 0, 0, 1, 0, 0, 0, 0, 0, 0, 1, 0, 0, 0, 0, 0, 1]\n"
     ]
    }
   ],
   "source": [
    "# create a list with 61 zeroes\n",
    "longest_a_histo = [0 for i in range(61)]\n",
    "\n",
    "# add +1 to the correponding position when we see an element\n",
    "# i.e. if we see element 13 in \"result\", add +1 to position 13 in \"longest_a_histo\"\n",
    "for r in result:\n",
    "    longest_a_histo[r] += 1\n",
    "\n",
    "print(longest_a_histo)"
   ]
  },
  {
   "cell_type": "code",
   "execution_count": 256,
   "metadata": {
    "ExecuteTime": {
     "end_time": "2017-08-19T23:06:17.944617Z",
     "start_time": "2017-08-19T23:06:16.856966Z"
    }
   },
   "outputs": [
    {
     "data": {
      "image/png": "[encoded data removed]",
      "text/plain": [
       "<matplotlib.figure.Figure at 0x11abe6e80>"
      ]
     },
     "metadata": {},
     "output_type": "display_data"
    }
   ],
   "source": [
    "histo(longest_a_histo, 'Longest \"A\" streak')"
   ]
  },
  {
   "cell_type": "markdown",
   "metadata": {},
   "source": [
    "## Conclusion\n",
    "- The most \"popular\" A streak is of length 2 (it can be found in >6000 reads out of 40k)\n",
    "- The most common A streak is of length 10-25 \n"
   ]
  },
  {
   "cell_type": "markdown",
   "metadata": {},
   "source": [
    "# Total 'A' count per read"
   ]
  },
  {
   "cell_type": "code",
   "execution_count": 257,
   "metadata": {
    "ExecuteTime": {
     "end_time": "2017-08-19T23:06:18.308345Z",
     "start_time": "2017-08-19T23:06:17.946782Z"
    },
    "collapsed": true
   },
   "outputs": [],
   "source": [
    "result = []\n",
    "counter_A = 0\n",
    "for s in dna_reads:\n",
    "    for base in s:\n",
    "        if base == 'A':\n",
    "            counter_A += 1\n",
    "    result.append(counter_A)\n",
    "    counter_A = 0"
   ]
  },
  {
   "cell_type": "code",
   "execution_count": 258,
   "metadata": {
    "ExecuteTime": {
     "end_time": "2017-08-19T23:06:18.324058Z",
     "start_time": "2017-08-19T23:06:18.311254Z"
    },
    "collapsed": true
   },
   "outputs": [],
   "source": [
    "total_a = [0 for i in range(61)]\n",
    "for r in result:\n",
    "    total_a[r] += 1"
   ]
  },
  {
   "cell_type": "code",
   "execution_count": 259,
   "metadata": {
    "ExecuteTime": {
     "end_time": "2017-08-19T23:06:18.702437Z",
     "start_time": "2017-08-19T23:06:18.326531Z"
    }
   },
   "outputs": [
    {
     "data": {
      "image/png": "[encoded data removed]",
      "text/plain": [
       "<matplotlib.figure.Figure at 0x11d337978>"
      ]
     },
     "metadata": {},
     "output_type": "display_data"
    }
   ],
   "source": [
    "histo(total_a, plot_title='Total count of \"A\"')"
   ]
  },
  {
   "cell_type": "markdown",
   "metadata": {
    "variables": {
     "suspicious_reads": "75.07"
    }
   },
   "source": [
    "## Conclusion\n",
    "- We expect to have 25% of A. \n",
    "\n",
    "- More than 20 bases per read are encountered in {{suspicious_reads}}% of all reads\n"
   ]
  },
  {
   "cell_type": "markdown",
   "metadata": {},
   "source": [
    "# Count DNA reads by pool "
   ]
  },
  {
   "cell_type": "code",
   "execution_count": 260,
   "metadata": {
    "ExecuteTime": {
     "end_time": "2017-08-19T23:06:18.714621Z",
     "start_time": "2017-08-19T23:06:18.704727Z"
    }
   },
   "outputs": [],
   "source": [
    "d = {\n",
    "'ACAG': 0,\n",
    "'AGTC': 0,\n",
    "'ATCA': 0,\n",
    "'CATG': 0,\n",
    "'CTAC': 0,\n",
    "'TCTA': 0,\n",
    "'TGAT': 0,\n",
    "'TTGG': 0,\n",
    "'unknown': 0\n",
    "}\n",
    "\n",
    "# # or we can create this dict ourselves\n",
    "# pools = ['ACAG', 'AGTC', 'ATCA', 'CATG', 'CTAC', 'TCTA', 'TGAT', 'TTGG', 'unknown']\n",
    "# {pool: 0 for pool in pools}"
   ]
  },
  {
   "cell_type": "code",
   "execution_count": 261,
   "metadata": {
    "ExecuteTime": {
     "end_time": "2017-08-19T23:06:18.764433Z",
     "start_time": "2017-08-19T23:06:18.716966Z"
    },
    "collapsed": true
   },
   "outputs": [],
   "source": [
    "for read in dna_reads:\n",
    "    pool = read[3:7]\n",
    "    if pool in d.keys():\n",
    "        d[pool] += 1\n",
    "    else:\n",
    "        d['unknown'] += 1"
   ]
  },
  {
   "cell_type": "code",
   "execution_count": 262,
   "metadata": {
    "ExecuteTime": {
     "end_time": "2017-08-19T23:06:18.773836Z",
     "start_time": "2017-08-19T23:06:18.767463Z"
    }
   },
   "outputs": [
    {
     "name": "stdout",
     "output_type": "stream",
     "text": [
      "{'ACAG': 6374, 'AGTC': 7039, 'ATCA': 5960, 'CATG': 6634, 'CTAC': 7194, 'TCTA': 1, 'TGAT': 0, 'TTGG': 5564, 'unknown': 1234}\n"
     ]
    }
   ],
   "source": [
    "print(d)"
   ]
  },
  {
   "cell_type": "code",
   "execution_count": 210,
   "metadata": {
    "ExecuteTime": {
     "end_time": "2017-08-19T23:06:19.084296Z",
     "start_time": "2017-08-19T23:06:18.776477Z"
    }
   },
   "outputs": [
    {
     "data": {
      "image/png": "[encoded data removed]",
      "text/plain": [
       "<matplotlib.figure.Figure at 0x110dca438>"
      ]
     },
     "metadata": {},
     "output_type": "display_data"
    }
   ],
   "source": [
    "# order in a dict is not guaranteed, so we may get weird results\n",
    "plt.bar(range(len(d.keys())),d.values())\n",
    "plt.xticks(range(len(d)), list(sorted(d.keys())))\n",
    "plt.title('Count DNA reads by pool')\n",
    "plt.show()"
   ]
  },
  {
   "cell_type": "markdown",
   "metadata": {},
   "source": [
    "## Conclusion\n",
    "- 2 given pools from the wet lab were not found "
   ]
  },
  {
   "cell_type": "markdown",
   "metadata": {},
   "source": [
    "# Demultiplexing\n"
   ]
  },
  {
   "cell_type": "code",
   "execution_count": 263,
   "metadata": {
    "collapsed": true
   },
   "outputs": [],
   "source": [
    "def hamming_distance(dna1, dna2):\n",
    "    assert isinstance(dna1, str)\n",
    "    assert isinstance(dna2, str)\n",
    "\n",
    "    distance = 0\n",
    "    for b1, b2 in zip(dna1, dna2):\n",
    "        if b1 != b2:\n",
    "            distance += 1\n",
    "    return distance\n",
    "\n",
    "assert hamming_distance('AAAA', 'unknown') == 4"
   ]
  },
  {
   "cell_type": "code",
   "execution_count": 264,
   "metadata": {
    "collapsed": true
   },
   "outputs": [],
   "source": [
    "def pool_correction(read_pool, list_of_pools, max_ham_dist = 1):\n",
    "    \"\"\"compare given pool against list of pools and correct it\"\"\"\n",
    "    assert isinstance(read_pool, str)\n",
    "    assert isinstance(list_of_pools, list)\n",
    "    for p in list_of_pools:\n",
    "        dist = hamming_distance(p, read_pool)\n",
    "        if dist == 0:\n",
    "            return p\n",
    "        elif dist <= max_ham_dist:\n",
    "            return p\n",
    "    return 'unknown'\n",
    "\n",
    "assert pool_correction('ACAT', pools) == 'ACAG'\n",
    "assert pool_correction('TTGG', pools) == 'TTGG'\n",
    "assert pool_correction('MMMM', pools) == 'unknown'\n",
    "assert pool_correction('ACTA', pools, max_ham_dist=2) == 'ACAG'"
   ]
  },
  {
   "cell_type": "code",
   "execution_count": 265,
   "metadata": {},
   "outputs": [
    {
     "data": {
      "text/html": [
       "<iframe id=\"igraph\" scrolling=\"no\" style=\"border:none;\" seamless=\"seamless\" src=\"https://plot.ly/~apochka/2.embed\" height=\"525px\" width=\"100%\"></iframe>"
      ],
      "text/plain": [
       "<plotly.tools.PlotlyDisplay object>"
      ]
     },
     "execution_count": 265,
     "metadata": {},
     "output_type": "execute_result"
    }
   ],
   "source": [
    "# 1 initialize dict\n",
    "# 2 add corrected pools\n",
    "# 3 plot\n",
    "\n",
    "import plotly.plotly as py\n",
    "import plotly.graph_objs as go\n",
    "\n",
    "data = list()\n",
    "for hamming_dist in range(3):\n",
    "    d = {\n",
    "    'ACAG': 0,\n",
    "    'AGTC': 0,\n",
    "    'ATCA': 0,\n",
    "    'CATG': 0,\n",
    "    'CTAC': 0,\n",
    "    'TCTA': 0,\n",
    "    'TGAT': 0,\n",
    "    'TTGG': 0,\n",
    "    'unknown': 0\n",
    "    }\n",
    "\n",
    "\n",
    "    for read in dna_reads:\n",
    "        pool = read[3:7]\n",
    "        pool = pool_correction(pool, pools, hamming_dist)\n",
    "        d[pool] += 1\n",
    "    keys, values = zip(*d.items())\n",
    "\n",
    "    trace = go.Bar(\n",
    "        x=keys,\n",
    "        y=values,\n",
    "        name='Hamming distance of ' + str(hamming_dist)\n",
    "    )\n",
    "    data.append(trace)\n",
    "\n",
    "#     plot_from_dict(d, plot_title= \"Hamming distance of \" + str(hamming_dist))\n",
    "py.iplot(data, filename = 'basic-line')"
   ]
  },
  {
   "cell_type": "markdown",
   "metadata": {},
   "source": [
    "# Count longest streak of 'A' by the pool"
   ]
  },
  {
   "cell_type": "code",
   "execution_count": 266,
   "metadata": {
    "ExecuteTime": {
     "end_time": "2017-08-19T23:06:19.095028Z",
     "start_time": "2017-08-19T23:06:19.087323Z"
    },
    "collapsed": true
   },
   "outputs": [],
   "source": [
    "pools = ['ACAG', 'AGTC', 'ATCA', 'CATG', 'CTAC', 'TCTA', 'TGAT', 'TTGG', 'unknown']\n",
    "\n",
    "# create a dictionary with keys as strings from pools and for values empty list with 61 zeroes\n",
    "d = {k: list(0 for i in range(61)) for k in pools}"
   ]
  },
  {
   "cell_type": "code",
   "execution_count": 267,
   "metadata": {
    "ExecuteTime": {
     "end_time": "2017-08-19T23:06:19.477157Z",
     "start_time": "2017-08-19T23:06:19.097931Z"
    },
    "collapsed": true
   },
   "outputs": [],
   "source": [
    "for read in dna_reads:\n",
    "    pool = read[3:7]\n",
    "    longest_a_streak_in_pool = longest_a_streak(read)\n",
    "    lst_61_zeroes = d[pool] if pool in d.keys() else d['unknown']\n",
    "    lst_61_zeroes[longest_a_streak_in_pool] += 1"
   ]
  },
  {
   "cell_type": "code",
   "execution_count": 268,
   "metadata": {
    "ExecuteTime": {
     "end_time": "2017-08-19T23:06:23.087342Z",
     "start_time": "2017-08-19T23:06:19.479012Z"
    }
   },
   "outputs": [
    {
     "data": {
      "image/png": "[encoded data removed]",
      "text/plain": [
       "<matplotlib.figure.Figure at 0x127190128>"
      ]
     },
     "metadata": {},
     "output_type": "display_data"
    }
   ],
   "source": [
    "from itertools import product\n",
    "graph_position = list(product(range(3), range(3)))\n",
    "\n",
    "dim = {'x': 3, 'y': 3}\n",
    "f, axarr = plt.subplots(dim['x'], dim['y'], figsize=(18, 10))\n",
    "\n",
    "for coordinates, d_pool in zip(graph_position, d.items()):\n",
    "    i, j = coordinates\n",
    "    k, v = d_pool\n",
    "    axarr[i, j].bar(range(len(v)),v)\n",
    "    axarr[i, j].set_title(k)\n",
    "\n",
    "plt.show()"
   ]
  },
  {
   "cell_type": "markdown",
   "metadata": {},
   "source": [
    "# Poly-A tail analysis"
   ]
  },
  {
   "cell_type": "code",
   "execution_count": 269,
   "metadata": {
    "ExecuteTime": {
     "end_time": "2017-08-19T23:06:23.098756Z",
     "start_time": "2017-08-19T23:06:23.089250Z"
    },
    "collapsed": true
   },
   "outputs": [],
   "source": [
    "def after_polyatail(read, next_n_bases=5, min_len_poly_a=8):\n",
    "    \"\"\"\n",
    "    if a poly A tail length is grater than min_len_poly_a\n",
    "    go to the end of the tail\n",
    "    and return next n bases\n",
    "    \"\"\"\n",
    "    counter_a = 0\n",
    "    bases_after_poly_a = str()\n",
    "    for index, base in enumerate(read):\n",
    "        if base == 'A':\n",
    "            counter_a += 1\n",
    "        else:\n",
    "            if counter_a > min_len_poly_a:\n",
    "                bases_after_poly_a = read[index:index + next_n_bases]\n",
    "            counter_a = 0\n",
    "    return bases_after_poly_a"
   ]
  },
  {
   "cell_type": "code",
   "execution_count": 270,
   "metadata": {
    "ExecuteTime": {
     "end_time": "2017-08-19T23:06:23.109433Z",
     "start_time": "2017-08-19T23:06:23.101137Z"
    },
    "collapsed": true
   },
   "outputs": [],
   "source": [
    "assert after_polyatail(\"AAAAAAAAAAAAAAAAAAAAAATCCCCCCCCCCCC\") == 'TCCCC'\n",
    "assert after_polyatail(\"ACACAT\") == ''"
   ]
  },
  {
   "cell_type": "code",
   "execution_count": 271,
   "metadata": {
    "ExecuteTime": {
     "end_time": "2017-08-19T23:06:27.185728Z",
     "start_time": "2017-08-19T23:06:23.111896Z"
    }
   },
   "outputs": [
    {
     "name": "stdout",
     "output_type": "stream",
     "text": [
      "[('C', 12249), ('G', 6693), ('T', 6022), ('N', 18)]\n",
      "[('CC', 4980), ('CA', 3388), ('TC', 2116), ('CG', 2002), ('GC', 1976), ('GG', 1912)]\n",
      "[('CCC', 2390), ('CAA', 1332), ('CCA', 1099), ('CAC', 1046), ('GAA', 955), ('GGG', 848)]\n",
      "[('CCCC', 1257), ('CAAA', 645), ('GAAA', 605), ('CCCA', 452), ('GGGG', 442), ('CCAA', 415)]\n",
      "[('CCCCC', 680), ('GAAAA', 388), ('CAAAA', 346), ('GGGGG', 241), ('CCCCA', 213), ('CCAAA', 197)]\n",
      "[('CCCCCC', 330), ('GAAAAA', 244), ('CAAAAA', 190), ('GGGGGG', 121), ('CCCCCA', 119), ('CCCCCT', 117)]\n",
      "[('GAAAAAA', 153), ('CCCCCCC', 148), ('CAAAAAA', 115), ('GGGGGGG', 68), ('CCCCCCT', 62), ('CCCCCCG', 59)]\n",
      "[('GAAAAAAA', 82), ('CCCCCCCC', 67), ('CAAAAAAA', 64), ('C', 50), ('T', 35), ('GGGGGGGG', 34)]\n",
      "[('C', 50), ('GAAAAAAAA', 38), ('T', 35), ('G', 28), ('GAAAAGAAA', 26), ('CAAAAAAAA', 24)]\n",
      "[('C', 50), ('T', 35), ('G', 28), ('CC', 20), ('GAAAAGAAAA', 20), ('TC', 17)]\n"
     ]
    }
   ],
   "source": [
    "from collections import Counter\n",
    "\n",
    "for i in range(1,11):\n",
    "    after_a = list()\n",
    "    for read in dna_reads:\n",
    "        s = after_polyatail(read, i)\n",
    "        if s != '': # read didn't have min polyA tail -> returns ''\n",
    "            after_a.append(s)\n",
    "    print(Counter(after_a).most_common(6))\n"
   ]
  },
  {
   "cell_type": "markdown",
   "metadata": {},
   "source": [
    "# Consensus matrix on strings after poly A tail"
   ]
  },
  {
   "cell_type": "code",
   "execution_count": 272,
   "metadata": {
    "ExecuteTime": {
     "end_time": "2017-08-19T23:06:27.195818Z",
     "start_time": "2017-08-19T23:06:27.188205Z"
    }
   },
   "outputs": [
    {
     "data": {
      "text/plain": [
       "[[0, 0, 0, 0, 0, 0, 0, 0, 0, 0],\n",
       " [0, 0, 0, 0, 0, 0, 0, 0, 0, 0],\n",
       " [0, 0, 0, 0, 0, 0, 0, 0, 0, 0],\n",
       " [0, 0, 0, 0, 0, 0, 0, 0, 0, 0],\n",
       " [0, 0, 0, 0, 0, 0, 0, 0, 0, 0]]"
      ]
     },
     "execution_count": 272,
     "metadata": {},
     "output_type": "execute_result"
    }
   ],
   "source": [
    "# create a matrix with 5 rows and 10 columns, where every element is 0\n",
    "matrix = [[0 for i in range(10)] for i in range(5)]\n",
    "matrix"
   ]
  },
  {
   "cell_type": "code",
   "execution_count": 273,
   "metadata": {
    "ExecuteTime": {
     "end_time": "2017-08-19T23:06:27.580398Z",
     "start_time": "2017-08-19T23:06:27.198016Z"
    },
    "collapsed": true
   },
   "outputs": [],
   "source": [
    "after_a = list()\n",
    "for read in dna_reads:\n",
    "    s = after_polyatail(read, 10)\n",
    "    if s != '': # read didn't have min polyA tail -> returns ''\n",
    "        after_a.append(s)"
   ]
  },
  {
   "cell_type": "code",
   "execution_count": 274,
   "metadata": {
    "ExecuteTime": {
     "end_time": "2017-08-19T23:06:27.723964Z",
     "start_time": "2017-08-19T23:06:27.582428Z"
    },
    "collapsed": true
   },
   "outputs": [],
   "source": [
    "for s in after_a:\n",
    "    for index, base in enumerate(s):\n",
    "        if base == 'A':\n",
    "            matrix[0][index] += 1\n",
    "        elif base == 'C':\n",
    "            matrix[1][index] += 1\n",
    "        elif base == 'T':\n",
    "            matrix[2][index] += 1\n",
    "        elif base == 'G':\n",
    "            matrix[3][index] += 1\n",
    "        elif base == 'N':\n",
    "            matrix[4][index] += 1\n",
    "        else:\n",
    "            print(\"Unexpected letter\")"
   ]
  },
  {
   "cell_type": "code",
   "execution_count": 275,
   "metadata": {
    "ExecuteTime": {
     "end_time": "2017-08-19T23:06:27.742352Z",
     "start_time": "2017-08-19T23:06:27.726457Z"
    }
   },
   "outputs": [
    {
     "data": {
      "text/html": [
       "<div>\n",
       "<table border=\"1\" class=\"dataframe\">\n",
       "  <thead>\n",
       "    <tr style=\"text-align: right;\">\n",
       "      <th></th>\n",
       "      <th>0</th>\n",
       "      <th>1</th>\n",
       "      <th>2</th>\n",
       "      <th>3</th>\n",
       "      <th>4</th>\n",
       "      <th>5</th>\n",
       "      <th>6</th>\n",
       "      <th>7</th>\n",
       "      <th>8</th>\n",
       "      <th>9</th>\n",
       "    </tr>\n",
       "  </thead>\n",
       "  <tbody>\n",
       "    <tr>\n",
       "      <th>A</th>\n",
       "      <td>0</td>\n",
       "      <td>6243</td>\n",
       "      <td>6907</td>\n",
       "      <td>7049</td>\n",
       "      <td>6451</td>\n",
       "      <td>6306</td>\n",
       "      <td>6073</td>\n",
       "      <td>6361</td>\n",
       "      <td>6484</td>\n",
       "      <td>7109</td>\n",
       "    </tr>\n",
       "    <tr>\n",
       "      <th>C</th>\n",
       "      <td>12249</td>\n",
       "      <td>9073</td>\n",
       "      <td>8442</td>\n",
       "      <td>8023</td>\n",
       "      <td>7968</td>\n",
       "      <td>7059</td>\n",
       "      <td>5835</td>\n",
       "      <td>5887</td>\n",
       "      <td>5236</td>\n",
       "      <td>4796</td>\n",
       "    </tr>\n",
       "    <tr>\n",
       "      <th>T</th>\n",
       "      <td>6022</td>\n",
       "      <td>4311</td>\n",
       "      <td>3960</td>\n",
       "      <td>4089</td>\n",
       "      <td>4203</td>\n",
       "      <td>4751</td>\n",
       "      <td>5334</td>\n",
       "      <td>4934</td>\n",
       "      <td>5198</td>\n",
       "      <td>4873</td>\n",
       "    </tr>\n",
       "    <tr>\n",
       "      <th>G</th>\n",
       "      <td>6693</td>\n",
       "      <td>5238</td>\n",
       "      <td>5422</td>\n",
       "      <td>5460</td>\n",
       "      <td>5889</td>\n",
       "      <td>6253</td>\n",
       "      <td>6995</td>\n",
       "      <td>6923</td>\n",
       "      <td>7029</td>\n",
       "      <td>7033</td>\n",
       "    </tr>\n",
       "    <tr>\n",
       "      <th>N</th>\n",
       "      <td>18</td>\n",
       "      <td>1</td>\n",
       "      <td>5</td>\n",
       "      <td>0</td>\n",
       "      <td>1</td>\n",
       "      <td>0</td>\n",
       "      <td>0</td>\n",
       "      <td>0</td>\n",
       "      <td>0</td>\n",
       "      <td>2</td>\n",
       "    </tr>\n",
       "  </tbody>\n",
       "</table>\n",
       "</div>"
      ],
      "text/plain": [
       "       0     1     2     3     4     5     6     7     8     9\n",
       "A      0  6243  6907  7049  6451  6306  6073  6361  6484  7109\n",
       "C  12249  9073  8442  8023  7968  7059  5835  5887  5236  4796\n",
       "T   6022  4311  3960  4089  4203  4751  5334  4934  5198  4873\n",
       "G   6693  5238  5422  5460  5889  6253  6995  6923  7029  7033\n",
       "N     18     1     5     0     1     0     0     0     0     2"
      ]
     },
     "execution_count": 275,
     "metadata": {},
     "output_type": "execute_result"
    }
   ],
   "source": [
    "import pandas\n",
    "df = pandas.DataFrame(matrix)\n",
    "df.rename({0: 'A', 1: 'C', 2: 'T', 3: 'G', 4: 'N'})\n",
    "\n",
    "# # as an alternative we can generate dict for .rename() ourselves\n",
    "# alphabet = 'ACTGN'\n",
    "# {k: v for k, v in zip(range(len(alphabet)), alphabet)}"
   ]
  },
  {
   "cell_type": "markdown",
   "metadata": {},
   "source": [
    "# Find consensus sequence (= artefact) after Poly A tail"
   ]
  },
  {
   "cell_type": "code",
   "execution_count": 276,
   "metadata": {
    "ExecuteTime": {
     "end_time": "2017-08-19T23:06:27.759262Z",
     "start_time": "2017-08-19T23:06:27.744879Z"
    },
    "collapsed": true
   },
   "outputs": [],
   "source": [
    "rotated_after_a = [''.join(s) for s in zip(*after_a)] \n",
    "# e.g reads = ['AATC','ACTGA','ATG'] -> reads = ['AAA', ACT', 'TTG', 'CG', 'A' ]"
   ]
  },
  {
   "cell_type": "code",
   "execution_count": 277,
   "metadata": {
    "ExecuteTime": {
     "end_time": "2017-08-19T23:06:27.804896Z",
     "start_time": "2017-08-19T23:06:27.761527Z"
    },
    "collapsed": true
   },
   "outputs": [],
   "source": [
    "# zip functions can be applied only to the lists of strings of the same lengh.\n",
    "# If the string is shorter than the string with max length -> add space to the string\n",
    "max_length = (len(max(after_a, key=len)))\n",
    "\n",
    "\n",
    "for index, s in enumerate(after_a):\n",
    "    if len(s) != max_length:  # if len of current string is not the same as maximum length\n",
    "             after_a[index] = s + ' ' * ( max_length - len(s) ) \n",
    "\n",
    "after_a_rotated = ([''.join(s) for s in zip(*after_a)])"
   ]
  },
  {
   "cell_type": "code",
   "execution_count": 278,
   "metadata": {
    "ExecuteTime": {
     "end_time": "2017-08-19T23:06:27.821625Z",
     "start_time": "2017-08-19T23:06:27.808668Z"
    },
    "collapsed": true
   },
   "outputs": [],
   "source": [
    "# count the number of each nucleotide in each column\n",
    "a_list = []\n",
    "t_list = []\n",
    "g_list = []\n",
    "c_list = []\n",
    "n_list = []\n",
    "\n",
    "\n",
    "for read in after_a_rotated:\n",
    "    a_list.append( read.count( 'A' ))\n",
    "    t_list.append( read.count( 'T' ))\n",
    "    g_list.append( read.count( 'G' ))\n",
    "    c_list.append( read.count( 'C' ))\n",
    "    n_list.append( read.count( 'N' ))"
   ]
  },
  {
   "cell_type": "code",
   "execution_count": 279,
   "metadata": {
    "ExecuteTime": {
     "end_time": "2017-08-19T23:06:27.844963Z",
     "start_time": "2017-08-19T23:06:27.825968Z"
    }
   },
   "outputs": [
    {
     "name": "stdout",
     "output_type": "stream",
     "text": [
      "CCCCCCGGGA\n"
     ]
    }
   ],
   "source": [
    "# define an artefact based on consensus\n",
    "\n",
    "data = list((zip(a_list, t_list, g_list, c_list, n_list)))\n",
    "#1st tuple 1st column from the reads\n",
    "\n",
    "d = {0:'A', 1:'T', 2:'G', 3:'C', 4:'N'}\n",
    "artefact = str()\n",
    "for line in data:\n",
    "    max_value = max( line ) # find max value in current line\n",
    "    index_of_max_value = line.index( max_value )  # find index of max value in current line\n",
    "    artefact += d[index_of_max_value]\n",
    "print( artefact )\n",
    "    \n",
    "    "
   ]
  },
  {
   "cell_type": "markdown",
   "metadata": {
    "ExecuteTime": {
     "end_time": "2017-08-19T21:56:38.413420Z",
     "start_time": "2017-08-19T21:56:38.406837Z"
    }
   },
   "source": [
    "# Error probability of the base based on phred score "
   ]
  },
  {
   "cell_type": "code",
   "execution_count": 280,
   "metadata": {
    "collapsed": true
   },
   "outputs": [],
   "source": [
    "def base_calling_error_probabilities(ascii_code):\n",
    "    assert isinstance(ascii_code, str)\n",
    "    assert len(ascii_code) == 1\n",
    "    q = ord(ascii_code) - 33\n",
    "    p = round(10 ** (-q / 10), 5)\n",
    "    return p"
   ]
  },
  {
   "cell_type": "code",
   "execution_count": 284,
   "metadata": {
    "collapsed": true
   },
   "outputs": [],
   "source": [
    "def disrupted_poly_A(read,min_len_poly_a=8, min_len_poly_a2 = 5):\n",
    "    \"\"\"\n",
    "    find poly A tail in a read that is disrupted only by one base other than 'A'\n",
    "    \n",
    "    \"\"\"\n",
    "    import re\n",
    "    \n",
    "    min_len_poly_a = str(min_len_poly_a)\n",
    "    min_len_poly_a2 = str(min_len_poly_a2)\n",
    "    pattern = \"[A]{\" + min_len_poly_a + \",}([^A])[A]{\" + min_len_poly_a2 + \",}\"\n",
    "    m = re.search(pattern, read)  \n",
    "    if m:\n",
    "        return m.span(1)[0]\n",
    "    return ''"
   ]
  },
  {
   "cell_type": "code",
   "execution_count": 285,
   "metadata": {},
   "outputs": [],
   "source": [
    "from collections import namedtuple\n",
    "phred_data = namedtuple('PhredData', 'ReadNumber PositionOfBase ErrorProb')\n",
    "n=160000\n",
    "result = []\n",
    "path_to_file = '/Users/dariapodorskaja/Desktop/Lab/Lane_7_NoIndex_L007_R1_001.fastq'\n",
    "with open(path_to_file, 'r') as f:   # f = open(path_to_file, 'r') # f is a variable with a file\n",
    "    for line_number in range(n):\n",
    "        if line_number %4 ==1:\n",
    "            s = f.readline().replace('\\n', '')\n",
    "            position = disrupted_poly_A(s)\n",
    "            read_number = line_number\n",
    "        elif line_number %4 ==3 and position != '':\n",
    "            s = f.readline().replace('\\n', '')\n",
    "            p = base_calling_error_probabilities(s[position])\n",
    "            result.append(phred_data(read_number, position, p))\n",
    "        else:\n",
    "            next(f)"
   ]
  },
  {
   "cell_type": "code",
   "execution_count": 286,
   "metadata": {},
   "outputs": [
    {
     "name": "stdout",
     "output_type": "stream",
     "text": [
      "111\n",
      "PhredData(ReadNumber=285, PositionOfBase=20, ErrorProb=0.63096)\n",
      "PhredData(ReadNumber=1805, PositionOfBase=33, ErrorProb=0.63096)\n",
      "PhredData(ReadNumber=1909, PositionOfBase=20, ErrorProb=0.63096)\n",
      "PhredData(ReadNumber=2229, PositionOfBase=20, ErrorProb=0.63096)\n",
      "PhredData(ReadNumber=4109, PositionOfBase=27, ErrorProb=0.63096)\n",
      "PhredData(ReadNumber=4373, PositionOfBase=49, ErrorProb=0.63096)\n",
      "PhredData(ReadNumber=4669, PositionOfBase=20, ErrorProb=0.63096)\n",
      "PhredData(ReadNumber=4973, PositionOfBase=20, ErrorProb=0.63096)\n",
      "PhredData(ReadNumber=5113, PositionOfBase=20, ErrorProb=0.63096)\n",
      "PhredData(ReadNumber=6625, PositionOfBase=20, ErrorProb=0.63096)\n",
      "PhredData(ReadNumber=6685, PositionOfBase=20, ErrorProb=0.63096)\n",
      "PhredData(ReadNumber=7249, PositionOfBase=49, ErrorProb=0.63096)\n",
      "PhredData(ReadNumber=8361, PositionOfBase=43, ErrorProb=0.63096)\n",
      "PhredData(ReadNumber=13373, PositionOfBase=27, ErrorProb=0.63096)\n",
      "PhredData(ReadNumber=13685, PositionOfBase=29, ErrorProb=0.63096)\n",
      "PhredData(ReadNumber=14961, PositionOfBase=24, ErrorProb=0.63096)\n",
      "PhredData(ReadNumber=15389, PositionOfBase=28, ErrorProb=0.63096)\n",
      "PhredData(ReadNumber=16257, PositionOfBase=32, ErrorProb=0.63096)\n",
      "PhredData(ReadNumber=16429, PositionOfBase=29, ErrorProb=0.63096)\n",
      "PhredData(ReadNumber=17329, PositionOfBase=30, ErrorProb=0.63096)\n",
      "PhredData(ReadNumber=17793, PositionOfBase=26, ErrorProb=0.63096)\n",
      "PhredData(ReadNumber=23585, PositionOfBase=51, ErrorProb=0.63096)\n",
      "PhredData(ReadNumber=23609, PositionOfBase=51, ErrorProb=0.63096)\n",
      "PhredData(ReadNumber=24541, PositionOfBase=28, ErrorProb=0.63096)\n",
      "PhredData(ReadNumber=28053, PositionOfBase=28, ErrorProb=0.63096)\n",
      "PhredData(ReadNumber=28289, PositionOfBase=31, ErrorProb=0.63096)\n",
      "PhredData(ReadNumber=29329, PositionOfBase=27, ErrorProb=0.63096)\n",
      "PhredData(ReadNumber=29437, PositionOfBase=23, ErrorProb=0.63096)\n",
      "PhredData(ReadNumber=29513, PositionOfBase=37, ErrorProb=0.63096)\n",
      "PhredData(ReadNumber=29985, PositionOfBase=30, ErrorProb=0.63096)\n",
      "PhredData(ReadNumber=36709, PositionOfBase=37, ErrorProb=0.63096)\n",
      "PhredData(ReadNumber=38037, PositionOfBase=28, ErrorProb=0.63096)\n",
      "PhredData(ReadNumber=39749, PositionOfBase=26, ErrorProb=0.63096)\n",
      "PhredData(ReadNumber=40829, PositionOfBase=25, ErrorProb=0.63096)\n",
      "PhredData(ReadNumber=41461, PositionOfBase=31, ErrorProb=0.63096)\n",
      "PhredData(ReadNumber=43341, PositionOfBase=24, ErrorProb=0.63096)\n",
      "PhredData(ReadNumber=43453, PositionOfBase=27, ErrorProb=0.63096)\n",
      "PhredData(ReadNumber=44285, PositionOfBase=39, ErrorProb=0.63096)\n",
      "PhredData(ReadNumber=44561, PositionOfBase=45, ErrorProb=0.63096)\n",
      "PhredData(ReadNumber=45117, PositionOfBase=35, ErrorProb=0.63096)\n",
      "PhredData(ReadNumber=45709, PositionOfBase=28, ErrorProb=0.63096)\n",
      "PhredData(ReadNumber=50881, PositionOfBase=36, ErrorProb=0.63096)\n",
      "PhredData(ReadNumber=51349, PositionOfBase=24, ErrorProb=0.63096)\n",
      "PhredData(ReadNumber=51437, PositionOfBase=33, ErrorProb=0.63096)\n",
      "PhredData(ReadNumber=52317, PositionOfBase=34, ErrorProb=0.63096)\n",
      "PhredData(ReadNumber=53389, PositionOfBase=27, ErrorProb=0.63096)\n",
      "PhredData(ReadNumber=53505, PositionOfBase=33, ErrorProb=0.63096)\n",
      "PhredData(ReadNumber=54717, PositionOfBase=25, ErrorProb=0.63096)\n",
      "PhredData(ReadNumber=55133, PositionOfBase=35, ErrorProb=0.63096)\n",
      "PhredData(ReadNumber=57481, PositionOfBase=37, ErrorProb=0.63096)\n",
      "PhredData(ReadNumber=61481, PositionOfBase=27, ErrorProb=0.63096)\n",
      "PhredData(ReadNumber=61813, PositionOfBase=42, ErrorProb=0.63096)\n",
      "PhredData(ReadNumber=61837, PositionOfBase=41, ErrorProb=0.63096)\n",
      "PhredData(ReadNumber=65041, PositionOfBase=52, ErrorProb=0.63096)\n",
      "PhredData(ReadNumber=65417, PositionOfBase=35, ErrorProb=0.63096)\n",
      "PhredData(ReadNumber=70801, PositionOfBase=28, ErrorProb=0.63096)\n",
      "PhredData(ReadNumber=71133, PositionOfBase=28, ErrorProb=0.63096)\n",
      "PhredData(ReadNumber=71421, PositionOfBase=47, ErrorProb=0.63096)\n",
      "PhredData(ReadNumber=73309, PositionOfBase=27, ErrorProb=0.63096)\n",
      "PhredData(ReadNumber=73425, PositionOfBase=30, ErrorProb=0.63096)\n",
      "PhredData(ReadNumber=73681, PositionOfBase=30, ErrorProb=0.63096)\n",
      "PhredData(ReadNumber=73845, PositionOfBase=31, ErrorProb=0.63096)\n",
      "PhredData(ReadNumber=76157, PositionOfBase=26, ErrorProb=0.63096)\n",
      "PhredData(ReadNumber=76813, PositionOfBase=26, ErrorProb=0.63096)\n",
      "PhredData(ReadNumber=77049, PositionOfBase=25, ErrorProb=0.63096)\n",
      "PhredData(ReadNumber=77529, PositionOfBase=24, ErrorProb=0.63096)\n",
      "PhredData(ReadNumber=79485, PositionOfBase=26, ErrorProb=0.63096)\n",
      "PhredData(ReadNumber=81157, PositionOfBase=18, ErrorProb=0.63096)\n",
      "PhredData(ReadNumber=81253, PositionOfBase=27, ErrorProb=0.63096)\n",
      "PhredData(ReadNumber=81733, PositionOfBase=35, ErrorProb=0.63096)\n",
      "PhredData(ReadNumber=82065, PositionOfBase=31, ErrorProb=0.63096)\n",
      "PhredData(ReadNumber=90185, PositionOfBase=31, ErrorProb=0.63096)\n",
      "PhredData(ReadNumber=93749, PositionOfBase=24, ErrorProb=0.63096)\n",
      "PhredData(ReadNumber=96945, PositionOfBase=27, ErrorProb=0.63096)\n",
      "PhredData(ReadNumber=99993, PositionOfBase=39, ErrorProb=0.63096)\n",
      "PhredData(ReadNumber=100393, PositionOfBase=47, ErrorProb=0.63096)\n",
      "PhredData(ReadNumber=106801, PositionOfBase=52, ErrorProb=0.63096)\n",
      "PhredData(ReadNumber=106929, PositionOfBase=49, ErrorProb=0.63096)\n",
      "PhredData(ReadNumber=107221, PositionOfBase=26, ErrorProb=0.63096)\n",
      "PhredData(ReadNumber=108801, PositionOfBase=24, ErrorProb=0.63096)\n",
      "PhredData(ReadNumber=112101, PositionOfBase=46, ErrorProb=0.63096)\n",
      "PhredData(ReadNumber=114201, PositionOfBase=28, ErrorProb=0.63096)\n",
      "PhredData(ReadNumber=117437, PositionOfBase=34, ErrorProb=0.63096)\n",
      "PhredData(ReadNumber=117681, PositionOfBase=30, ErrorProb=0.63096)\n",
      "PhredData(ReadNumber=117865, PositionOfBase=24, ErrorProb=0.63096)\n",
      "PhredData(ReadNumber=118273, PositionOfBase=31, ErrorProb=0.63096)\n",
      "PhredData(ReadNumber=119085, PositionOfBase=28, ErrorProb=0.63096)\n",
      "PhredData(ReadNumber=119193, PositionOfBase=29, ErrorProb=0.63096)\n",
      "PhredData(ReadNumber=122189, PositionOfBase=28, ErrorProb=0.63096)\n",
      "PhredData(ReadNumber=124405, PositionOfBase=25, ErrorProb=0.63096)\n",
      "PhredData(ReadNumber=126213, PositionOfBase=26, ErrorProb=0.63096)\n",
      "PhredData(ReadNumber=127645, PositionOfBase=28, ErrorProb=0.63096)\n",
      "PhredData(ReadNumber=127665, PositionOfBase=42, ErrorProb=0.63096)\n",
      "PhredData(ReadNumber=128217, PositionOfBase=25, ErrorProb=0.63096)\n",
      "PhredData(ReadNumber=128917, PositionOfBase=33, ErrorProb=0.63096)\n",
      "PhredData(ReadNumber=129105, PositionOfBase=34, ErrorProb=0.63096)\n",
      "PhredData(ReadNumber=130973, PositionOfBase=36, ErrorProb=0.63096)\n",
      "PhredData(ReadNumber=131297, PositionOfBase=28, ErrorProb=0.63096)\n",
      "PhredData(ReadNumber=131917, PositionOfBase=36, ErrorProb=0.63096)\n",
      "PhredData(ReadNumber=135017, PositionOfBase=33, ErrorProb=0.63096)\n",
      "PhredData(ReadNumber=138073, PositionOfBase=47, ErrorProb=0.63096)\n",
      "PhredData(ReadNumber=138749, PositionOfBase=37, ErrorProb=0.63096)\n",
      "PhredData(ReadNumber=140937, PositionOfBase=37, ErrorProb=0.63096)\n",
      "PhredData(ReadNumber=144861, PositionOfBase=29, ErrorProb=0.63096)\n",
      "PhredData(ReadNumber=145481, PositionOfBase=33, ErrorProb=0.63096)\n",
      "PhredData(ReadNumber=147733, PositionOfBase=25, ErrorProb=0.63096)\n",
      "PhredData(ReadNumber=147917, PositionOfBase=32, ErrorProb=0.63096)\n",
      "PhredData(ReadNumber=150241, PositionOfBase=28, ErrorProb=0.63096)\n",
      "PhredData(ReadNumber=155861, PositionOfBase=31, ErrorProb=0.63096)\n",
      "PhredData(ReadNumber=158465, PositionOfBase=48, ErrorProb=0.63096)\n",
      "PhredData(ReadNumber=159161, PositionOfBase=40, ErrorProb=0.63096)\n"
     ]
    }
   ],
   "source": [
    "threshold = 0.5 #min error probability\n",
    "print(sum([1 for rn, pos, prob in result if prob > threshold]))\n",
    "\n",
    "for r in result:\n",
    "    rn, pos, prob = r\n",
    "    if prob > threshold:\n",
    "        print(r)\n"
   ]
  },
  {
   "cell_type": "markdown",
   "metadata": {},
   "source": [
    "# Markov chain after PolyA analysis"
   ]
  },
  {
   "cell_type": "code",
   "execution_count": 287,
   "metadata": {
    "collapsed": true
   },
   "outputs": [],
   "source": [
    "def after_polyatail(read, next_n_bases=10, min_len_poly_a=8):\n",
    "    \"\"\"\n",
    "    if a poly A tail length is grater than min_len_poly_a\n",
    "    go to the end of the tail\n",
    "    and return next n bases\n",
    "    \"\"\"\n",
    "    assert isinstance(read, str)\n",
    "    counter_a = 0\n",
    "    bases_after_poly_a = str()\n",
    "    for index, base in enumerate(read):\n",
    "        if base == 'A':\n",
    "            counter_a += 1\n",
    "        else:\n",
    "            if counter_a >= min_len_poly_a:\n",
    "                bases_after_poly_a = read[index:index + next_n_bases]\n",
    "            counter_a = 0\n",
    "    return bases_after_poly_a"
   ]
  },
  {
   "cell_type": "code",
   "execution_count": 288,
   "metadata": {
    "collapsed": true
   },
   "outputs": [],
   "source": [
    "reads=[]\n",
    "for dna in dna_reads:\n",
    "    reads.append(after_polyatail(dna, 4, 3))"
   ]
  },
  {
   "cell_type": "code",
   "execution_count": null,
   "metadata": {
    "collapsed": true
   },
   "outputs": [],
   "source": []
  }
 ],
 "metadata": {
  "kernelspec": {
   "display_name": "Python 3",
   "language": "python",
   "name": "python3"
  },
  "language_info": {
   "codemirror_mode": {
    "name": "ipython",
    "version": 3
   },
   "file_extension": ".py",
   "mimetype": "text/x-python",
   "name": "python",
   "nbconvert_exporter": "python",
   "pygments_lexer": "ipython3",
   "version": "3.6.0"
  },
  "toc": {
   "collapse_to_match_collapsible_headings": false,
   "colors": {
    "hover_highlight": "#DAA520",
    "navigate_num": "#000000",
    "navigate_text": "#333333",
    "running_highlight": "#FF0000",
    "selected_highlight": "#FFD700",
    "sidebar_border": "#EEEEEE",
    "wrapper_background": "#FFFFFF"
   },
   "moveMenuLeft": true,
   "nav_menu": {
    "height": "138px",
    "width": "252px"
   },
   "navigate_menu": true,
   "number_sections": true,
   "sideBar": true,
   "skip_h1_title": false,
   "threshold": 4,
   "toc_cell": true,
   "toc_section_display": "block",
   "toc_window_display": false,
   "widenNotebook": false
  },
  "varInspector": {
   "cols": {
    "lenName": 16,
    "lenType": 16,
    "lenVar": 40
   },
   "kernels_config": {
    "python": {
     "delete_cmd_postfix": "",
     "delete_cmd_prefix": "del ",
     "library": "var_list.py",
     "varRefreshCmd": "print(var_dic_list())"
    },
    "r": {
     "delete_cmd_postfix": ") ",
     "delete_cmd_prefix": "rm(",
     "library": "var_list.r",
     "varRefreshCmd": "cat(var_dic_list()) "
    }
   },
   "oldHeight": 363,
   "position": {
    "height": "302px",
    "left": "1118px",
    "right": "20px",
    "top": "106px",
    "width": "307px"
   },
   "types_to_exclude": [
    "module",
    "function",
    "builtin_function_or_method",
    "instance",
    "_Feature"
   ],
   "varInspector_section_display": "block",
   "window_display": false
  }
 },
 "nbformat": 4,
 "nbformat_minor": 2
}
