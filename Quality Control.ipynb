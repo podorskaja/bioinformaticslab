{
 "cells": [
  {
   "cell_type": "markdown",
   "metadata": {},
   "source": [
    "1. read file\n",
    "2. pick only the lines with a DNA seq\n",
    "3. find the longest A's streak\n",
    "4. define the distibution of the nucleotides \n",
    "5. define the %  of each nucleotide in each cycle \n"
   ]
  },
  {
   "cell_type": "markdown",
   "metadata": {},
   "source": [
    "# Find the longest streak of 'A' Nucleotide"
   ]
  },
  {
   "cell_type": "code",
   "execution_count": 125,
   "metadata": {},
   "outputs": [],
   "source": [
    "# count dna_reads in a file\n",
    "# open file \n",
    "path_to_file = '/Users/dariapodorskaja/Desktop/Lab/Lane_7_NoIndex_L007_R1_001.fastq'\n",
    "dna_reads = []\n",
    "n = 160000 # number of lines in a file\n",
    "#Result = []\n",
    "\n",
    "# make lists of dna reads\n",
    "with open(path_to_file, 'r') as f:   # f = open(path_to_file, 'r') # f is a variable with a file\n",
    "    for line_number in range(n):\n",
    "        if line_number %4 == 1:\n",
    "            s = f.readline()\n",
    "            s = s.replace('\\n', '')\n",
    "            dna_reads.append(s)\n",
    "        else:\n",
    "            next(f)"
   ]
  },
  {
   "cell_type": "code",
   "execution_count": null,
   "metadata": {
    "collapsed": true
   },
   "outputs": [],
   "source": []
  },
  {
   "cell_type": "code",
   "execution_count": 126,
   "metadata": {
    "collapsed": true
   },
   "outputs": [],
   "source": [
    "def size_of_list(my_list):\n",
    "    \"\"\"size of my_list in MB\"\"\"\n",
    "    import sys\n",
    "    return sum([sys.getsizeof(i) for i in my_list]) / 1024 / 1024"
   ]
  },
  {
   "cell_type": "code",
   "execution_count": 127,
   "metadata": {},
   "outputs": [],
   "source": [
    "def histo(l, plot_title='empty title'):\n",
    "    \"\"\"show a histogram based on list\"\"\"\n",
    "    import matplotlib.pyplot as plt\n",
    "\n",
    "    plt.bar(range(len(l)),l)\n",
    "    plt.title(plot_title)\n",
    "    plt.show()\n"
   ]
  },
  {
   "cell_type": "code",
   "execution_count": 128,
   "metadata": {
    "collapsed": true
   },
   "outputs": [],
   "source": [
    "def longest_a_streak(dna):\n",
    "    \n",
    "    counter = 0 \n",
    "    longest_streak = 0 #variable must be defined\n",
    "    for base in dna: \n",
    "        if base == 'A':\n",
    "            counter = counter + 1\n",
    "            if counter > longest_streak:\n",
    "                longest_streak = counter\n",
    "        else:\n",
    "            counter = 0\n",
    "    return longest_streak"
   ]
  },
  {
   "cell_type": "code",
   "execution_count": 129,
   "metadata": {},
   "outputs": [],
   "source": [
    "result = list()\n",
    "for s in dna_reads:\n",
    "    result.append(longest_a_streak(s))"
   ]
  },
  {
   "cell_type": "code",
   "execution_count": 130,
   "metadata": {},
   "outputs": [
    {
     "name": "stdout",
     "output_type": "stream",
     "text": [
      "[4, 576, 6101, 2563, 1412, 937, 841, 839, 713, 830, 994, 1249, 1631, 1777, 1927, 1840, 1947, 2083, 2025, 2007, 1849, 1657, 1266, 926, 665, 438, 314, 201, 134, 93, 52, 26, 23, 23, 10, 7, 5, 4, 3, 1, 3, 0, 1, 0, 0, 0, 0, 1, 0, 0, 0, 0, 0, 0, 1, 0, 0, 0, 0, 0, 1]\n"
     ]
    }
   ],
   "source": [
    "longest_a_histo = [0 for i in range(61)]\n",
    "for r in result:\n",
    "    longest_a_histo[r] += 1\n",
    "print(longest_a_histo)"
   ]
  },
  {
   "cell_type": "code",
   "execution_count": 131,
   "metadata": {},
   "outputs": [
    {
     "data": {
      "image/png": "[encoded data removed]",
      "text/plain": [
       "<matplotlib.figure.Figure at 0x11034fa20>"
      ]
     },
     "metadata": {},
     "output_type": "display_data"
    }
   ],
   "source": [
    "histo(longest_a_histo, 'Longest \"A\" streak')"
   ]
  },
  {
   "cell_type": "markdown",
   "metadata": {},
   "source": [
    "# Total 'A' count in a read"
   ]
  },
  {
   "cell_type": "code",
   "execution_count": 132,
   "metadata": {},
   "outputs": [],
   "source": [
    "result = []\n",
    "counter_A = 0\n",
    "for s in dna_reads:\n",
    "    for base in s:\n",
    "        if base == 'A':\n",
    "            counter_A += 1\n",
    "    result.append(counter_A)\n",
    "    counter_A = 0\n",
    "            "
   ]
  },
  {
   "cell_type": "code",
   "execution_count": 133,
   "metadata": {
    "collapsed": true
   },
   "outputs": [],
   "source": [
    "total_a = [0 for i in range(61)]\n",
    "for r in result:\n",
    "    total_a[r] += 1    "
   ]
  },
  {
   "cell_type": "code",
   "execution_count": 134,
   "metadata": {},
   "outputs": [
    {
     "data": {
      "image/png": "[encoded data removed]",
      "text/plain": [
       "<matplotlib.figure.Figure at 0x1101c20b8>"
      ]
     },
     "metadata": {},
     "output_type": "display_data"
    }
   ],
   "source": [
    "histo(total_a, plot_title='Total count of \"A\"')"
   ]
  },
  {
   "cell_type": "markdown",
   "metadata": {},
   "source": [
    "# Count DNA reads by pool "
   ]
  },
  {
   "cell_type": "code",
   "execution_count": 135,
   "metadata": {
    "collapsed": true
   },
   "outputs": [],
   "source": [
    "d = {\n",
    "'ACAG': 0,\n",
    "'AGTC': 0,\n",
    "'ATCA': 0,\n",
    "'CATG': 0,\n",
    "'CTAC': 0,\n",
    "'TCTA': 0,\n",
    "'TGAT': 0,\n",
    "'TTGG': 0,\n",
    "'unknown': 0\n",
    "}"
   ]
  },
  {
   "cell_type": "code",
   "execution_count": 136,
   "metadata": {},
   "outputs": [],
   "source": [
    "for read in dna_reads:\n",
    "    pool = read[3:7] \n",
    "    if pool in d.keys():\n",
    "        d[pool] += 1\n",
    "    else:\n",
    "        d['unknown'] += 1\n",
    "\n"
   ]
  },
  {
   "cell_type": "code",
   "execution_count": 137,
   "metadata": {},
   "outputs": [
    {
     "name": "stdout",
     "output_type": "stream",
     "text": [
      "{'ACAG': 6374, 'AGTC': 7039, 'ATCA': 5960, 'CATG': 6634, 'CTAC': 7194, 'TCTA': 1, 'TGAT': 0, 'TTGG': 5564, 'unknown': 1234}\n"
     ]
    }
   ],
   "source": [
    "print(d)"
   ]
  },
  {
   "cell_type": "code",
   "execution_count": 138,
   "metadata": {},
   "outputs": [
    {
     "data": {
      "image/png": "[encoded data removed]",
      "text/plain": [
       "<matplotlib.figure.Figure at 0x10fdd66d8>"
      ]
     },
     "metadata": {},
     "output_type": "display_data"
    }
   ],
   "source": [
    "import matplotlib.pyplot as plt\n",
    "\n",
    "plt.bar(range(len(d.keys())),d.values())\n",
    "plt.xticks(range(len(d)), list(sorted(d.keys())))\n",
    "plt.title('Count DNA reads by pool')\n",
    "plt.show()"
   ]
  },
  {
   "cell_type": "markdown",
   "metadata": {},
   "source": [
    "# Count longest streak of 'A' by the pool"
   ]
  },
  {
   "cell_type": "code",
   "execution_count": 139,
   "metadata": {
    "collapsed": true
   },
   "outputs": [],
   "source": [
    "pools = ['ACAG', 'AGTC', 'ATCA', 'CATG', 'CTAC', 'TCTA', 'TGAT', 'TTGG', 'unknown']\n",
    "d = {k: list(0 for i in range(61)) for k in pools}"
   ]
  },
  {
   "cell_type": "code",
   "execution_count": 140,
   "metadata": {
    "collapsed": true
   },
   "outputs": [],
   "source": [
    "for read in dna_reads:\n",
    "    pool = read[3:7]\n",
    "    longest_a_streak_in_pool = longest_a_streak(read)\n",
    "    lst_61_zeroes = d[pool] if pool in d.keys() else d['unknown']\n",
    "    lst_61_zeroes[longest_a_streak_in_pool] += 1"
   ]
  },
  {
   "cell_type": "code",
   "execution_count": 141,
   "metadata": {},
   "outputs": [
    {
     "data": {
      "image/png": "[encoded data removed]",
      "text/plain": [
       "<matplotlib.figure.Figure at 0x10fcfe748>"
      ]
     },
     "metadata": {},
     "output_type": "display_data"
    }
   ],
   "source": [
    "import matplotlib.pyplot as plt\n",
    "from itertools import product\n",
    "\n",
    "a = range(3)\n",
    "a = list(product(a, a))\n",
    "\n",
    "dim = {'x': 3, 'y': 3}\n",
    "f, axarr = plt.subplots(dim['x'], dim['y'], figsize=(18, 10))\n",
    "\n",
    "for coordinates, d_pool in zip(a, d.items()):\n",
    "    i, j = coordinates\n",
    "    k, v = d_pool\n",
    "    axarr[i, j].bar(range(len(v)),v)\n",
    "    axarr[i, j].set_title(k)\n",
    "plt.show()\n",
    "        \n"
   ]
  },
  {
   "cell_type": "markdown",
   "metadata": {},
   "source": [
    "# Poly-A tail analysis"
   ]
  },
  {
   "cell_type": "code",
   "execution_count": 142,
   "metadata": {
    "collapsed": true
   },
   "outputs": [],
   "source": [
    "def after_polyatail(read, next_n_bases=5, min_len_poly_a=8):\n",
    "    \"\"\"\n",
    "    if a poly A tail length is grater than min_len_poly_a\n",
    "    go to the end of the tail\n",
    "    and return next n bases\n",
    "    \"\"\"\n",
    "    counter_a = 0\n",
    "    bases_after_poly_a = str()\n",
    "    for index, base in enumerate(read):\n",
    "        if base == 'A':\n",
    "            counter_a += 1\n",
    "        else:\n",
    "            if counter_a > min_len_poly_a:\n",
    "                bases_after_poly_a = read[index:index + next_n_bases]\n",
    "            counter_a = 0\n",
    "    return bases_after_poly_a"
   ]
  },
  {
   "cell_type": "code",
   "execution_count": 143,
   "metadata": {
    "collapsed": true
   },
   "outputs": [],
   "source": [
    "assert after_polyatail(\"AAAAAAAAAAAAAAAAAAAAAATCCCCCCCCCCCC\") == 'TCCCC'\n",
    "assert after_polyatail(\"ACACAT\") == ''"
   ]
  },
  {
   "cell_type": "code",
   "execution_count": 144,
   "metadata": {
    "collapsed": true
   },
   "outputs": [],
   "source": [
    "from collections import Counter"
   ]
  },
  {
   "cell_type": "code",
   "execution_count": 145,
   "metadata": {},
   "outputs": [
    {
     "name": "stdout",
     "output_type": "stream",
     "text": [
      "[('C', 12249), ('G', 6693), ('T', 6022), ('N', 18)]\n",
      "[('CC', 4980), ('CA', 3388), ('TC', 2116), ('CG', 2002), ('GC', 1976), ('GG', 1912)]\n",
      "[('CCC', 2390), ('CAA', 1332), ('CCA', 1099), ('CAC', 1046), ('GAA', 955), ('GGG', 848)]\n",
      "[('CCCC', 1257), ('CAAA', 645), ('GAAA', 605), ('CCCA', 452), ('GGGG', 442), ('CCAA', 415)]\n",
      "[('CCCCC', 680), ('GAAAA', 388), ('CAAAA', 346), ('GGGGG', 241), ('CCCCA', 213), ('CCAAA', 197)]\n",
      "[('CCCCCC', 330), ('GAAAAA', 244), ('CAAAAA', 190), ('GGGGGG', 121), ('CCCCCA', 119), ('CCCCCT', 117)]\n",
      "[('GAAAAAA', 153), ('CCCCCCC', 148), ('CAAAAAA', 115), ('GGGGGGG', 68), ('CCCCCCT', 62), ('CCCCCCG', 59)]\n",
      "[('GAAAAAAA', 82), ('CCCCCCCC', 67), ('CAAAAAAA', 64), ('C', 50), ('T', 35), ('GGGGGGGG', 34)]\n",
      "[('C', 50), ('GAAAAAAAA', 38), ('T', 35), ('G', 28), ('GAAAAGAAA', 26), ('CAAAAAAAA', 24)]\n",
      "24982\n",
      "CPU times: user 3.12 s, sys: 34.1 ms, total: 3.16 s\n",
      "Wall time: 3.2 s\n"
     ]
    }
   ],
   "source": [
    "%%time\n",
    "for i in range(1,10):\n",
    "    after_a = list()\n",
    "    for read in dna_reads:\n",
    "        s = after_polyatail(read, i)\n",
    "        if s != '': # read didn't have min polyA tail -> returns ''\n",
    "            after_a.append(s)\n",
    "    print(Counter(after_a).most_common(6))\n",
    "print(len(after_a))"
   ]
  },
  {
   "cell_type": "markdown",
   "metadata": {},
   "source": [
    "see if 1) polya in a read\n",
    "2) see if the adapter (read the paper) ist the read \n",
    "how they correlate \n",
    "t statistics - poly t is usually longer, every 20th read\n",
    "hmmlearn HMM package\n",
    "\n",
    "\n",
    "change letters to numbrs in order to do the training\n",
    "\n"
   ]
  },
  {
   "cell_type": "markdown",
   "metadata": {},
   "source": [
    "# Find consensus sequence (= artefact) after Poly A tail"
   ]
  },
  {
   "cell_type": "code",
   "execution_count": 146,
   "metadata": {
    "collapsed": true
   },
   "outputs": [],
   "source": [
    "rotated_after_a = [''.join(s) for s in zip(*after_a)] \n",
    "# e.g reads = ['AATC','ACTGA','ATG'] -> reads = ['AAA', ACT', 'TTG', 'CG', 'A' ]"
   ]
  },
  {
   "cell_type": "code",
   "execution_count": 147,
   "metadata": {
    "collapsed": true
   },
   "outputs": [],
   "source": [
    "# zip functions can be applied only to the lists of strings of the same lengh.\n",
    "# If the string is shorter than the string with max length -> add space to the string\n",
    "max_length = (len(max(after_a, key=len)))\n",
    "\n",
    "\n",
    "for index, s in enumerate(after_a):\n",
    "    if len(s) != max_length:  # if len of current string is not the same as maximum length\n",
    "             after_a[index] = s + ' ' * ( max_length - len(s) ) \n",
    "\n",
    "after_a_rotated = ([''.join(s) for s in zip(*after_a)])"
   ]
  },
  {
   "cell_type": "code",
   "execution_count": 155,
   "metadata": {},
   "outputs": [],
   "source": [
    "# count the number of each nucleotide in each column\n",
    "a_list = []\n",
    "t_list = []\n",
    "g_list = []\n",
    "c_list = []\n",
    "n_list = []\n",
    "\n",
    "\n",
    "for read in after_a_rotated:\n",
    "    a_list.append( read.count( 'A' ))\n",
    "    t_list.append( read.count( 'T' ))\n",
    "    g_list.append( read.count( 'G' ))\n",
    "    c_list.append( read.count( 'C' ))\n",
    "    n_list.append( read.count( 'N' ))"
   ]
  },
  {
   "cell_type": "code",
   "execution_count": 156,
   "metadata": {},
   "outputs": [
    {
     "name": "stdout",
     "output_type": "stream",
     "text": [
      "CCCCCCGGG\n"
     ]
    }
   ],
   "source": [
    "# define an artefact based on consensus\n",
    "\n",
    "data = list((zip(a_list, t_list, g_list, c_list, n_list)))\n",
    "#1st tuple 1st column from the reads\n",
    "\n",
    "d = {0:'A', 1:'T', 2:'G', 3:'C', 4:'N'}\n",
    "artefact = str()\n",
    "for line in data:\n",
    "    max_value = max( line ) # find max value in current line\n",
    "    index_of_max_value = line.index( max_value )  # find index of max value in current line\n",
    "    artefact += d[index_of_max_value]\n",
    "print( artefact )\n",
    "    \n",
    "    "
   ]
  },
  {
   "cell_type": "code",
   "execution_count": null,
   "metadata": {
    "collapsed": true
   },
   "outputs": [],
   "source": []
  }
 ],
 "metadata": {
  "kernelspec": {
   "display_name": "Python 3",
   "language": "python",
   "name": "python3"
  },
  "language_info": {
   "codemirror_mode": {
    "name": "ipython",
    "version": 3
   },
   "file_extension": ".py",
   "mimetype": "text/x-python",
   "name": "python",
   "nbconvert_exporter": "python",
   "pygments_lexer": "ipython3",
   "version": "3.6.0"
  }
 },
 "nbformat": 4,
 "nbformat_minor": 2
}
