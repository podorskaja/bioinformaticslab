{
 "cells": [
  {
   "cell_type": "markdown",
   "metadata": {
    "toc": "true"
   },
   "source": [
    " # Table of Contents\n",
    "<div class=\"toc\" style=\"margin-top: 1em;\"><ul class=\"toc-item\" id=\"toc-level0\"><li><span><a href=\"http://localhost:8888/notebooks/bioinformaticslab/Quality%20Control.ipynb#Find-the-longest-streak-of-'A'-Nucleotide\" data-toc-modified-id=\"Find-the-longest-streak-of-'A'-Nucleotide-1\"><span class=\"toc-item-num\">1&nbsp;&nbsp;</span>Find the longest streak of 'A' Nucleotide</a></span></li><li><span><a href=\"http://localhost:8888/notebooks/bioinformaticslab/Quality%20Control.ipynb#Total-'A'-count-in-a-read\" data-toc-modified-id=\"Total-'A'-count-in-a-read-2\"><span class=\"toc-item-num\">2&nbsp;&nbsp;</span>Total 'A' count in a read</a></span></li><li><span><a href=\"http://localhost:8888/notebooks/bioinformaticslab/Quality%20Control.ipynb#Count-DNA-reads-by-pool\" data-toc-modified-id=\"Count-DNA-reads-by-pool-3\"><span class=\"toc-item-num\">3&nbsp;&nbsp;</span>Count DNA reads by pool</a></span></li><li><span><a href=\"http://localhost:8888/notebooks/bioinformaticslab/Quality%20Control.ipynb#Count-longest-streak-of-'A'-by-the-pool\" data-toc-modified-id=\"Count-longest-streak-of-'A'-by-the-pool-4\"><span class=\"toc-item-num\">4&nbsp;&nbsp;</span>Count longest streak of 'A' by the pool</a></span></li><li><span><a href=\"http://localhost:8888/notebooks/bioinformaticslab/Quality%20Control.ipynb#Poly-A-tail-analysis\" data-toc-modified-id=\"Poly-A-tail-analysis-5\"><span class=\"toc-item-num\">5&nbsp;&nbsp;</span>Poly-A tail analysis</a></span></li><li><span><a href=\"http://localhost:8888/notebooks/bioinformaticslab/Quality%20Control.ipynb#Consensus-matrix-on-strings-after-poly-A-tail\" data-toc-modified-id=\"Consensus-matrix-on-strings-after-poly-A-tail-6\"><span class=\"toc-item-num\">6&nbsp;&nbsp;</span>Consensus matrix on strings after poly A tail</a></span></li><li><span><a href=\"http://localhost:8888/notebooks/bioinformaticslab/Quality%20Control.ipynb#Find-consensus-sequence-(=-artefact)-after-Poly-A-tail\" data-toc-modified-id=\"Find-consensus-sequence-(=-artefact)-after-Poly-A-tail-7\"><span class=\"toc-item-num\">7&nbsp;&nbsp;</span>Find consensus sequence (= artefact) after Poly A tail</a></span></li><li><span><a href=\"http://localhost:8888/notebooks/bioinformaticslab/Quality%20Control.ipynb#Misc\" data-toc-modified-id=\"Misc-8\"><span class=\"toc-item-num\">8&nbsp;&nbsp;</span>Misc</a></span></li></ul></div>"
   ]
  },
  {
   "cell_type": "markdown",
   "metadata": {},
   "source": [
    "# Find the longest streak of 'A' Nucleotide"
   ]
  },
  {
   "cell_type": "code",
   "execution_count": 196,
   "metadata": {
    "ExecuteTime": {
     "end_time": "2017-08-19T23:06:16.324273Z",
     "start_time": "2017-08-19T23:06:16.320703Z"
    },
    "collapsed": true
   },
   "outputs": [],
   "source": [
    "import seaborn as sns\n",
    "import matplotlib.pyplot as plt"
   ]
  },
  {
   "cell_type": "code",
   "execution_count": 197,
   "metadata": {
    "ExecuteTime": {
     "end_time": "2017-08-19T23:06:16.458952Z",
     "start_time": "2017-08-19T23:06:16.326989Z"
    },
    "collapsed": true
   },
   "outputs": [],
   "source": [
    "# count dna_reads in a file\n",
    "# open file\n",
    "path_to_file = '/Users/dariapodorskaja/Desktop/Lab/Lane_7_NoIndex_L007_R1_001.fastq'\n",
    "dna_reads = []\n",
    "lines_count = 160000  # number of lines in a file\n",
    "#Result = []\n",
    "\n",
    "# make lists of dna reads\n",
    "with open(path_to_file, 'r') as f:   # f = open(path_to_file, 'r') # f is a variable with a file\n",
    "    for current_line in range(lines_count):\n",
    "        if current_line % 4 == 1:  # pick lines with DNA sequences\n",
    "            s = f.readline()\n",
    "            s = s.replace('\\n', '')\n",
    "            dna_reads.append(s)\n",
    "        else:\n",
    "            next(f)"
   ]
  },
  {
   "cell_type": "code",
   "execution_count": 198,
   "metadata": {
    "ExecuteTime": {
     "end_time": "2017-08-19T23:06:16.466141Z",
     "start_time": "2017-08-19T23:06:16.460933Z"
    },
    "collapsed": true
   },
   "outputs": [],
   "source": [
    "def size_of_list(my_list):\n",
    "    \"\"\"size of my_list in MB\"\"\"\n",
    "    import sys\n",
    "    return sum([sys.getsizeof(i) for i in my_list]) / 1024 / 1024"
   ]
  },
  {
   "cell_type": "code",
   "execution_count": 199,
   "metadata": {
    "ExecuteTime": {
     "end_time": "2017-08-19T23:06:16.476736Z",
     "start_time": "2017-08-19T23:06:16.468928Z"
    },
    "collapsed": true
   },
   "outputs": [],
   "source": [
    "def histo(l, plot_title='empty title'):\n",
    "    \"\"\"show a histogram based on list\"\"\"\n",
    "    import matplotlib.pyplot as plt\n",
    "\n",
    "    plt.bar(range(len(l)),l)\n",
    "    plt.title(plot_title)\n",
    "    plt.show()\n"
   ]
  },
  {
   "cell_type": "code",
   "execution_count": 200,
   "metadata": {
    "ExecuteTime": {
     "end_time": "2017-08-19T23:06:16.486035Z",
     "start_time": "2017-08-19T23:06:16.479399Z"
    },
    "collapsed": true
   },
   "outputs": [],
   "source": [
    "def longest_a_streak(dna):\n",
    "    \"\"\"find longest streak of A in a string\"\"\"\n",
    "    counter = 0 \n",
    "    longest_streak = 0 #variable must be defined\n",
    "    for base in dna: \n",
    "        if base == 'A':\n",
    "            counter = counter + 1\n",
    "            if counter > longest_streak:\n",
    "                longest_streak = counter\n",
    "        else:\n",
    "            counter = 0\n",
    "    return longest_streak"
   ]
  },
  {
   "cell_type": "code",
   "execution_count": 201,
   "metadata": {
    "ExecuteTime": {
     "end_time": "2017-08-19T23:06:16.834605Z",
     "start_time": "2017-08-19T23:06:16.488989Z"
    },
    "collapsed": true
   },
   "outputs": [],
   "source": [
    "result = list()\n",
    "for s in dna_reads:\n",
    "    result.append(longest_a_streak(s))"
   ]
  },
  {
   "cell_type": "code",
   "execution_count": 202,
   "metadata": {
    "ExecuteTime": {
     "end_time": "2017-08-19T23:06:16.854086Z",
     "start_time": "2017-08-19T23:06:16.838361Z"
    }
   },
   "outputs": [
    {
     "name": "stdout",
     "output_type": "stream",
     "text": [
      "[4, 576, 6101, 2563, 1412, 937, 841, 839, 713, 830, 994, 1249, 1631, 1777, 1927, 1840, 1947, 2083, 2025, 2007, 1849, 1657, 1266, 926, 665, 438, 314, 201, 134, 93, 52, 26, 23, 23, 10, 7, 5, 4, 3, 1, 3, 0, 1, 0, 0, 0, 0, 1, 0, 0, 0, 0, 0, 0, 1, 0, 0, 0, 0, 0, 1]\n"
     ]
    }
   ],
   "source": [
    "# create a list with 61 zeroes\n",
    "longest_a_histo = [0 for i in range(61)]\n",
    "\n",
    "# add +1 to the correponding position when we see an element\n",
    "# i.e. if we see element 13 in \"result\", add +1 to position 13 in \"longest_a_histo\"\n",
    "for r in result:\n",
    "    longest_a_histo[r] += 1\n",
    "\n",
    "print(longest_a_histo)"
   ]
  },
  {
   "cell_type": "code",
   "execution_count": 203,
   "metadata": {
    "ExecuteTime": {
     "end_time": "2017-08-19T23:06:17.944617Z",
     "start_time": "2017-08-19T23:06:16.856966Z"
    }
   },
   "outputs": [
    {
     "data": {
      "image/png": "[encoded data removed]",
      "text/plain": [
       "<matplotlib.figure.Figure at 0x1102f1780>"
      ]
     },
     "metadata": {},
     "output_type": "display_data"
    }
   ],
   "source": [
    "histo(longest_a_histo, 'Longest \"A\" streak')"
   ]
  },
  {
   "cell_type": "markdown",
   "metadata": {},
   "source": [
    "# Total 'A' count in a read"
   ]
  },
  {
   "cell_type": "code",
   "execution_count": 204,
   "metadata": {
    "ExecuteTime": {
     "end_time": "2017-08-19T23:06:18.308345Z",
     "start_time": "2017-08-19T23:06:17.946782Z"
    }
   },
   "outputs": [],
   "source": [
    "result = []\n",
    "counter_A = 0\n",
    "for s in dna_reads:\n",
    "    for base in s:\n",
    "        if base == 'A':\n",
    "            counter_A += 1\n",
    "    result.append(counter_A)\n",
    "    counter_A = 0"
   ]
  },
  {
   "cell_type": "code",
   "execution_count": 205,
   "metadata": {
    "ExecuteTime": {
     "end_time": "2017-08-19T23:06:18.324058Z",
     "start_time": "2017-08-19T23:06:18.311254Z"
    }
   },
   "outputs": [],
   "source": [
    "total_a = [0 for i in range(61)]\n",
    "for r in result:\n",
    "    total_a[r] += 1"
   ]
  },
  {
   "cell_type": "code",
   "execution_count": 206,
   "metadata": {
    "ExecuteTime": {
     "end_time": "2017-08-19T23:06:18.702437Z",
     "start_time": "2017-08-19T23:06:18.326531Z"
    }
   },
   "outputs": [
    {
     "data": {
      "image/png": "[encoded data removed]",
      "text/plain": [
       "<matplotlib.figure.Figure at 0x11094f198>"
      ]
     },
     "metadata": {},
     "output_type": "display_data"
    }
   ],
   "source": [
    "histo(total_a, plot_title='Total count of \"A\"')"
   ]
  },
  {
   "cell_type": "markdown",
   "metadata": {},
   "source": [
    "# Count DNA reads by pool "
   ]
  },
  {
   "cell_type": "code",
   "execution_count": 207,
   "metadata": {
    "ExecuteTime": {
     "end_time": "2017-08-19T23:06:18.714621Z",
     "start_time": "2017-08-19T23:06:18.704727Z"
    }
   },
   "outputs": [
    {
     "data": {
      "text/plain": [
       "{'ACAG': 0,\n",
       " 'AGTC': 0,\n",
       " 'ATCA': 0,\n",
       " 'CATG': 0,\n",
       " 'CTAC': 0,\n",
       " 'TCTA': 0,\n",
       " 'TGAT': 0,\n",
       " 'TTGG': 0,\n",
       " 'unknown': 0}"
      ]
     },
     "execution_count": 207,
     "metadata": {},
     "output_type": "execute_result"
    }
   ],
   "source": [
    "d = {\n",
    "'ACAG': 0,\n",
    "'AGTC': 0,\n",
    "'ATCA': 0,\n",
    "'CATG': 0,\n",
    "'CTAC': 0,\n",
    "'TCTA': 0,\n",
    "'TGAT': 0,\n",
    "'TTGG': 0,\n",
    "'unknown': 0\n",
    "}\n",
    "\n",
    "# # or we can create this dict ourselves\n",
    "# pools = ['ACAG', 'AGTC', 'ATCA', 'CATG', 'CTAC', 'TCTA', 'TGAT', 'TTGG', 'unknown']\n",
    "# {pool: 0 for pool in pools}"
   ]
  },
  {
   "cell_type": "code",
   "execution_count": 208,
   "metadata": {
    "ExecuteTime": {
     "end_time": "2017-08-19T23:06:18.764433Z",
     "start_time": "2017-08-19T23:06:18.716966Z"
    },
    "collapsed": true
   },
   "outputs": [],
   "source": [
    "for read in dna_reads:\n",
    "    pool = read[3:7]\n",
    "    if pool in d.keys():\n",
    "        d[pool] += 1\n",
    "    else:\n",
    "        d['unknown'] += 1"
   ]
  },
  {
   "cell_type": "code",
   "execution_count": 209,
   "metadata": {
    "ExecuteTime": {
     "end_time": "2017-08-19T23:06:18.773836Z",
     "start_time": "2017-08-19T23:06:18.767463Z"
    }
   },
   "outputs": [
    {
     "name": "stdout",
     "output_type": "stream",
     "text": [
      "{'ACAG': 6374, 'AGTC': 7039, 'ATCA': 5960, 'CATG': 6634, 'CTAC': 7194, 'TCTA': 1, 'TGAT': 0, 'TTGG': 5564, 'unknown': 1234}\n"
     ]
    }
   ],
   "source": [
    "print(d)"
   ]
  },
  {
   "cell_type": "code",
   "execution_count": 210,
   "metadata": {
    "ExecuteTime": {
     "end_time": "2017-08-19T23:06:19.084296Z",
     "start_time": "2017-08-19T23:06:18.776477Z"
    }
   },
   "outputs": [
    {
     "data": {
      "image/png": "[encoded data removed]",
      "text/plain": [
       "<matplotlib.figure.Figure at 0x110dca438>"
      ]
     },
     "metadata": {},
     "output_type": "display_data"
    }
   ],
   "source": [
    "# order in a dict is not guaranteed, so we may get weird results\n",
    "plt.bar(range(len(d.keys())),d.values())\n",
    "plt.xticks(range(len(d)), list(sorted(d.keys())))\n",
    "plt.title('Count DNA reads by pool')\n",
    "plt.show()"
   ]
  },
  {
   "cell_type": "markdown",
   "metadata": {},
   "source": [
    "# Count longest streak of 'A' by the pool"
   ]
  },
  {
   "cell_type": "code",
   "execution_count": 211,
   "metadata": {
    "ExecuteTime": {
     "end_time": "2017-08-19T23:06:19.095028Z",
     "start_time": "2017-08-19T23:06:19.087323Z"
    },
    "collapsed": true
   },
   "outputs": [],
   "source": [
    "pools = ['ACAG', 'AGTC', 'ATCA', 'CATG', 'CTAC', 'TCTA', 'TGAT', 'TTGG', 'unknown']\n",
    "\n",
    "# create a dictionary with keys as strings from pools and for values empty list with 61 zeroes\n",
    "d = {k: list(0 for i in range(61)) for k in pools}"
   ]
  },
  {
   "cell_type": "code",
   "execution_count": 212,
   "metadata": {
    "ExecuteTime": {
     "end_time": "2017-08-19T23:06:19.477157Z",
     "start_time": "2017-08-19T23:06:19.097931Z"
    },
    "collapsed": true
   },
   "outputs": [],
   "source": [
    "for read in dna_reads:\n",
    "    pool = read[3:7]\n",
    "    longest_a_streak_in_pool = longest_a_streak(read)\n",
    "    lst_61_zeroes = d[pool] if pool in d.keys() else d['unknown']\n",
    "    lst_61_zeroes[longest_a_streak_in_pool] += 1"
   ]
  },
  {
   "cell_type": "code",
   "execution_count": 213,
   "metadata": {
    "ExecuteTime": {
     "end_time": "2017-08-19T23:06:23.087342Z",
     "start_time": "2017-08-19T23:06:19.479012Z"
    }
   },
   "outputs": [
    {
     "data": {
      "image/png": "[encoded data removed]",
      "text/plain": [
       "<matplotlib.figure.Figure at 0x11094f278>"
      ]
     },
     "metadata": {},
     "output_type": "display_data"
    }
   ],
   "source": [
    "from itertools import product\n",
    "graph_position = list(product(range(3), range(3)))\n",
    "\n",
    "dim = {'x': 3, 'y': 3}\n",
    "f, axarr = plt.subplots(dim['x'], dim['y'], figsize=(18, 10))\n",
    "\n",
    "for coordinates, d_pool in zip(graph_position, d.items()):\n",
    "    i, j = coordinates\n",
    "    k, v = d_pool\n",
    "    axarr[i, j].bar(range(len(v)),v)\n",
    "    axarr[i, j].set_title(k)\n",
    "\n",
    "plt.show()"
   ]
  },
  {
   "cell_type": "markdown",
   "metadata": {},
   "source": [
    "# Poly-A tail analysis"
   ]
  },
  {
   "cell_type": "code",
   "execution_count": 214,
   "metadata": {
    "ExecuteTime": {
     "end_time": "2017-08-19T23:06:23.098756Z",
     "start_time": "2017-08-19T23:06:23.089250Z"
    },
    "collapsed": true
   },
   "outputs": [],
   "source": [
    "def after_polyatail(read, next_n_bases=5, min_len_poly_a=8):\n",
    "    \"\"\"\n",
    "    if a poly A tail length is grater than min_len_poly_a\n",
    "    go to the end of the tail\n",
    "    and return next n bases\n",
    "    \"\"\"\n",
    "    counter_a = 0\n",
    "    bases_after_poly_a = str()\n",
    "    for index, base in enumerate(read):\n",
    "        if base == 'A':\n",
    "            counter_a += 1\n",
    "        else:\n",
    "            if counter_a > min_len_poly_a:\n",
    "                bases_after_poly_a = read[index:index + next_n_bases]\n",
    "            counter_a = 0\n",
    "    return bases_after_poly_a"
   ]
  },
  {
   "cell_type": "code",
   "execution_count": 215,
   "metadata": {
    "ExecuteTime": {
     "end_time": "2017-08-19T23:06:23.109433Z",
     "start_time": "2017-08-19T23:06:23.101137Z"
    },
    "collapsed": true
   },
   "outputs": [],
   "source": [
    "assert after_polyatail(\"AAAAAAAAAAAAAAAAAAAAAATCCCCCCCCCCCC\") == 'TCCCC'\n",
    "assert after_polyatail(\"ACACAT\") == ''"
   ]
  },
  {
   "cell_type": "code",
   "execution_count": 216,
   "metadata": {
    "ExecuteTime": {
     "end_time": "2017-08-19T23:06:27.185728Z",
     "start_time": "2017-08-19T23:06:23.111896Z"
    }
   },
   "outputs": [
    {
     "name": "stdout",
     "output_type": "stream",
     "text": [
      "[('C', 12249), ('G', 6693), ('T', 6022), ('N', 18)]\n",
      "[('CC', 4980), ('CA', 3388), ('TC', 2116), ('CG', 2002), ('GC', 1976), ('GG', 1912)]\n",
      "[('CCC', 2390), ('CAA', 1332), ('CCA', 1099), ('CAC', 1046), ('GAA', 955), ('GGG', 848)]\n",
      "[('CCCC', 1257), ('CAAA', 645), ('GAAA', 605), ('CCCA', 452), ('GGGG', 442), ('CCAA', 415)]\n",
      "[('CCCCC', 680), ('GAAAA', 388), ('CAAAA', 346), ('GGGGG', 241), ('CCCCA', 213), ('CCAAA', 197)]\n",
      "[('CCCCCC', 330), ('GAAAAA', 244), ('CAAAAA', 190), ('GGGGGG', 121), ('CCCCCA', 119), ('CCCCCT', 117)]\n",
      "[('GAAAAAA', 153), ('CCCCCCC', 148), ('CAAAAAA', 115), ('GGGGGGG', 68), ('CCCCCCT', 62), ('CCCCCCG', 59)]\n",
      "[('GAAAAAAA', 82), ('CCCCCCCC', 67), ('CAAAAAAA', 64), ('C', 50), ('T', 35), ('GGGGGGGG', 34)]\n",
      "[('C', 50), ('GAAAAAAAA', 38), ('T', 35), ('G', 28), ('GAAAAGAAA', 26), ('CAAAAAAAA', 24)]\n",
      "[('C', 50), ('T', 35), ('G', 28), ('CC', 20), ('GAAAAGAAAA', 20), ('TC', 17)]\n"
     ]
    }
   ],
   "source": [
    "from collections import Counter\n",
    "\n",
    "for i in range(1,11):\n",
    "    after_a = list()\n",
    "    for read in dna_reads:\n",
    "        s = after_polyatail(read, i)\n",
    "        if s != '': # read didn't have min polyA tail -> returns ''\n",
    "            after_a.append(s)\n",
    "    print(Counter(after_a).most_common(6))\n"
   ]
  },
  {
   "cell_type": "markdown",
   "metadata": {},
   "source": [
    "# Consensus matrix on strings after poly A tail"
   ]
  },
  {
   "cell_type": "code",
   "execution_count": 217,
   "metadata": {
    "ExecuteTime": {
     "end_time": "2017-08-19T23:06:27.195818Z",
     "start_time": "2017-08-19T23:06:27.188205Z"
    }
   },
   "outputs": [
    {
     "data": {
      "text/plain": [
       "[[0, 0, 0, 0, 0, 0, 0, 0, 0, 0],\n",
       " [0, 0, 0, 0, 0, 0, 0, 0, 0, 0],\n",
       " [0, 0, 0, 0, 0, 0, 0, 0, 0, 0],\n",
       " [0, 0, 0, 0, 0, 0, 0, 0, 0, 0],\n",
       " [0, 0, 0, 0, 0, 0, 0, 0, 0, 0]]"
      ]
     },
     "execution_count": 217,
     "metadata": {},
     "output_type": "execute_result"
    }
   ],
   "source": [
    "# create a matrix with 5 rows and 10 columns, where every element is 0\n",
    "matrix = [[0 for i in range(10)] for i in range(5)]\n",
    "matrix"
   ]
  },
  {
   "cell_type": "code",
   "execution_count": 218,
   "metadata": {
    "ExecuteTime": {
     "end_time": "2017-08-19T23:06:27.580398Z",
     "start_time": "2017-08-19T23:06:27.198016Z"
    },
    "collapsed": true
   },
   "outputs": [],
   "source": [
    "after_a = list()\n",
    "for read in dna_reads:\n",
    "    s = after_polyatail(read, 10)\n",
    "    if s != '': # read didn't have min polyA tail -> returns ''\n",
    "        after_a.append(s)"
   ]
  },
  {
   "cell_type": "code",
   "execution_count": 219,
   "metadata": {
    "ExecuteTime": {
     "end_time": "2017-08-19T23:06:27.723964Z",
     "start_time": "2017-08-19T23:06:27.582428Z"
    },
    "collapsed": true
   },
   "outputs": [],
   "source": [
    "for s in after_a:\n",
    "    for index, base in enumerate(s):\n",
    "        if base == 'A':\n",
    "            matrix[0][index] += 1\n",
    "        elif base == 'C':\n",
    "            matrix[1][index] += 1\n",
    "        elif base == 'T':\n",
    "            matrix[2][index] += 1\n",
    "        elif base == 'G':\n",
    "            matrix[3][index] += 1\n",
    "        elif base == 'N':\n",
    "            matrix[4][index] += 1\n",
    "        else:\n",
    "            print(\"Unexpected letter\")"
   ]
  },
  {
   "cell_type": "code",
   "execution_count": 220,
   "metadata": {
    "ExecuteTime": {
     "end_time": "2017-08-19T23:06:27.742352Z",
     "start_time": "2017-08-19T23:06:27.726457Z"
    }
   },
   "outputs": [
    {
     "data": {
      "text/plain": [
       "{0: 'A', 1: 'C', 2: 'T', 3: 'G', 4: 'N'}"
      ]
     },
     "execution_count": 220,
     "metadata": {},
     "output_type": "execute_result"
    }
   ],
   "source": [
    "import pandas\n",
    "df = pandas.DataFrame(matrix)\n",
    "df.rename({0: 'A', 1: 'C', 2: 'T', 3: 'G', 4: 'N'})\n",
    "\n",
    "# # as an alternative we can generate dict for .rename() ourselves\n",
    "# alphabet = 'ACTGN'\n",
    "# {k: v for k, v in zip(range(len(alphabet)), alphabet)}"
   ]
  },
  {
   "cell_type": "markdown",
   "metadata": {},
   "source": [
    "# Find consensus sequence (= artefact) after Poly A tail"
   ]
  },
  {
   "cell_type": "code",
   "execution_count": 221,
   "metadata": {
    "ExecuteTime": {
     "end_time": "2017-08-19T23:06:27.759262Z",
     "start_time": "2017-08-19T23:06:27.744879Z"
    },
    "collapsed": true
   },
   "outputs": [],
   "source": [
    "rotated_after_a = [''.join(s) for s in zip(*after_a)] \n",
    "# e.g reads = ['AATC','ACTGA','ATG'] -> reads = ['AAA', ACT', 'TTG', 'CG', 'A' ]"
   ]
  },
  {
   "cell_type": "code",
   "execution_count": 222,
   "metadata": {
    "ExecuteTime": {
     "end_time": "2017-08-19T23:06:27.804896Z",
     "start_time": "2017-08-19T23:06:27.761527Z"
    },
    "collapsed": true
   },
   "outputs": [],
   "source": [
    "# zip functions can be applied only to the lists of strings of the same lengh.\n",
    "# If the string is shorter than the string with max length -> add space to the string\n",
    "max_length = (len(max(after_a, key=len)))\n",
    "\n",
    "\n",
    "for index, s in enumerate(after_a):\n",
    "    if len(s) != max_length:  # if len of current string is not the same as maximum length\n",
    "             after_a[index] = s + ' ' * ( max_length - len(s) ) \n",
    "\n",
    "after_a_rotated = ([''.join(s) for s in zip(*after_a)])"
   ]
  },
  {
   "cell_type": "code",
   "execution_count": 223,
   "metadata": {
    "ExecuteTime": {
     "end_time": "2017-08-19T23:06:27.821625Z",
     "start_time": "2017-08-19T23:06:27.808668Z"
    },
    "collapsed": true
   },
   "outputs": [],
   "source": [
    "# count the number of each nucleotide in each column\n",
    "a_list = []\n",
    "t_list = []\n",
    "g_list = []\n",
    "c_list = []\n",
    "n_list = []\n",
    "\n",
    "\n",
    "for read in after_a_rotated:\n",
    "    a_list.append( read.count( 'A' ))\n",
    "    t_list.append( read.count( 'T' ))\n",
    "    g_list.append( read.count( 'G' ))\n",
    "    c_list.append( read.count( 'C' ))\n",
    "    n_list.append( read.count( 'N' ))"
   ]
  },
  {
   "cell_type": "code",
   "execution_count": 224,
   "metadata": {
    "ExecuteTime": {
     "end_time": "2017-08-19T23:06:27.844963Z",
     "start_time": "2017-08-19T23:06:27.825968Z"
    }
   },
   "outputs": [
    {
     "name": "stdout",
     "output_type": "stream",
     "text": [
      "CCCCCCGGGA\n"
     ]
    }
   ],
   "source": [
    "# define an artefact based on consensus\n",
    "\n",
    "data = list((zip(a_list, t_list, g_list, c_list, n_list)))\n",
    "#1st tuple 1st column from the reads\n",
    "\n",
    "d = {0:'A', 1:'T', 2:'G', 3:'C', 4:'N'}\n",
    "artefact = str()\n",
    "for line in data:\n",
    "    max_value = max( line ) # find max value in current line\n",
    "    index_of_max_value = line.index( max_value )  # find index of max value in current line\n",
    "    artefact += d[index_of_max_value]\n",
    "print( artefact )\n",
    "    \n",
    "    "
   ]
  },
  {
   "cell_type": "markdown",
   "metadata": {
    "ExecuteTime": {
     "end_time": "2017-08-19T21:56:38.413420Z",
     "start_time": "2017-08-19T21:56:38.406837Z"
    }
   },
   "source": [
    "# Misc"
   ]
  },
  {
   "cell_type": "code",
   "execution_count": 225,
   "metadata": {
    "ExecuteTime": {
     "end_time": "2017-08-19T23:06:27.854465Z",
     "start_time": "2017-08-19T23:06:27.848111Z"
    }
   },
   "outputs": [],
   "source": [
    "# ls directory\n",
    "# !ls /Users/dariapodorskaja/Desktop/Lab/"
   ]
  },
  {
   "cell_type": "code",
   "execution_count": 226,
   "metadata": {
    "ExecuteTime": {
     "end_time": "2017-08-19T23:06:27.861883Z",
     "start_time": "2017-08-19T23:06:27.857730Z"
    }
   },
   "outputs": [],
   "source": [
    "# find string which are at least 10 A, then anything but A, then at least another 10 A\n",
    "# motif = !cat /Users/dariapodorskaja/Desktop/Lab/Lane_7_NoIndex_L007_R1_001.fastq | grep '[A]\\{10,\\}[^A][A]\\{10,\\}'\n",
    "# motif = list(motif) # by default it creates SList, we want to convert it to standard list"
   ]
  }
 ],
 "metadata": {
  "kernelspec": {
   "display_name": "Python 3",
   "language": "python",
   "name": "python3"
  },
  "language_info": {
   "codemirror_mode": {
    "name": "ipython",
    "version": 3
   },
   "file_extension": ".py",
   "mimetype": "text/x-python",
   "name": "python",
   "nbconvert_exporter": "python",
   "pygments_lexer": "ipython3",
   "version": "3.6.0"
  },
  "toc": {
   "collapse_to_match_collapsible_headings": false,
   "colors": {
    "hover_highlight": "#DAA520",
    "navigate_num": "#000000",
    "navigate_text": "#333333",
    "running_highlight": "#FF0000",
    "selected_highlight": "#FFD700",
    "sidebar_border": "#EEEEEE",
    "wrapper_background": "#FFFFFF"
   },
   "moveMenuLeft": true,
   "nav_menu": {
    "height": "138px",
    "width": "252px"
   },
   "navigate_menu": true,
   "number_sections": true,
   "sideBar": true,
   "skip_h1_title": false,
   "threshold": 4,
   "toc_cell": true,
   "toc_section_display": "block",
   "toc_window_display": false,
   "widenNotebook": false
  },
  "varInspector": {
   "cols": {
    "lenName": 16,
    "lenType": 16,
    "lenVar": 40
   },
   "kernels_config": {
    "python": {
     "delete_cmd_postfix": "",
     "delete_cmd_prefix": "del ",
     "library": "var_list.py",
     "varRefreshCmd": "print(var_dic_list())"
    },
    "r": {
     "delete_cmd_postfix": ") ",
     "delete_cmd_prefix": "rm(",
     "library": "var_list.r",
     "varRefreshCmd": "cat(var_dic_list()) "
    }
   },
   "oldHeight": 363,
   "position": {
    "height": "302px",
    "left": "1118px",
    "right": "20px",
    "top": "106px",
    "width": "307px"
   },
   "types_to_exclude": [
    "module",
    "function",
    "builtin_function_or_method",
    "instance",
    "_Feature"
   ],
   "varInspector_section_display": "block",
   "window_display": false
  }
 },
 "nbformat": 4,
 "nbformat_minor": 2
}
